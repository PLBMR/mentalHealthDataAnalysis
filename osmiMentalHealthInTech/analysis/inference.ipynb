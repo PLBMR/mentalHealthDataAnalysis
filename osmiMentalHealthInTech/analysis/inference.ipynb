{
 "cells": [
  {
   "cell_type": "markdown",
   "metadata": {
    "toc": "true"
   },
   "source": [
    "# Table of Contents\n",
    " <p><div class=\"lev1 toc-item\"><a href=\"#OSMI-Health-Survey-2016:-Inference\" data-toc-modified-id=\"OSMI-Health-Survey-2016:-Inference-1\"><span class=\"toc-item-num\">1&nbsp;&nbsp;</span>OSMI Health Survey 2016: Inference</a></div><div class=\"lev1 toc-item\"><a href=\"#Recap\" data-toc-modified-id=\"Recap-2\"><span class=\"toc-item-num\">2&nbsp;&nbsp;</span>Recap</a></div><div class=\"lev1 toc-item\"><a href=\"#Fit-and-Diagnostics\" data-toc-modified-id=\"Fit-and-Diagnostics-3\"><span class=\"toc-item-num\">3&nbsp;&nbsp;</span>Fit and Diagnostics</a></div><div class=\"lev1 toc-item\"><a href=\"#Interpretation-(If-the-model-is-well-specified)\" data-toc-modified-id=\"Interpretation-(If-the-model-is-well-specified)-4\"><span class=\"toc-item-num\">4&nbsp;&nbsp;</span>Interpretation (If the model is well-specified)</a></div>"
   ]
  },
  {
   "cell_type": "markdown",
   "metadata": {},
   "source": [
    "# OSMI Health Survey 2016: Inference\n",
    "\n",
    "_By [Michael Rosenberg](mailto:mmrosenb@andrew.cmu.edu)._\n",
    "\n",
    "_**Description**: Contains my inference related to the [OSMI Mental Health In Tech Survey 2016](https://osmihelp.org/research/). This notebook is written in `R`._"
   ]
  },
  {
   "cell_type": "code",
   "execution_count": 9,
   "metadata": {
    "collapsed": true
   },
   "outputs": [],
   "source": [
    "#imports\n",
    "#constants\n",
    "sigLev = 3"
   ]
  },
  {
   "cell_type": "markdown",
   "metadata": {},
   "source": [
    "# Recap\n",
    "\n",
    "As discussed in my [model selection procedure](modelSelection.ipynb), I ended up choosing a model that represents a logistic regression, i.e.\n",
    "\n",
    "$$P(diagnosedWithMHD_i | X) = \\frac{1}{1+e^{-\\hat{r}(X)}},$$\n",
    "\n",
    "where $\\hat{r}(X)$ is the fitted regression function that contains the following variables:\n",
    "\n",
    "* ```age```: covers the age of a respondent.\n",
    "\n",
    "* ```roleType```: engages the role type of a respondent at work, which can either be technical, non-technical, or both (i.e. hybrid roles).\n",
    "\n",
    "* ```isUSA```: asks if the individual works in the USA or not (1 if they do, 0 if they don't).\n",
    "\n",
    "* ```gender```: the gender that the individual identifies with. For the sake of simplification, we say that an individual is give \"F\" if they identify as a female, \"M\" if they identify as a male, and \"O\" if they identify as another gender not along the binary. We had to do this pooling for \"O\" since there were unfortunately only a small number of observations that did not identify along the gender binary.\n",
    "\n",
    "* The interaction term between ```age``` and ```gender```.\n",
    "\n",
    "Let us fit this on our test set and perform some set of inference."
   ]
  },
  {
   "cell_type": "markdown",
   "metadata": {},
   "source": [
    "# Fit and Diagnostics"
   ]
  },
  {
   "cell_type": "code",
   "execution_count": 6,
   "metadata": {
    "collapsed": false
   },
   "outputs": [
    {
     "name": "stdout",
     "output_type": "stream",
     "text": [
      "[1] \"diagnosedWithMHD ~ age+factor(gender)+factor(roleType)+factor(isUSA)+age:factor(gender)\"\n"
     ]
    }
   ],
   "source": [
    "#load in formula\n",
    "formulaFilename = \"../models/finalLogisticRegressionFormula.txt\"\n",
    "#get rid of newline character at the end, so -1\n",
    "formula = readChar(formulaFilename,file.info(formulaFilename)$size - 1)\n",
    "print(formula)"
   ]
  },
  {
   "cell_type": "code",
   "execution_count": 7,
   "metadata": {
    "collapsed": true
   },
   "outputs": [],
   "source": [
    "#load in data\n",
    "inferenceSet = read.csv(\"../data/processed/test.csv\")\n",
    "#then fit model\n",
    "finalMod.logr = glm(formula,data = inferenceSet,family = \"binomial\")"
   ]
  },
  {
   "cell_type": "markdown",
   "metadata": {},
   "source": [
    "Let's first see how well our model is fitting the inference set."
   ]
  },
  {
   "cell_type": "code",
   "execution_count": 11,
   "metadata": {
    "collapsed": false
   },
   "outputs": [
    {
     "name": "stdout",
     "output_type": "stream",
     "text": [
      "[1] \"The proportion accurate on the inference set is 0.604\"\n"
     ]
    }
   ],
   "source": [
    "inferenceSet$prediction = predict(finalMod.logr,type = \"response\")\n",
    "#make decision rule\n",
    "decRule = .5\n",
    "inferenceSet$prediction = ifelse(inferenceSet$prediction > decRule,1,0)\n",
    "#make comparision\n",
    "correctFrame = inferenceSet[which(inferenceSet$diagnosedWithMHD ==\n",
    "                                  inferenceSet$prediction),]\n",
    "#get proportion accurate\n",
    "propAccurate = dim(correctFrame)[1] / dim(inferenceSet)[1]\n",
    "print(paste(\"The proportion accurate on the inference set is\",signif(\n",
    "                                                    propAccurate,sigLev)))"
   ]
  },
  {
   "cell_type": "markdown",
   "metadata": {},
   "source": [
    "This is still not an amazing fit, but it's performing about on par as the fits in our previous discussion. This may suggest that we simply aren't fitting the data extremely well, and that it might be essential to go back into the survey and find other variables that would be strong predictors of this outcome. We could also be dealing with the question of simply not asking all the questions we need to get a full picture of someone's mental health (e.g. how are there eating habits, what are there hours like at work, what is their social life like, etc). We may be able to get some more meaningful statements about factors contributing to mental health in tech if we asked some of these questions.\n",
    "\n",
    "Let's see by the confusion matrix what kinds of places are we making mistakes."
   ]
  },
  {
   "cell_type": "code",
   "execution_count": 13,
   "metadata": {
    "collapsed": false
   },
   "outputs": [
    {
     "data": {
      "text/html": [
       "<table>\n",
       "<thead><tr><th></th><th scope=col>Actual 0</th><th scope=col>Actual 1</th></tr></thead>\n",
       "<tbody>\n",
       "\t<tr><th scope=row>Predict 0</th><td>233</td><td>161</td></tr>\n",
       "\t<tr><th scope=row>Predict 1</th><td>122</td><td>198</td></tr>\n",
       "</tbody>\n",
       "</table>\n"
      ],
      "text/latex": [
       "\\begin{tabular}{r|ll}\n",
       "  & Actual 0 & Actual 1\\\\\n",
       "\\hline\n",
       "\tPredict 0 & 233 & 161\\\\\n",
       "\tPredict 1 & 122 & 198\\\\\n",
       "\\end{tabular}\n"
      ],
      "text/markdown": [
       "1. 233\n",
       "2. 122\n",
       "3. 161\n",
       "4. 198\n",
       "\n",
       "\n"
      ],
      "text/plain": [
       "          Actual 0 Actual 1\n",
       "Predict 0 233      161     \n",
       "Predict 1 122      198     "
      ]
     },
     "metadata": {},
     "output_type": "display_data"
    }
   ],
   "source": [
    "confusionMat = matrix(0,nrow = 2,ncol = 2)\n",
    "for (i in 1:2){\n",
    "    for (j in 1:2){\n",
    "        #get level associated\n",
    "        confusionMat[i,j] = length(which(inferenceSet$predictions == i - 1 &\n",
    "                                inferenceSet$diagnosedWithMHD == j - 1))\n",
    "    }\n",
    "}\n",
    "#name columns\n",
    "rownames(confusionMat) = c(\"Predict 0\",\"Predict 1\")\n",
    "colnames(confusionMat) = c(\"Actual 0\",\"Actual 1\")\n",
    "confusionMat"
   ]
  },
  {
   "cell_type": "markdown",
   "metadata": {},
   "source": [
    "_Table 1: Our confusion matrix for our model._\n",
    "\n",
    "We see that we have a false negative rate of around $\\frac{161}{161 + 198} \\cdot 100\\% \\approx 44.85\\%$, along with a false positive rate of about $\\frac{122}{122+233} \\cdot 100\\% \\approx 34.37\\%.$ Thus, we have a slightly bigger false negative problem than a false positive problem. This may be useful to note for if we wanted to do future tuning."
   ]
  },
  {
   "cell_type": "markdown",
   "metadata": {},
   "source": [
    "# Interpretation (If the model is well-specified)\n",
    "\n",
    "If our model is well-specified, we can interpret our model through simply the coefficients currently present, and their statistical significance. Obviously, some of these run under the assumptions that the model is well-specified; we will use some techniques later as robustness checks on the significance of these variables."
   ]
  },
  {
   "cell_type": "code",
   "execution_count": 14,
   "metadata": {
    "collapsed": false
   },
   "outputs": [
    {
     "data": {
      "text/plain": [
       "\n",
       "Call:\n",
       "glm(formula = formula, family = \"binomial\", data = inferenceSet)\n",
       "\n",
       "Deviance Residuals: \n",
       "    Min       1Q   Median       3Q      Max  \n",
       "-2.0102  -1.1208   0.5626   1.1507   1.7344  \n",
       "\n",
       "Coefficients:\n",
       "                               Estimate Std. Error z value Pr(>|z|)    \n",
       "(Intercept)                   -0.070454   0.652334  -0.108 0.913994    \n",
       "age                            0.009834   0.017589   0.559 0.576084    \n",
       "factor(gender)M               -1.145899   0.740104  -1.548 0.121552    \n",
       "factor(gender)O                0.546165   2.129787   0.256 0.797610    \n",
       "factor(roleType)non-technical -0.020592   0.213527  -0.096 0.923174    \n",
       "factor(roleType)technical     -0.102976   0.189235  -0.544 0.586324    \n",
       "factor(isUSA)1                 0.542171   0.158222   3.427 0.000611 ***\n",
       "age:factor(gender)M            0.012324   0.020899   0.590 0.555381    \n",
       "age:factor(gender)O            0.013099   0.067543   0.194 0.846224    \n",
       "---\n",
       "Signif. codes:  0 ‘***’ 0.001 ‘**’ 0.01 ‘*’ 0.05 ‘.’ 0.1 ‘ ’ 1\n",
       "\n",
       "(Dispersion parameter for binomial family taken to be 1)\n",
       "\n",
       "    Null deviance: 989.79  on 713  degrees of freedom\n",
       "Residual deviance: 943.73  on 705  degrees of freedom\n",
       "AIC: 961.73\n",
       "\n",
       "Number of Fisher Scoring iterations: 5\n"
      ]
     },
     "metadata": {},
     "output_type": "display_data"
    }
   ],
   "source": [
    "summary(finalMod.logr)"
   ]
  },
  {
   "cell_type": "markdown",
   "metadata": {},
   "source": [
    "_Table 2: Summary of our fitted model._\n",
    "\n",
    "Unfortunately, we see statistical significance in only one of our variables: $isUSA_i$. That being said, there are some very powerful effect sizes estimated in this model. By the coefficient of $isUSA_i$, We see that if the respondent's work occurs in the United States, that predicts on average that a respondent is $\\exp(.542171) \\approx 1.7$ times as likely to be diagnosed with a mental health disorder than if the respondent worked outside the United States. There could be two possible explanations underlying this component: either that\n",
    "\n",
    "1. The United States could have a stress culture in technology that pushes more individuals to a point of having a mental health disorder.\n",
    "\n",
    "2. The United States has a framework for handling mental health that diagnoses more people on average than other countries.\n",
    "\n",
    "I personally find the second explanation to be a stronger reasoning behind this issue. When we compare how developed countries handle mental health when compared to emerging markets, it is apparent that the mental health landscape of the United States is a relatively strong one.\n",
    "\n",
    "We also see a coefficient on $isTechnical_i$ of  $-.103$, which would predict an odds ratio effect of $\\exp(-.103) \\approx .902.$ This would suggest that someone working in a technical role is predicted to on average be $\\approx 10\\%$ less likely to be diagnosed with a mental health disorder than someone who takes on both technical and non-technical roles. This may suggest that individuals who take a jack-of-all-trades approach in the tech industry may be overburdened, to a point where they are much more"
   ]
  },
  {
   "cell_type": "code",
   "execution_count": null,
   "metadata": {
    "collapsed": true
   },
   "outputs": [],
   "source": []
  }
 ],
 "metadata": {
  "kernelspec": {
   "display_name": "R",
   "language": "R",
   "name": "ir"
  },
  "language_info": {
   "codemirror_mode": "r",
   "file_extension": ".r",
   "mimetype": "text/x-r-source",
   "name": "R",
   "pygments_lexer": "r",
   "version": "3.2.3"
  },
  "latex_envs": {
   "bibliofile": "biblio.bib",
   "cite_by": "apalike",
   "current_citInitial": 1,
   "eqLabelWithNumbers": true,
   "eqNumInitial": 0
  },
  "nav_menu": {},
  "toc": {
   "navigate_menu": true,
   "number_sections": false,
   "sideBar": true,
   "threshold": 6,
   "toc_cell": true,
   "toc_section_display": "block",
   "toc_window_display": true
  }
 },
 "nbformat": 4,
 "nbformat_minor": 1
}
