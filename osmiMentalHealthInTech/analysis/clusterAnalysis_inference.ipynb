{
 "cells": [
  {
   "cell_type": "markdown",
   "metadata": {},
   "source": [
    "# OSMI Mental Health In Tech Survey 2016 : Inference on Cluster Analysis\n",
    "\n",
    "_By [Michael Rosenberg](mmrosenb@andrew.cmu.edu)._"
   ]
  },
  {
   "cell_type": "code",
   "execution_count": 40,
   "metadata": {
    "collapsed": false
   },
   "outputs": [],
   "source": [
    "#imports\n",
    "library(poLCA)\n",
    "\n",
    "#constants\n",
    "sigLev = 3\n",
    "percentMul = 100\n",
    "options(warn=-1)"
   ]
  },
  {
   "cell_type": "code",
   "execution_count": 41,
   "metadata": {
    "collapsed": true
   },
   "outputs": [],
   "source": [
    "#load in data\n",
    "inferenceFrame = read.csv(\"../data/processed/clusterData_inference.csv\")\n",
    "finalMod.lcm = readRDS(\"../models/finalClusterModel.rds\")"
   ]
  },
  {
   "cell_type": "markdown",
   "metadata": {},
   "source": [
    "# Recap"
   ]
  },
  {
   "cell_type": "markdown",
   "metadata": {},
   "source": [
    "# Model Study"
   ]
  },
  {
   "cell_type": "code",
   "execution_count": 42,
   "metadata": {
    "collapsed": false
   },
   "outputs": [
    {
     "data": {
      "text/html": [
       "<table>\n",
       "<thead><tr><th scope=col>class</th><th scope=col>prior</th></tr></thead>\n",
       "<tbody>\n",
       "\t<tr><td>Class 1</td><td>0.302  </td></tr>\n",
       "\t<tr><td>Class 2</td><td>0.261  </td></tr>\n",
       "\t<tr><td>Class 3</td><td>0.437  </td></tr>\n",
       "</tbody>\n",
       "</table>\n"
      ],
      "text/latex": [
       "\\begin{tabular}{r|ll}\n",
       " class & prior\\\\\n",
       "\\hline\n",
       "\t Class 1 & 0.302  \\\\\n",
       "\t Class 2 & 0.261  \\\\\n",
       "\t Class 3 & 0.437  \\\\\n",
       "\\end{tabular}\n"
      ],
      "text/markdown": [
       "\n",
       "class | prior | \n",
       "|---|---|---|\n",
       "| Class 1 | 0.302   | \n",
       "| Class 2 | 0.261   | \n",
       "| Class 3 | 0.437   | \n",
       "\n",
       "\n"
      ],
      "text/plain": [
       "  class   prior\n",
       "1 Class 1 0.302\n",
       "2 Class 2 0.261\n",
       "3 Class 3 0.437"
      ]
     },
     "metadata": {},
     "output_type": "display_data"
    }
   ],
   "source": [
    "priorFrame = data.frame(class = c(\"Class 1\",\"Class 2\",\"Class 3\"),\n",
    "                        prior = signif(finalMod.lcm$P,sigLev))\n",
    "priorFrame"
   ]
  },
  {
   "cell_type": "markdown",
   "metadata": {},
   "source": [
    "_Table 1: Our prior distribution over our classes._\n",
    "\n",
    "We see that Class $3$ is more frequent than the other two, and Class $2$ is the least frequent of the three in our estimates. That being said, these classes are extremely close together, which suggests that we have relatively balanced classes."
   ]
  },
  {
   "cell_type": "code",
   "execution_count": 43,
   "metadata": {
    "collapsed": false
   },
   "outputs": [],
   "source": [
    "displayTable <- function(givenMod,varName){\n",
    "    #helper for producing table\n",
    "    #first, get discrete encoding\n",
    "    dEncodeFilename = paste0(\"../data/preprocessed/discreteEncodings/\",\n",
    "                             varName,\".csv\")\n",
    "    dEncodeFrame = read.csv(dEncodeFilename)\n",
    "    #get levels\n",
    "    dEncodeLevels = dEncodeFrame$level\n",
    "    givenModTable = givenMod$probs[[varName]]\n",
    "    colnames(givenModTable) = dEncodeLevels\n",
    "    #then export\n",
    "    return(givenModTable)\n",
    "}"
   ]
  },
  {
   "cell_type": "code",
   "execution_count": 44,
   "metadata": {
    "collapsed": false
   },
   "outputs": [
    {
     "data": {
      "text/html": [
       "<dl>\n",
       "\t<dt>$empPrimTech</dt>\n",
       "\t\t<dd><table>\n",
       "<thead><tr><th></th><th scope=col>Pr(1)</th><th scope=col>Pr(2)</th></tr></thead>\n",
       "<tbody>\n",
       "\t<tr><th scope=row>class 1: </th><td>0.8326759</td><td>0.1673241</td></tr>\n",
       "\t<tr><th scope=row>class 2: </th><td>0.7377377</td><td>0.2622623</td></tr>\n",
       "\t<tr><th scope=row>class 3: </th><td>0.7130929</td><td>0.2869071</td></tr>\n",
       "</tbody>\n",
       "</table>\n",
       "</dd>\n",
       "\t<dt>$empProvideMHB</dt>\n",
       "\t\t<dd><table>\n",
       "<thead><tr><th></th><th scope=col>Pr(1)</th><th scope=col>Pr(2)</th><th scope=col>Pr(3)</th><th scope=col>Pr(4)</th></tr></thead>\n",
       "<tbody>\n",
       "\t<tr><th scope=row>class 1: </th><td>0.11821183</td><td>0.23372221</td><td>0.1785298 </td><td>0.4695362 </td></tr>\n",
       "\t<tr><th scope=row>class 2: </th><td>0.00000000</td><td>0.01786674</td><td>0.8763714 </td><td>0.1057618 </td></tr>\n",
       "\t<tr><th scope=row>class 3: </th><td>0.07393729</td><td>0.22693158</td><td>0.4002438 </td><td>0.2988873 </td></tr>\n",
       "</tbody>\n",
       "</table>\n",
       "</dd>\n",
       "\t<dt>$knowMHB</dt>\n",
       "\t\t<dd><table>\n",
       "<thead><tr><th></th><th scope=col>Pr(1)</th><th scope=col>Pr(2)</th><th scope=col>Pr(3)</th><th scope=col>Pr(4)</th></tr></thead>\n",
       "<tbody>\n",
       "\t<tr><th scope=row>class 1: </th><td> 2.115787e-01</td><td>0.04473108   </td><td>0.3897978    </td><td>0.3538925    </td></tr>\n",
       "\t<tr><th scope=row>class 2: </th><td>1.642681e-248</td><td>0.59036228   </td><td>0.2988006    </td><td>0.1108372    </td></tr>\n",
       "\t<tr><th scope=row>class 3: </th><td> 1.051725e-01</td><td>0.23206103   </td><td>0.2829146    </td><td>0.3798519    </td></tr>\n",
       "</tbody>\n",
       "</table>\n",
       "</dd>\n",
       "\t<dt>$empDiscMH</dt>\n",
       "\t\t<dd><table>\n",
       "<thead><tr><th></th><th scope=col>Pr(1)</th><th scope=col>Pr(2)</th><th scope=col>Pr(3)</th></tr></thead>\n",
       "<tbody>\n",
       "\t<tr><th scope=row>class 1: </th><td>0.7657853 </td><td>0.15226845</td><td>0.08194622</td></tr>\n",
       "\t<tr><th scope=row>class 2: </th><td>0.3460927 </td><td>0.48528289</td><td>0.16862442</td></tr>\n",
       "\t<tr><th scope=row>class 3: </th><td>0.8650209 </td><td>0.09253607</td><td>0.04244303</td></tr>\n",
       "</tbody>\n",
       "</table>\n",
       "</dd>\n",
       "\t<dt>$empResourceMH</dt>\n",
       "\t\t<dd><table>\n",
       "<thead><tr><th></th><th scope=col>Pr(1)</th><th scope=col>Pr(2)</th><th scope=col>Pr(3)</th></tr></thead>\n",
       "<tbody>\n",
       "\t<tr><th scope=row>class 1: </th><td>0.5035860 </td><td>0.09985406</td><td>0.3965599 </td></tr>\n",
       "\t<tr><th scope=row>class 2: </th><td>0.1607759 </td><td>0.64055343</td><td>0.1986706 </td></tr>\n",
       "\t<tr><th scope=row>class 3: </th><td>0.5859070 </td><td>0.15603067</td><td>0.2580623 </td></tr>\n",
       "</tbody>\n",
       "</table>\n",
       "</dd>\n",
       "\t<dt>$anonProtected</dt>\n",
       "\t\t<dd><table>\n",
       "<thead><tr><th></th><th scope=col>Pr(1)</th><th scope=col>Pr(2)</th><th scope=col>Pr(3)</th></tr></thead>\n",
       "<tbody>\n",
       "\t<tr><th scope=row>class 1: </th><td>0.7628291 </td><td>0.2030640 </td><td>0.03410691</td></tr>\n",
       "\t<tr><th scope=row>class 2: </th><td>0.3650789 </td><td>0.6046528 </td><td>0.03026833</td></tr>\n",
       "\t<tr><th scope=row>class 3: </th><td>0.7319802 </td><td>0.1459574 </td><td>0.12206246</td></tr>\n",
       "</tbody>\n",
       "</table>\n",
       "</dd>\n",
       "\t<dt>$askLeaveDiff</dt>\n",
       "\t\t<dd><table>\n",
       "<thead><tr><th></th><th scope=col>Pr(1)</th><th scope=col>Pr(2)</th><th scope=col>Pr(3)</th><th scope=col>Pr(4)</th><th scope=col>Pr(5)</th><th scope=col>Pr(6)</th></tr></thead>\n",
       "<tbody>\n",
       "\t<tr><th scope=row>class 1: </th><td>0.30287659 </td><td>0.3666702  </td><td>0.1528859  </td><td>0.006259200</td><td>0.06455561 </td><td>0.10675253 </td></tr>\n",
       "\t<tr><th scope=row>class 2: </th><td>0.33895586 </td><td>0.3374507  </td><td>0.1049763  </td><td>0.005638391</td><td>0.13190958 </td><td>0.08106918 </td></tr>\n",
       "\t<tr><th scope=row>class 3: </th><td>0.03563699 </td><td>0.1241598  </td><td>0.1351115  </td><td>0.231864571</td><td>0.35583559 </td><td>0.11739158 </td></tr>\n",
       "</tbody>\n",
       "</table>\n",
       "</dd>\n",
       "\t<dt>$negConsDiscMH</dt>\n",
       "\t\t<dd><table>\n",
       "<thead><tr><th></th><th scope=col>Pr(1)</th><th scope=col>Pr(2)</th><th scope=col>Pr(3)</th></tr></thead>\n",
       "<tbody>\n",
       "\t<tr><th scope=row>class 1: </th><td>0.71643270  </td><td>0.2758187   </td><td>7.748558e-03</td></tr>\n",
       "\t<tr><th scope=row>class 2: </th><td>0.62765802  </td><td>0.3723420   </td><td>9.541312e-30</td></tr>\n",
       "\t<tr><th scope=row>class 3: </th><td>0.02066952  </td><td>0.5175586   </td><td>4.617719e-01</td></tr>\n",
       "</tbody>\n",
       "</table>\n",
       "</dd>\n",
       "\t<dt>$negConsDiscPH</dt>\n",
       "\t\t<dd><table>\n",
       "<thead><tr><th></th><th scope=col>Pr(1)</th><th scope=col>Pr(2)</th><th scope=col>Pr(3)</th></tr></thead>\n",
       "<tbody>\n",
       "\t<tr><th scope=row>class 1: </th><td>0.9150021  </td><td>0.08499789 </td><td>0.000000000</td></tr>\n",
       "\t<tr><th scope=row>class 2: </th><td>0.8859732  </td><td>0.10734383 </td><td>0.006683004</td></tr>\n",
       "\t<tr><th scope=row>class 3: </th><td>0.4919367  </td><td>0.42021697 </td><td>0.087846315</td></tr>\n",
       "</tbody>\n",
       "</table>\n",
       "</dd>\n",
       "\t<dt>$coworkComfMHD</dt>\n",
       "\t\t<dd><table>\n",
       "<thead><tr><th></th><th scope=col>Pr(1)</th><th scope=col>Pr(2)</th><th scope=col>Pr(3)</th></tr></thead>\n",
       "<tbody>\n",
       "\t<tr><th scope=row>class 1: </th><td>0.5552197 </td><td>0.3348592 </td><td>0.10992109</td></tr>\n",
       "\t<tr><th scope=row>class 2: </th><td>0.5169435 </td><td>0.3897386 </td><td>0.09331785</td></tr>\n",
       "\t<tr><th scope=row>class 3: </th><td>0.2979890 </td><td>0.0471279 </td><td>0.65488314</td></tr>\n",
       "</tbody>\n",
       "</table>\n",
       "</dd>\n",
       "\t<dt>$superComfMHD</dt>\n",
       "\t\t<dd><table>\n",
       "<thead><tr><th></th><th scope=col>Pr(1)</th><th scope=col>Pr(2)</th><th scope=col>Pr(3)</th></tr></thead>\n",
       "<tbody>\n",
       "\t<tr><th scope=row>class 1: </th><td>0.51040846</td><td>0.4319540 </td><td>0.05763752</td></tr>\n",
       "\t<tr><th scope=row>class 2: </th><td>0.70026606</td><td>0.2808413 </td><td>0.01889268</td></tr>\n",
       "\t<tr><th scope=row>class 3: </th><td>0.08398004</td><td>0.3363231 </td><td>0.57969689</td></tr>\n",
       "</tbody>\n",
       "</table>\n",
       "</dd>\n",
       "\t<dt>$empSeriousMH</dt>\n",
       "\t\t<dd><table>\n",
       "<thead><tr><th></th><th scope=col>Pr(1)</th><th scope=col>Pr(2)</th><th scope=col>Pr(3)</th></tr></thead>\n",
       "<tbody>\n",
       "\t<tr><th scope=row>class 1: </th><td>0.4998482 </td><td>0.40723770</td><td>0.09291406</td></tr>\n",
       "\t<tr><th scope=row>class 2: </th><td>0.2826013 </td><td>0.57725215</td><td>0.14014659</td></tr>\n",
       "\t<tr><th scope=row>class 3: </th><td>0.4839446 </td><td>0.06896127</td><td>0.44709417</td></tr>\n",
       "</tbody>\n",
       "</table>\n",
       "</dd>\n",
       "\t<dt>$heardNegConsMH</dt>\n",
       "\t\t<dd><table>\n",
       "<thead><tr><th></th><th scope=col>Pr(1)</th><th scope=col>Pr(2)</th></tr></thead>\n",
       "<tbody>\n",
       "\t<tr><th scope=row>class 1: </th><td>0.9826497 </td><td>0.01735028</td></tr>\n",
       "\t<tr><th scope=row>class 2: </th><td>0.9124576 </td><td>0.08754243</td></tr>\n",
       "\t<tr><th scope=row>class 3: </th><td>0.8525703 </td><td>0.14742974</td></tr>\n",
       "</tbody>\n",
       "</table>\n",
       "</dd>\n",
       "\t<dt>$discInterviewPH</dt>\n",
       "\t\t<dd><table>\n",
       "<thead><tr><th></th><th scope=col>Pr(1)</th><th scope=col>Pr(2)</th><th scope=col>Pr(3)</th></tr></thead>\n",
       "<tbody>\n",
       "\t<tr><th scope=row>class 1: </th><td>0.4581715</td><td>0.3592558</td><td>0.1825727</td></tr>\n",
       "\t<tr><th scope=row>class 2: </th><td>0.4073926</td><td>0.2666126</td><td>0.3259948</td></tr>\n",
       "\t<tr><th scope=row>class 3: </th><td>0.3785107</td><td>0.1355748</td><td>0.4859145</td></tr>\n",
       "</tbody>\n",
       "</table>\n",
       "</dd>\n",
       "\t<dt>$discInterviewMH</dt>\n",
       "\t\t<dd><table>\n",
       "<thead><tr><th></th><th scope=col>Pr(1)</th><th scope=col>Pr(2)</th><th scope=col>Pr(3)</th></tr></thead>\n",
       "<tbody>\n",
       "\t<tr><th scope=row>class 1: </th><td>0.4972393</td><td>0.3744408</td><td>0.1283198</td></tr>\n",
       "\t<tr><th scope=row>class 2: </th><td>0.2927599</td><td>0.5932843</td><td>0.1139558</td></tr>\n",
       "\t<tr><th scope=row>class 3: </th><td>0.1203625</td><td>0.8646393</td><td>0.0149982</td></tr>\n",
       "</tbody>\n",
       "</table>\n",
       "</dd>\n",
       "\t<dt>$hurtCareerMH</dt>\n",
       "\t\t<dd><table>\n",
       "<thead><tr><th></th><th scope=col>Pr(1)</th><th scope=col>Pr(2)</th><th scope=col>Pr(3)</th><th scope=col>Pr(4)</th><th scope=col>Pr(5)</th></tr></thead>\n",
       "<tbody>\n",
       "\t<tr><th scope=row>class 1: </th><td>0.6114593 </td><td>0.19555924</td><td>0.1364758 </td><td>0.0170606 </td><td>0.03944510</td></tr>\n",
       "\t<tr><th scope=row>class 2: </th><td>0.5006443 </td><td>0.15112574</td><td>0.2307129 </td><td>0.0672854 </td><td>0.05023171</td></tr>\n",
       "\t<tr><th scope=row>class 3: </th><td>0.2248810 </td><td>0.01420586</td><td>0.6464563 </td><td>0.0000000 </td><td>0.11445682</td></tr>\n",
       "</tbody>\n",
       "</table>\n",
       "</dd>\n",
       "\t<dt>$teamNegMH</dt>\n",
       "\t\t<dd><table>\n",
       "<thead><tr><th></th><th scope=col>Pr(1)</th><th scope=col>Pr(2)</th><th scope=col>Pr(3)</th><th scope=col>Pr(4)</th><th scope=col>Pr(5)</th></tr></thead>\n",
       "<tbody>\n",
       "\t<tr><th scope=row>class 1: </th><td>0.43221804</td><td>0.4755573 </td><td>0.01166482</td><td>0.04068288</td><td>0.03987699</td></tr>\n",
       "\t<tr><th scope=row>class 2: </th><td>0.33044888</td><td>0.4424101 </td><td>0.01323665</td><td>0.12620811</td><td>0.08769622</td></tr>\n",
       "\t<tr><th scope=row>class 3: </th><td>0.09097513</td><td>0.3336360 </td><td>0.04393055</td><td>0.53145832</td><td>0.00000000</td></tr>\n",
       "</tbody>\n",
       "</table>\n",
       "</dd>\n",
       "\t<dt>$observeBadResponseMH</dt>\n",
       "\t\t<dd><table>\n",
       "<thead><tr><th></th><th scope=col>Pr(1)</th><th scope=col>Pr(2)</th><th scope=col>Pr(3)</th><th scope=col>Pr(4)</th><th scope=col>Pr(5)</th></tr></thead>\n",
       "<tbody>\n",
       "\t<tr><th scope=row>class 1: </th><td>0.6331397 </td><td>0.1765351 </td><td>0.04911156</td><td>0.08829899</td><td>0.05291461</td></tr>\n",
       "\t<tr><th scope=row>class 2: </th><td>0.4136173 </td><td>0.2591053 </td><td>0.10003185</td><td>0.20855550</td><td>0.01869000</td></tr>\n",
       "\t<tr><th scope=row>class 3: </th><td>0.3096622 </td><td>0.2904020 </td><td>0.13797805</td><td>0.21787135</td><td>0.04408636</td></tr>\n",
       "</tbody>\n",
       "</table>\n",
       "</dd>\n",
       "</dl>\n"
      ],
      "text/latex": [
       "\\begin{description}\n",
       "\\item[\\$empPrimTech] \\begin{tabular}{r|ll}\n",
       "  & Pr(1) & Pr(2)\\\\\n",
       "\\hline\n",
       "\tclass 1:  & 0.8326759 & 0.1673241\\\\\n",
       "\tclass 2:  & 0.7377377 & 0.2622623\\\\\n",
       "\tclass 3:  & 0.7130929 & 0.2869071\\\\\n",
       "\\end{tabular}\n",
       "\n",
       "\\item[\\$empProvideMHB] \\begin{tabular}{r|llll}\n",
       "  & Pr(1) & Pr(2) & Pr(3) & Pr(4)\\\\\n",
       "\\hline\n",
       "\tclass 1:  & 0.11821183 & 0.23372221 & 0.1785298  & 0.4695362 \\\\\n",
       "\tclass 2:  & 0.00000000 & 0.01786674 & 0.8763714  & 0.1057618 \\\\\n",
       "\tclass 3:  & 0.07393729 & 0.22693158 & 0.4002438  & 0.2988873 \\\\\n",
       "\\end{tabular}\n",
       "\n",
       "\\item[\\$knowMHB] \\begin{tabular}{r|llll}\n",
       "  & Pr(1) & Pr(2) & Pr(3) & Pr(4)\\\\\n",
       "\\hline\n",
       "\tclass 1:  &  2.115787e-01 & 0.04473108    & 0.3897978     & 0.3538925    \\\\\n",
       "\tclass 2:  & 1.642681e-248 & 0.59036228    & 0.2988006     & 0.1108372    \\\\\n",
       "\tclass 3:  &  1.051725e-01 & 0.23206103    & 0.2829146     & 0.3798519    \\\\\n",
       "\\end{tabular}\n",
       "\n",
       "\\item[\\$empDiscMH] \\begin{tabular}{r|lll}\n",
       "  & Pr(1) & Pr(2) & Pr(3)\\\\\n",
       "\\hline\n",
       "\tclass 1:  & 0.7657853  & 0.15226845 & 0.08194622\\\\\n",
       "\tclass 2:  & 0.3460927  & 0.48528289 & 0.16862442\\\\\n",
       "\tclass 3:  & 0.8650209  & 0.09253607 & 0.04244303\\\\\n",
       "\\end{tabular}\n",
       "\n",
       "\\item[\\$empResourceMH] \\begin{tabular}{r|lll}\n",
       "  & Pr(1) & Pr(2) & Pr(3)\\\\\n",
       "\\hline\n",
       "\tclass 1:  & 0.5035860  & 0.09985406 & 0.3965599 \\\\\n",
       "\tclass 2:  & 0.1607759  & 0.64055343 & 0.1986706 \\\\\n",
       "\tclass 3:  & 0.5859070  & 0.15603067 & 0.2580623 \\\\\n",
       "\\end{tabular}\n",
       "\n",
       "\\item[\\$anonProtected] \\begin{tabular}{r|lll}\n",
       "  & Pr(1) & Pr(2) & Pr(3)\\\\\n",
       "\\hline\n",
       "\tclass 1:  & 0.7628291  & 0.2030640  & 0.03410691\\\\\n",
       "\tclass 2:  & 0.3650789  & 0.6046528  & 0.03026833\\\\\n",
       "\tclass 3:  & 0.7319802  & 0.1459574  & 0.12206246\\\\\n",
       "\\end{tabular}\n",
       "\n",
       "\\item[\\$askLeaveDiff] \\begin{tabular}{r|llllll}\n",
       "  & Pr(1) & Pr(2) & Pr(3) & Pr(4) & Pr(5) & Pr(6)\\\\\n",
       "\\hline\n",
       "\tclass 1:  & 0.30287659  & 0.3666702   & 0.1528859   & 0.006259200 & 0.06455561  & 0.10675253 \\\\\n",
       "\tclass 2:  & 0.33895586  & 0.3374507   & 0.1049763   & 0.005638391 & 0.13190958  & 0.08106918 \\\\\n",
       "\tclass 3:  & 0.03563699  & 0.1241598   & 0.1351115   & 0.231864571 & 0.35583559  & 0.11739158 \\\\\n",
       "\\end{tabular}\n",
       "\n",
       "\\item[\\$negConsDiscMH] \\begin{tabular}{r|lll}\n",
       "  & Pr(1) & Pr(2) & Pr(3)\\\\\n",
       "\\hline\n",
       "\tclass 1:  & 0.71643270   & 0.2758187    & 7.748558e-03\\\\\n",
       "\tclass 2:  & 0.62765802   & 0.3723420    & 9.541312e-30\\\\\n",
       "\tclass 3:  & 0.02066952   & 0.5175586    & 4.617719e-01\\\\\n",
       "\\end{tabular}\n",
       "\n",
       "\\item[\\$negConsDiscPH] \\begin{tabular}{r|lll}\n",
       "  & Pr(1) & Pr(2) & Pr(3)\\\\\n",
       "\\hline\n",
       "\tclass 1:  & 0.9150021   & 0.08499789  & 0.000000000\\\\\n",
       "\tclass 2:  & 0.8859732   & 0.10734383  & 0.006683004\\\\\n",
       "\tclass 3:  & 0.4919367   & 0.42021697  & 0.087846315\\\\\n",
       "\\end{tabular}\n",
       "\n",
       "\\item[\\$coworkComfMHD] \\begin{tabular}{r|lll}\n",
       "  & Pr(1) & Pr(2) & Pr(3)\\\\\n",
       "\\hline\n",
       "\tclass 1:  & 0.5552197  & 0.3348592  & 0.10992109\\\\\n",
       "\tclass 2:  & 0.5169435  & 0.3897386  & 0.09331785\\\\\n",
       "\tclass 3:  & 0.2979890  & 0.0471279  & 0.65488314\\\\\n",
       "\\end{tabular}\n",
       "\n",
       "\\item[\\$superComfMHD] \\begin{tabular}{r|lll}\n",
       "  & Pr(1) & Pr(2) & Pr(3)\\\\\n",
       "\\hline\n",
       "\tclass 1:  & 0.51040846 & 0.4319540  & 0.05763752\\\\\n",
       "\tclass 2:  & 0.70026606 & 0.2808413  & 0.01889268\\\\\n",
       "\tclass 3:  & 0.08398004 & 0.3363231  & 0.57969689\\\\\n",
       "\\end{tabular}\n",
       "\n",
       "\\item[\\$empSeriousMH] \\begin{tabular}{r|lll}\n",
       "  & Pr(1) & Pr(2) & Pr(3)\\\\\n",
       "\\hline\n",
       "\tclass 1:  & 0.4998482  & 0.40723770 & 0.09291406\\\\\n",
       "\tclass 2:  & 0.2826013  & 0.57725215 & 0.14014659\\\\\n",
       "\tclass 3:  & 0.4839446  & 0.06896127 & 0.44709417\\\\\n",
       "\\end{tabular}\n",
       "\n",
       "\\item[\\$heardNegConsMH] \\begin{tabular}{r|ll}\n",
       "  & Pr(1) & Pr(2)\\\\\n",
       "\\hline\n",
       "\tclass 1:  & 0.9826497  & 0.01735028\\\\\n",
       "\tclass 2:  & 0.9124576  & 0.08754243\\\\\n",
       "\tclass 3:  & 0.8525703  & 0.14742974\\\\\n",
       "\\end{tabular}\n",
       "\n",
       "\\item[\\$discInterviewPH] \\begin{tabular}{r|lll}\n",
       "  & Pr(1) & Pr(2) & Pr(3)\\\\\n",
       "\\hline\n",
       "\tclass 1:  & 0.4581715 & 0.3592558 & 0.1825727\\\\\n",
       "\tclass 2:  & 0.4073926 & 0.2666126 & 0.3259948\\\\\n",
       "\tclass 3:  & 0.3785107 & 0.1355748 & 0.4859145\\\\\n",
       "\\end{tabular}\n",
       "\n",
       "\\item[\\$discInterviewMH] \\begin{tabular}{r|lll}\n",
       "  & Pr(1) & Pr(2) & Pr(3)\\\\\n",
       "\\hline\n",
       "\tclass 1:  & 0.4972393 & 0.3744408 & 0.1283198\\\\\n",
       "\tclass 2:  & 0.2927599 & 0.5932843 & 0.1139558\\\\\n",
       "\tclass 3:  & 0.1203625 & 0.8646393 & 0.0149982\\\\\n",
       "\\end{tabular}\n",
       "\n",
       "\\item[\\$hurtCareerMH] \\begin{tabular}{r|lllll}\n",
       "  & Pr(1) & Pr(2) & Pr(3) & Pr(4) & Pr(5)\\\\\n",
       "\\hline\n",
       "\tclass 1:  & 0.6114593  & 0.19555924 & 0.1364758  & 0.0170606  & 0.03944510\\\\\n",
       "\tclass 2:  & 0.5006443  & 0.15112574 & 0.2307129  & 0.0672854  & 0.05023171\\\\\n",
       "\tclass 3:  & 0.2248810  & 0.01420586 & 0.6464563  & 0.0000000  & 0.11445682\\\\\n",
       "\\end{tabular}\n",
       "\n",
       "\\item[\\$teamNegMH] \\begin{tabular}{r|lllll}\n",
       "  & Pr(1) & Pr(2) & Pr(3) & Pr(4) & Pr(5)\\\\\n",
       "\\hline\n",
       "\tclass 1:  & 0.43221804 & 0.4755573  & 0.01166482 & 0.04068288 & 0.03987699\\\\\n",
       "\tclass 2:  & 0.33044888 & 0.4424101  & 0.01323665 & 0.12620811 & 0.08769622\\\\\n",
       "\tclass 3:  & 0.09097513 & 0.3336360  & 0.04393055 & 0.53145832 & 0.00000000\\\\\n",
       "\\end{tabular}\n",
       "\n",
       "\\item[\\$observeBadResponseMH] \\begin{tabular}{r|lllll}\n",
       "  & Pr(1) & Pr(2) & Pr(3) & Pr(4) & Pr(5)\\\\\n",
       "\\hline\n",
       "\tclass 1:  & 0.6331397  & 0.1765351  & 0.04911156 & 0.08829899 & 0.05291461\\\\\n",
       "\tclass 2:  & 0.4136173  & 0.2591053  & 0.10003185 & 0.20855550 & 0.01869000\\\\\n",
       "\tclass 3:  & 0.3096622  & 0.2904020  & 0.13797805 & 0.21787135 & 0.04408636\\\\\n",
       "\\end{tabular}\n",
       "\n",
       "\\end{description}\n"
      ],
      "text/markdown": [
       "$empPrimTech\n",
       ":   \n",
       "| <!--/--> | Pr(1) | Pr(2) | \n",
       "|---|---|---|\n",
       "| class 1:  | 0.8326759 | 0.1673241 | \n",
       "| class 2:  | 0.7377377 | 0.2622623 | \n",
       "| class 3:  | 0.7130929 | 0.2869071 | \n",
       "\n",
       "\n",
       "\n",
       "$empProvideMHB\n",
       ":   \n",
       "| <!--/--> | Pr(1) | Pr(2) | Pr(3) | Pr(4) | \n",
       "|---|---|---|\n",
       "| class 1:  | 0.11821183 | 0.23372221 | 0.1785298  | 0.4695362  | \n",
       "| class 2:  | 0.00000000 | 0.01786674 | 0.8763714  | 0.1057618  | \n",
       "| class 3:  | 0.07393729 | 0.22693158 | 0.4002438  | 0.2988873  | \n",
       "\n",
       "\n",
       "\n",
       "$knowMHB\n",
       ":   \n",
       "| <!--/--> | Pr(1) | Pr(2) | Pr(3) | Pr(4) | \n",
       "|---|---|---|\n",
       "| class 1:  |  2.115787e-01 | 0.04473108    | 0.3897978     | 0.3538925     | \n",
       "| class 2:  | 1.642681e-248 | 0.59036228    | 0.2988006     | 0.1108372     | \n",
       "| class 3:  |  1.051725e-01 | 0.23206103    | 0.2829146     | 0.3798519     | \n",
       "\n",
       "\n",
       "\n",
       "$empDiscMH\n",
       ":   \n",
       "| <!--/--> | Pr(1) | Pr(2) | Pr(3) | \n",
       "|---|---|---|\n",
       "| class 1:  | 0.7657853  | 0.15226845 | 0.08194622 | \n",
       "| class 2:  | 0.3460927  | 0.48528289 | 0.16862442 | \n",
       "| class 3:  | 0.8650209  | 0.09253607 | 0.04244303 | \n",
       "\n",
       "\n",
       "\n",
       "$empResourceMH\n",
       ":   \n",
       "| <!--/--> | Pr(1) | Pr(2) | Pr(3) | \n",
       "|---|---|---|\n",
       "| class 1:  | 0.5035860  | 0.09985406 | 0.3965599  | \n",
       "| class 2:  | 0.1607759  | 0.64055343 | 0.1986706  | \n",
       "| class 3:  | 0.5859070  | 0.15603067 | 0.2580623  | \n",
       "\n",
       "\n",
       "\n",
       "$anonProtected\n",
       ":   \n",
       "| <!--/--> | Pr(1) | Pr(2) | Pr(3) | \n",
       "|---|---|---|\n",
       "| class 1:  | 0.7628291  | 0.2030640  | 0.03410691 | \n",
       "| class 2:  | 0.3650789  | 0.6046528  | 0.03026833 | \n",
       "| class 3:  | 0.7319802  | 0.1459574  | 0.12206246 | \n",
       "\n",
       "\n",
       "\n",
       "$askLeaveDiff\n",
       ":   \n",
       "| <!--/--> | Pr(1) | Pr(2) | Pr(3) | Pr(4) | Pr(5) | Pr(6) | \n",
       "|---|---|---|\n",
       "| class 1:  | 0.30287659  | 0.3666702   | 0.1528859   | 0.006259200 | 0.06455561  | 0.10675253  | \n",
       "| class 2:  | 0.33895586  | 0.3374507   | 0.1049763   | 0.005638391 | 0.13190958  | 0.08106918  | \n",
       "| class 3:  | 0.03563699  | 0.1241598   | 0.1351115   | 0.231864571 | 0.35583559  | 0.11739158  | \n",
       "\n",
       "\n",
       "\n",
       "$negConsDiscMH\n",
       ":   \n",
       "| <!--/--> | Pr(1) | Pr(2) | Pr(3) | \n",
       "|---|---|---|\n",
       "| class 1:  | 0.71643270   | 0.2758187    | 7.748558e-03 | \n",
       "| class 2:  | 0.62765802   | 0.3723420    | 9.541312e-30 | \n",
       "| class 3:  | 0.02066952   | 0.5175586    | 4.617719e-01 | \n",
       "\n",
       "\n",
       "\n",
       "$negConsDiscPH\n",
       ":   \n",
       "| <!--/--> | Pr(1) | Pr(2) | Pr(3) | \n",
       "|---|---|---|\n",
       "| class 1:  | 0.9150021   | 0.08499789  | 0.000000000 | \n",
       "| class 2:  | 0.8859732   | 0.10734383  | 0.006683004 | \n",
       "| class 3:  | 0.4919367   | 0.42021697  | 0.087846315 | \n",
       "\n",
       "\n",
       "\n",
       "$coworkComfMHD\n",
       ":   \n",
       "| <!--/--> | Pr(1) | Pr(2) | Pr(3) | \n",
       "|---|---|---|\n",
       "| class 1:  | 0.5552197  | 0.3348592  | 0.10992109 | \n",
       "| class 2:  | 0.5169435  | 0.3897386  | 0.09331785 | \n",
       "| class 3:  | 0.2979890  | 0.0471279  | 0.65488314 | \n",
       "\n",
       "\n",
       "\n",
       "$superComfMHD\n",
       ":   \n",
       "| <!--/--> | Pr(1) | Pr(2) | Pr(3) | \n",
       "|---|---|---|\n",
       "| class 1:  | 0.51040846 | 0.4319540  | 0.05763752 | \n",
       "| class 2:  | 0.70026606 | 0.2808413  | 0.01889268 | \n",
       "| class 3:  | 0.08398004 | 0.3363231  | 0.57969689 | \n",
       "\n",
       "\n",
       "\n",
       "$empSeriousMH\n",
       ":   \n",
       "| <!--/--> | Pr(1) | Pr(2) | Pr(3) | \n",
       "|---|---|---|\n",
       "| class 1:  | 0.4998482  | 0.40723770 | 0.09291406 | \n",
       "| class 2:  | 0.2826013  | 0.57725215 | 0.14014659 | \n",
       "| class 3:  | 0.4839446  | 0.06896127 | 0.44709417 | \n",
       "\n",
       "\n",
       "\n",
       "$heardNegConsMH\n",
       ":   \n",
       "| <!--/--> | Pr(1) | Pr(2) | \n",
       "|---|---|---|\n",
       "| class 1:  | 0.9826497  | 0.01735028 | \n",
       "| class 2:  | 0.9124576  | 0.08754243 | \n",
       "| class 3:  | 0.8525703  | 0.14742974 | \n",
       "\n",
       "\n",
       "\n",
       "$discInterviewPH\n",
       ":   \n",
       "| <!--/--> | Pr(1) | Pr(2) | Pr(3) | \n",
       "|---|---|---|\n",
       "| class 1:  | 0.4581715 | 0.3592558 | 0.1825727 | \n",
       "| class 2:  | 0.4073926 | 0.2666126 | 0.3259948 | \n",
       "| class 3:  | 0.3785107 | 0.1355748 | 0.4859145 | \n",
       "\n",
       "\n",
       "\n",
       "$discInterviewMH\n",
       ":   \n",
       "| <!--/--> | Pr(1) | Pr(2) | Pr(3) | \n",
       "|---|---|---|\n",
       "| class 1:  | 0.4972393 | 0.3744408 | 0.1283198 | \n",
       "| class 2:  | 0.2927599 | 0.5932843 | 0.1139558 | \n",
       "| class 3:  | 0.1203625 | 0.8646393 | 0.0149982 | \n",
       "\n",
       "\n",
       "\n",
       "$hurtCareerMH\n",
       ":   \n",
       "| <!--/--> | Pr(1) | Pr(2) | Pr(3) | Pr(4) | Pr(5) | \n",
       "|---|---|---|\n",
       "| class 1:  | 0.6114593  | 0.19555924 | 0.1364758  | 0.0170606  | 0.03944510 | \n",
       "| class 2:  | 0.5006443  | 0.15112574 | 0.2307129  | 0.0672854  | 0.05023171 | \n",
       "| class 3:  | 0.2248810  | 0.01420586 | 0.6464563  | 0.0000000  | 0.11445682 | \n",
       "\n",
       "\n",
       "\n",
       "$teamNegMH\n",
       ":   \n",
       "| <!--/--> | Pr(1) | Pr(2) | Pr(3) | Pr(4) | Pr(5) | \n",
       "|---|---|---|\n",
       "| class 1:  | 0.43221804 | 0.4755573  | 0.01166482 | 0.04068288 | 0.03987699 | \n",
       "| class 2:  | 0.33044888 | 0.4424101  | 0.01323665 | 0.12620811 | 0.08769622 | \n",
       "| class 3:  | 0.09097513 | 0.3336360  | 0.04393055 | 0.53145832 | 0.00000000 | \n",
       "\n",
       "\n",
       "\n",
       "$observeBadResponseMH\n",
       ":   \n",
       "| <!--/--> | Pr(1) | Pr(2) | Pr(3) | Pr(4) | Pr(5) | \n",
       "|---|---|---|\n",
       "| class 1:  | 0.6331397  | 0.1765351  | 0.04911156 | 0.08829899 | 0.05291461 | \n",
       "| class 2:  | 0.4136173  | 0.2591053  | 0.10003185 | 0.20855550 | 0.01869000 | \n",
       "| class 3:  | 0.3096622  | 0.2904020  | 0.13797805 | 0.21787135 | 0.04408636 | \n",
       "\n",
       "\n",
       "\n",
       "\n",
       "\n"
      ],
      "text/plain": [
       "$empPrimTech\n",
       "              Pr(1)     Pr(2)\n",
       "class 1:  0.8326759 0.1673241\n",
       "class 2:  0.7377377 0.2622623\n",
       "class 3:  0.7130929 0.2869071\n",
       "\n",
       "$empProvideMHB\n",
       "               Pr(1)      Pr(2)     Pr(3)     Pr(4)\n",
       "class 1:  0.11821183 0.23372221 0.1785298 0.4695362\n",
       "class 2:  0.00000000 0.01786674 0.8763714 0.1057618\n",
       "class 3:  0.07393729 0.22693158 0.4002438 0.2988873\n",
       "\n",
       "$knowMHB\n",
       "                  Pr(1)      Pr(2)     Pr(3)     Pr(4)\n",
       "class 1:   2.115787e-01 0.04473108 0.3897978 0.3538925\n",
       "class 2:  1.642681e-248 0.59036228 0.2988006 0.1108372\n",
       "class 3:   1.051725e-01 0.23206103 0.2829146 0.3798519\n",
       "\n",
       "$empDiscMH\n",
       "              Pr(1)      Pr(2)      Pr(3)\n",
       "class 1:  0.7657853 0.15226845 0.08194622\n",
       "class 2:  0.3460927 0.48528289 0.16862442\n",
       "class 3:  0.8650209 0.09253607 0.04244303\n",
       "\n",
       "$empResourceMH\n",
       "              Pr(1)      Pr(2)     Pr(3)\n",
       "class 1:  0.5035860 0.09985406 0.3965599\n",
       "class 2:  0.1607759 0.64055343 0.1986706\n",
       "class 3:  0.5859070 0.15603067 0.2580623\n",
       "\n",
       "$anonProtected\n",
       "              Pr(1)     Pr(2)      Pr(3)\n",
       "class 1:  0.7628291 0.2030640 0.03410691\n",
       "class 2:  0.3650789 0.6046528 0.03026833\n",
       "class 3:  0.7319802 0.1459574 0.12206246\n",
       "\n",
       "$askLeaveDiff\n",
       "               Pr(1)     Pr(2)     Pr(3)       Pr(4)      Pr(5)      Pr(6)\n",
       "class 1:  0.30287659 0.3666702 0.1528859 0.006259200 0.06455561 0.10675253\n",
       "class 2:  0.33895586 0.3374507 0.1049763 0.005638391 0.13190958 0.08106918\n",
       "class 3:  0.03563699 0.1241598 0.1351115 0.231864571 0.35583559 0.11739158\n",
       "\n",
       "$negConsDiscMH\n",
       "               Pr(1)     Pr(2)        Pr(3)\n",
       "class 1:  0.71643270 0.2758187 7.748558e-03\n",
       "class 2:  0.62765802 0.3723420 9.541312e-30\n",
       "class 3:  0.02066952 0.5175586 4.617719e-01\n",
       "\n",
       "$negConsDiscPH\n",
       "              Pr(1)      Pr(2)       Pr(3)\n",
       "class 1:  0.9150021 0.08499789 0.000000000\n",
       "class 2:  0.8859732 0.10734383 0.006683004\n",
       "class 3:  0.4919367 0.42021697 0.087846315\n",
       "\n",
       "$coworkComfMHD\n",
       "              Pr(1)     Pr(2)      Pr(3)\n",
       "class 1:  0.5552197 0.3348592 0.10992109\n",
       "class 2:  0.5169435 0.3897386 0.09331785\n",
       "class 3:  0.2979890 0.0471279 0.65488314\n",
       "\n",
       "$superComfMHD\n",
       "               Pr(1)     Pr(2)      Pr(3)\n",
       "class 1:  0.51040846 0.4319540 0.05763752\n",
       "class 2:  0.70026606 0.2808413 0.01889268\n",
       "class 3:  0.08398004 0.3363231 0.57969689\n",
       "\n",
       "$empSeriousMH\n",
       "              Pr(1)      Pr(2)      Pr(3)\n",
       "class 1:  0.4998482 0.40723770 0.09291406\n",
       "class 2:  0.2826013 0.57725215 0.14014659\n",
       "class 3:  0.4839446 0.06896127 0.44709417\n",
       "\n",
       "$heardNegConsMH\n",
       "              Pr(1)      Pr(2)\n",
       "class 1:  0.9826497 0.01735028\n",
       "class 2:  0.9124576 0.08754243\n",
       "class 3:  0.8525703 0.14742974\n",
       "\n",
       "$discInterviewPH\n",
       "              Pr(1)     Pr(2)     Pr(3)\n",
       "class 1:  0.4581715 0.3592558 0.1825727\n",
       "class 2:  0.4073926 0.2666126 0.3259948\n",
       "class 3:  0.3785107 0.1355748 0.4859145\n",
       "\n",
       "$discInterviewMH\n",
       "              Pr(1)     Pr(2)     Pr(3)\n",
       "class 1:  0.4972393 0.3744408 0.1283198\n",
       "class 2:  0.2927599 0.5932843 0.1139558\n",
       "class 3:  0.1203625 0.8646393 0.0149982\n",
       "\n",
       "$hurtCareerMH\n",
       "              Pr(1)      Pr(2)     Pr(3)     Pr(4)      Pr(5)\n",
       "class 1:  0.6114593 0.19555924 0.1364758 0.0170606 0.03944510\n",
       "class 2:  0.5006443 0.15112574 0.2307129 0.0672854 0.05023171\n",
       "class 3:  0.2248810 0.01420586 0.6464563 0.0000000 0.11445682\n",
       "\n",
       "$teamNegMH\n",
       "               Pr(1)     Pr(2)      Pr(3)      Pr(4)      Pr(5)\n",
       "class 1:  0.43221804 0.4755573 0.01166482 0.04068288 0.03987699\n",
       "class 2:  0.33044888 0.4424101 0.01323665 0.12620811 0.08769622\n",
       "class 3:  0.09097513 0.3336360 0.04393055 0.53145832 0.00000000\n",
       "\n",
       "$observeBadResponseMH\n",
       "              Pr(1)     Pr(2)      Pr(3)      Pr(4)      Pr(5)\n",
       "class 1:  0.6331397 0.1765351 0.04911156 0.08829899 0.05291461\n",
       "class 2:  0.4136173 0.2591053 0.10003185 0.20855550 0.01869000\n",
       "class 3:  0.3096622 0.2904020 0.13797805 0.21787135 0.04408636\n"
      ]
     },
     "metadata": {},
     "output_type": "display_data"
    }
   ],
   "source": [
    "finalMod.lcm$probs"
   ]
  },
  {
   "cell_type": "markdown",
   "metadata": {},
   "source": [
    "We see interesting results from the following tables:\n",
    "\n",
    "* ```empProvideMHB```\n",
    "\n",
    "* ```knowMHB```\n",
    "\n",
    "* ```empDiscMH```\n",
    "\n",
    "* ```anonProtected```\n",
    "\n",
    "* ```askLeaveDiff```\n",
    "\n",
    "* ```negConsDiscMH```\n",
    "\n",
    "* ```negConsDiscPH```\n",
    "\n",
    "* ```coworkComfMHD```\n",
    "\n",
    "* ```superComfMHD```\n",
    "\n",
    "* ```discInterviewMH```\n",
    "\n",
    "* ```hurtCareerMH```\n",
    "\n",
    "* ```teamNegMH```\n",
    "\n",
    "* ```observeBadResponseMH```"
   ]
  },
  {
   "cell_type": "code",
   "execution_count": 45,
   "metadata": {
    "collapsed": false,
    "scrolled": false
   },
   "outputs": [
    {
     "data": {
      "text/html": [
       "<table>\n",
       "<thead><tr><th></th><th scope=col>Not eligible for coverage / N/A</th><th scope=col>No</th><th scope=col>Yes</th><th scope=col>I don't know</th></tr></thead>\n",
       "<tbody>\n",
       "\t<tr><th scope=row>class 1: </th><td>0.11821183</td><td>0.23372221</td><td>0.1785298 </td><td>0.4695362 </td></tr>\n",
       "\t<tr><th scope=row>class 2: </th><td>0.00000000</td><td>0.01786674</td><td>0.8763714 </td><td>0.1057618 </td></tr>\n",
       "\t<tr><th scope=row>class 3: </th><td>0.07393729</td><td>0.22693158</td><td>0.4002438 </td><td>0.2988873 </td></tr>\n",
       "</tbody>\n",
       "</table>\n"
      ],
      "text/latex": [
       "\\begin{tabular}{r|llll}\n",
       "  & Not eligible for coverage / N/A & No & Yes & I don't know\\\\\n",
       "\\hline\n",
       "\tclass 1:  & 0.11821183 & 0.23372221 & 0.1785298  & 0.4695362 \\\\\n",
       "\tclass 2:  & 0.00000000 & 0.01786674 & 0.8763714  & 0.1057618 \\\\\n",
       "\tclass 3:  & 0.07393729 & 0.22693158 & 0.4002438  & 0.2988873 \\\\\n",
       "\\end{tabular}\n"
      ],
      "text/markdown": [
       "\n",
       "| <!--/--> | Not eligible for coverage / N/A | No | Yes | I don't know | \n",
       "|---|---|---|\n",
       "| class 1:  | 0.11821183 | 0.23372221 | 0.1785298  | 0.4695362  | \n",
       "| class 2:  | 0.00000000 | 0.01786674 | 0.8763714  | 0.1057618  | \n",
       "| class 3:  | 0.07393729 | 0.22693158 | 0.4002438  | 0.2988873  | \n",
       "\n",
       "\n"
      ],
      "text/plain": [
       "          Not eligible for coverage / N/A No         Yes       I don't know\n",
       "class 1:  0.11821183                      0.23372221 0.1785298 0.4695362   \n",
       "class 2:  0.00000000                      0.01786674 0.8763714 0.1057618   \n",
       "class 3:  0.07393729                      0.22693158 0.4002438 0.2988873   "
      ]
     },
     "metadata": {},
     "output_type": "display_data"
    }
   ],
   "source": [
    "displayTable(finalMod.lcm,\"empProvideMHB\")"
   ]
  },
  {
   "cell_type": "markdown",
   "metadata": {},
   "source": [
    "_Table 2: Conditional Probabilities on Answers to the question \"Does your employer provide mental health benefits as part of healthcare coverage?\" ._\n",
    "\n",
    "We see a start effect beginning to occur in these classes. It is apparent that Class $2$ has a higher chance of having mental health coverage than classes $1$ and $3$. However, For Class $1$, this is because of an uncertainty about available coverage (\"I don't know\"), while this is more evenly distributed across outcomes for class $3$. This to some extent suggests that we have a class that has good coverage, and two classes that either primarily don't or are uncertain about available coverage."
   ]
  },
  {
   "cell_type": "code",
   "execution_count": 46,
   "metadata": {
    "collapsed": false
   },
   "outputs": [
    {
     "data": {
      "text/html": [
       "<table>\n",
       "<thead><tr><th></th><th scope=col>N/A</th><th scope=col>Yes</th><th scope=col>I am not sure</th><th scope=col>No</th></tr></thead>\n",
       "<tbody>\n",
       "\t<tr><th scope=row>class 1: </th><td> 2.115787e-01</td><td>0.04473108   </td><td>0.3897978    </td><td>0.3538925    </td></tr>\n",
       "\t<tr><th scope=row>class 2: </th><td>1.642681e-248</td><td>0.59036228   </td><td>0.2988006    </td><td>0.1108372    </td></tr>\n",
       "\t<tr><th scope=row>class 3: </th><td> 1.051725e-01</td><td>0.23206103   </td><td>0.2829146    </td><td>0.3798519    </td></tr>\n",
       "</tbody>\n",
       "</table>\n"
      ],
      "text/latex": [
       "\\begin{tabular}{r|llll}\n",
       "  & N/A & Yes & I am not sure & No\\\\\n",
       "\\hline\n",
       "\tclass 1:  &  2.115787e-01 & 0.04473108    & 0.3897978     & 0.3538925    \\\\\n",
       "\tclass 2:  & 1.642681e-248 & 0.59036228    & 0.2988006     & 0.1108372    \\\\\n",
       "\tclass 3:  &  1.051725e-01 & 0.23206103    & 0.2829146     & 0.3798519    \\\\\n",
       "\\end{tabular}\n"
      ],
      "text/markdown": [
       "\n",
       "| <!--/--> | N/A | Yes | I am not sure | No | \n",
       "|---|---|---|\n",
       "| class 1:  |  2.115787e-01 | 0.04473108    | 0.3897978     | 0.3538925     | \n",
       "| class 2:  | 1.642681e-248 | 0.59036228    | 0.2988006     | 0.1108372     | \n",
       "| class 3:  |  1.051725e-01 | 0.23206103    | 0.2829146     | 0.3798519     | \n",
       "\n",
       "\n"
      ],
      "text/plain": [
       "          N/A           Yes        I am not sure No       \n",
       "class 1:   2.115787e-01 0.04473108 0.3897978     0.3538925\n",
       "class 2:  1.642681e-248 0.59036228 0.2988006     0.1108372\n",
       "class 3:   1.051725e-01 0.23206103 0.2829146     0.3798519"
      ]
     },
     "metadata": {},
     "output_type": "display_data"
    }
   ],
   "source": [
    "displayTable(finalMod.lcm,\"knowMHB\")"
   ]
  },
  {
   "cell_type": "markdown",
   "metadata": {},
   "source": [
    "_Table 3: Conditional Probabilities on Answers to the question \"Do you know the options for mental health care available under your employer-provided coverage?\" ._\n",
    "\n",
    "We see an emphasis on \"I am not sure\" and \"No\" for class $1$, an emphasis on \"Yes\" and \"I am not sure\" for class $2$, and a balanced class for class $3$. This suggests that class $1$ leans no on this question, class $2$ leans yes on this question, and class $3$ is generally uncertain on its lean for this question."
   ]
  },
  {
   "cell_type": "code",
   "execution_count": 47,
   "metadata": {
    "collapsed": false
   },
   "outputs": [
    {
     "data": {
      "text/html": [
       "<table>\n",
       "<thead><tr><th></th><th scope=col>No</th><th scope=col>Yes</th><th scope=col>I don't know</th></tr></thead>\n",
       "<tbody>\n",
       "\t<tr><th scope=row>class 1: </th><td>0.7657853 </td><td>0.15226845</td><td>0.08194622</td></tr>\n",
       "\t<tr><th scope=row>class 2: </th><td>0.3460927 </td><td>0.48528289</td><td>0.16862442</td></tr>\n",
       "\t<tr><th scope=row>class 3: </th><td>0.8650209 </td><td>0.09253607</td><td>0.04244303</td></tr>\n",
       "</tbody>\n",
       "</table>\n"
      ],
      "text/latex": [
       "\\begin{tabular}{r|lll}\n",
       "  & No & Yes & I don't know\\\\\n",
       "\\hline\n",
       "\tclass 1:  & 0.7657853  & 0.15226845 & 0.08194622\\\\\n",
       "\tclass 2:  & 0.3460927  & 0.48528289 & 0.16862442\\\\\n",
       "\tclass 3:  & 0.8650209  & 0.09253607 & 0.04244303\\\\\n",
       "\\end{tabular}\n"
      ],
      "text/markdown": [
       "\n",
       "| <!--/--> | No | Yes | I don't know | \n",
       "|---|---|---|\n",
       "| class 1:  | 0.7657853  | 0.15226845 | 0.08194622 | \n",
       "| class 2:  | 0.3460927  | 0.48528289 | 0.16862442 | \n",
       "| class 3:  | 0.8650209  | 0.09253607 | 0.04244303 | \n",
       "\n",
       "\n"
      ],
      "text/plain": [
       "          No        Yes        I don't know\n",
       "class 1:  0.7657853 0.15226845 0.08194622  \n",
       "class 2:  0.3460927 0.48528289 0.16862442  \n",
       "class 3:  0.8650209 0.09253607 0.04244303  "
      ]
     },
     "metadata": {},
     "output_type": "display_data"
    }
   ],
   "source": [
    "displayTable(finalMod.lcm,\"empDiscMH\")"
   ]
  },
  {
   "cell_type": "markdown",
   "metadata": {},
   "source": [
    "_Table 4: Conditional Probabilities on Answers to the question \"Has your employer ever formally discussed mental health (for example, as part of a wellness campaign or other official communication)?\" ._\n",
    "\n",
    "We see that Class $1$ and Class $3$ seem to be centered on No, while class $2$ is balanced between no and yes. Thus, Class $1$ and $3$ represent a likelihood of an employer not discussing mental health, while class $2$ represents a toss-up between the two possibilities."
   ]
  },
  {
   "cell_type": "code",
   "execution_count": 48,
   "metadata": {
    "collapsed": false
   },
   "outputs": [
    {
     "data": {
      "text/html": [
       "<table>\n",
       "<thead><tr><th></th><th scope=col>I don't know</th><th scope=col>Yes</th><th scope=col>No</th></tr></thead>\n",
       "<tbody>\n",
       "\t<tr><th scope=row>class 1: </th><td>0.7628291 </td><td>0.2030640 </td><td>0.03410691</td></tr>\n",
       "\t<tr><th scope=row>class 2: </th><td>0.3650789 </td><td>0.6046528 </td><td>0.03026833</td></tr>\n",
       "\t<tr><th scope=row>class 3: </th><td>0.7319802 </td><td>0.1459574 </td><td>0.12206246</td></tr>\n",
       "</tbody>\n",
       "</table>\n"
      ],
      "text/latex": [
       "\\begin{tabular}{r|lll}\n",
       "  & I don't know & Yes & No\\\\\n",
       "\\hline\n",
       "\tclass 1:  & 0.7628291  & 0.2030640  & 0.03410691\\\\\n",
       "\tclass 2:  & 0.3650789  & 0.6046528  & 0.03026833\\\\\n",
       "\tclass 3:  & 0.7319802  & 0.1459574  & 0.12206246\\\\\n",
       "\\end{tabular}\n"
      ],
      "text/markdown": [
       "\n",
       "| <!--/--> | I don't know | Yes | No | \n",
       "|---|---|---|\n",
       "| class 1:  | 0.7628291  | 0.2030640  | 0.03410691 | \n",
       "| class 2:  | 0.3650789  | 0.6046528  | 0.03026833 | \n",
       "| class 3:  | 0.7319802  | 0.1459574  | 0.12206246 | \n",
       "\n",
       "\n"
      ],
      "text/plain": [
       "          I don't know Yes       No        \n",
       "class 1:  0.7628291    0.2030640 0.03410691\n",
       "class 2:  0.3650789    0.6046528 0.03026833\n",
       "class 3:  0.7319802    0.1459574 0.12206246"
      ]
     },
     "metadata": {},
     "output_type": "display_data"
    }
   ],
   "source": [
    "displayTable(finalMod.lcm,\"anonProtected\")"
   ]
  },
  {
   "cell_type": "markdown",
   "metadata": {},
   "source": [
    "_Table 5: Conditional Probabilities on answers to the question \"Is your anonymity protected if you choose to take advantage of mental health or substance abuse treatment resources provided by your employer?\" ._\n",
    "\n",
    "We see that Class $1$ and $3$ represent a high uncertainty that their anonymity is protected, while Class $2$ leans yes on this. Thus, class $2$ represents individuals who are more sure that their anonymity will be protected if they take advantage of mental health and substance abuse treatment resources."
   ]
  },
  {
   "cell_type": "code",
   "execution_count": 49,
   "metadata": {
    "collapsed": false
   },
   "outputs": [
    {
     "data": {
      "text/html": [
       "<table>\n",
       "<thead><tr><th></th><th scope=col>Very easy</th><th scope=col>Somewhat easy</th><th scope=col>Neither easy nor difficult</th><th scope=col>Very difficult</th><th scope=col>Somewhat difficult</th><th scope=col>I don't know</th></tr></thead>\n",
       "<tbody>\n",
       "\t<tr><th scope=row>class 1: </th><td>0.30287659 </td><td>0.3666702  </td><td>0.1528859  </td><td>0.006259200</td><td>0.06455561 </td><td>0.10675253 </td></tr>\n",
       "\t<tr><th scope=row>class 2: </th><td>0.33895586 </td><td>0.3374507  </td><td>0.1049763  </td><td>0.005638391</td><td>0.13190958 </td><td>0.08106918 </td></tr>\n",
       "\t<tr><th scope=row>class 3: </th><td>0.03563699 </td><td>0.1241598  </td><td>0.1351115  </td><td>0.231864571</td><td>0.35583559 </td><td>0.11739158 </td></tr>\n",
       "</tbody>\n",
       "</table>\n"
      ],
      "text/latex": [
       "\\begin{tabular}{r|llllll}\n",
       "  & Very easy & Somewhat easy & Neither easy nor difficult & Very difficult & Somewhat difficult & I don't know\\\\\n",
       "\\hline\n",
       "\tclass 1:  & 0.30287659  & 0.3666702   & 0.1528859   & 0.006259200 & 0.06455561  & 0.10675253 \\\\\n",
       "\tclass 2:  & 0.33895586  & 0.3374507   & 0.1049763   & 0.005638391 & 0.13190958  & 0.08106918 \\\\\n",
       "\tclass 3:  & 0.03563699  & 0.1241598   & 0.1351115   & 0.231864571 & 0.35583559  & 0.11739158 \\\\\n",
       "\\end{tabular}\n"
      ],
      "text/markdown": [
       "\n",
       "| <!--/--> | Very easy | Somewhat easy | Neither easy nor difficult | Very difficult | Somewhat difficult | I don't know | \n",
       "|---|---|---|\n",
       "| class 1:  | 0.30287659  | 0.3666702   | 0.1528859   | 0.006259200 | 0.06455561  | 0.10675253  | \n",
       "| class 2:  | 0.33895586  | 0.3374507   | 0.1049763   | 0.005638391 | 0.13190958  | 0.08106918  | \n",
       "| class 3:  | 0.03563699  | 0.1241598   | 0.1351115   | 0.231864571 | 0.35583559  | 0.11739158  | \n",
       "\n",
       "\n"
      ],
      "text/plain": [
       "          Very easy  Somewhat easy Neither easy nor difficult Very difficult\n",
       "class 1:  0.30287659 0.3666702     0.1528859                  0.006259200   \n",
       "class 2:  0.33895586 0.3374507     0.1049763                  0.005638391   \n",
       "class 3:  0.03563699 0.1241598     0.1351115                  0.231864571   \n",
       "          Somewhat difficult I don't know\n",
       "class 1:  0.06455561         0.10675253  \n",
       "class 2:  0.13190958         0.08106918  \n",
       "class 3:  0.35583559         0.11739158  "
      ]
     },
     "metadata": {},
     "output_type": "display_data"
    }
   ],
   "source": [
    "displayTable(finalMod.lcm,\"askLeaveDiff\")"
   ]
  },
  {
   "cell_type": "markdown",
   "metadata": {},
   "source": [
    "_Table 6: \"If a mental health issue prompted you to request a medical leave from work, asking for that leave would be:\"_\n",
    "\n",
    "We see that class $1$ and $2$ generally features individuals who would suggest that asking for leave for mental health reasons would be easy, while Class $3$ represents individuals who would find that process more difficult."
   ]
  },
  {
   "cell_type": "code",
   "execution_count": 50,
   "metadata": {
    "collapsed": false
   },
   "outputs": [
    {
     "data": {
      "text/html": [
       "<table>\n",
       "<thead><tr><th></th><th scope=col>No</th><th scope=col>Maybe</th><th scope=col>Yes</th></tr></thead>\n",
       "<tbody>\n",
       "\t<tr><th scope=row>class 1: </th><td>0.71643270  </td><td>0.2758187   </td><td>7.748558e-03</td></tr>\n",
       "\t<tr><th scope=row>class 2: </th><td>0.62765802  </td><td>0.3723420   </td><td>9.541312e-30</td></tr>\n",
       "\t<tr><th scope=row>class 3: </th><td>0.02066952  </td><td>0.5175586   </td><td>4.617719e-01</td></tr>\n",
       "</tbody>\n",
       "</table>\n"
      ],
      "text/latex": [
       "\\begin{tabular}{r|lll}\n",
       "  & No & Maybe & Yes\\\\\n",
       "\\hline\n",
       "\tclass 1:  & 0.71643270   & 0.2758187    & 7.748558e-03\\\\\n",
       "\tclass 2:  & 0.62765802   & 0.3723420    & 9.541312e-30\\\\\n",
       "\tclass 3:  & 0.02066952   & 0.5175586    & 4.617719e-01\\\\\n",
       "\\end{tabular}\n"
      ],
      "text/markdown": [
       "\n",
       "| <!--/--> | No | Maybe | Yes | \n",
       "|---|---|---|\n",
       "| class 1:  | 0.71643270   | 0.2758187    | 7.748558e-03 | \n",
       "| class 2:  | 0.62765802   | 0.3723420    | 9.541312e-30 | \n",
       "| class 3:  | 0.02066952   | 0.5175586    | 4.617719e-01 | \n",
       "\n",
       "\n"
      ],
      "text/plain": [
       "          No         Maybe     Yes         \n",
       "class 1:  0.71643270 0.2758187 7.748558e-03\n",
       "class 2:  0.62765802 0.3723420 9.541312e-30\n",
       "class 3:  0.02066952 0.5175586 4.617719e-01"
      ]
     },
     "metadata": {},
     "output_type": "display_data"
    }
   ],
   "source": [
    "displayTable(finalMod.lcm,\"negConsDiscMH\")"
   ]
  },
  {
   "cell_type": "markdown",
   "metadata": {},
   "source": [
    "_Table 7: \"Do you think that discussing a mental health disorder with your employer would have negative consequences?\" ._\n",
    "\n",
    "Classes $1$ and $2$ generally feature indivduals who find the process of discussing mental health with their employer to not feature negative consequences, while Class $3$ suggests that there might be negative consequences to this process."
   ]
  },
  {
   "cell_type": "code",
   "execution_count": 51,
   "metadata": {
    "collapsed": false
   },
   "outputs": [
    {
     "data": {
      "text/html": [
       "<table>\n",
       "<thead><tr><th></th><th scope=col>No</th><th scope=col>Maybe</th><th scope=col>Yes</th></tr></thead>\n",
       "<tbody>\n",
       "\t<tr><th scope=row>class 1: </th><td>0.9150021  </td><td>0.08499789 </td><td>0.000000000</td></tr>\n",
       "\t<tr><th scope=row>class 2: </th><td>0.8859732  </td><td>0.10734383 </td><td>0.006683004</td></tr>\n",
       "\t<tr><th scope=row>class 3: </th><td>0.4919367  </td><td>0.42021697 </td><td>0.087846315</td></tr>\n",
       "</tbody>\n",
       "</table>\n"
      ],
      "text/latex": [
       "\\begin{tabular}{r|lll}\n",
       "  & No & Maybe & Yes\\\\\n",
       "\\hline\n",
       "\tclass 1:  & 0.9150021   & 0.08499789  & 0.000000000\\\\\n",
       "\tclass 2:  & 0.8859732   & 0.10734383  & 0.006683004\\\\\n",
       "\tclass 3:  & 0.4919367   & 0.42021697  & 0.087846315\\\\\n",
       "\\end{tabular}\n"
      ],
      "text/markdown": [
       "\n",
       "| <!--/--> | No | Maybe | Yes | \n",
       "|---|---|---|\n",
       "| class 1:  | 0.9150021   | 0.08499789  | 0.000000000 | \n",
       "| class 2:  | 0.8859732   | 0.10734383  | 0.006683004 | \n",
       "| class 3:  | 0.4919367   | 0.42021697  | 0.087846315 | \n",
       "\n",
       "\n"
      ],
      "text/plain": [
       "          No        Maybe      Yes        \n",
       "class 1:  0.9150021 0.08499789 0.000000000\n",
       "class 2:  0.8859732 0.10734383 0.006683004\n",
       "class 3:  0.4919367 0.42021697 0.087846315"
      ]
     },
     "metadata": {},
     "output_type": "display_data"
    }
   ],
   "source": [
    "displayTable(finalMod.lcm,\"negConsDiscPH\")"
   ]
  },
  {
   "cell_type": "markdown",
   "metadata": {},
   "source": [
    "_Table 8: \"Do you think that discussing a physical health issue with your employer would have negative consequences?\" ._\n",
    "\n",
    "Interestingly, Classes $1$ and $2$ seem to also find that discussing mental health will not feature negative consequences, while Class 3 leans maybe-to-no on this context. Thus, Classes $1$ and $2$ seem rather certain that they will not feature negative consequences on either discussions of mental and physical health, while Class $3$ leans yes for mental health and leans no for physical health. In particular, what becomes rather interesting is that Classes $1$ and $2$ seem to be much more certain that they will not face negative consequences in the physical health ream than they are in the mental health realm."
   ]
  },
  {
   "cell_type": "code",
   "execution_count": 52,
   "metadata": {
    "collapsed": false
   },
   "outputs": [
    {
     "data": {
      "text/html": [
       "<table>\n",
       "<thead><tr><th></th><th scope=col>Maybe</th><th scope=col>Yes</th><th scope=col>No</th></tr></thead>\n",
       "<tbody>\n",
       "\t<tr><th scope=row>class 1: </th><td>0.5552197 </td><td>0.3348592 </td><td>0.10992109</td></tr>\n",
       "\t<tr><th scope=row>class 2: </th><td>0.5169435 </td><td>0.3897386 </td><td>0.09331785</td></tr>\n",
       "\t<tr><th scope=row>class 3: </th><td>0.2979890 </td><td>0.0471279 </td><td>0.65488314</td></tr>\n",
       "</tbody>\n",
       "</table>\n"
      ],
      "text/latex": [
       "\\begin{tabular}{r|lll}\n",
       "  & Maybe & Yes & No\\\\\n",
       "\\hline\n",
       "\tclass 1:  & 0.5552197  & 0.3348592  & 0.10992109\\\\\n",
       "\tclass 2:  & 0.5169435  & 0.3897386  & 0.09331785\\\\\n",
       "\tclass 3:  & 0.2979890  & 0.0471279  & 0.65488314\\\\\n",
       "\\end{tabular}\n"
      ],
      "text/markdown": [
       "\n",
       "| <!--/--> | Maybe | Yes | No | \n",
       "|---|---|---|\n",
       "| class 1:  | 0.5552197  | 0.3348592  | 0.10992109 | \n",
       "| class 2:  | 0.5169435  | 0.3897386  | 0.09331785 | \n",
       "| class 3:  | 0.2979890  | 0.0471279  | 0.65488314 | \n",
       "\n",
       "\n"
      ],
      "text/plain": [
       "          Maybe     Yes       No        \n",
       "class 1:  0.5552197 0.3348592 0.10992109\n",
       "class 2:  0.5169435 0.3897386 0.09331785\n",
       "class 3:  0.2979890 0.0471279 0.65488314"
      ]
     },
     "metadata": {},
     "output_type": "display_data"
    }
   ],
   "source": [
    "displayTable(finalMod.lcm,\"coworkComfMHD\")"
   ]
  },
  {
   "cell_type": "markdown",
   "metadata": {},
   "source": [
    "_Table 9: \"Would you feel comfortable discussing a mental health disorder with your coworkers?\" _\n",
    "\n",
    "What becomes clear is the effect on the no answer. We see that there is a higher emphasis on \"No\" progressing from classes $2$, $1$, $3.$ This may suggest that Class $2$ features those who are very likely to be uncomfortable discussing with their coworkers, Class $1$ features individuals who are somewhat likely to be uncomfortable discussing with their coworkers, and Class $3$ features individuals who are not very likely to be uncomfortable discussing with their coworkers."
   ]
  },
  {
   "cell_type": "code",
   "execution_count": 53,
   "metadata": {
    "collapsed": false
   },
   "outputs": [
    {
     "data": {
      "text/html": [
       "<table>\n",
       "<thead><tr><th></th><th scope=col>Yes</th><th scope=col>Maybe</th><th scope=col>No</th></tr></thead>\n",
       "<tbody>\n",
       "\t<tr><th scope=row>class 1: </th><td>0.51040846</td><td>0.4319540 </td><td>0.05763752</td></tr>\n",
       "\t<tr><th scope=row>class 2: </th><td>0.70026606</td><td>0.2808413 </td><td>0.01889268</td></tr>\n",
       "\t<tr><th scope=row>class 3: </th><td>0.08398004</td><td>0.3363231 </td><td>0.57969689</td></tr>\n",
       "</tbody>\n",
       "</table>\n"
      ],
      "text/latex": [
       "\\begin{tabular}{r|lll}\n",
       "  & Yes & Maybe & No\\\\\n",
       "\\hline\n",
       "\tclass 1:  & 0.51040846 & 0.4319540  & 0.05763752\\\\\n",
       "\tclass 2:  & 0.70026606 & 0.2808413  & 0.01889268\\\\\n",
       "\tclass 3:  & 0.08398004 & 0.3363231  & 0.57969689\\\\\n",
       "\\end{tabular}\n"
      ],
      "text/markdown": [
       "\n",
       "| <!--/--> | Yes | Maybe | No | \n",
       "|---|---|---|\n",
       "| class 1:  | 0.51040846 | 0.4319540  | 0.05763752 | \n",
       "| class 2:  | 0.70026606 | 0.2808413  | 0.01889268 | \n",
       "| class 3:  | 0.08398004 | 0.3363231  | 0.57969689 | \n",
       "\n",
       "\n"
      ],
      "text/plain": [
       "          Yes        Maybe     No        \n",
       "class 1:  0.51040846 0.4319540 0.05763752\n",
       "class 2:  0.70026606 0.2808413 0.01889268\n",
       "class 3:  0.08398004 0.3363231 0.57969689"
      ]
     },
     "metadata": {},
     "output_type": "display_data"
    }
   ],
   "source": [
    "displayTable(finalMod.lcm,\"superComfMHD\")"
   ]
  },
  {
   "cell_type": "markdown",
   "metadata": {},
   "source": [
    "_Table 10: \"Would you feel comfortable discussing a mental health disorder with your direct supervisor(s)?\" ._\n",
    "\n",
    "We see a similar progression from our previous table. Thus, it is likely that those who are comfortable discussing mental health with their coworkers are likely to be comfortable discussing mental health with their direct supervisors."
   ]
  },
  {
   "cell_type": "code",
   "execution_count": 54,
   "metadata": {
    "collapsed": false
   },
   "outputs": [
    {
     "data": {
      "text/html": [
       "<table>\n",
       "<thead><tr><th></th><th scope=col>Maybe</th><th scope=col>No</th><th scope=col>Yes</th></tr></thead>\n",
       "<tbody>\n",
       "\t<tr><th scope=row>class 1: </th><td>0.4972393</td><td>0.3744408</td><td>0.1283198</td></tr>\n",
       "\t<tr><th scope=row>class 2: </th><td>0.2927599</td><td>0.5932843</td><td>0.1139558</td></tr>\n",
       "\t<tr><th scope=row>class 3: </th><td>0.1203625</td><td>0.8646393</td><td>0.0149982</td></tr>\n",
       "</tbody>\n",
       "</table>\n"
      ],
      "text/latex": [
       "\\begin{tabular}{r|lll}\n",
       "  & Maybe & No & Yes\\\\\n",
       "\\hline\n",
       "\tclass 1:  & 0.4972393 & 0.3744408 & 0.1283198\\\\\n",
       "\tclass 2:  & 0.2927599 & 0.5932843 & 0.1139558\\\\\n",
       "\tclass 3:  & 0.1203625 & 0.8646393 & 0.0149982\\\\\n",
       "\\end{tabular}\n"
      ],
      "text/markdown": [
       "\n",
       "| <!--/--> | Maybe | No | Yes | \n",
       "|---|---|---|\n",
       "| class 1:  | 0.4972393 | 0.3744408 | 0.1283198 | \n",
       "| class 2:  | 0.2927599 | 0.5932843 | 0.1139558 | \n",
       "| class 3:  | 0.1203625 | 0.8646393 | 0.0149982 | \n",
       "\n",
       "\n"
      ],
      "text/plain": [
       "          Maybe     No        Yes      \n",
       "class 1:  0.4972393 0.3744408 0.1283198\n",
       "class 2:  0.2927599 0.5932843 0.1139558\n",
       "class 3:  0.1203625 0.8646393 0.0149982"
      ]
     },
     "metadata": {},
     "output_type": "display_data"
    }
   ],
   "source": [
    "displayTable(finalMod.lcm,\"discInterviewMH\")"
   ]
  },
  {
   "cell_type": "markdown",
   "metadata": {},
   "source": [
    "_Table 11: \"Would you bring up a mental health issue with a potential employer in an interview?\" ._\n",
    "\n",
    "We see another thing occur: Class $3$ will very not likely discuss a mental health issue with a potential employer, and there seems to be more comfort in class $2$ and $1$. We see generally that most people do not say yes to this question, expressing a lean no across all classes."
   ]
  },
  {
   "cell_type": "code",
   "execution_count": 55,
   "metadata": {
    "collapsed": false
   },
   "outputs": [
    {
     "data": {
      "text/html": [
       "<table>\n",
       "<thead><tr><th></th><th scope=col>Maybe</th><th scope=col>No, I don't think it would</th><th scope=col>Yes, I think it would</th><th scope=col>No, it has not</th><th scope=col>Yes, it has</th></tr></thead>\n",
       "<tbody>\n",
       "\t<tr><th scope=row>class 1: </th><td>0.6114593 </td><td>0.19555924</td><td>0.1364758 </td><td>0.0170606 </td><td>0.03944510</td></tr>\n",
       "\t<tr><th scope=row>class 2: </th><td>0.5006443 </td><td>0.15112574</td><td>0.2307129 </td><td>0.0672854 </td><td>0.05023171</td></tr>\n",
       "\t<tr><th scope=row>class 3: </th><td>0.2248810 </td><td>0.01420586</td><td>0.6464563 </td><td>0.0000000 </td><td>0.11445682</td></tr>\n",
       "</tbody>\n",
       "</table>\n"
      ],
      "text/latex": [
       "\\begin{tabular}{r|lllll}\n",
       "  & Maybe & No, I don't think it would & Yes, I think it would & No, it has not & Yes, it has\\\\\n",
       "\\hline\n",
       "\tclass 1:  & 0.6114593  & 0.19555924 & 0.1364758  & 0.0170606  & 0.03944510\\\\\n",
       "\tclass 2:  & 0.5006443  & 0.15112574 & 0.2307129  & 0.0672854  & 0.05023171\\\\\n",
       "\tclass 3:  & 0.2248810  & 0.01420586 & 0.6464563  & 0.0000000  & 0.11445682\\\\\n",
       "\\end{tabular}\n"
      ],
      "text/markdown": [
       "\n",
       "| <!--/--> | Maybe | No, I don't think it would | Yes, I think it would | No, it has not | Yes, it has | \n",
       "|---|---|---|\n",
       "| class 1:  | 0.6114593  | 0.19555924 | 0.1364758  | 0.0170606  | 0.03944510 | \n",
       "| class 2:  | 0.5006443  | 0.15112574 | 0.2307129  | 0.0672854  | 0.05023171 | \n",
       "| class 3:  | 0.2248810  | 0.01420586 | 0.6464563  | 0.0000000  | 0.11445682 | \n",
       "\n",
       "\n"
      ],
      "text/plain": [
       "          Maybe     No, I don't think it would Yes, I think it would\n",
       "class 1:  0.6114593 0.19555924                 0.1364758            \n",
       "class 2:  0.5006443 0.15112574                 0.2307129            \n",
       "class 3:  0.2248810 0.01420586                 0.6464563            \n",
       "          No, it has not Yes, it has\n",
       "class 1:  0.0170606      0.03944510 \n",
       "class 2:  0.0672854      0.05023171 \n",
       "class 3:  0.0000000      0.11445682 "
      ]
     },
     "metadata": {},
     "output_type": "display_data"
    }
   ],
   "source": [
    "displayTable(finalMod.lcm,\"hurtCareerMH\")"
   ]
  },
  {
   "cell_type": "markdown",
   "metadata": {},
   "source": [
    "_Table 12: \"Do you feel that being identified as a person with a mental health issue would hurt your career?\"._\n",
    "\n",
    "We see the key impact is between the the \"Yes, I think it would\" column and the \"Maybe\" column. We see that Class $3$ tends to believe for sure that being identified as a person with a mental health issue will in fact hurt their career, while Classes $1$ and $2$ believe that being identified will only maybe hurt their career. This is again identifying a sense of certainty and uncertainty that exist among the three classes."
   ]
  },
  {
   "cell_type": "code",
   "execution_count": 56,
   "metadata": {
    "collapsed": false
   },
   "outputs": [
    {
     "data": {
      "text/html": [
       "<table>\n",
       "<thead><tr><th></th><th scope=col>No, I don't think they would</th><th scope=col>Maybe</th><th scope=col>Yes, they do</th><th scope=col>Yes, I think they would</th><th scope=col>No, they do not</th></tr></thead>\n",
       "<tbody>\n",
       "\t<tr><th scope=row>class 1: </th><td>0.43221804</td><td>0.4755573 </td><td>0.01166482</td><td>0.04068288</td><td>0.03987699</td></tr>\n",
       "\t<tr><th scope=row>class 2: </th><td>0.33044888</td><td>0.4424101 </td><td>0.01323665</td><td>0.12620811</td><td>0.08769622</td></tr>\n",
       "\t<tr><th scope=row>class 3: </th><td>0.09097513</td><td>0.3336360 </td><td>0.04393055</td><td>0.53145832</td><td>0.00000000</td></tr>\n",
       "</tbody>\n",
       "</table>\n"
      ],
      "text/latex": [
       "\\begin{tabular}{r|lllll}\n",
       "  & No, I don't think they would & Maybe & Yes, they do & Yes, I think they would & No, they do not\\\\\n",
       "\\hline\n",
       "\tclass 1:  & 0.43221804 & 0.4755573  & 0.01166482 & 0.04068288 & 0.03987699\\\\\n",
       "\tclass 2:  & 0.33044888 & 0.4424101  & 0.01323665 & 0.12620811 & 0.08769622\\\\\n",
       "\tclass 3:  & 0.09097513 & 0.3336360  & 0.04393055 & 0.53145832 & 0.00000000\\\\\n",
       "\\end{tabular}\n"
      ],
      "text/markdown": [
       "\n",
       "| <!--/--> | No, I don't think they would | Maybe | Yes, they do | Yes, I think they would | No, they do not | \n",
       "|---|---|---|\n",
       "| class 1:  | 0.43221804 | 0.4755573  | 0.01166482 | 0.04068288 | 0.03987699 | \n",
       "| class 2:  | 0.33044888 | 0.4424101  | 0.01323665 | 0.12620811 | 0.08769622 | \n",
       "| class 3:  | 0.09097513 | 0.3336360  | 0.04393055 | 0.53145832 | 0.00000000 | \n",
       "\n",
       "\n"
      ],
      "text/plain": [
       "          No, I don't think they would Maybe     Yes, they do\n",
       "class 1:  0.43221804                   0.4755573 0.01166482  \n",
       "class 2:  0.33044888                   0.4424101 0.01323665  \n",
       "class 3:  0.09097513                   0.3336360 0.04393055  \n",
       "          Yes, I think they would No, they do not\n",
       "class 1:  0.04068288              0.03987699     \n",
       "class 2:  0.12620811              0.08769622     \n",
       "class 3:  0.53145832              0.00000000     "
      ]
     },
     "metadata": {},
     "output_type": "display_data"
    }
   ],
   "source": [
    "displayTable(finalMod.lcm,\"teamNegMH\")"
   ]
  },
  {
   "cell_type": "markdown",
   "metadata": {},
   "source": [
    "_Table 13: \"Do you think that team members/co-workers would view you more negatively if they knew you suffered from a mental health issue?\" ._\n",
    "\n",
    "We see a that Class $3$ leans yes in this situation while classes $1$ and $2$ lean no in this situation. This is very similar to our previous question, although there is a deeper \"lean no\" in this context."
   ]
  },
  {
   "cell_type": "code",
   "execution_count": 57,
   "metadata": {
    "collapsed": false
   },
   "outputs": [
    {
     "data": {
      "text/html": [
       "<table>\n",
       "<thead><tr><th></th><th scope=col>No</th><th scope=col>Maybe/Not sure</th><th scope=col>Yes, I experienced</th><th scope=col>Yes, I observed</th><th scope=col>N/A</th></tr></thead>\n",
       "<tbody>\n",
       "\t<tr><th scope=row>class 1: </th><td>0.6331397 </td><td>0.1765351 </td><td>0.04911156</td><td>0.08829899</td><td>0.05291461</td></tr>\n",
       "\t<tr><th scope=row>class 2: </th><td>0.4136173 </td><td>0.2591053 </td><td>0.10003185</td><td>0.20855550</td><td>0.01869000</td></tr>\n",
       "\t<tr><th scope=row>class 3: </th><td>0.3096622 </td><td>0.2904020 </td><td>0.13797805</td><td>0.21787135</td><td>0.04408636</td></tr>\n",
       "</tbody>\n",
       "</table>\n"
      ],
      "text/latex": [
       "\\begin{tabular}{r|lllll}\n",
       "  & No & Maybe/Not sure & Yes, I experienced & Yes, I observed & N/A\\\\\n",
       "\\hline\n",
       "\tclass 1:  & 0.6331397  & 0.1765351  & 0.04911156 & 0.08829899 & 0.05291461\\\\\n",
       "\tclass 2:  & 0.4136173  & 0.2591053  & 0.10003185 & 0.20855550 & 0.01869000\\\\\n",
       "\tclass 3:  & 0.3096622  & 0.2904020  & 0.13797805 & 0.21787135 & 0.04408636\\\\\n",
       "\\end{tabular}\n"
      ],
      "text/markdown": [
       "\n",
       "| <!--/--> | No | Maybe/Not sure | Yes, I experienced | Yes, I observed | N/A | \n",
       "|---|---|---|\n",
       "| class 1:  | 0.6331397  | 0.1765351  | 0.04911156 | 0.08829899 | 0.05291461 | \n",
       "| class 2:  | 0.4136173  | 0.2591053  | 0.10003185 | 0.20855550 | 0.01869000 | \n",
       "| class 3:  | 0.3096622  | 0.2904020  | 0.13797805 | 0.21787135 | 0.04408636 | \n",
       "\n",
       "\n"
      ],
      "text/plain": [
       "          No        Maybe/Not sure Yes, I experienced Yes, I observed\n",
       "class 1:  0.6331397 0.1765351      0.04911156         0.08829899     \n",
       "class 2:  0.4136173 0.2591053      0.10003185         0.20855550     \n",
       "class 3:  0.3096622 0.2904020      0.13797805         0.21787135     \n",
       "          N/A       \n",
       "class 1:  0.05291461\n",
       "class 2:  0.01869000\n",
       "class 3:  0.04408636"
      ]
     },
     "metadata": {},
     "output_type": "display_data"
    }
   ],
   "source": [
    "displayTable(finalMod.lcm,\"observeBadResponseMH\")"
   ]
  },
  {
   "cell_type": "markdown",
   "metadata": {},
   "source": [
    "_Table 14: \"Have you observed or experienced an unsupportive or badly handled response to a mental health issue in your current or previous workplace?\" ._\n",
    "\n",
    "The key changes we see are in the No and Maybe columns. Class $1$ leans no, while Classes $2$ and $3$ lean only more weakly no with Class $3$ leaning maybe."
   ]
  },
  {
   "cell_type": "code",
   "execution_count": null,
   "metadata": {
    "collapsed": true
   },
   "outputs": [],
   "source": []
  }
 ],
 "metadata": {
  "kernelspec": {
   "display_name": "R",
   "language": "R",
   "name": "ir"
  },
  "language_info": {
   "codemirror_mode": "r",
   "file_extension": ".r",
   "mimetype": "text/x-r-source",
   "name": "R",
   "pygments_lexer": "r",
   "version": "3.2.3"
  },
  "latex_envs": {
   "bibliofile": "biblio.bib",
   "cite_by": "apalike",
   "current_citInitial": 1,
   "eqLabelWithNumbers": true,
   "eqNumInitial": 0
  },
  "nav_menu": {},
  "toc": {
   "navigate_menu": true,
   "number_sections": true,
   "sideBar": true,
   "threshold": 6,
   "toc_cell": false,
   "toc_section_display": "block",
   "toc_window_display": false
  }
 },
 "nbformat": 4,
 "nbformat_minor": 2
}
