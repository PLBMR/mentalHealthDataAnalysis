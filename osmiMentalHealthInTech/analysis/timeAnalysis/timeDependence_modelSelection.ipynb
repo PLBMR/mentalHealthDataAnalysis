{
 "cells": [
  {
   "cell_type": "markdown",
   "metadata": {
    "toc": "true"
   },
   "source": [
    "# Table of Contents\n",
    " <p><div class=\"lev1 toc-item\"><a href=\"#OSMI-Mental-Health-In-Tech-:-Time-Dependent-Model-Selection\" data-toc-modified-id=\"OSMI-Mental-Health-In-Tech-:-Time-Dependent-Model-Selection-1\"><span class=\"toc-item-num\">1&nbsp;&nbsp;</span>OSMI Mental Health In Tech : Time-Dependent Model Selection</a></div><div class=\"lev1 toc-item\"><a href=\"#Initial-Modeling\" data-toc-modified-id=\"Initial-Modeling-2\"><span class=\"toc-item-num\">2&nbsp;&nbsp;</span>Initial Modeling</a></div><div class=\"lev2 toc-item\"><a href=\"#Old-Model\" data-toc-modified-id=\"Old-Model-2.1\"><span class=\"toc-item-num\">2.1&nbsp;&nbsp;</span>Old Model</a></div><div class=\"lev2 toc-item\"><a href=\"#Old-Model-with-Time-Effects\" data-toc-modified-id=\"Old-Model-with-Time-Effects-2.2\"><span class=\"toc-item-num\">2.2&nbsp;&nbsp;</span>Old Model with Time Effects</a></div><div class=\"lev2 toc-item\"><a href=\"#Decision-Tree-with-Time-Effects\" data-toc-modified-id=\"Decision-Tree-with-Time-Effects-2.3\"><span class=\"toc-item-num\">2.3&nbsp;&nbsp;</span>Decision Tree with Time Effects</a></div><div class=\"lev1 toc-item\"><a href=\"#Model-Selection\" data-toc-modified-id=\"Model-Selection-3\"><span class=\"toc-item-num\">3&nbsp;&nbsp;</span>Model Selection</a></div>"
   ]
  },
  {
   "cell_type": "markdown",
   "metadata": {},
   "source": [
    "# OSMI Mental Health In Tech : Time-Dependent Model Selection\n",
    "\n",
    "_By [Michael Rosenberg](mailto:mmrosenb@andrew.cmu.edu)._\n",
    "\n",
    "_**Description**: Contains my model selection for our model with time-varying effects._\n",
    "\n",
    "_Last Updated: 5/1/2017 3:59 PM._"
   ]
  },
  {
   "cell_type": "code",
   "execution_count": 61,
   "metadata": {
    "collapsed": false
   },
   "outputs": [],
   "source": [
    "#imports\n",
    "\n",
    "library(readr)\n",
    "library(dplyr)\n",
    "library(ggplot2)\n",
    "library(tree)\n",
    "\n",
    "#constants\n",
    "\n",
    "sigLev = 3"
   ]
  },
  {
   "cell_type": "code",
   "execution_count": 62,
   "metadata": {
    "collapsed": false
   },
   "outputs": [
    {
     "name": "stderr",
     "output_type": "stream",
     "text": [
      "Parsed with column specification:\n",
      "cols(\n",
      "  companySize = col_character(),\n",
      "  diagnosedWithMHD = col_integer(),\n",
      "  gender = col_character(),\n",
      "  age = col_integer(),\n",
      "  year = col_integer(),\n",
      "  workCountry = col_character(),\n",
      "  isUSA = col_integer(),\n",
      "  isUK = col_integer(),\n",
      "  isCA = col_integer()\n",
      ")\n"
     ]
    }
   ],
   "source": [
    "timeDepFrame = read_csv(\n",
    "                \"../../data/processed/timeDataset_withCountryDummies.csv\")"
   ]
  },
  {
   "cell_type": "markdown",
   "metadata": {},
   "source": [
    "# Initial Modeling"
   ]
  },
  {
   "cell_type": "markdown",
   "metadata": {},
   "source": [
    "Let's start by extracting our old model and studying its effectiveness on our current sample."
   ]
  },
  {
   "cell_type": "markdown",
   "metadata": {},
   "source": [
    "## Old Model"
   ]
  },
  {
   "cell_type": "code",
   "execution_count": 63,
   "metadata": {
    "collapsed": false
   },
   "outputs": [
    {
     "name": "stdout",
     "output_type": "stream",
     "text": [
      "[1] \"diagnosedWithMHD ~ age+factor(gender)+factor(roleType)+factor(isUSA)+age:factor(gender)\"\n"
     ]
    }
   ],
   "source": [
    "oldFormFilename = \"../../models/finalLogisticRegressionFormula.txt\"\n",
    "oldModForm = readChar(oldFormFilename,\n",
    "                      nchars = file.info(oldFormFilename)$size - 1)\n",
    "print(oldModForm)"
   ]
  },
  {
   "cell_type": "markdown",
   "metadata": {},
   "source": [
    "We see one factor that we must unfortunately not consider is ```roleType```, since this feature was not available in the $2014$ data. Thus, we will build this model as a logistic regression without roleType."
   ]
  },
  {
   "cell_type": "code",
   "execution_count": 64,
   "metadata": {
    "collapsed": true
   },
   "outputs": [],
   "source": [
    "oldMod.logr = glm(diagnosedWithMHD ~ age + factor(gender) + factor(isUSA)\n",
    "                                    + age:factor(gender),data = timeDepFrame,\n",
    "                                     family = \"binomial\")"
   ]
  },
  {
   "cell_type": "code",
   "execution_count": 65,
   "metadata": {
    "collapsed": false
   },
   "outputs": [
    {
     "name": "stdout",
     "output_type": "stream",
     "text": [
      "[1] 0.5944838\n",
      "[1] 0.5016772\n"
     ]
    }
   ],
   "source": [
    "#check accuracy\n",
    "predictions = predict(oldMod.logr,type = \"response\")\n",
    "#make decision\n",
    "decRule = 0.5\n",
    "timeDepFrame$predictions = ifelse(predictions > decRule,1,0)\n",
    "#num correct\n",
    "numCorrect = dim(timeDepFrame[which(timeDepFrame$diagnosedWithMHD\n",
    "                                == timeDepFrame$predictions),])[1]\n",
    "propCorrect = numCorrect / dim(timeDepFrame)[1]\n",
    "print(propCorrect)\n",
    "#get proportion diagnosed\n",
    "propDiagnosed = sum(timeDepFrame$diagnosedWithMHD) / dim(timeDepFrame)[1]\n",
    "print(propDiagnosed)"
   ]
  },
  {
   "cell_type": "markdown",
   "metadata": {},
   "source": [
    "We are getting about $59.44\\%$ of our observations correct with this model. Given that this a little under $10\\%$ better than if we just predicted everyone as diagnosed, this is a decent model. This is on-par with the prediction rate of $57\\%$ on our inference set in our [previous analysis](https://github.com/PLBMR/mentalHealthDataAnalysis/blob/master/osmiMentalHealthInTech/analysis/inference.ipynb)."
   ]
  },
  {
   "cell_type": "code",
   "execution_count": 66,
   "metadata": {
    "collapsed": false
   },
   "outputs": [
    {
     "name": "stdout",
     "output_type": "stream",
     "text": [
      "[1] 0.5047847\n",
      "[1] 0.4989503\n"
     ]
    }
   ],
   "source": [
    "#get proportion correct for 2014\n",
    "frame_2014 = timeDepFrame[which(timeDepFrame$year == 2014),]\n",
    "propCorrect_2014 = sum(frame_2014$diagnosedWithMHD) / dim(frame_2014)[1]\n",
    "print(propCorrect_2014)\n",
    "#get proportion correct for 2016\n",
    "frame_2016 = timeDepFrame[which(timeDepFrame$year == 2016),]\n",
    "propCorrect_2016 = sum(frame_2016$diagnosedWithMHD) / dim(frame_2016)[1]\n",
    "print(propCorrect_2016)"
   ]
  },
  {
   "cell_type": "markdown",
   "metadata": {},
   "source": [
    "Our model is performing on par for both the $2014$ and $2016$ data. This suggests to me that it can generalize decently well to $2014$, which in itself suggests that the $2014$ data is not too different than the $2016$ data."
   ]
  },
  {
   "cell_type": "code",
   "execution_count": 67,
   "metadata": {
    "collapsed": false
   },
   "outputs": [
    {
     "data": {
      "text/html": [
       "<table>\n",
       "<thead><tr><th></th><th scope=col>Actual 0</th><th scope=col>Actual 1</th></tr></thead>\n",
       "<tbody>\n",
       "\t<tr><th scope=row>Predict 0</th><td>940</td><td>691</td></tr>\n",
       "\t<tr><th scope=row>Predict 1</th><td>397</td><td>655</td></tr>\n",
       "</tbody>\n",
       "</table>\n"
      ],
      "text/latex": [
       "\\begin{tabular}{r|ll}\n",
       "  & Actual 0 & Actual 1\\\\\n",
       "\\hline\n",
       "\tPredict 0 & 940 & 691\\\\\n",
       "\tPredict 1 & 397 & 655\\\\\n",
       "\\end{tabular}\n"
      ],
      "text/markdown": [
       "\n",
       "| <!--/--> | Actual 0 | Actual 1 | \n",
       "|---|---|\n",
       "| Predict 0 | 940 | 691 | \n",
       "| Predict 1 | 397 | 655 | \n",
       "\n",
       "\n"
      ],
      "text/plain": [
       "          Actual 0 Actual 1\n",
       "Predict 0 940      691     \n",
       "Predict 1 397      655     "
      ]
     },
     "metadata": {},
     "output_type": "display_data"
    }
   ],
   "source": [
    "confusionMat = matrix(0,nrow = 2,ncol = 2)\n",
    "for (i in 1:2){\n",
    "    for (j in 1:2){\n",
    "        #get level associated\n",
    "        confusionMat[i,j] = length(which(timeDepFrame$predictions == i - 1 &\n",
    "                                timeDepFrame$diagnosedWithMHD == j - 1))\n",
    "    }\n",
    "}\n",
    "#name columns\n",
    "rownames(confusionMat) = c(\"Predict 0\",\"Predict 1\")\n",
    "colnames(confusionMat) = c(\"Actual 0\",\"Actual 1\")\n",
    "confusionMat"
   ]
  },
  {
   "cell_type": "markdown",
   "metadata": {},
   "source": [
    "_Table 1: Our Confusion Matrix for this model._\n",
    "\n",
    "We see that we have a much worse false negative rate than false positive rate in numbers. In particular, our false negative rate is $\\frac{691}{691 + 940} \\approx 42.37\\%$ and our false positive rate is $\\frac{397}{397 + 655} \\approx 37.74\\%$. This may suggest that we need to focus on a more lopsided penalty for making our decisions."
   ]
  },
  {
   "cell_type": "code",
   "execution_count": 68,
   "metadata": {
    "collapsed": false
   },
   "outputs": [
    {
     "data": {
      "image/png": "[encoded data removed]",
      "text/plain": [
       "plot without title"
      ]
     },
     "metadata": {},
     "output_type": "display_data"
    }
   ],
   "source": [
    "residVec = residuals(oldMod.logr)\n",
    "predVec = predict(oldMod.logr) #non responses\n",
    "plot(residVec ~ predVec)\n",
    "abline(0,0,col = \"red\")"
   ]
  },
  {
   "cell_type": "markdown",
   "metadata": {},
   "source": [
    "## Old Model with Time Effects"
   ]
  },
  {
   "cell_type": "markdown",
   "metadata": {},
   "source": [
    "We will now consider the same model but allowing for slopes to vary based on time."
   ]
  },
  {
   "cell_type": "code",
   "execution_count": 69,
   "metadata": {
    "collapsed": false
   },
   "outputs": [
    {
     "data": {
      "text/plain": [
       "\n",
       "Call:\n",
       "glm(formula = diagnosedWithMHD ~ age * factor(year) + factor(gender) * \n",
       "    factor(year) + factor(isUSA) * factor(year) + age:factor(gender), \n",
       "    family = \"binomial\", data = timeDepFrame)\n",
       "\n",
       "Deviance Residuals: \n",
       "    Min       1Q   Median       3Q      Max  \n",
       "-1.9896  -1.1073   0.5978   1.1779   1.7022  \n",
       "\n",
       "Coefficients:\n",
       "                                  Estimate Std. Error z value Pr(>|z|)    \n",
       "(Intercept)                      -1.241116   0.276187  -4.494 7.00e-06 ***\n",
       "age                               0.027657   0.008357   3.309 0.000935 ***\n",
       "factor(year)2016                 -0.005217   0.369121  -0.014 0.988724    \n",
       "factor(gender)O                   2.269091   1.125846   2.015 0.043857 *  \n",
       "factor(gender)W                   1.648158   0.410089   4.019 5.84e-05 ***\n",
       "factor(isUSA)1                    0.271904   0.121148   2.244 0.024807 *  \n",
       "age:factor(year)2016             -0.005867   0.010731  -0.547 0.584568    \n",
       "factor(year)2016:factor(gender)O -0.381104   0.782443  -0.487 0.626209    \n",
       "factor(year)2016:factor(gender)W -0.142902   0.206231  -0.693 0.488357    \n",
       "factor(year)2016:factor(isUSA)1   0.215866   0.165131   1.307 0.191132    \n",
       "age:factor(gender)O              -0.014389   0.034273  -0.420 0.674596    \n",
       "age:factor(gender)W              -0.021395   0.012268  -1.744 0.081163 .  \n",
       "---\n",
       "Signif. codes:  0 ‘***’ 0.001 ‘**’ 0.01 ‘*’ 0.05 ‘.’ 0.1 ‘ ’ 1\n",
       "\n",
       "(Dispersion parameter for binomial family taken to be 1)\n",
       "\n",
       "    Null deviance: 3719.4  on 2682  degrees of freedom\n",
       "Residual deviance: 3566.0  on 2671  degrees of freedom\n",
       "AIC: 3590\n",
       "\n",
       "Number of Fisher Scoring iterations: 4\n"
      ]
     },
     "metadata": {},
     "output_type": "display_data"
    }
   ],
   "source": [
    "timeEffectMod.logr = glm(diagnosedWithMHD ~ age*factor(year) + \n",
    "                            factor(gender)*factor(year) +\n",
    "                            factor(isUSA)*factor(year) + age:factor(gender),\n",
    "                            data = timeDepFrame,family = \"binomial\")\n",
    "summary(timeEffectMod.logr)"
   ]
  },
  {
   "cell_type": "code",
   "execution_count": 70,
   "metadata": {
    "collapsed": false
   },
   "outputs": [
    {
     "name": "stdout",
     "output_type": "stream",
     "text": [
      "[1] 0.5944838\n",
      "[1] 0.5016772\n"
     ]
    }
   ],
   "source": [
    "#check accuracy\n",
    "predictions = predict(timeEffectMod.logr,type = \"response\")\n",
    "#make decision\n",
    "decRule = 0.5\n",
    "timeDepFrame$predictions = ifelse(predictions > decRule,1,0)\n",
    "#num correct\n",
    "numCorrect = dim(timeDepFrame[which(timeDepFrame$diagnosedWithMHD\n",
    "                                == timeDepFrame$predictions),])[1]\n",
    "propCorrect = numCorrect / dim(timeDepFrame)[1]\n",
    "print(propCorrect)\n",
    "#get proportion diagnosed\n",
    "propDiagnosed = sum(timeDepFrame$diagnosedWithMHD) / dim(timeDepFrame)[1]\n",
    "print(propDiagnosed)"
   ]
  },
  {
   "cell_type": "markdown",
   "metadata": {},
   "source": [
    "Looks like this model is doing the exact same stuff as the previous model, which may suggest that our time-varying effects could be overfitting."
   ]
  },
  {
   "cell_type": "markdown",
   "metadata": {},
   "source": [
    "## Decision Tree with Time Effects"
   ]
  },
  {
   "cell_type": "markdown",
   "metadata": {},
   "source": [
    "Let us now try to build a decision tree with our effects along with time as a component."
   ]
  },
  {
   "cell_type": "code",
   "execution_count": 71,
   "metadata": {
    "collapsed": false
   },
   "outputs": [],
   "source": [
    "timeMod.tree = tree(diagnosedWithMHD ~ age + factor(gender) + factor(isUSA)\n",
    "                                       + factor(year),data = timeDepFrame)"
   ]
  },
  {
   "cell_type": "code",
   "execution_count": 72,
   "metadata": {
    "collapsed": false
   },
   "outputs": [
    {
     "data": {
      "image/png": "[encoded data removed]",
      "text/plain": [
       "plot without title"
      ]
     },
     "metadata": {},
     "output_type": "display_data"
    }
   ],
   "source": [
    "plot(timeMod.tree)\n",
    "text(timeMod.tree,pretty = TRUE)"
   ]
  },
  {
   "cell_type": "markdown",
   "metadata": {},
   "source": [
    "_Figure 1: Current Decision Tree._\n",
    "\n",
    "It seems like the only factor our current decision tree seems to care about is gender, although nonetheless picks up a relevant gender effect. Let's check its accuracy."
   ]
  },
  {
   "cell_type": "code",
   "execution_count": 73,
   "metadata": {
    "collapsed": false
   },
   "outputs": [
    {
     "name": "stdout",
     "output_type": "stream",
     "text": [
      "[1] 0.5821841\n",
      "[1] 0.5016772\n"
     ]
    }
   ],
   "source": [
    "#check accuracy\n",
    "predictions = predict(timeMod.tree)\n",
    "#make decision\n",
    "decRule = 0.5\n",
    "timeDepFrame$predictions = ifelse(predictions > decRule,1,0)\n",
    "#num correct\n",
    "numCorrect = dim(timeDepFrame[which(timeDepFrame$diagnosedWithMHD\n",
    "                                == timeDepFrame$predictions),])[1]\n",
    "propCorrect = numCorrect / dim(timeDepFrame)[1]\n",
    "print(propCorrect)\n",
    "#get proportion diagnosed\n",
    "propDiagnosed = sum(timeDepFrame$diagnosedWithMHD) / dim(timeDepFrame)[1]\n",
    "print(propDiagnosed)"
   ]
  },
  {
   "cell_type": "markdown",
   "metadata": {},
   "source": [
    "Interestingly, it is performing about as on par with our other models."
   ]
  },
  {
   "cell_type": "markdown",
   "metadata": {},
   "source": [
    "# Model Selection"
   ]
  },
  {
   "cell_type": "markdown",
   "metadata": {
    "collapsed": true
   },
   "source": [
    "We will consider our baseline model up to the time varying effects as well as interactions between our current relevant variables and isUK and isCA (since they have not been explored before). I will also include ```companySize``` as a variable in this context as it is apparent that we do not currently have any employer-relevant variables in our baseline models.\n",
    "\n",
    "We will now perform the data split."
   ]
  },
  {
   "cell_type": "code",
   "execution_count": 74,
   "metadata": {
    "collapsed": true
   },
   "outputs": [],
   "source": [
    "#do test-selection split\n",
    "numObs = dim(timeDepFrame)[1]\n",
    "testRows = sample(1:numObs,round(numObs / 2))"
   ]
  },
  {
   "cell_type": "code",
   "execution_count": 75,
   "metadata": {
    "collapsed": false
   },
   "outputs": [],
   "source": [
    "testFrame = timeDepFrame[testRows,]\n",
    "selectionFrame = timeDepFrame[-testRows,]\n",
    "write.csv(testFrame,\"../../data/processed/test_timeDep.csv\",row.names = FALSE)"
   ]
  },
  {
   "cell_type": "code",
   "execution_count": 76,
   "metadata": {
    "collapsed": false
   },
   "outputs": [],
   "source": [
    "write.csv(selectionFrame,\"../../data/processed/train_timeDep.csv\",\n",
    "          row.names = FALSE)"
   ]
  },
  {
   "cell_type": "markdown",
   "metadata": {},
   "source": [
    "We will perform our selection through a forward-backward stepwise regression procedure. This is mostly because our current search space is rather large, and performing a full cross-validation procedure on the many models to consider might be tenuous on the memory and time available."
   ]
  },
  {
   "cell_type": "code",
   "execution_count": 96,
   "metadata": {
    "collapsed": false
   },
   "outputs": [],
   "source": [
    "lowerMod = paste0(\"diagnosedWithMHD~1\")\n",
    "upperMod = paste0(\"diagnosedWithMHD~age+factor(gender)+factor(isUSA)\",\n",
    "                  \"+age:factor(gender)+factor(year) + factor(companySize)\",\n",
    "                  \"+age:factor(isUK)+factor(gender):factor(isUK)\", #isUK\n",
    "                  \"+factor(year):factor(isUK)+factor(isUK)\",\n",
    "                  \"+age:factor(isCA)+factor(gender):factor(isCA)\", #isCA\n",
    "                  \"+factor(year):factor(isCA)+factor(isCA)\",\n",
    "                  \"+age:factor(year)+factor(gender):factor(year)\", #year\n",
    "                  \"+factor(isUSA):factor(year)\")"
   ]
  },
  {
   "cell_type": "code",
   "execution_count": 97,
   "metadata": {
    "collapsed": true
   },
   "outputs": [],
   "source": [
    "baseMod = glm(lowerMod,data = selectionFrame,family = \"binomial\")\n",
    "upperMod = glm(upperMod,data = selectionFrame,family = \"binomial\")"
   ]
  },
  {
   "cell_type": "code",
   "execution_count": 98,
   "metadata": {
    "collapsed": false,
    "scrolled": true
   },
   "outputs": [
    {
     "name": "stdout",
     "output_type": "stream",
     "text": [
      "Start:  AIC=1860.75\n",
      "diagnosedWithMHD ~ 1\n",
      "\n",
      "                      Df Deviance    AIC\n",
      "+ factor(gender)       2   1805.9 1811.9\n",
      "+ factor(isUSA)        1   1836.0 1840.0\n",
      "+ age                  1   1848.9 1852.9\n",
      "<none>                     1858.8 1860.8\n",
      "+ factor(isUK)         1   1857.6 1861.6\n",
      "+ factor(isCA)         1   1858.5 1862.5\n",
      "+ factor(year)         1   1858.7 1862.7\n",
      "+ factor(companySize)  5   1854.8 1866.8\n",
      "\n",
      "Step:  AIC=1811.87\n",
      "diagnosedWithMHD ~ factor(gender)\n",
      "\n",
      "                      Df Deviance    AIC\n",
      "+ factor(isUSA)        1   1789.8 1797.8\n",
      "+ age                  1   1794.1 1802.1\n",
      "<none>                     1805.9 1811.9\n",
      "+ factor(isUK)         1   1805.2 1813.2\n",
      "+ factor(isCA)         1   1805.3 1813.3\n",
      "+ factor(year)         1   1805.8 1813.8\n",
      "+ factor(companySize)  5   1802.0 1818.0\n",
      "- factor(gender)       2   1858.8 1860.8\n",
      "\n",
      "Step:  AIC=1797.77\n",
      "diagnosedWithMHD ~ factor(gender) + factor(isUSA)\n",
      "\n",
      "                      Df Deviance    AIC\n",
      "+ age                  1   1780.3 1790.3\n",
      "<none>                     1789.8 1797.8\n",
      "+ factor(isUK)         1   1788.2 1798.2\n",
      "+ factor(isCA)         1   1789.6 1799.6\n",
      "+ factor(year)         1   1789.8 1799.8\n",
      "+ factor(companySize)  5   1786.2 1804.2\n",
      "- factor(isUSA)        1   1805.9 1811.9\n",
      "- factor(gender)       2   1836.0 1840.0\n",
      "\n",
      "Step:  AIC=1790.29\n",
      "diagnosedWithMHD ~ factor(gender) + factor(isUSA) + age\n",
      "\n",
      "                      Df Deviance    AIC\n",
      "<none>                     1780.3 1790.3\n",
      "+ factor(isUK)         1   1778.9 1790.9\n",
      "+ factor(isCA)         1   1780.0 1792.0\n",
      "+ factor(year)         1   1780.0 1792.0\n",
      "+ age:factor(gender)   2   1778.5 1792.5\n",
      "- age                  1   1789.8 1797.8\n",
      "+ factor(companySize)  5   1777.9 1797.9\n",
      "- factor(isUSA)        1   1794.1 1802.1\n",
      "- factor(gender)       2   1828.6 1834.6\n"
     ]
    }
   ],
   "source": [
    "selectedMod.logr = step(baseMod,scope = list(lower=baseMod,upper=upperMod),\n",
    "                        data = selectionFrame,direction = \"both\")"
   ]
  },
  {
   "cell_type": "code",
   "execution_count": 93,
   "metadata": {
    "collapsed": false
   },
   "outputs": [
    {
     "data": {
      "text/plain": [
       "diagnosedWithMHD ~ factor(gender) + factor(isUSA) + age\n",
       "<environment: 0x7fc4157dea78>"
      ]
     },
     "metadata": {},
     "output_type": "display_data"
    }
   ],
   "source": [
    "selectedMod.logr$formula"
   ]
  },
  {
   "cell_type": "markdown",
   "metadata": {},
   "source": [
    "We see that our selected model has an extremely simple structure, without any reference to time or the other dummies we considered for our structure."
   ]
  },
  {
   "cell_type": "code",
   "execution_count": 95,
   "metadata": {
    "collapsed": false
   },
   "outputs": [],
   "source": [
    "write(\"diagnosedWithMHD ~ factor(gender) + factor(isUSA) + age\",\n",
    "      file = \"../../models/finalTimeDepLogRFormula.txt\")"
   ]
  },
  {
   "cell_type": "code",
   "execution_count": null,
   "metadata": {
    "collapsed": true
   },
   "outputs": [],
   "source": []
  }
 ],
 "metadata": {
  "kernelspec": {
   "display_name": "R",
   "language": "R",
   "name": "ir"
  },
  "language_info": {
   "codemirror_mode": "r",
   "file_extension": ".r",
   "mimetype": "text/x-r-source",
   "name": "R",
   "pygments_lexer": "r",
   "version": "3.3.3"
  },
  "latex_envs": {
   "bibliofile": "biblio.bib",
   "cite_by": "apalike",
   "current_citInitial": 1,
   "eqLabelWithNumbers": true,
   "eqNumInitial": 0
  },
  "nav_menu": {},
  "toc": {
   "navigate_menu": true,
   "number_sections": false,
   "sideBar": true,
   "threshold": 6,
   "toc_cell": true,
   "toc_section_display": "block",
   "toc_window_display": false
  },
  "toc_position": {
   "height": "551px",
   "left": "0px",
   "right": "auto",
   "top": "106px",
   "width": "212px"
  }
 },
 "nbformat": 4,
 "nbformat_minor": 2
}
