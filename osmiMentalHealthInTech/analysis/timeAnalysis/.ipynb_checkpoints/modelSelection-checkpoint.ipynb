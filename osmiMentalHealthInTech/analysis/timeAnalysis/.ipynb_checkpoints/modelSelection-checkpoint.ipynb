{
 "cells": [
  {
   "cell_type": "markdown",
   "metadata": {
    "toc": "true"
   },
   "source": [
    "# Table of Contents\n",
    " <p><div class=\"lev1 toc-item\"><a href=\"#OSMI-Mental-Health-In-Tech-:-Time-Dependent-Model-Selection\" data-toc-modified-id=\"OSMI-Mental-Health-In-Tech-:-Time-Dependent-Model-Selection-1\"><span class=\"toc-item-num\">1&nbsp;&nbsp;</span>OSMI Mental Health In Tech : Time-Dependent Model Selection</a></div><div class=\"lev1 toc-item\"><a href=\"#Time-Dependent-EDA\" data-toc-modified-id=\"Time-Dependent-EDA-2\"><span class=\"toc-item-num\">2&nbsp;&nbsp;</span>Time-Dependent EDA</a></div><div class=\"lev1 toc-item\"><a href=\"#Initial-Modeling\" data-toc-modified-id=\"Initial-Modeling-3\"><span class=\"toc-item-num\">3&nbsp;&nbsp;</span>Initial Modeling</a></div><div class=\"lev2 toc-item\"><a href=\"#Old-Model\" data-toc-modified-id=\"Old-Model-3.1\"><span class=\"toc-item-num\">3.1&nbsp;&nbsp;</span>Old Model</a></div><div class=\"lev2 toc-item\"><a href=\"#Old-Model-with-Time-Effects\" data-toc-modified-id=\"Old-Model-with-Time-Effects-3.2\"><span class=\"toc-item-num\">3.2&nbsp;&nbsp;</span>Old Model with Time Effects</a></div><div class=\"lev2 toc-item\"><a href=\"#Decision-Tree-with-Time-Effects\" data-toc-modified-id=\"Decision-Tree-with-Time-Effects-3.3\"><span class=\"toc-item-num\">3.3&nbsp;&nbsp;</span>Decision Tree with Time Effects</a></div><div class=\"lev1 toc-item\"><a href=\"#Model-Selection\" data-toc-modified-id=\"Model-Selection-4\"><span class=\"toc-item-num\">4&nbsp;&nbsp;</span>Model Selection</a></div>"
   ]
  },
  {
   "cell_type": "markdown",
   "metadata": {},
   "source": [
    "# OSMI Mental Health In Tech : Time-Dependent Model Selection\n",
    "\n",
    "_By [Michael Rosenberg](mailto:mmrosenb@andrew.cmu.edu)._\n",
    "\n",
    "_**Description**: Contains my model selection for our model with time-varying effects._\n",
    "\n",
    "_Last Updated: 5/1/2017 3:59 PM._"
   ]
  },
  {
   "cell_type": "code",
   "execution_count": 2,
   "metadata": {
    "collapsed": false
   },
   "outputs": [],
   "source": [
    "#imports\n",
    "\n",
    "library(readr)\n",
    "library(dplyr)\n",
    "library(ggplot2)\n",
    "\n",
    "#constants\n",
    "\n",
    "sigLev = 3"
   ]
  },
  {
   "cell_type": "markdown",
   "metadata": {},
   "source": [
    "# Time-Dependent EDA"
   ]
  },
  {
   "cell_type": "code",
   "execution_count": null,
   "metadata": {
    "collapsed": true
   },
   "outputs": [],
   "source": [
    "We"
   ]
  },
  {
   "cell_type": "markdown",
   "metadata": {},
   "source": [
    "# Initial Modeling"
   ]
  },
  {
   "cell_type": "markdown",
   "metadata": {},
   "source": [
    "## Old Model"
   ]
  },
  {
   "cell_type": "markdown",
   "metadata": {},
   "source": [
    "## Old Model with Time Effects"
   ]
  },
  {
   "cell_type": "markdown",
   "metadata": {},
   "source": [
    "## Decision Tree with Time Effects"
   ]
  },
  {
   "cell_type": "markdown",
   "metadata": {},
   "source": [
    "# Model Selection"
   ]
  },
  {
   "cell_type": "code",
   "execution_count": null,
   "metadata": {
    "collapsed": true
   },
   "outputs": [],
   "source": []
  }
 ],
 "metadata": {
  "kernelspec": {
   "display_name": "R",
   "language": "R",
   "name": "ir"
  },
  "language_info": {
   "codemirror_mode": "r",
   "file_extension": ".r",
   "mimetype": "text/x-r-source",
   "name": "R",
   "pygments_lexer": "r",
   "version": "3.3.3"
  },
  "latex_envs": {
   "bibliofile": "biblio.bib",
   "cite_by": "apalike",
   "current_citInitial": 1,
   "eqLabelWithNumbers": true,
   "eqNumInitial": 0
  },
  "nav_menu": {},
  "toc": {
   "navigate_menu": true,
   "number_sections": false,
   "sideBar": true,
   "threshold": 6,
   "toc_cell": true,
   "toc_section_display": "block",
   "toc_window_display": true
  },
  "toc_position": {
   "height": "551px",
   "left": "0px",
   "right": "auto",
   "top": "106px",
   "width": "212px"
  }
 },
 "nbformat": 4,
 "nbformat_minor": 2
}
