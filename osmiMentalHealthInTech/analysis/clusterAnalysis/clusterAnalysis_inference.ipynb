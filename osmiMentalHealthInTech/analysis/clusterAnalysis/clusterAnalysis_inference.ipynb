{
 "cells": [
  {
   "cell_type": "markdown",
   "metadata": {
    "toc": "true"
   },
   "source": [
    "# Table of Contents\n",
    " <p><div class=\"lev1 toc-item\"><a href=\"#OSMI-Mental-Health-In-Tech-Survey-2016-:-Inference-on-Cluster-Analysis\" data-toc-modified-id=\"OSMI-Mental-Health-In-Tech-Survey-2016-:-Inference-on-Cluster-Analysis-1\"><span class=\"toc-item-num\">1&nbsp;&nbsp;</span>OSMI Mental Health In Tech Survey 2016 : Inference on Cluster Analysis</a></div><div class=\"lev1 toc-item\"><a href=\"#Recap\" data-toc-modified-id=\"Recap-2\"><span class=\"toc-item-num\">2&nbsp;&nbsp;</span>Recap</a></div><div class=\"lev1 toc-item\"><a href=\"#Model-Study\" data-toc-modified-id=\"Model-Study-3\"><span class=\"toc-item-num\">3&nbsp;&nbsp;</span>Model Study</a></div><div class=\"lev2 toc-item\"><a href=\"#Class-Descriptions\" data-toc-modified-id=\"Class-Descriptions-3.1\"><span class=\"toc-item-num\">3.1&nbsp;&nbsp;</span>Class Descriptions</a></div><div class=\"lev1 toc-item\"><a href=\"#Relationship-of-Clusters-with-Demographics\" data-toc-modified-id=\"Relationship-of-Clusters-with-Demographics-4\"><span class=\"toc-item-num\">4&nbsp;&nbsp;</span>Relationship of Clusters with Demographics</a></div><div class=\"lev2 toc-item\"><a href=\"#Simple-Modeling\" data-toc-modified-id=\"Simple-Modeling-4.1\"><span class=\"toc-item-num\">4.1&nbsp;&nbsp;</span>Simple Modeling</a></div><div class=\"lev2 toc-item\"><a href=\"#Inference-and-Preditions\" data-toc-modified-id=\"Inference-and-Preditions-4.2\"><span class=\"toc-item-num\">4.2&nbsp;&nbsp;</span>Inference and Preditions</a></div><div class=\"lev3 toc-item\"><a href=\"#Location-Effect\" data-toc-modified-id=\"Location-Effect-4.2.1\"><span class=\"toc-item-num\">4.2.1&nbsp;&nbsp;</span>Location Effect</a></div><div class=\"lev3 toc-item\"><a href=\"#Age-and-Diagnosis-Effect\" data-toc-modified-id=\"Age-and-Diagnosis-Effect-4.2.2\"><span class=\"toc-item-num\">4.2.2&nbsp;&nbsp;</span>Age and Diagnosis Effect</a></div><div class=\"lev3 toc-item\"><a href=\"#Company-Size\" data-toc-modified-id=\"Company-Size-4.2.3\"><span class=\"toc-item-num\">4.2.3&nbsp;&nbsp;</span>Company Size</a></div><div class=\"lev3 toc-item\"><a href=\"#Gender\" data-toc-modified-id=\"Gender-4.2.4\"><span class=\"toc-item-num\">4.2.4&nbsp;&nbsp;</span>Gender</a></div><div class=\"lev3 toc-item\"><a href=\"#Point-Predictions\" data-toc-modified-id=\"Point-Predictions-4.2.5\"><span class=\"toc-item-num\">4.2.5&nbsp;&nbsp;</span>Point Predictions</a></div>"
   ]
  },
  {
   "cell_type": "markdown",
   "metadata": {},
   "source": [
    "# OSMI Mental Health In Tech Survey 2016 : Inference on Cluster Analysis\n",
    "\n",
    "_By [Michael Rosenberg](mmrosenb@andrew.cmu.edu)._"
   ]
  },
  {
   "cell_type": "code",
   "execution_count": 2,
   "metadata": {
    "collapsed": false
   },
   "outputs": [],
   "source": [
    "#imports\n",
    "library(poLCA)\n",
    "library(nnet)\n",
    "library(tree)\n",
    "\n",
    "#constants\n",
    "sigLev = 3\n",
    "percentMul = 100\n",
    "options(warn=-1)"
   ]
  },
  {
   "cell_type": "code",
   "execution_count": 3,
   "metadata": {
    "collapsed": true
   },
   "outputs": [],
   "source": [
    "#load in data\n",
    "inferenceFrame = read.csv(\"../../data/processed/clusterData_inference.csv\")\n",
    "finalMod.lcm = readRDS(\"../../models/finalClusterModel.rds\")"
   ]
  },
  {
   "cell_type": "markdown",
   "metadata": {},
   "source": [
    "# Recap"
   ]
  },
  {
   "cell_type": "markdown",
   "metadata": {},
   "source": [
    "In our [previous step](clusterAnalysis_modelSelection.ipynb),  we selected our final cluster model using a $5$-fold cross-validation procedure on log-likelihood. This left us with a latent class model with $3$ classes over several variables that define perception of mental health support in the workplace."
   ]
  },
  {
   "cell_type": "markdown",
   "metadata": {},
   "source": [
    "# Model Study"
   ]
  },
  {
   "cell_type": "code",
   "execution_count": 4,
   "metadata": {
    "collapsed": false
   },
   "outputs": [
    {
     "data": {
      "text/html": [
       "<table>\n",
       "<thead><tr><th scope=col>class</th><th scope=col>prior</th></tr></thead>\n",
       "<tbody>\n",
       "\t<tr><td>Class 1</td><td>0.261  </td></tr>\n",
       "\t<tr><td>Class 2</td><td>0.243  </td></tr>\n",
       "\t<tr><td>Class 3</td><td>0.496  </td></tr>\n",
       "</tbody>\n",
       "</table>\n"
      ],
      "text/latex": [
       "\\begin{tabular}{r|ll}\n",
       " class & prior\\\\\n",
       "\\hline\n",
       "\t Class 1 & 0.261  \\\\\n",
       "\t Class 2 & 0.243  \\\\\n",
       "\t Class 3 & 0.496  \\\\\n",
       "\\end{tabular}\n"
      ],
      "text/markdown": [
       "\n",
       "class | prior | \n",
       "|---|---|---|\n",
       "| Class 1 | 0.261   | \n",
       "| Class 2 | 0.243   | \n",
       "| Class 3 | 0.496   | \n",
       "\n",
       "\n"
      ],
      "text/plain": [
       "  class   prior\n",
       "1 Class 1 0.261\n",
       "2 Class 2 0.243\n",
       "3 Class 3 0.496"
      ]
     },
     "metadata": {},
     "output_type": "display_data"
    }
   ],
   "source": [
    "priorFrame = data.frame(class = c(\"Class 1\",\"Class 2\",\"Class 3\"),\n",
    "                        prior = signif(finalMod.lcm$P,sigLev))\n",
    "priorFrame"
   ]
  },
  {
   "cell_type": "markdown",
   "metadata": {},
   "source": [
    "_Table 1: Our prior distribution over our classes._\n",
    "\n",
    "We see that Class $3$ is more frequent than the other two, and Class $2$ is the least frequent of the three in our estimates. That being said, these classes are rather close together in prior, which suggests that we have relatively balanced classes."
   ]
  },
  {
   "cell_type": "code",
   "execution_count": 7,
   "metadata": {
    "collapsed": false
   },
   "outputs": [],
   "source": [
    "displayTable <- function(givenMod,varName){\n",
    "    #helper for producing table\n",
    "    #first, get discrete encoding\n",
    "    dEncodeFilename = paste0(\"../../data/preprocessed/discreteEncodings/\",\n",
    "                             varName,\".csv\")\n",
    "    dEncodeFrame = read.csv(dEncodeFilename)\n",
    "    #get levels\n",
    "    dEncodeLevels = dEncodeFrame$level\n",
    "    givenModTable = givenMod$probs[[varName]]\n",
    "    givenModTable = signif(givenModTable,sigLev)\n",
    "    colnames(givenModTable) = dEncodeLevels\n",
    "    #then export\n",
    "    return(givenModTable)\n",
    "}"
   ]
  },
  {
   "cell_type": "code",
   "execution_count": 8,
   "metadata": {
    "collapsed": false
   },
   "outputs": [
    {
     "data": {
      "text/html": [
       "<dl>\n",
       "\t<dt>$empPrimTech</dt>\n",
       "\t\t<dd><table>\n",
       "<thead><tr><th></th><th scope=col>Pr(1)</th><th scope=col>Pr(2)</th></tr></thead>\n",
       "<tbody>\n",
       "\t<tr><th scope=row>class 1: </th><td>0.8124234</td><td>0.1875766</td></tr>\n",
       "\t<tr><th scope=row>class 2: </th><td>0.7408225</td><td>0.2591775</td></tr>\n",
       "\t<tr><th scope=row>class 3: </th><td>0.7190431</td><td>0.2809569</td></tr>\n",
       "</tbody>\n",
       "</table>\n",
       "</dd>\n",
       "\t<dt>$empProvideMHB</dt>\n",
       "\t\t<dd><table>\n",
       "<thead><tr><th></th><th scope=col>Pr(1)</th><th scope=col>Pr(2)</th><th scope=col>Pr(3)</th><th scope=col>Pr(4)</th></tr></thead>\n",
       "<tbody>\n",
       "\t<tr><th scope=row>class 1: </th><td>0.137599956</td><td>0.27236251 </td><td>0.1170898  </td><td>0.4729477  </td></tr>\n",
       "\t<tr><th scope=row>class 2: </th><td>0.006397177</td><td>0.01619933 </td><td>0.8529976  </td><td>0.1244059  </td></tr>\n",
       "\t<tr><th scope=row>class 3: </th><td>0.061740091</td><td>0.25700101 </td><td>0.4349935  </td><td>0.2462654  </td></tr>\n",
       "</tbody>\n",
       "</table>\n",
       "</dd>\n",
       "\t<dt>$knowMHB</dt>\n",
       "\t\t<dd><table>\n",
       "<thead><tr><th></th><th scope=col>Pr(1)</th><th scope=col>Pr(2)</th><th scope=col>Pr(3)</th><th scope=col>Pr(4)</th></tr></thead>\n",
       "<tbody>\n",
       "\t<tr><th scope=row>class 1: </th><td>2.277479e-01</td><td>0.01003213  </td><td>0.3939088   </td><td>0.3683111   </td></tr>\n",
       "\t<tr><th scope=row>class 2: </th><td>1.627407e-27</td><td>0.57900669  </td><td>0.2904521   </td><td>0.1305412   </td></tr>\n",
       "\t<tr><th scope=row>class 3: </th><td>1.054428e-01</td><td>0.24914881  </td><td>0.2697361   </td><td>0.3756722   </td></tr>\n",
       "</tbody>\n",
       "</table>\n",
       "</dd>\n",
       "\t<dt>$empDiscMH</dt>\n",
       "\t\t<dd><table>\n",
       "<thead><tr><th></th><th scope=col>Pr(1)</th><th scope=col>Pr(2)</th><th scope=col>Pr(3)</th></tr></thead>\n",
       "<tbody>\n",
       "\t<tr><th scope=row>class 1: </th><td>0.8053862 </td><td>0.1231868 </td><td>0.07142699</td></tr>\n",
       "\t<tr><th scope=row>class 2: </th><td>0.3984846 </td><td>0.4881748 </td><td>0.11334059</td></tr>\n",
       "\t<tr><th scope=row>class 3: </th><td>0.8307802 </td><td>0.1075336 </td><td>0.06168621</td></tr>\n",
       "</tbody>\n",
       "</table>\n",
       "</dd>\n",
       "\t<dt>$empResourceMH</dt>\n",
       "\t\t<dd><table>\n",
       "<thead><tr><th></th><th scope=col>Pr(1)</th><th scope=col>Pr(2)</th><th scope=col>Pr(3)</th></tr></thead>\n",
       "<tbody>\n",
       "\t<tr><th scope=row>class 1: </th><td>0.6012790 </td><td>0.07016766</td><td>0.3285533 </td></tr>\n",
       "\t<tr><th scope=row>class 2: </th><td>0.1504265 </td><td>0.64891991</td><td>0.2006536 </td></tr>\n",
       "\t<tr><th scope=row>class 3: </th><td>0.5882460 </td><td>0.19029178</td><td>0.2214622 </td></tr>\n",
       "</tbody>\n",
       "</table>\n",
       "</dd>\n",
       "\t<dt>$anonProtected</dt>\n",
       "\t\t<dd><table>\n",
       "<thead><tr><th></th><th scope=col>Pr(1)</th><th scope=col>Pr(2)</th><th scope=col>Pr(3)</th></tr></thead>\n",
       "<tbody>\n",
       "\t<tr><th scope=row>class 1: </th><td>0.7786754 </td><td>0.1788641 </td><td>0.04246049</td></tr>\n",
       "\t<tr><th scope=row>class 2: </th><td>0.3110094 </td><td>0.6659312 </td><td>0.02305946</td></tr>\n",
       "\t<tr><th scope=row>class 3: </th><td>0.7504954 </td><td>0.1494349 </td><td>0.10006971</td></tr>\n",
       "</tbody>\n",
       "</table>\n",
       "</dd>\n",
       "\t<dt>$askLeaveDiff</dt>\n",
       "\t\t<dd><table>\n",
       "<thead><tr><th></th><th scope=col>Pr(1)</th><th scope=col>Pr(2)</th><th scope=col>Pr(3)</th><th scope=col>Pr(4)</th><th scope=col>Pr(5)</th><th scope=col>Pr(6)</th></tr></thead>\n",
       "<tbody>\n",
       "\t<tr><th scope=row>class 1: </th><td>0.27687177   </td><td>0.3879777    </td><td>0.1383576    </td><td> 1.788120e-02</td><td>0.10009872   </td><td>0.07881300   </td></tr>\n",
       "\t<tr><th scope=row>class 2: </th><td>0.39325369   </td><td>0.2884181    </td><td>0.1584343    </td><td>6.647788e-180</td><td>0.08054412   </td><td>0.07934973   </td></tr>\n",
       "\t<tr><th scope=row>class 3: </th><td>0.05216687   </td><td>0.1366346    </td><td>0.1345694    </td><td> 2.157759e-01</td><td>0.27027756   </td><td>0.19057571   </td></tr>\n",
       "</tbody>\n",
       "</table>\n",
       "</dd>\n",
       "\t<dt>$negConsDiscMH</dt>\n",
       "\t\t<dd><table>\n",
       "<thead><tr><th></th><th scope=col>Pr(1)</th><th scope=col>Pr(2)</th><th scope=col>Pr(3)</th></tr></thead>\n",
       "<tbody>\n",
       "\t<tr><th scope=row>class 1: </th><td>0.70533212 </td><td>0.2892533  </td><td>0.005414622</td></tr>\n",
       "\t<tr><th scope=row>class 2: </th><td>0.73671851 </td><td>0.2526538  </td><td>0.010627724</td></tr>\n",
       "\t<tr><th scope=row>class 3: </th><td>0.04553253 </td><td>0.5543924  </td><td>0.400075095</td></tr>\n",
       "</tbody>\n",
       "</table>\n",
       "</dd>\n",
       "\t<dt>$negConsDiscPH</dt>\n",
       "\t\t<dd><table>\n",
       "<thead><tr><th></th><th scope=col>Pr(1)</th><th scope=col>Pr(2)</th><th scope=col>Pr(3)</th></tr></thead>\n",
       "<tbody>\n",
       "\t<tr><th scope=row>class 1: </th><td>0.9215233    </td><td>0.07847673   </td><td>3.530138e-315</td></tr>\n",
       "\t<tr><th scope=row>class 2: </th><td>0.9026902    </td><td>0.09730979   </td><td>1.944257e-155</td></tr>\n",
       "\t<tr><th scope=row>class 3: </th><td>0.5471378    </td><td>0.37545772   </td><td> 7.740445e-02</td></tr>\n",
       "</tbody>\n",
       "</table>\n",
       "</dd>\n",
       "\t<dt>$coworkComfMHD</dt>\n",
       "\t\t<dd><table>\n",
       "<thead><tr><th></th><th scope=col>Pr(1)</th><th scope=col>Pr(2)</th><th scope=col>Pr(3)</th></tr></thead>\n",
       "<tbody>\n",
       "\t<tr><th scope=row>class 1: </th><td>0.4978732 </td><td>0.33582547</td><td>0.16630134</td></tr>\n",
       "\t<tr><th scope=row>class 2: </th><td>0.5441259 </td><td>0.40399322</td><td>0.05188091</td></tr>\n",
       "\t<tr><th scope=row>class 3: </th><td>0.3686539 </td><td>0.06164653</td><td>0.56969956</td></tr>\n",
       "</tbody>\n",
       "</table>\n",
       "</dd>\n",
       "\t<dt>$superComfMHD</dt>\n",
       "\t\t<dd><table>\n",
       "<thead><tr><th></th><th scope=col>Pr(1)</th><th scope=col>Pr(2)</th><th scope=col>Pr(3)</th></tr></thead>\n",
       "<tbody>\n",
       "\t<tr><th scope=row>class 1: </th><td>0.50778733</td><td>0.3828914 </td><td>0.10932125</td></tr>\n",
       "\t<tr><th scope=row>class 2: </th><td>0.77697766</td><td>0.1989115 </td><td>0.02411089</td></tr>\n",
       "\t<tr><th scope=row>class 3: </th><td>0.09094612</td><td>0.3837420 </td><td>0.52531184</td></tr>\n",
       "</tbody>\n",
       "</table>\n",
       "</dd>\n",
       "\t<dt>$empSeriousMH</dt>\n",
       "\t\t<dd><table>\n",
       "<thead><tr><th></th><th scope=col>Pr(1)</th><th scope=col>Pr(2)</th><th scope=col>Pr(3)</th></tr></thead>\n",
       "<tbody>\n",
       "\t<tr><th scope=row>class 1: </th><td>0.5520919 </td><td>0.38051412</td><td>0.06739402</td></tr>\n",
       "\t<tr><th scope=row>class 2: </th><td>0.2703309 </td><td>0.61245603</td><td>0.11721306</td></tr>\n",
       "\t<tr><th scope=row>class 3: </th><td>0.4673558 </td><td>0.09778775</td><td>0.43485647</td></tr>\n",
       "</tbody>\n",
       "</table>\n",
       "</dd>\n",
       "\t<dt>$heardNegConsMH</dt>\n",
       "\t\t<dd><table>\n",
       "<thead><tr><th></th><th scope=col>Pr(1)</th><th scope=col>Pr(2)</th></tr></thead>\n",
       "<tbody>\n",
       "\t<tr><th scope=row>class 1: </th><td>0.9816071 </td><td>0.01839289</td></tr>\n",
       "\t<tr><th scope=row>class 2: </th><td>0.9232305 </td><td>0.07676953</td></tr>\n",
       "\t<tr><th scope=row>class 3: </th><td>0.8678726 </td><td>0.13212743</td></tr>\n",
       "</tbody>\n",
       "</table>\n",
       "</dd>\n",
       "\t<dt>$discInterviewPH</dt>\n",
       "\t\t<dd><table>\n",
       "<thead><tr><th></th><th scope=col>Pr(1)</th><th scope=col>Pr(2)</th><th scope=col>Pr(3)</th></tr></thead>\n",
       "<tbody>\n",
       "\t<tr><th scope=row>class 1: </th><td>0.4724304</td><td>0.3256280</td><td>0.2019416</td></tr>\n",
       "\t<tr><th scope=row>class 2: </th><td>0.4632876</td><td>0.2714843</td><td>0.2652281</td></tr>\n",
       "\t<tr><th scope=row>class 3: </th><td>0.4181469</td><td>0.1460509</td><td>0.4358021</td></tr>\n",
       "</tbody>\n",
       "</table>\n",
       "</dd>\n",
       "\t<dt>$discInterviewMH</dt>\n",
       "\t\t<dd><table>\n",
       "<thead><tr><th></th><th scope=col>Pr(1)</th><th scope=col>Pr(2)</th><th scope=col>Pr(3)</th></tr></thead>\n",
       "<tbody>\n",
       "\t<tr><th scope=row>class 1: </th><td>0.4158799</td><td>0.4120813</td><td>0.1720387</td></tr>\n",
       "\t<tr><th scope=row>class 2: </th><td>0.4036841</td><td>0.4687804</td><td>0.1275354</td></tr>\n",
       "\t<tr><th scope=row>class 3: </th><td>0.1604465</td><td>0.8236481</td><td>0.0159054</td></tr>\n",
       "</tbody>\n",
       "</table>\n",
       "</dd>\n",
       "\t<dt>$hurtCareerMH</dt>\n",
       "\t\t<dd><table>\n",
       "<thead><tr><th></th><th scope=col>Pr(1)</th><th scope=col>Pr(2)</th><th scope=col>Pr(3)</th><th scope=col>Pr(4)</th><th scope=col>Pr(5)</th></tr></thead>\n",
       "<tbody>\n",
       "\t<tr><th scope=row>class 1: </th><td>0.6177374    </td><td>1.862764e-01 </td><td>0.1386734    </td><td> 5.046645e-03</td><td>0.05226621   </td></tr>\n",
       "\t<tr><th scope=row>class 2: </th><td>0.5403127    </td><td>2.308199e-01 </td><td>0.1295224    </td><td> 7.352377e-02</td><td>0.02582125   </td></tr>\n",
       "\t<tr><th scope=row>class 3: </th><td>0.2476949    </td><td>7.750472e-30 </td><td>0.6411528    </td><td>7.553692e-129</td><td>0.11115235   </td></tr>\n",
       "</tbody>\n",
       "</table>\n",
       "</dd>\n",
       "\t<dt>$teamNegMH</dt>\n",
       "\t\t<dd><table>\n",
       "<thead><tr><th></th><th scope=col>Pr(1)</th><th scope=col>Pr(2)</th><th scope=col>Pr(3)</th><th scope=col>Pr(4)</th><th scope=col>Pr(5)</th></tr></thead>\n",
       "<tbody>\n",
       "\t<tr><th scope=row>class 1: </th><td>0.49362953   </td><td>0.4346197    </td><td> 1.702162e-02</td><td>0.02383587   </td><td>0.030893243  </td></tr>\n",
       "\t<tr><th scope=row>class 2: </th><td>0.49060362   </td><td>0.3776139    </td><td>5.308491e-197</td><td>0.03651502   </td><td>0.095267503  </td></tr>\n",
       "\t<tr><th scope=row>class 3: </th><td>0.08047257   </td><td>0.3709614    </td><td> 4.382699e-02</td><td>0.50084128   </td><td>0.003897701  </td></tr>\n",
       "</tbody>\n",
       "</table>\n",
       "</dd>\n",
       "\t<dt>$observeBadResponseMH</dt>\n",
       "\t\t<dd><table>\n",
       "<thead><tr><th></th><th scope=col>Pr(1)</th><th scope=col>Pr(2)</th><th scope=col>Pr(3)</th><th scope=col>Pr(4)</th><th scope=col>Pr(5)</th></tr></thead>\n",
       "<tbody>\n",
       "\t<tr><th scope=row>class 1: </th><td>0.6392301 </td><td>0.1649598 </td><td>0.05463351</td><td>0.04725266</td><td>0.09392392</td></tr>\n",
       "\t<tr><th scope=row>class 2: </th><td>0.4970242 </td><td>0.2431676 </td><td>0.10117589</td><td>0.12692648</td><td>0.03170586</td></tr>\n",
       "\t<tr><th scope=row>class 3: </th><td>0.3174326 </td><td>0.2725498 </td><td>0.15740227</td><td>0.21550625</td><td>0.03710905</td></tr>\n",
       "</tbody>\n",
       "</table>\n",
       "</dd>\n",
       "</dl>\n"
      ],
      "text/latex": [
       "\\begin{description}\n",
       "\\item[\\$empPrimTech] \\begin{tabular}{r|ll}\n",
       "  & Pr(1) & Pr(2)\\\\\n",
       "\\hline\n",
       "\tclass 1:  & 0.8124234 & 0.1875766\\\\\n",
       "\tclass 2:  & 0.7408225 & 0.2591775\\\\\n",
       "\tclass 3:  & 0.7190431 & 0.2809569\\\\\n",
       "\\end{tabular}\n",
       "\n",
       "\\item[\\$empProvideMHB] \\begin{tabular}{r|llll}\n",
       "  & Pr(1) & Pr(2) & Pr(3) & Pr(4)\\\\\n",
       "\\hline\n",
       "\tclass 1:  & 0.137599956 & 0.27236251  & 0.1170898   & 0.4729477  \\\\\n",
       "\tclass 2:  & 0.006397177 & 0.01619933  & 0.8529976   & 0.1244059  \\\\\n",
       "\tclass 3:  & 0.061740091 & 0.25700101  & 0.4349935   & 0.2462654  \\\\\n",
       "\\end{tabular}\n",
       "\n",
       "\\item[\\$knowMHB] \\begin{tabular}{r|llll}\n",
       "  & Pr(1) & Pr(2) & Pr(3) & Pr(4)\\\\\n",
       "\\hline\n",
       "\tclass 1:  & 2.277479e-01 & 0.01003213   & 0.3939088    & 0.3683111   \\\\\n",
       "\tclass 2:  & 1.627407e-27 & 0.57900669   & 0.2904521    & 0.1305412   \\\\\n",
       "\tclass 3:  & 1.054428e-01 & 0.24914881   & 0.2697361    & 0.3756722   \\\\\n",
       "\\end{tabular}\n",
       "\n",
       "\\item[\\$empDiscMH] \\begin{tabular}{r|lll}\n",
       "  & Pr(1) & Pr(2) & Pr(3)\\\\\n",
       "\\hline\n",
       "\tclass 1:  & 0.8053862  & 0.1231868  & 0.07142699\\\\\n",
       "\tclass 2:  & 0.3984846  & 0.4881748  & 0.11334059\\\\\n",
       "\tclass 3:  & 0.8307802  & 0.1075336  & 0.06168621\\\\\n",
       "\\end{tabular}\n",
       "\n",
       "\\item[\\$empResourceMH] \\begin{tabular}{r|lll}\n",
       "  & Pr(1) & Pr(2) & Pr(3)\\\\\n",
       "\\hline\n",
       "\tclass 1:  & 0.6012790  & 0.07016766 & 0.3285533 \\\\\n",
       "\tclass 2:  & 0.1504265  & 0.64891991 & 0.2006536 \\\\\n",
       "\tclass 3:  & 0.5882460  & 0.19029178 & 0.2214622 \\\\\n",
       "\\end{tabular}\n",
       "\n",
       "\\item[\\$anonProtected] \\begin{tabular}{r|lll}\n",
       "  & Pr(1) & Pr(2) & Pr(3)\\\\\n",
       "\\hline\n",
       "\tclass 1:  & 0.7786754  & 0.1788641  & 0.04246049\\\\\n",
       "\tclass 2:  & 0.3110094  & 0.6659312  & 0.02305946\\\\\n",
       "\tclass 3:  & 0.7504954  & 0.1494349  & 0.10006971\\\\\n",
       "\\end{tabular}\n",
       "\n",
       "\\item[\\$askLeaveDiff] \\begin{tabular}{r|llllll}\n",
       "  & Pr(1) & Pr(2) & Pr(3) & Pr(4) & Pr(5) & Pr(6)\\\\\n",
       "\\hline\n",
       "\tclass 1:  & 0.27687177    & 0.3879777     & 0.1383576     &  1.788120e-02 & 0.10009872    & 0.07881300   \\\\\n",
       "\tclass 2:  & 0.39325369    & 0.2884181     & 0.1584343     & 6.647788e-180 & 0.08054412    & 0.07934973   \\\\\n",
       "\tclass 3:  & 0.05216687    & 0.1366346     & 0.1345694     &  2.157759e-01 & 0.27027756    & 0.19057571   \\\\\n",
       "\\end{tabular}\n",
       "\n",
       "\\item[\\$negConsDiscMH] \\begin{tabular}{r|lll}\n",
       "  & Pr(1) & Pr(2) & Pr(3)\\\\\n",
       "\\hline\n",
       "\tclass 1:  & 0.70533212  & 0.2892533   & 0.005414622\\\\\n",
       "\tclass 2:  & 0.73671851  & 0.2526538   & 0.010627724\\\\\n",
       "\tclass 3:  & 0.04553253  & 0.5543924   & 0.400075095\\\\\n",
       "\\end{tabular}\n",
       "\n",
       "\\item[\\$negConsDiscPH] \\begin{tabular}{r|lll}\n",
       "  & Pr(1) & Pr(2) & Pr(3)\\\\\n",
       "\\hline\n",
       "\tclass 1:  & 0.9215233     & 0.07847673    & 3.530138e-315\\\\\n",
       "\tclass 2:  & 0.9026902     & 0.09730979    & 1.944257e-155\\\\\n",
       "\tclass 3:  & 0.5471378     & 0.37545772    &  7.740445e-02\\\\\n",
       "\\end{tabular}\n",
       "\n",
       "\\item[\\$coworkComfMHD] \\begin{tabular}{r|lll}\n",
       "  & Pr(1) & Pr(2) & Pr(3)\\\\\n",
       "\\hline\n",
       "\tclass 1:  & 0.4978732  & 0.33582547 & 0.16630134\\\\\n",
       "\tclass 2:  & 0.5441259  & 0.40399322 & 0.05188091\\\\\n",
       "\tclass 3:  & 0.3686539  & 0.06164653 & 0.56969956\\\\\n",
       "\\end{tabular}\n",
       "\n",
       "\\item[\\$superComfMHD] \\begin{tabular}{r|lll}\n",
       "  & Pr(1) & Pr(2) & Pr(3)\\\\\n",
       "\\hline\n",
       "\tclass 1:  & 0.50778733 & 0.3828914  & 0.10932125\\\\\n",
       "\tclass 2:  & 0.77697766 & 0.1989115  & 0.02411089\\\\\n",
       "\tclass 3:  & 0.09094612 & 0.3837420  & 0.52531184\\\\\n",
       "\\end{tabular}\n",
       "\n",
       "\\item[\\$empSeriousMH] \\begin{tabular}{r|lll}\n",
       "  & Pr(1) & Pr(2) & Pr(3)\\\\\n",
       "\\hline\n",
       "\tclass 1:  & 0.5520919  & 0.38051412 & 0.06739402\\\\\n",
       "\tclass 2:  & 0.2703309  & 0.61245603 & 0.11721306\\\\\n",
       "\tclass 3:  & 0.4673558  & 0.09778775 & 0.43485647\\\\\n",
       "\\end{tabular}\n",
       "\n",
       "\\item[\\$heardNegConsMH] \\begin{tabular}{r|ll}\n",
       "  & Pr(1) & Pr(2)\\\\\n",
       "\\hline\n",
       "\tclass 1:  & 0.9816071  & 0.01839289\\\\\n",
       "\tclass 2:  & 0.9232305  & 0.07676953\\\\\n",
       "\tclass 3:  & 0.8678726  & 0.13212743\\\\\n",
       "\\end{tabular}\n",
       "\n",
       "\\item[\\$discInterviewPH] \\begin{tabular}{r|lll}\n",
       "  & Pr(1) & Pr(2) & Pr(3)\\\\\n",
       "\\hline\n",
       "\tclass 1:  & 0.4724304 & 0.3256280 & 0.2019416\\\\\n",
       "\tclass 2:  & 0.4632876 & 0.2714843 & 0.2652281\\\\\n",
       "\tclass 3:  & 0.4181469 & 0.1460509 & 0.4358021\\\\\n",
       "\\end{tabular}\n",
       "\n",
       "\\item[\\$discInterviewMH] \\begin{tabular}{r|lll}\n",
       "  & Pr(1) & Pr(2) & Pr(3)\\\\\n",
       "\\hline\n",
       "\tclass 1:  & 0.4158799 & 0.4120813 & 0.1720387\\\\\n",
       "\tclass 2:  & 0.4036841 & 0.4687804 & 0.1275354\\\\\n",
       "\tclass 3:  & 0.1604465 & 0.8236481 & 0.0159054\\\\\n",
       "\\end{tabular}\n",
       "\n",
       "\\item[\\$hurtCareerMH] \\begin{tabular}{r|lllll}\n",
       "  & Pr(1) & Pr(2) & Pr(3) & Pr(4) & Pr(5)\\\\\n",
       "\\hline\n",
       "\tclass 1:  & 0.6177374     & 1.862764e-01  & 0.1386734     &  5.046645e-03 & 0.05226621   \\\\\n",
       "\tclass 2:  & 0.5403127     & 2.308199e-01  & 0.1295224     &  7.352377e-02 & 0.02582125   \\\\\n",
       "\tclass 3:  & 0.2476949     & 7.750472e-30  & 0.6411528     & 7.553692e-129 & 0.11115235   \\\\\n",
       "\\end{tabular}\n",
       "\n",
       "\\item[\\$teamNegMH] \\begin{tabular}{r|lllll}\n",
       "  & Pr(1) & Pr(2) & Pr(3) & Pr(4) & Pr(5)\\\\\n",
       "\\hline\n",
       "\tclass 1:  & 0.49362953    & 0.4346197     &  1.702162e-02 & 0.02383587    & 0.030893243  \\\\\n",
       "\tclass 2:  & 0.49060362    & 0.3776139     & 5.308491e-197 & 0.03651502    & 0.095267503  \\\\\n",
       "\tclass 3:  & 0.08047257    & 0.3709614     &  4.382699e-02 & 0.50084128    & 0.003897701  \\\\\n",
       "\\end{tabular}\n",
       "\n",
       "\\item[\\$observeBadResponseMH] \\begin{tabular}{r|lllll}\n",
       "  & Pr(1) & Pr(2) & Pr(3) & Pr(4) & Pr(5)\\\\\n",
       "\\hline\n",
       "\tclass 1:  & 0.6392301  & 0.1649598  & 0.05463351 & 0.04725266 & 0.09392392\\\\\n",
       "\tclass 2:  & 0.4970242  & 0.2431676  & 0.10117589 & 0.12692648 & 0.03170586\\\\\n",
       "\tclass 3:  & 0.3174326  & 0.2725498  & 0.15740227 & 0.21550625 & 0.03710905\\\\\n",
       "\\end{tabular}\n",
       "\n",
       "\\end{description}\n"
      ],
      "text/markdown": [
       "$empPrimTech\n",
       ":   \n",
       "| <!--/--> | Pr(1) | Pr(2) | \n",
       "|---|---|---|\n",
       "| class 1:  | 0.8124234 | 0.1875766 | \n",
       "| class 2:  | 0.7408225 | 0.2591775 | \n",
       "| class 3:  | 0.7190431 | 0.2809569 | \n",
       "\n",
       "\n",
       "\n",
       "$empProvideMHB\n",
       ":   \n",
       "| <!--/--> | Pr(1) | Pr(2) | Pr(3) | Pr(4) | \n",
       "|---|---|---|\n",
       "| class 1:  | 0.137599956 | 0.27236251  | 0.1170898   | 0.4729477   | \n",
       "| class 2:  | 0.006397177 | 0.01619933  | 0.8529976   | 0.1244059   | \n",
       "| class 3:  | 0.061740091 | 0.25700101  | 0.4349935   | 0.2462654   | \n",
       "\n",
       "\n",
       "\n",
       "$knowMHB\n",
       ":   \n",
       "| <!--/--> | Pr(1) | Pr(2) | Pr(3) | Pr(4) | \n",
       "|---|---|---|\n",
       "| class 1:  | 2.277479e-01 | 0.01003213   | 0.3939088    | 0.3683111    | \n",
       "| class 2:  | 1.627407e-27 | 0.57900669   | 0.2904521    | 0.1305412    | \n",
       "| class 3:  | 1.054428e-01 | 0.24914881   | 0.2697361    | 0.3756722    | \n",
       "\n",
       "\n",
       "\n",
       "$empDiscMH\n",
       ":   \n",
       "| <!--/--> | Pr(1) | Pr(2) | Pr(3) | \n",
       "|---|---|---|\n",
       "| class 1:  | 0.8053862  | 0.1231868  | 0.07142699 | \n",
       "| class 2:  | 0.3984846  | 0.4881748  | 0.11334059 | \n",
       "| class 3:  | 0.8307802  | 0.1075336  | 0.06168621 | \n",
       "\n",
       "\n",
       "\n",
       "$empResourceMH\n",
       ":   \n",
       "| <!--/--> | Pr(1) | Pr(2) | Pr(3) | \n",
       "|---|---|---|\n",
       "| class 1:  | 0.6012790  | 0.07016766 | 0.3285533  | \n",
       "| class 2:  | 0.1504265  | 0.64891991 | 0.2006536  | \n",
       "| class 3:  | 0.5882460  | 0.19029178 | 0.2214622  | \n",
       "\n",
       "\n",
       "\n",
       "$anonProtected\n",
       ":   \n",
       "| <!--/--> | Pr(1) | Pr(2) | Pr(3) | \n",
       "|---|---|---|\n",
       "| class 1:  | 0.7786754  | 0.1788641  | 0.04246049 | \n",
       "| class 2:  | 0.3110094  | 0.6659312  | 0.02305946 | \n",
       "| class 3:  | 0.7504954  | 0.1494349  | 0.10006971 | \n",
       "\n",
       "\n",
       "\n",
       "$askLeaveDiff\n",
       ":   \n",
       "| <!--/--> | Pr(1) | Pr(2) | Pr(3) | Pr(4) | Pr(5) | Pr(6) | \n",
       "|---|---|---|\n",
       "| class 1:  | 0.27687177    | 0.3879777     | 0.1383576     |  1.788120e-02 | 0.10009872    | 0.07881300    | \n",
       "| class 2:  | 0.39325369    | 0.2884181     | 0.1584343     | 6.647788e-180 | 0.08054412    | 0.07934973    | \n",
       "| class 3:  | 0.05216687    | 0.1366346     | 0.1345694     |  2.157759e-01 | 0.27027756    | 0.19057571    | \n",
       "\n",
       "\n",
       "\n",
       "$negConsDiscMH\n",
       ":   \n",
       "| <!--/--> | Pr(1) | Pr(2) | Pr(3) | \n",
       "|---|---|---|\n",
       "| class 1:  | 0.70533212  | 0.2892533   | 0.005414622 | \n",
       "| class 2:  | 0.73671851  | 0.2526538   | 0.010627724 | \n",
       "| class 3:  | 0.04553253  | 0.5543924   | 0.400075095 | \n",
       "\n",
       "\n",
       "\n",
       "$negConsDiscPH\n",
       ":   \n",
       "| <!--/--> | Pr(1) | Pr(2) | Pr(3) | \n",
       "|---|---|---|\n",
       "| class 1:  | 0.9215233     | 0.07847673    | 3.530138e-315 | \n",
       "| class 2:  | 0.9026902     | 0.09730979    | 1.944257e-155 | \n",
       "| class 3:  | 0.5471378     | 0.37545772    |  7.740445e-02 | \n",
       "\n",
       "\n",
       "\n",
       "$coworkComfMHD\n",
       ":   \n",
       "| <!--/--> | Pr(1) | Pr(2) | Pr(3) | \n",
       "|---|---|---|\n",
       "| class 1:  | 0.4978732  | 0.33582547 | 0.16630134 | \n",
       "| class 2:  | 0.5441259  | 0.40399322 | 0.05188091 | \n",
       "| class 3:  | 0.3686539  | 0.06164653 | 0.56969956 | \n",
       "\n",
       "\n",
       "\n",
       "$superComfMHD\n",
       ":   \n",
       "| <!--/--> | Pr(1) | Pr(2) | Pr(3) | \n",
       "|---|---|---|\n",
       "| class 1:  | 0.50778733 | 0.3828914  | 0.10932125 | \n",
       "| class 2:  | 0.77697766 | 0.1989115  | 0.02411089 | \n",
       "| class 3:  | 0.09094612 | 0.3837420  | 0.52531184 | \n",
       "\n",
       "\n",
       "\n",
       "$empSeriousMH\n",
       ":   \n",
       "| <!--/--> | Pr(1) | Pr(2) | Pr(3) | \n",
       "|---|---|---|\n",
       "| class 1:  | 0.5520919  | 0.38051412 | 0.06739402 | \n",
       "| class 2:  | 0.2703309  | 0.61245603 | 0.11721306 | \n",
       "| class 3:  | 0.4673558  | 0.09778775 | 0.43485647 | \n",
       "\n",
       "\n",
       "\n",
       "$heardNegConsMH\n",
       ":   \n",
       "| <!--/--> | Pr(1) | Pr(2) | \n",
       "|---|---|---|\n",
       "| class 1:  | 0.9816071  | 0.01839289 | \n",
       "| class 2:  | 0.9232305  | 0.07676953 | \n",
       "| class 3:  | 0.8678726  | 0.13212743 | \n",
       "\n",
       "\n",
       "\n",
       "$discInterviewPH\n",
       ":   \n",
       "| <!--/--> | Pr(1) | Pr(2) | Pr(3) | \n",
       "|---|---|---|\n",
       "| class 1:  | 0.4724304 | 0.3256280 | 0.2019416 | \n",
       "| class 2:  | 0.4632876 | 0.2714843 | 0.2652281 | \n",
       "| class 3:  | 0.4181469 | 0.1460509 | 0.4358021 | \n",
       "\n",
       "\n",
       "\n",
       "$discInterviewMH\n",
       ":   \n",
       "| <!--/--> | Pr(1) | Pr(2) | Pr(3) | \n",
       "|---|---|---|\n",
       "| class 1:  | 0.4158799 | 0.4120813 | 0.1720387 | \n",
       "| class 2:  | 0.4036841 | 0.4687804 | 0.1275354 | \n",
       "| class 3:  | 0.1604465 | 0.8236481 | 0.0159054 | \n",
       "\n",
       "\n",
       "\n",
       "$hurtCareerMH\n",
       ":   \n",
       "| <!--/--> | Pr(1) | Pr(2) | Pr(3) | Pr(4) | Pr(5) | \n",
       "|---|---|---|\n",
       "| class 1:  | 0.6177374     | 1.862764e-01  | 0.1386734     |  5.046645e-03 | 0.05226621    | \n",
       "| class 2:  | 0.5403127     | 2.308199e-01  | 0.1295224     |  7.352377e-02 | 0.02582125    | \n",
       "| class 3:  | 0.2476949     | 7.750472e-30  | 0.6411528     | 7.553692e-129 | 0.11115235    | \n",
       "\n",
       "\n",
       "\n",
       "$teamNegMH\n",
       ":   \n",
       "| <!--/--> | Pr(1) | Pr(2) | Pr(3) | Pr(4) | Pr(5) | \n",
       "|---|---|---|\n",
       "| class 1:  | 0.49362953    | 0.4346197     |  1.702162e-02 | 0.02383587    | 0.030893243   | \n",
       "| class 2:  | 0.49060362    | 0.3776139     | 5.308491e-197 | 0.03651502    | 0.095267503   | \n",
       "| class 3:  | 0.08047257    | 0.3709614     |  4.382699e-02 | 0.50084128    | 0.003897701   | \n",
       "\n",
       "\n",
       "\n",
       "$observeBadResponseMH\n",
       ":   \n",
       "| <!--/--> | Pr(1) | Pr(2) | Pr(3) | Pr(4) | Pr(5) | \n",
       "|---|---|---|\n",
       "| class 1:  | 0.6392301  | 0.1649598  | 0.05463351 | 0.04725266 | 0.09392392 | \n",
       "| class 2:  | 0.4970242  | 0.2431676  | 0.10117589 | 0.12692648 | 0.03170586 | \n",
       "| class 3:  | 0.3174326  | 0.2725498  | 0.15740227 | 0.21550625 | 0.03710905 | \n",
       "\n",
       "\n",
       "\n",
       "\n",
       "\n"
      ],
      "text/plain": [
       "$empPrimTech\n",
       "              Pr(1)     Pr(2)\n",
       "class 1:  0.8124234 0.1875766\n",
       "class 2:  0.7408225 0.2591775\n",
       "class 3:  0.7190431 0.2809569\n",
       "\n",
       "$empProvideMHB\n",
       "                Pr(1)      Pr(2)     Pr(3)     Pr(4)\n",
       "class 1:  0.137599956 0.27236251 0.1170898 0.4729477\n",
       "class 2:  0.006397177 0.01619933 0.8529976 0.1244059\n",
       "class 3:  0.061740091 0.25700101 0.4349935 0.2462654\n",
       "\n",
       "$knowMHB\n",
       "                 Pr(1)      Pr(2)     Pr(3)     Pr(4)\n",
       "class 1:  2.277479e-01 0.01003213 0.3939088 0.3683111\n",
       "class 2:  1.627407e-27 0.57900669 0.2904521 0.1305412\n",
       "class 3:  1.054428e-01 0.24914881 0.2697361 0.3756722\n",
       "\n",
       "$empDiscMH\n",
       "              Pr(1)     Pr(2)      Pr(3)\n",
       "class 1:  0.8053862 0.1231868 0.07142699\n",
       "class 2:  0.3984846 0.4881748 0.11334059\n",
       "class 3:  0.8307802 0.1075336 0.06168621\n",
       "\n",
       "$empResourceMH\n",
       "              Pr(1)      Pr(2)     Pr(3)\n",
       "class 1:  0.6012790 0.07016766 0.3285533\n",
       "class 2:  0.1504265 0.64891991 0.2006536\n",
       "class 3:  0.5882460 0.19029178 0.2214622\n",
       "\n",
       "$anonProtected\n",
       "              Pr(1)     Pr(2)      Pr(3)\n",
       "class 1:  0.7786754 0.1788641 0.04246049\n",
       "class 2:  0.3110094 0.6659312 0.02305946\n",
       "class 3:  0.7504954 0.1494349 0.10006971\n",
       "\n",
       "$askLeaveDiff\n",
       "               Pr(1)     Pr(2)     Pr(3)         Pr(4)      Pr(5)      Pr(6)\n",
       "class 1:  0.27687177 0.3879777 0.1383576  1.788120e-02 0.10009872 0.07881300\n",
       "class 2:  0.39325369 0.2884181 0.1584343 6.647788e-180 0.08054412 0.07934973\n",
       "class 3:  0.05216687 0.1366346 0.1345694  2.157759e-01 0.27027756 0.19057571\n",
       "\n",
       "$negConsDiscMH\n",
       "               Pr(1)     Pr(2)       Pr(3)\n",
       "class 1:  0.70533212 0.2892533 0.005414622\n",
       "class 2:  0.73671851 0.2526538 0.010627724\n",
       "class 3:  0.04553253 0.5543924 0.400075095\n",
       "\n",
       "$negConsDiscPH\n",
       "              Pr(1)      Pr(2)         Pr(3)\n",
       "class 1:  0.9215233 0.07847673 3.530138e-315\n",
       "class 2:  0.9026902 0.09730979 1.944257e-155\n",
       "class 3:  0.5471378 0.37545772  7.740445e-02\n",
       "\n",
       "$coworkComfMHD\n",
       "              Pr(1)      Pr(2)      Pr(3)\n",
       "class 1:  0.4978732 0.33582547 0.16630134\n",
       "class 2:  0.5441259 0.40399322 0.05188091\n",
       "class 3:  0.3686539 0.06164653 0.56969956\n",
       "\n",
       "$superComfMHD\n",
       "               Pr(1)     Pr(2)      Pr(3)\n",
       "class 1:  0.50778733 0.3828914 0.10932125\n",
       "class 2:  0.77697766 0.1989115 0.02411089\n",
       "class 3:  0.09094612 0.3837420 0.52531184\n",
       "\n",
       "$empSeriousMH\n",
       "              Pr(1)      Pr(2)      Pr(3)\n",
       "class 1:  0.5520919 0.38051412 0.06739402\n",
       "class 2:  0.2703309 0.61245603 0.11721306\n",
       "class 3:  0.4673558 0.09778775 0.43485647\n",
       "\n",
       "$heardNegConsMH\n",
       "              Pr(1)      Pr(2)\n",
       "class 1:  0.9816071 0.01839289\n",
       "class 2:  0.9232305 0.07676953\n",
       "class 3:  0.8678726 0.13212743\n",
       "\n",
       "$discInterviewPH\n",
       "              Pr(1)     Pr(2)     Pr(3)\n",
       "class 1:  0.4724304 0.3256280 0.2019416\n",
       "class 2:  0.4632876 0.2714843 0.2652281\n",
       "class 3:  0.4181469 0.1460509 0.4358021\n",
       "\n",
       "$discInterviewMH\n",
       "              Pr(1)     Pr(2)     Pr(3)\n",
       "class 1:  0.4158799 0.4120813 0.1720387\n",
       "class 2:  0.4036841 0.4687804 0.1275354\n",
       "class 3:  0.1604465 0.8236481 0.0159054\n",
       "\n",
       "$hurtCareerMH\n",
       "              Pr(1)        Pr(2)     Pr(3)         Pr(4)      Pr(5)\n",
       "class 1:  0.6177374 1.862764e-01 0.1386734  5.046645e-03 0.05226621\n",
       "class 2:  0.5403127 2.308199e-01 0.1295224  7.352377e-02 0.02582125\n",
       "class 3:  0.2476949 7.750472e-30 0.6411528 7.553692e-129 0.11115235\n",
       "\n",
       "$teamNegMH\n",
       "               Pr(1)     Pr(2)         Pr(3)      Pr(4)       Pr(5)\n",
       "class 1:  0.49362953 0.4346197  1.702162e-02 0.02383587 0.030893243\n",
       "class 2:  0.49060362 0.3776139 5.308491e-197 0.03651502 0.095267503\n",
       "class 3:  0.08047257 0.3709614  4.382699e-02 0.50084128 0.003897701\n",
       "\n",
       "$observeBadResponseMH\n",
       "              Pr(1)     Pr(2)      Pr(3)      Pr(4)      Pr(5)\n",
       "class 1:  0.6392301 0.1649598 0.05463351 0.04725266 0.09392392\n",
       "class 2:  0.4970242 0.2431676 0.10117589 0.12692648 0.03170586\n",
       "class 3:  0.3174326 0.2725498 0.15740227 0.21550625 0.03710905\n"
      ]
     },
     "metadata": {},
     "output_type": "display_data"
    }
   ],
   "source": [
    "finalMod.lcm$probs"
   ]
  },
  {
   "cell_type": "markdown",
   "metadata": {},
   "source": [
    "_Figure 1: Set of conditional probability tables estimated by our latent class model._\n",
    "\n",
    "We see interesting results from the following tables:\n",
    "\n",
    "* ```empProvideMHB```\n",
    "\n",
    "* ```knowMHB```\n",
    "\n",
    "* ```empDiscMH```\n",
    "\n",
    "* ```anonProtected```\n",
    "\n",
    "* ```askLeaveDiff```\n",
    "\n",
    "* ```negConsDiscMH```\n",
    "\n",
    "* ```coworkComfMHD```\n",
    "\n",
    "* ```superComfMHD```\n",
    "\n",
    "* ```discInterviewMH```\n",
    "\n",
    "* ```hurtCareerMH```\n",
    "\n",
    "* ```teamNegMH```\n",
    "\n",
    "* ```observeBadResponseMH```\n",
    "\n",
    "Let's explore these differences to define the characteristics of each class."
   ]
  },
  {
   "cell_type": "code",
   "execution_count": 9,
   "metadata": {
    "collapsed": false,
    "scrolled": false
   },
   "outputs": [
    {
     "data": {
      "text/html": [
       "<table>\n",
       "<thead><tr><th></th><th scope=col>Not eligible for coverage / N/A</th><th scope=col>No</th><th scope=col>Yes</th><th scope=col>I don't know</th></tr></thead>\n",
       "<tbody>\n",
       "\t<tr><th scope=row>class 1: </th><td>0.1380</td><td>0.2720</td><td>0.117 </td><td>0.473 </td></tr>\n",
       "\t<tr><th scope=row>class 2: </th><td>0.0064</td><td>0.0162</td><td>0.853 </td><td>0.124 </td></tr>\n",
       "\t<tr><th scope=row>class 3: </th><td>0.0617</td><td>0.2570</td><td>0.435 </td><td>0.246 </td></tr>\n",
       "</tbody>\n",
       "</table>\n"
      ],
      "text/latex": [
       "\\begin{tabular}{r|llll}\n",
       "  & Not eligible for coverage / N/A & No & Yes & I don't know\\\\\n",
       "\\hline\n",
       "\tclass 1:  & 0.1380 & 0.2720 & 0.117  & 0.473 \\\\\n",
       "\tclass 2:  & 0.0064 & 0.0162 & 0.853  & 0.124 \\\\\n",
       "\tclass 3:  & 0.0617 & 0.2570 & 0.435  & 0.246 \\\\\n",
       "\\end{tabular}\n"
      ],
      "text/markdown": [
       "\n",
       "| <!--/--> | Not eligible for coverage / N/A | No | Yes | I don't know | \n",
       "|---|---|---|\n",
       "| class 1:  | 0.1380 | 0.2720 | 0.117  | 0.473  | \n",
       "| class 2:  | 0.0064 | 0.0162 | 0.853  | 0.124  | \n",
       "| class 3:  | 0.0617 | 0.2570 | 0.435  | 0.246  | \n",
       "\n",
       "\n"
      ],
      "text/plain": [
       "          Not eligible for coverage / N/A No     Yes   I don't know\n",
       "class 1:  0.1380                          0.2720 0.117 0.473       \n",
       "class 2:  0.0064                          0.0162 0.853 0.124       \n",
       "class 3:  0.0617                          0.2570 0.435 0.246       "
      ]
     },
     "metadata": {},
     "output_type": "display_data"
    }
   ],
   "source": [
    "displayTable(finalMod.lcm,\"empProvideMHB\")"
   ]
  },
  {
   "cell_type": "markdown",
   "metadata": {},
   "source": [
    "_Table 2: Conditional Probabilities on Answers to the question \"Does your employer provide mental health benefits as part of healthcare coverage?\" ._\n",
    "\n",
    "We see a start effect beginning to occur in these classes. It is apparent that Class $2$ has a higher chance of having mental health coverage than classes $1$ and $3$. However, For Class $1$, this is because of an uncertainty about available coverage (\"I don't know\"), while this is more evenly distributed across outcomes for class $3$. This to some extent suggests that we have a class that has good coverage, and two classes that either primarily don't or are uncertain about available coverage."
   ]
  },
  {
   "cell_type": "code",
   "execution_count": 10,
   "metadata": {
    "collapsed": false
   },
   "outputs": [
    {
     "data": {
      "text/html": [
       "<table>\n",
       "<thead><tr><th></th><th scope=col>N/A</th><th scope=col>Yes</th><th scope=col>I am not sure</th><th scope=col>No</th></tr></thead>\n",
       "<tbody>\n",
       "\t<tr><th scope=row>class 1: </th><td>2.28e-01</td><td>0.010   </td><td>0.394   </td><td>0.368   </td></tr>\n",
       "\t<tr><th scope=row>class 2: </th><td>1.63e-27</td><td>0.579   </td><td>0.290   </td><td>0.131   </td></tr>\n",
       "\t<tr><th scope=row>class 3: </th><td>1.05e-01</td><td>0.249   </td><td>0.270   </td><td>0.376   </td></tr>\n",
       "</tbody>\n",
       "</table>\n"
      ],
      "text/latex": [
       "\\begin{tabular}{r|llll}\n",
       "  & N/A & Yes & I am not sure & No\\\\\n",
       "\\hline\n",
       "\tclass 1:  & 2.28e-01 & 0.010    & 0.394    & 0.368   \\\\\n",
       "\tclass 2:  & 1.63e-27 & 0.579    & 0.290    & 0.131   \\\\\n",
       "\tclass 3:  & 1.05e-01 & 0.249    & 0.270    & 0.376   \\\\\n",
       "\\end{tabular}\n"
      ],
      "text/markdown": [
       "\n",
       "| <!--/--> | N/A | Yes | I am not sure | No | \n",
       "|---|---|---|\n",
       "| class 1:  | 2.28e-01 | 0.010    | 0.394    | 0.368    | \n",
       "| class 2:  | 1.63e-27 | 0.579    | 0.290    | 0.131    | \n",
       "| class 3:  | 1.05e-01 | 0.249    | 0.270    | 0.376    | \n",
       "\n",
       "\n"
      ],
      "text/plain": [
       "          N/A      Yes   I am not sure No   \n",
       "class 1:  2.28e-01 0.010 0.394         0.368\n",
       "class 2:  1.63e-27 0.579 0.290         0.131\n",
       "class 3:  1.05e-01 0.249 0.270         0.376"
      ]
     },
     "metadata": {},
     "output_type": "display_data"
    }
   ],
   "source": [
    "displayTable(finalMod.lcm,\"knowMHB\")"
   ]
  },
  {
   "cell_type": "markdown",
   "metadata": {},
   "source": [
    "_Table 3: Conditional Probabilities on Answers to the question \"Do you know the options for mental health care available under your employer-provided coverage?\" ._\n",
    "\n",
    "We see an emphasis on \"I am not sure\" and \"No\" for class $1$, an emphasis on \"Yes\" and \"I am not sure\" for class $2$, and a balanced class for class $3$. This suggests that class $1$ leans no on this question, class $2$ leans yes on this question, and class $3$ is generally uncertain on its lean for this question."
   ]
  },
  {
   "cell_type": "code",
   "execution_count": 11,
   "metadata": {
    "collapsed": false
   },
   "outputs": [
    {
     "data": {
      "text/html": [
       "<table>\n",
       "<thead><tr><th></th><th scope=col>No</th><th scope=col>Yes</th><th scope=col>I don't know</th></tr></thead>\n",
       "<tbody>\n",
       "\t<tr><th scope=row>class 1: </th><td>0.805 </td><td>0.123 </td><td>0.0714</td></tr>\n",
       "\t<tr><th scope=row>class 2: </th><td>0.398 </td><td>0.488 </td><td>0.1130</td></tr>\n",
       "\t<tr><th scope=row>class 3: </th><td>0.831 </td><td>0.108 </td><td>0.0617</td></tr>\n",
       "</tbody>\n",
       "</table>\n"
      ],
      "text/latex": [
       "\\begin{tabular}{r|lll}\n",
       "  & No & Yes & I don't know\\\\\n",
       "\\hline\n",
       "\tclass 1:  & 0.805  & 0.123  & 0.0714\\\\\n",
       "\tclass 2:  & 0.398  & 0.488  & 0.1130\\\\\n",
       "\tclass 3:  & 0.831  & 0.108  & 0.0617\\\\\n",
       "\\end{tabular}\n"
      ],
      "text/markdown": [
       "\n",
       "| <!--/--> | No | Yes | I don't know | \n",
       "|---|---|---|\n",
       "| class 1:  | 0.805  | 0.123  | 0.0714 | \n",
       "| class 2:  | 0.398  | 0.488  | 0.1130 | \n",
       "| class 3:  | 0.831  | 0.108  | 0.0617 | \n",
       "\n",
       "\n"
      ],
      "text/plain": [
       "          No    Yes   I don't know\n",
       "class 1:  0.805 0.123 0.0714      \n",
       "class 2:  0.398 0.488 0.1130      \n",
       "class 3:  0.831 0.108 0.0617      "
      ]
     },
     "metadata": {},
     "output_type": "display_data"
    }
   ],
   "source": [
    "displayTable(finalMod.lcm,\"empDiscMH\")"
   ]
  },
  {
   "cell_type": "markdown",
   "metadata": {},
   "source": [
    "_Table 4: Conditional Probabilities on Answers to the question \"Has your employer ever formally discussed mental health (for example, as part of a wellness campaign or other official communication)?\" ._\n",
    "\n",
    "We see that Class $1$ and Class $3$ seem to be centered on No, while class $2$ is balanced between no and yes. Thus, Class $1$ and $3$ represent a likelihood of an employer not discussing mental health, while class $2$ represents a toss-up between the two possibilities."
   ]
  },
  {
   "cell_type": "code",
   "execution_count": 12,
   "metadata": {
    "collapsed": false
   },
   "outputs": [
    {
     "data": {
      "text/html": [
       "<table>\n",
       "<thead><tr><th></th><th scope=col>I don't know</th><th scope=col>Yes</th><th scope=col>No</th></tr></thead>\n",
       "<tbody>\n",
       "\t<tr><th scope=row>class 1: </th><td>0.779 </td><td>0.179 </td><td>0.0425</td></tr>\n",
       "\t<tr><th scope=row>class 2: </th><td>0.311 </td><td>0.666 </td><td>0.0231</td></tr>\n",
       "\t<tr><th scope=row>class 3: </th><td>0.750 </td><td>0.149 </td><td>0.1000</td></tr>\n",
       "</tbody>\n",
       "</table>\n"
      ],
      "text/latex": [
       "\\begin{tabular}{r|lll}\n",
       "  & I don't know & Yes & No\\\\\n",
       "\\hline\n",
       "\tclass 1:  & 0.779  & 0.179  & 0.0425\\\\\n",
       "\tclass 2:  & 0.311  & 0.666  & 0.0231\\\\\n",
       "\tclass 3:  & 0.750  & 0.149  & 0.1000\\\\\n",
       "\\end{tabular}\n"
      ],
      "text/markdown": [
       "\n",
       "| <!--/--> | I don't know | Yes | No | \n",
       "|---|---|---|\n",
       "| class 1:  | 0.779  | 0.179  | 0.0425 | \n",
       "| class 2:  | 0.311  | 0.666  | 0.0231 | \n",
       "| class 3:  | 0.750  | 0.149  | 0.1000 | \n",
       "\n",
       "\n"
      ],
      "text/plain": [
       "          I don't know Yes   No    \n",
       "class 1:  0.779        0.179 0.0425\n",
       "class 2:  0.311        0.666 0.0231\n",
       "class 3:  0.750        0.149 0.1000"
      ]
     },
     "metadata": {},
     "output_type": "display_data"
    }
   ],
   "source": [
    "displayTable(finalMod.lcm,\"anonProtected\")"
   ]
  },
  {
   "cell_type": "markdown",
   "metadata": {},
   "source": [
    "_Table 5: Conditional Probabilities on answers to the question \"Is your anonymity protected if you choose to take advantage of mental health or substance abuse treatment resources provided by your employer?\" ._\n",
    "\n",
    "We see that Class $1$ and $3$ represent a high uncertainty that their anonymity is protected, while Class $2$ leans yes on this. Thus, class $2$ represents individuals who are more sure that their anonymity will be protected if they take advantage of mental health and substance abuse treatment resources."
   ]
  },
  {
   "cell_type": "code",
   "execution_count": 13,
   "metadata": {
    "collapsed": false
   },
   "outputs": [
    {
     "data": {
      "text/html": [
       "<table>\n",
       "<thead><tr><th></th><th scope=col>Very easy</th><th scope=col>Somewhat easy</th><th scope=col>Neither easy nor difficult</th><th scope=col>Very difficult</th><th scope=col>Somewhat difficult</th><th scope=col>I don't know</th></tr></thead>\n",
       "<tbody>\n",
       "\t<tr><th scope=row>class 1: </th><td>0.2770   </td><td>0.388    </td><td>0.138    </td><td> 1.79e-02</td><td>0.1000   </td><td>0.0788   </td></tr>\n",
       "\t<tr><th scope=row>class 2: </th><td>0.3930   </td><td>0.288    </td><td>0.158    </td><td>6.65e-180</td><td>0.0805   </td><td>0.0793   </td></tr>\n",
       "\t<tr><th scope=row>class 3: </th><td>0.0522   </td><td>0.137    </td><td>0.135    </td><td> 2.16e-01</td><td>0.2700   </td><td>0.1910   </td></tr>\n",
       "</tbody>\n",
       "</table>\n"
      ],
      "text/latex": [
       "\\begin{tabular}{r|llllll}\n",
       "  & Very easy & Somewhat easy & Neither easy nor difficult & Very difficult & Somewhat difficult & I don't know\\\\\n",
       "\\hline\n",
       "\tclass 1:  & 0.2770    & 0.388     & 0.138     &  1.79e-02 & 0.1000    & 0.0788   \\\\\n",
       "\tclass 2:  & 0.3930    & 0.288     & 0.158     & 6.65e-180 & 0.0805    & 0.0793   \\\\\n",
       "\tclass 3:  & 0.0522    & 0.137     & 0.135     &  2.16e-01 & 0.2700    & 0.1910   \\\\\n",
       "\\end{tabular}\n"
      ],
      "text/markdown": [
       "\n",
       "| <!--/--> | Very easy | Somewhat easy | Neither easy nor difficult | Very difficult | Somewhat difficult | I don't know | \n",
       "|---|---|---|\n",
       "| class 1:  | 0.2770    | 0.388     | 0.138     |  1.79e-02 | 0.1000    | 0.0788    | \n",
       "| class 2:  | 0.3930    | 0.288     | 0.158     | 6.65e-180 | 0.0805    | 0.0793    | \n",
       "| class 3:  | 0.0522    | 0.137     | 0.135     |  2.16e-01 | 0.2700    | 0.1910    | \n",
       "\n",
       "\n"
      ],
      "text/plain": [
       "          Very easy Somewhat easy Neither easy nor difficult Very difficult\n",
       "class 1:  0.2770    0.388         0.138                       1.79e-02     \n",
       "class 2:  0.3930    0.288         0.158                      6.65e-180     \n",
       "class 3:  0.0522    0.137         0.135                       2.16e-01     \n",
       "          Somewhat difficult I don't know\n",
       "class 1:  0.1000             0.0788      \n",
       "class 2:  0.0805             0.0793      \n",
       "class 3:  0.2700             0.1910      "
      ]
     },
     "metadata": {},
     "output_type": "display_data"
    }
   ],
   "source": [
    "displayTable(finalMod.lcm,\"askLeaveDiff\")"
   ]
  },
  {
   "cell_type": "markdown",
   "metadata": {},
   "source": [
    "_Table 6: Conditional Probabilities on answers to the question \"If a mental health issue prompted you to request a medical leave from work, asking for that leave would be:\"_\n",
    "\n",
    "We see that class $1$ and $2$ generally features individuals who would suggest that asking for leave for mental health reasons would be easy, while Class $3$ represents individuals who would find that process more difficult."
   ]
  },
  {
   "cell_type": "code",
   "execution_count": 14,
   "metadata": {
    "collapsed": false
   },
   "outputs": [
    {
     "data": {
      "text/html": [
       "<table>\n",
       "<thead><tr><th></th><th scope=col>No</th><th scope=col>Maybe</th><th scope=col>Yes</th></tr></thead>\n",
       "<tbody>\n",
       "\t<tr><th scope=row>class 1: </th><td>0.7050 </td><td>0.289  </td><td>0.00541</td></tr>\n",
       "\t<tr><th scope=row>class 2: </th><td>0.7370 </td><td>0.253  </td><td>0.01060</td></tr>\n",
       "\t<tr><th scope=row>class 3: </th><td>0.0455 </td><td>0.554  </td><td>0.40000</td></tr>\n",
       "</tbody>\n",
       "</table>\n"
      ],
      "text/latex": [
       "\\begin{tabular}{r|lll}\n",
       "  & No & Maybe & Yes\\\\\n",
       "\\hline\n",
       "\tclass 1:  & 0.7050  & 0.289   & 0.00541\\\\\n",
       "\tclass 2:  & 0.7370  & 0.253   & 0.01060\\\\\n",
       "\tclass 3:  & 0.0455  & 0.554   & 0.40000\\\\\n",
       "\\end{tabular}\n"
      ],
      "text/markdown": [
       "\n",
       "| <!--/--> | No | Maybe | Yes | \n",
       "|---|---|---|\n",
       "| class 1:  | 0.7050  | 0.289   | 0.00541 | \n",
       "| class 2:  | 0.7370  | 0.253   | 0.01060 | \n",
       "| class 3:  | 0.0455  | 0.554   | 0.40000 | \n",
       "\n",
       "\n"
      ],
      "text/plain": [
       "          No     Maybe Yes    \n",
       "class 1:  0.7050 0.289 0.00541\n",
       "class 2:  0.7370 0.253 0.01060\n",
       "class 3:  0.0455 0.554 0.40000"
      ]
     },
     "metadata": {},
     "output_type": "display_data"
    }
   ],
   "source": [
    "displayTable(finalMod.lcm,\"negConsDiscMH\")"
   ]
  },
  {
   "cell_type": "markdown",
   "metadata": {},
   "source": [
    "_Table 7: Conditional Probabilities on Answers to the question \"Do you think that discussing a mental health disorder with your employer would have negative consequences?\" ._\n",
    "\n",
    "Classes $1$ and $2$ generally feature indivduals who find the process of discussing mental health with their employer to not feature negative consequences, while Class $3$ suggests that there might be negative consequences to this process."
   ]
  },
  {
   "cell_type": "code",
   "execution_count": 15,
   "metadata": {
    "collapsed": false
   },
   "outputs": [
    {
     "data": {
      "text/html": [
       "<table>\n",
       "<thead><tr><th></th><th scope=col>Maybe</th><th scope=col>Yes</th><th scope=col>No</th></tr></thead>\n",
       "<tbody>\n",
       "\t<tr><th scope=row>class 1: </th><td>0.498 </td><td>0.3360</td><td>0.1660</td></tr>\n",
       "\t<tr><th scope=row>class 2: </th><td>0.544 </td><td>0.4040</td><td>0.0519</td></tr>\n",
       "\t<tr><th scope=row>class 3: </th><td>0.369 </td><td>0.0616</td><td>0.5700</td></tr>\n",
       "</tbody>\n",
       "</table>\n"
      ],
      "text/latex": [
       "\\begin{tabular}{r|lll}\n",
       "  & Maybe & Yes & No\\\\\n",
       "\\hline\n",
       "\tclass 1:  & 0.498  & 0.3360 & 0.1660\\\\\n",
       "\tclass 2:  & 0.544  & 0.4040 & 0.0519\\\\\n",
       "\tclass 3:  & 0.369  & 0.0616 & 0.5700\\\\\n",
       "\\end{tabular}\n"
      ],
      "text/markdown": [
       "\n",
       "| <!--/--> | Maybe | Yes | No | \n",
       "|---|---|---|\n",
       "| class 1:  | 0.498  | 0.3360 | 0.1660 | \n",
       "| class 2:  | 0.544  | 0.4040 | 0.0519 | \n",
       "| class 3:  | 0.369  | 0.0616 | 0.5700 | \n",
       "\n",
       "\n"
      ],
      "text/plain": [
       "          Maybe Yes    No    \n",
       "class 1:  0.498 0.3360 0.1660\n",
       "class 2:  0.544 0.4040 0.0519\n",
       "class 3:  0.369 0.0616 0.5700"
      ]
     },
     "metadata": {},
     "output_type": "display_data"
    }
   ],
   "source": [
    "displayTable(finalMod.lcm,\"coworkComfMHD\")"
   ]
  },
  {
   "cell_type": "markdown",
   "metadata": {},
   "source": [
    "_Table 8: Conditional Probabilities on answers to the question \"Would you feel comfortable discussing a mental health disorder with your coworkers?\" ._\n",
    "\n",
    "What becomes clear is the effect on the no answer. We see that there is a higher emphasis on \"No\" progressing from classes $2$, $1$, $3.$ This may suggest that Class $2$ features those who are very likely to be uncomfortable discussing with their coworkers, Class $1$ features individuals who are somewhat likely to be uncomfortable discussing with their coworkers, and Class $3$ features individuals who are not very likely to be uncomfortable discussing with their coworkers."
   ]
  },
  {
   "cell_type": "code",
   "execution_count": 16,
   "metadata": {
    "collapsed": false
   },
   "outputs": [
    {
     "data": {
      "text/html": [
       "<table>\n",
       "<thead><tr><th></th><th scope=col>Yes</th><th scope=col>Maybe</th><th scope=col>No</th></tr></thead>\n",
       "<tbody>\n",
       "\t<tr><th scope=row>class 1: </th><td>0.5080</td><td>0.383 </td><td>0.1090</td></tr>\n",
       "\t<tr><th scope=row>class 2: </th><td>0.7770</td><td>0.199 </td><td>0.0241</td></tr>\n",
       "\t<tr><th scope=row>class 3: </th><td>0.0909</td><td>0.384 </td><td>0.5250</td></tr>\n",
       "</tbody>\n",
       "</table>\n"
      ],
      "text/latex": [
       "\\begin{tabular}{r|lll}\n",
       "  & Yes & Maybe & No\\\\\n",
       "\\hline\n",
       "\tclass 1:  & 0.5080 & 0.383  & 0.1090\\\\\n",
       "\tclass 2:  & 0.7770 & 0.199  & 0.0241\\\\\n",
       "\tclass 3:  & 0.0909 & 0.384  & 0.5250\\\\\n",
       "\\end{tabular}\n"
      ],
      "text/markdown": [
       "\n",
       "| <!--/--> | Yes | Maybe | No | \n",
       "|---|---|---|\n",
       "| class 1:  | 0.5080 | 0.383  | 0.1090 | \n",
       "| class 2:  | 0.7770 | 0.199  | 0.0241 | \n",
       "| class 3:  | 0.0909 | 0.384  | 0.5250 | \n",
       "\n",
       "\n"
      ],
      "text/plain": [
       "          Yes    Maybe No    \n",
       "class 1:  0.5080 0.383 0.1090\n",
       "class 2:  0.7770 0.199 0.0241\n",
       "class 3:  0.0909 0.384 0.5250"
      ]
     },
     "metadata": {},
     "output_type": "display_data"
    }
   ],
   "source": [
    "displayTable(finalMod.lcm,\"superComfMHD\")"
   ]
  },
  {
   "cell_type": "markdown",
   "metadata": {},
   "source": [
    "_Table 9: Conditional Probabilities on Answers to the question \"Would you feel comfortable discussing a mental health disorder with your direct supervisor(s)?\" ._\n",
    "\n",
    "We see a similar progression from our previous table. Thus, it is likely that those who are comfortable discussing mental health with their coworkers are likely to be comfortable discussing mental health with their direct supervisors."
   ]
  },
  {
   "cell_type": "code",
   "execution_count": 17,
   "metadata": {
    "collapsed": false
   },
   "outputs": [
    {
     "data": {
      "text/html": [
       "<table>\n",
       "<thead><tr><th></th><th scope=col>Maybe</th><th scope=col>No</th><th scope=col>Yes</th></tr></thead>\n",
       "<tbody>\n",
       "\t<tr><th scope=row>class 1: </th><td>0.416 </td><td>0.412 </td><td>0.1720</td></tr>\n",
       "\t<tr><th scope=row>class 2: </th><td>0.404 </td><td>0.469 </td><td>0.1280</td></tr>\n",
       "\t<tr><th scope=row>class 3: </th><td>0.160 </td><td>0.824 </td><td>0.0159</td></tr>\n",
       "</tbody>\n",
       "</table>\n"
      ],
      "text/latex": [
       "\\begin{tabular}{r|lll}\n",
       "  & Maybe & No & Yes\\\\\n",
       "\\hline\n",
       "\tclass 1:  & 0.416  & 0.412  & 0.1720\\\\\n",
       "\tclass 2:  & 0.404  & 0.469  & 0.1280\\\\\n",
       "\tclass 3:  & 0.160  & 0.824  & 0.0159\\\\\n",
       "\\end{tabular}\n"
      ],
      "text/markdown": [
       "\n",
       "| <!--/--> | Maybe | No | Yes | \n",
       "|---|---|---|\n",
       "| class 1:  | 0.416  | 0.412  | 0.1720 | \n",
       "| class 2:  | 0.404  | 0.469  | 0.1280 | \n",
       "| class 3:  | 0.160  | 0.824  | 0.0159 | \n",
       "\n",
       "\n"
      ],
      "text/plain": [
       "          Maybe No    Yes   \n",
       "class 1:  0.416 0.412 0.1720\n",
       "class 2:  0.404 0.469 0.1280\n",
       "class 3:  0.160 0.824 0.0159"
      ]
     },
     "metadata": {},
     "output_type": "display_data"
    }
   ],
   "source": [
    "displayTable(finalMod.lcm,\"discInterviewMH\")"
   ]
  },
  {
   "cell_type": "markdown",
   "metadata": {},
   "source": [
    "_Table 10: Conditional Probabilities on Answers to the question \"Would you bring up a mental health issue with a potential employer in an interview?\" ._\n",
    "\n",
    "We see another thing occur: Class $3$ will very not likely discuss a mental health issue with a potential employer, and there seems to be more comfort in class $2$ and $1$. We see generally that most people do not say yes to this question, expressing a lean no across all classes."
   ]
  },
  {
   "cell_type": "code",
   "execution_count": 18,
   "metadata": {
    "collapsed": false
   },
   "outputs": [
    {
     "data": {
      "text/html": [
       "<table>\n",
       "<thead><tr><th></th><th scope=col>Maybe</th><th scope=col>No, I don't think it would</th><th scope=col>Yes, I think it would</th><th scope=col>No, it has not</th><th scope=col>Yes, it has</th></tr></thead>\n",
       "<tbody>\n",
       "\t<tr><th scope=row>class 1: </th><td>0.618    </td><td>1.86e-01 </td><td>0.139    </td><td> 5.05e-03</td><td>0.0523   </td></tr>\n",
       "\t<tr><th scope=row>class 2: </th><td>0.540    </td><td>2.31e-01 </td><td>0.130    </td><td> 7.35e-02</td><td>0.0258   </td></tr>\n",
       "\t<tr><th scope=row>class 3: </th><td>0.248    </td><td>7.75e-30 </td><td>0.641    </td><td>7.55e-129</td><td>0.1110   </td></tr>\n",
       "</tbody>\n",
       "</table>\n"
      ],
      "text/latex": [
       "\\begin{tabular}{r|lllll}\n",
       "  & Maybe & No, I don't think it would & Yes, I think it would & No, it has not & Yes, it has\\\\\n",
       "\\hline\n",
       "\tclass 1:  & 0.618     & 1.86e-01  & 0.139     &  5.05e-03 & 0.0523   \\\\\n",
       "\tclass 2:  & 0.540     & 2.31e-01  & 0.130     &  7.35e-02 & 0.0258   \\\\\n",
       "\tclass 3:  & 0.248     & 7.75e-30  & 0.641     & 7.55e-129 & 0.1110   \\\\\n",
       "\\end{tabular}\n"
      ],
      "text/markdown": [
       "\n",
       "| <!--/--> | Maybe | No, I don't think it would | Yes, I think it would | No, it has not | Yes, it has | \n",
       "|---|---|---|\n",
       "| class 1:  | 0.618     | 1.86e-01  | 0.139     |  5.05e-03 | 0.0523    | \n",
       "| class 2:  | 0.540     | 2.31e-01  | 0.130     |  7.35e-02 | 0.0258    | \n",
       "| class 3:  | 0.248     | 7.75e-30  | 0.641     | 7.55e-129 | 0.1110    | \n",
       "\n",
       "\n"
      ],
      "text/plain": [
       "          Maybe No, I don't think it would Yes, I think it would No, it has not\n",
       "class 1:  0.618 1.86e-01                   0.139                  5.05e-03     \n",
       "class 2:  0.540 2.31e-01                   0.130                  7.35e-02     \n",
       "class 3:  0.248 7.75e-30                   0.641                 7.55e-129     \n",
       "          Yes, it has\n",
       "class 1:  0.0523     \n",
       "class 2:  0.0258     \n",
       "class 3:  0.1110     "
      ]
     },
     "metadata": {},
     "output_type": "display_data"
    }
   ],
   "source": [
    "displayTable(finalMod.lcm,\"hurtCareerMH\")"
   ]
  },
  {
   "cell_type": "markdown",
   "metadata": {},
   "source": [
    "_Table 11: Conditional Probabilities on Answers to the question \"Do you feel that being identified as a person with a mental health issue would hurt your career?\" ._\n",
    "\n",
    "We see the key impact is between the the \"Yes, I think it would\" column and the \"Maybe\" column. We see that Class $3$ tends to believe for sure that being identified as a person with a mental health issue will in fact hurt their career, while Classes $1$ and $2$ believe that being identified will only maybe hurt their career. This is again identifying a sense of certainty and uncertainty that exist among the three classes."
   ]
  },
  {
   "cell_type": "code",
   "execution_count": 19,
   "metadata": {
    "collapsed": false
   },
   "outputs": [
    {
     "data": {
      "text/html": [
       "<table>\n",
       "<thead><tr><th></th><th scope=col>No, I don't think they would</th><th scope=col>Maybe</th><th scope=col>Yes, they do</th><th scope=col>Yes, I think they would</th><th scope=col>No, they do not</th></tr></thead>\n",
       "<tbody>\n",
       "\t<tr><th scope=row>class 1: </th><td>0.4940   </td><td>0.435    </td><td> 1.70e-02</td><td>0.0238   </td><td>0.0309   </td></tr>\n",
       "\t<tr><th scope=row>class 2: </th><td>0.4910   </td><td>0.378    </td><td>5.31e-197</td><td>0.0365   </td><td>0.0953   </td></tr>\n",
       "\t<tr><th scope=row>class 3: </th><td>0.0805   </td><td>0.371    </td><td> 4.38e-02</td><td>0.5010   </td><td>0.0039   </td></tr>\n",
       "</tbody>\n",
       "</table>\n"
      ],
      "text/latex": [
       "\\begin{tabular}{r|lllll}\n",
       "  & No, I don't think they would & Maybe & Yes, they do & Yes, I think they would & No, they do not\\\\\n",
       "\\hline\n",
       "\tclass 1:  & 0.4940    & 0.435     &  1.70e-02 & 0.0238    & 0.0309   \\\\\n",
       "\tclass 2:  & 0.4910    & 0.378     & 5.31e-197 & 0.0365    & 0.0953   \\\\\n",
       "\tclass 3:  & 0.0805    & 0.371     &  4.38e-02 & 0.5010    & 0.0039   \\\\\n",
       "\\end{tabular}\n"
      ],
      "text/markdown": [
       "\n",
       "| <!--/--> | No, I don't think they would | Maybe | Yes, they do | Yes, I think they would | No, they do not | \n",
       "|---|---|---|\n",
       "| class 1:  | 0.4940    | 0.435     |  1.70e-02 | 0.0238    | 0.0309    | \n",
       "| class 2:  | 0.4910    | 0.378     | 5.31e-197 | 0.0365    | 0.0953    | \n",
       "| class 3:  | 0.0805    | 0.371     |  4.38e-02 | 0.5010    | 0.0039    | \n",
       "\n",
       "\n"
      ],
      "text/plain": [
       "          No, I don't think they would Maybe Yes, they do\n",
       "class 1:  0.4940                       0.435  1.70e-02   \n",
       "class 2:  0.4910                       0.378 5.31e-197   \n",
       "class 3:  0.0805                       0.371  4.38e-02   \n",
       "          Yes, I think they would No, they do not\n",
       "class 1:  0.0238                  0.0309         \n",
       "class 2:  0.0365                  0.0953         \n",
       "class 3:  0.5010                  0.0039         "
      ]
     },
     "metadata": {},
     "output_type": "display_data"
    }
   ],
   "source": [
    "displayTable(finalMod.lcm,\"teamNegMH\")"
   ]
  },
  {
   "cell_type": "markdown",
   "metadata": {},
   "source": [
    "_Table 12: Conditional Probabilities on Answers to the question \"Do you think that team members/co-workers would view you more negatively if they knew you suffered from a mental health issue?\" ._\n",
    "\n",
    "We see a that Class $3$ leans yes in this situation while classes $1$ and $2$ lean no in this situation. This is very similar to our previous question, although there is a deeper \"lean no\" in this context."
   ]
  },
  {
   "cell_type": "code",
   "execution_count": 20,
   "metadata": {
    "collapsed": false
   },
   "outputs": [
    {
     "data": {
      "text/html": [
       "<table>\n",
       "<thead><tr><th></th><th scope=col>No</th><th scope=col>Maybe/Not sure</th><th scope=col>Yes, I experienced</th><th scope=col>Yes, I observed</th><th scope=col>N/A</th></tr></thead>\n",
       "<tbody>\n",
       "\t<tr><th scope=row>class 1: </th><td>0.639 </td><td>0.165 </td><td>0.0546</td><td>0.0473</td><td>0.0939</td></tr>\n",
       "\t<tr><th scope=row>class 2: </th><td>0.497 </td><td>0.243 </td><td>0.1010</td><td>0.1270</td><td>0.0317</td></tr>\n",
       "\t<tr><th scope=row>class 3: </th><td>0.317 </td><td>0.273 </td><td>0.1570</td><td>0.2160</td><td>0.0371</td></tr>\n",
       "</tbody>\n",
       "</table>\n"
      ],
      "text/latex": [
       "\\begin{tabular}{r|lllll}\n",
       "  & No & Maybe/Not sure & Yes, I experienced & Yes, I observed & N/A\\\\\n",
       "\\hline\n",
       "\tclass 1:  & 0.639  & 0.165  & 0.0546 & 0.0473 & 0.0939\\\\\n",
       "\tclass 2:  & 0.497  & 0.243  & 0.1010 & 0.1270 & 0.0317\\\\\n",
       "\tclass 3:  & 0.317  & 0.273  & 0.1570 & 0.2160 & 0.0371\\\\\n",
       "\\end{tabular}\n"
      ],
      "text/markdown": [
       "\n",
       "| <!--/--> | No | Maybe/Not sure | Yes, I experienced | Yes, I observed | N/A | \n",
       "|---|---|---|\n",
       "| class 1:  | 0.639  | 0.165  | 0.0546 | 0.0473 | 0.0939 | \n",
       "| class 2:  | 0.497  | 0.243  | 0.1010 | 0.1270 | 0.0317 | \n",
       "| class 3:  | 0.317  | 0.273  | 0.1570 | 0.2160 | 0.0371 | \n",
       "\n",
       "\n"
      ],
      "text/plain": [
       "          No    Maybe/Not sure Yes, I experienced Yes, I observed N/A   \n",
       "class 1:  0.639 0.165          0.0546             0.0473          0.0939\n",
       "class 2:  0.497 0.243          0.1010             0.1270          0.0317\n",
       "class 3:  0.317 0.273          0.1570             0.2160          0.0371"
      ]
     },
     "metadata": {},
     "output_type": "display_data"
    }
   ],
   "source": [
    "displayTable(finalMod.lcm,\"observeBadResponseMH\")"
   ]
  },
  {
   "cell_type": "markdown",
   "metadata": {},
   "source": [
    "_Table 13: Conditional Probabilities on Answers to the question \"Have you observed or experienced an unsupportive or badly handled response to a mental health issue in your current or previous workplace?\" ._\n",
    "\n",
    "The key changes we see are in the No and Maybe columns. Class $1$ leans no, while Classes $2$ and $3$ lean only more weakly no with Class $3$ leaning maybe."
   ]
  },
  {
   "cell_type": "markdown",
   "metadata": {
    "collapsed": true
   },
   "source": [
    "## Class Descriptions\n",
    "\n",
    "It is apparent to me that Class $1$ represents individuals with a high amount of mental health benefits, moderate employer respect over mental health conditions, moderate to high colleague respect over mental health conditions, and a perception of low career damage over mental health conditions. Class $2$ contains individuals with high employer-provided mental health benefits, high employer respect over mental health conditions, high colleague respect over mental health conditions, and a perception of moderate career damage over mental health conditions. Class $3$ contains individuals with moderate employer-provided mental health benefits, low employer and colleague respect over mental health conditions, and a perception of high career damage over mental health conditions.\n",
    "\n",
    "In this extent, Class $1$ represents a group of individuals who perceive moderate support in the workplace over mental health conditions, Class $2$ represents a group of individuals who perceive high support in the workplace over mental health conditions, and Class $3$ represents a group of individuals who perceive low support in the workplace over mental health conditions. Given that Class $3$ is the biggest cluster and Class $2$ is the smallest cluster of the model, this measure is slightly concerning."
   ]
  },
  {
   "cell_type": "markdown",
   "metadata": {},
   "source": [
    "# Relationship of Clusters with Demographics\n",
    "\n",
    "To relate back to our previous analysis, it will be interesting to study the relationship of our current clusters with some of our demographic variables. We will need to do some variable transformation to study some of the relationships."
   ]
  },
  {
   "cell_type": "code",
   "execution_count": 21,
   "metadata": {
    "collapsed": false
   },
   "outputs": [],
   "source": [
    "#store predictions\n",
    "inferenceFrame$predictions = finalMod.lcm$predclass"
   ]
  },
  {
   "cell_type": "code",
   "execution_count": 22,
   "metadata": {
    "collapsed": false
   },
   "outputs": [],
   "source": [
    "#get isUSA\n",
    "inferenceFrame$isUSA = 0\n",
    "inferenceFrame$isUSA[\n",
    "        which(inferenceFrame$country == \"United States of America\")] = 1"
   ]
  },
  {
   "cell_type": "code",
   "execution_count": 23,
   "metadata": {
    "collapsed": false
   },
   "outputs": [
    {
     "data": {
      "text/plain": [
       "   \n",
       "      1   2   3\n",
       "  0  82  35 110\n",
       "  1  64 101 181"
      ]
     },
     "metadata": {},
     "output_type": "display_data"
    }
   ],
   "source": [
    "#then form a table\n",
    "usaPredictTable = table(inferenceFrame$isUSA,inferenceFrame$predictions)\n",
    "usaPredictTable"
   ]
  },
  {
   "cell_type": "markdown",
   "metadata": {},
   "source": [
    "_Table 14: isUSA on class assignment._\n",
    "\n",
    "We see that $P(2|\\neg isUSA) = \\frac{35}{82 + 35 + 110} \\approx 15.41\\%.$ In contrast,\n",
    "\n",
    "$$P(2 | isUSA) = \\frac{101}{64 + 101 + 181} \\approx 29.19\\%.$$\n",
    "\n",
    "This does suggest a slightly increased assignment to class $2$ for individuals in the United States. This may suggest that workers in the United States generally have higher support in the workplace over mental health conditions than individuals who are not in the United States. This is an important suggestion based on our previous statements aobut the significance of $isUSA$ for predicting the incidence rate of diagnosed mental health conditions. That being said,\n",
    "\n",
    "$$P(3|\\neg isUSA) = \\frac{110}{82 + 35 + 110} \\approx 48.46\\%$$\n",
    "\n",
    "and\n",
    "\n",
    "$$P(3| isUSA) = \\frac{181}{64 + 101 + 181} \\approx 52.31\\%,$$\n",
    "\n",
    "So the rate of low support is rather high in both cases."
   ]
  },
  {
   "cell_type": "code",
   "execution_count": 24,
   "metadata": {
    "collapsed": false
   },
   "outputs": [
    {
     "data": {
      "image/png": "[encoded data removed]",
      "text/plain": [
       "Plot with title “Age on Class Assignment”"
      ]
     },
     "metadata": {},
     "output_type": "display_data"
    }
   ],
   "source": [
    "boxplot(age~predictions,data = inferenceFrame,ylab = \"age\",\n",
    "        xlab = \"Class Assignment\",\n",
    "        main = \"Age on Class Assignment\")"
   ]
  },
  {
   "cell_type": "markdown",
   "metadata": {},
   "source": [
    "_Figure 2: Age on Class Assignment._\n",
    "\n",
    "We see little relation between age of the worker and the class assignment. That being said, it looks like the the inter-quartile range (IQR) for class $1$ is shifted slightly lower than the IQRs for classes $2$ and $3$."
   ]
  },
  {
   "cell_type": "code",
   "execution_count": 25,
   "metadata": {
    "collapsed": false
   },
   "outputs": [],
   "source": [
    "#then recode gender (i.e. a social construct)\n",
    "genderFrame = read.csv(\"../../data/preprocessed/genderCountFrame.csv\")\n",
    "colnames(genderFrame)[1] = \"gender\"\n",
    "genderFrame$count = NULL\n",
    "#merge the two datasets\n",
    "inferenceFrame = merge(inferenceFrame,genderFrame,by = \"gender\")"
   ]
  },
  {
   "cell_type": "code",
   "execution_count": 26,
   "metadata": {
    "collapsed": false
   },
   "outputs": [],
   "source": [
    "inferenceFrame$gender = inferenceFrame$genderMap\n",
    "inferenceFrame$genderMap = NULL"
   ]
  },
  {
   "cell_type": "code",
   "execution_count": 27,
   "metadata": {
    "collapsed": false
   },
   "outputs": [
    {
     "data": {
      "text/plain": [
       "   \n",
       "      1   2   3\n",
       "  M 118 104 206\n",
       "  O   4   1   5\n",
       "  W  24  31  80"
      ]
     },
     "metadata": {},
     "output_type": "display_data"
    }
   ],
   "source": [
    "genderPredictTable = table(inferenceFrame$gender,inferenceFrame$predictions)\n",
    "genderPredictTable"
   ]
  },
  {
   "cell_type": "markdown",
   "metadata": {},
   "source": [
    "_Table 15: encoded gender on class assignment._\n",
    "\n",
    "We see that\n",
    "\n",
    "$$P(2 | M) = \\frac{104}{118 + 104 + 206} = 24.30\\%$$\n",
    "\n",
    "and\n",
    "\n",
    "$$P(2 | W) = \\frac{24}{24 + 31 + 80} = 22.96\\%.$$\n",
    "\n",
    "These are pretty close together, which may suggest that the perception of high support is of equal proportion in the men and women populations. That being said, we would need to do more formal testing to check this assumption. We also see that\n",
    "\n",
    "$$P(3 | M) = \\frac{206}{118 + 104 + 206} \\approx 48.13\\%$$\n",
    "\n",
    "and that\n",
    "\n",
    "$$P(3 | W) = \\frac{80}{24 + 31 + 80} = 59.26\\%$$\n",
    "\n",
    "This is a sizable effect to consider. In particular, it would suggest that women are more likely to feel poorly supported on mental health in the industry than men."
   ]
  },
  {
   "cell_type": "code",
   "execution_count": 84,
   "metadata": {
    "collapsed": false
   },
   "outputs": [],
   "source": [
    "inferenceFrame$companySize[is.na(inferenceFrame$companySize)] = (\n",
    "                            \"Self-Employed\")"
   ]
  },
  {
   "cell_type": "code",
   "execution_count": 28,
   "metadata": {
    "collapsed": false
   },
   "outputs": [
    {
     "data": {
      "text/plain": [
       "                \n",
       "                  1  2  3\n",
       "  1-5            12  3 17\n",
       "  100-500        29 31 58\n",
       "  26-100         44 39 74\n",
       "  500-1000       11 11 15\n",
       "  6-25           34 13 48\n",
       "  More than 1000 16 39 79"
      ]
     },
     "metadata": {},
     "output_type": "display_data"
    }
   ],
   "source": [
    "table(inferenceFrame$companySize,inferenceFrame$predictions)"
   ]
  },
  {
   "cell_type": "markdown",
   "metadata": {},
   "source": [
    "_Table 16: company size on class assignment._\n",
    "\n",
    "Given the many levels of this variable, it is currently difficult to find a real effect in this."
   ]
  },
  {
   "cell_type": "code",
   "execution_count": 29,
   "metadata": {
    "collapsed": false
   },
   "outputs": [
    {
     "data": {
      "text/plain": [
       "     \n",
       "        1   2   3\n",
       "  No  101  66 125\n",
       "  Yes  45  70 166"
      ]
     },
     "metadata": {},
     "output_type": "display_data"
    }
   ],
   "source": [
    "table(inferenceFrame$diagnosedWithMHD,inferenceFrame$predictions)"
   ]
  },
  {
   "cell_type": "markdown",
   "metadata": {},
   "source": [
    "_Table 17: Diagnosed with Mental Health Condition on class assignment._\n",
    "\n",
    "We see that\n",
    "\n",
    "$$P(2|No) = \\frac{66}{101 + 66 + 125} = 22.6\\%$$\n",
    "\n",
    "and\n",
    "\n",
    "$$P(2|Yes) = \\frac{70}{45 + 70 + 166} = 24.91\\%.$$\n",
    "\n",
    "These rates are actually rather close, which suggests to me that ```diagnosedWithMHD``` is not going to do a great job at predicting class $2$ assignment.\n",
    "\n",
    "We also see that\n",
    "\n",
    "$$P(3|No) = \\frac{125}{101 + 66 + 125} \\approx 42.81\\%$$\n",
    "\n",
    "and that\n",
    "\n",
    "$$P(3|Yes) = \\frac{166}{45 + 70 + 166} \\approx 59.07\\%.$$\n",
    "\n",
    "This is where ```diagnosedWithMHD``` is having some effect. In particular, it suggests that individuals diagnosed with a mental health condition are somewhat more likely to feel a sense of low support over mental health in the industry than those who don't have a mental health condition. While this is somewhat unsurprising, it is a real policy concern that we need to be considering when developing implications."
   ]
  },
  {
   "cell_type": "markdown",
   "metadata": {},
   "source": [
    "## Simple Modeling\n",
    "\n",
    "Let us try a slightly more informed manner of relating demographic variables to our class assignment.\n",
    "\n",
    "1. We will attempt to fit a multinomial classifier for our class assignment over our studied demographic variables. We will select the variables of this multinomial classifier using a forward-backward selection procedure over $AIC.$ This will start with the only-intercept model and build out to an upper-bound of an all-interactions model.\n",
    "\n",
    "2. We will also fit a decision tree to this dataset.\n",
    "\n",
    "3. Whichever model performs the best on the inference set will be our selected model for study. This method has slight limitations because we do not optimize our model for out-of-sample prediction. Nonetheless, since we have limited amounts of data left, it did not make sense to me to perform another data split on the inference set."
   ]
  },
  {
   "cell_type": "code",
   "execution_count": 30,
   "metadata": {
    "collapsed": false
   },
   "outputs": [],
   "source": [
    "lowerBoundForm = \"factor(predictions)~1\"\n",
    "#then make upperbound\n",
    "upperBoundModVec = c()\n",
    "#get all interaction levels available\n",
    "for (gender in c(TRUE,FALSE)){\n",
    "    for (isUSA in c(TRUE,FALSE)){\n",
    "        for (companySize in c(TRUE,FALSE)){\n",
    "            for (age in c(TRUE,FALSE)){\n",
    "                for (diagnosedWithMHD in c(TRUE,FALSE)){\n",
    "                    givenTermVec = c()\n",
    "                    if (gender){\n",
    "                        givenTermVec = c(givenTermVec,\"factor(gender)\")\n",
    "                    }\n",
    "                    if (companySize){\n",
    "                        givenTermVec = c(givenTermVec,\"factor(companySize)\")\n",
    "                    }\n",
    "                    if (isUSA){\n",
    "                        givenTermVec = c(givenTermVec,\"factor(isUSA)\")\n",
    "                    }\n",
    "                    if (age){\n",
    "                        givenTermVec = c(givenTermVec,\"age\")\n",
    "                    }\n",
    "                    if (diagnosedWithMHD){\n",
    "                        givenTermVec = c(givenTermVec,\n",
    "                                         \"factor(diagnosedWithMHD)\")\n",
    "                    }\n",
    "                    #then paste these all\n",
    "                    givenTerm = paste(givenTermVec,collapse = \":\")\n",
    "                    if (givenTerm != \"\"){\n",
    "                        upperBoundModVec = c(upperBoundModVec,givenTerm)\n",
    "                    }\n",
    "                }\n",
    "            }\n",
    "        }\n",
    "    }\n",
    "}\n",
    "#then get upper bound form\n",
    "upperBoundForm = paste(upperBoundModVec,collapse = \"+\")\n",
    "upperBoundForm = paste0(\"factor(predictions)~\",upperBoundForm)"
   ]
  },
  {
   "cell_type": "code",
   "execution_count": 31,
   "metadata": {
    "collapsed": false,
    "scrolled": true
   },
   "outputs": [
    {
     "name": "stdout",
     "output_type": "stream",
     "text": [
      "# weights:  6 (2 variable)\n",
      "initial  value 629.504841 \n",
      "final  value 592.392815 \n",
      "converged\n",
      "# weights:  435 (288 variable)\n",
      "initial  value 629.504841 \n",
      "iter  10 value 542.813163\n",
      "iter  20 value 528.191198\n",
      "iter  30 value 523.061233\n",
      "iter  40 value 519.381562\n",
      "iter  50 value 514.007613\n",
      "iter  60 value 504.123795\n",
      "iter  70 value 494.024810\n",
      "iter  80 value 488.361278\n",
      "iter  90 value 480.803739\n",
      "iter 100 value 473.311798\n",
      "final  value 473.311798 \n",
      "stopped after 100 iterations\n",
      "Start:  AIC=1188.79\n",
      "factor(predictions) ~ 1\n",
      "\n",
      "trying + factor(gender) \n",
      "# weights:  12 (6 variable)\n",
      "initial  value 629.504841 \n",
      "iter  10 value 588.161831\n",
      "final  value 588.161351 \n",
      "converged\n",
      "trying + factor(isUSA) \n",
      "# weights:  9 (4 variable)\n",
      "initial  value 629.504841 \n",
      "final  value 578.266817 \n",
      "converged\n",
      "trying + factor(companySize) \n",
      "# weights:  21 (12 variable)\n",
      "initial  value 629.504841 \n",
      "iter  10 value 578.688966\n",
      "final  value 576.574040 \n",
      "converged\n",
      "trying + age \n",
      "# weights:  9 (4 variable)\n",
      "initial  value 629.504841 \n",
      "final  value 586.852717 \n",
      "converged\n",
      "trying + factor(diagnosedWithMHD) \n",
      "# weights:  9 (4 variable)\n",
      "initial  value 629.504841 \n",
      "iter  10 value 578.521719\n",
      "iter  10 value 578.521719\n",
      "final  value 578.521719 \n",
      "converged\n",
      "                            Df      AIC\n",
      "+ +factor(isUSA)             4 1164.534\n",
      "+ +factor(diagnosedWithMHD)  4 1165.043\n",
      "+ +factor(companySize)      12 1177.148\n",
      "+ +age                       4 1181.705\n",
      "+ +factor(gender)            6 1188.323\n",
      "<none>                       2 1188.786\n",
      "# weights:  9 (4 variable)\n",
      "initial  value 629.504841 \n",
      "final  value 578.266817 \n",
      "converged\n",
      "\n",
      "Step:  AIC=1164.53\n",
      "factor(predictions) ~ factor(isUSA)\n",
      "\n",
      "trying - factor(isUSA) \n",
      "# weights:  6 (2 variable)\n",
      "initial  value 629.504841 \n",
      "final  value 592.392815 \n",
      "converged\n",
      "trying + factor(gender) \n",
      "# weights:  15 (8 variable)\n",
      "initial  value 629.504841 \n",
      "iter  10 value 575.985037\n",
      "final  value 575.494784 \n",
      "converged\n",
      "trying + factor(companySize) \n",
      "# weights:  24 (14 variable)\n",
      "initial  value 629.504841 \n",
      "iter  10 value 568.979859\n",
      "iter  20 value 565.348033\n",
      "iter  20 value 565.348031\n",
      "iter  20 value 565.348031\n",
      "final  value 565.348031 \n",
      "converged\n",
      "trying + age \n",
      "# weights:  12 (6 variable)\n",
      "initial  value 629.504841 \n",
      "iter  10 value 574.567836\n",
      "final  value 574.567800 \n",
      "converged\n",
      "trying + factor(diagnosedWithMHD) \n",
      "# weights:  12 (6 variable)\n",
      "initial  value 629.504841 \n",
      "iter  10 value 566.331266\n",
      "final  value 566.331042 \n",
      "converged\n",
      "                            Df      AIC\n",
      "+ +factor(diagnosedWithMHD)  6 1144.662\n",
      "+ +factor(companySize)      14 1158.696\n",
      "+ +age                       6 1161.136\n",
      "<none>                       4 1164.534\n",
      "+ +factor(gender)            8 1166.990\n",
      "- factor(isUSA)              2 1188.786\n",
      "# weights:  12 (6 variable)\n",
      "initial  value 629.504841 \n",
      "iter  10 value 566.331266\n",
      "final  value 566.331042 \n",
      "converged\n",
      "\n",
      "Step:  AIC=1144.66\n",
      "factor(predictions) ~ factor(isUSA) + factor(diagnosedWithMHD)\n",
      "\n",
      "trying - factor(isUSA) \n",
      "# weights:  9 (4 variable)\n",
      "initial  value 629.504841 \n",
      "iter  10 value 578.521719\n",
      "iter  10 value 578.521719\n",
      "final  value 578.521719 \n",
      "converged\n",
      "trying - factor(diagnosedWithMHD) \n",
      "# weights:  9 (4 variable)\n",
      "initial  value 629.504841 \n",
      "final  value 578.266817 \n",
      "converged\n",
      "trying + factor(gender) \n",
      "# weights:  18 (10 variable)\n",
      "initial  value 629.504841 \n",
      "iter  10 value 565.610120\n",
      "final  value 564.477297 \n",
      "converged\n",
      "trying + factor(companySize) \n",
      "# weights:  27 (16 variable)\n",
      "initial  value 629.504841 \n",
      "iter  10 value 557.792244\n",
      "iter  20 value 554.705741\n",
      "final  value 554.705424 \n",
      "converged\n",
      "trying + age \n",
      "# weights:  15 (8 variable)\n",
      "initial  value 629.504841 \n",
      "iter  10 value 562.956647\n",
      "final  value 562.700555 \n",
      "converged\n",
      "trying + factor(isUSA):factor(diagnosedWithMHD) \n",
      "# weights:  15 (8 variable)\n",
      "initial  value 629.504841 \n",
      "iter  10 value 567.310312\n",
      "final  value 566.126188 \n",
      "converged\n",
      "                                          Df      AIC\n",
      "+ +age                                     8 1141.401\n",
      "+ +factor(companySize)                    16 1141.411\n",
      "<none>                                     6 1144.662\n",
      "+ +factor(isUSA):factor(diagnosedWithMHD)  8 1148.252\n",
      "+ +factor(gender)                         10 1148.955\n",
      "- factor(diagnosedWithMHD)                 4 1164.534\n",
      "- factor(isUSA)                            4 1165.043\n",
      "# weights:  15 (8 variable)\n",
      "initial  value 629.504841 \n",
      "iter  10 value 562.956647\n",
      "final  value 562.700555 \n",
      "converged\n",
      "\n",
      "Step:  AIC=1141.4\n",
      "factor(predictions) ~ factor(isUSA) + factor(diagnosedWithMHD) + \n",
      "    age\n",
      "\n",
      "trying - factor(isUSA) \n",
      "# weights:  12 (6 variable)\n",
      "initial  value 629.504841 \n",
      "iter  10 value 573.092380\n",
      "final  value 573.091903 \n",
      "converged\n",
      "trying - factor(diagnosedWithMHD) \n",
      "# weights:  12 (6 variable)\n",
      "initial  value 629.504841 \n",
      "iter  10 value 574.567836\n",
      "final  value 574.567800 \n",
      "converged\n",
      "trying - age \n",
      "# weights:  12 (6 variable)\n",
      "initial  value 629.504841 \n",
      "iter  10 value 566.331266\n",
      "final  value 566.331042 \n",
      "converged\n",
      "trying + factor(gender) \n",
      "# weights:  21 (12 variable)\n",
      "initial  value 629.504841 \n",
      "iter  10 value 561.305730\n",
      "final  value 560.877511 \n",
      "converged\n",
      "trying + factor(companySize) \n",
      "# weights:  30 (18 variable)\n",
      "initial  value 629.504841 \n",
      "iter  10 value 554.831272\n",
      "iter  20 value 552.237795\n",
      "final  value 552.220969 \n",
      "converged\n",
      "trying + factor(isUSA):age \n",
      "# weights:  18 (10 variable)\n",
      "initial  value 629.504841 \n",
      "iter  10 value 563.272865\n",
      "final  value 562.652604 \n",
      "converged\n",
      "trying + factor(isUSA):factor(diagnosedWithMHD) \n",
      "# weights:  18 (10 variable)\n",
      "initial  value 629.504841 \n",
      "iter  10 value 563.038895\n",
      "final  value 562.599585 \n",
      "converged\n",
      "trying + age:factor(diagnosedWithMHD) \n",
      "# weights:  18 (10 variable)\n",
      "initial  value 629.504841 \n",
      "iter  10 value 560.076889\n",
      "final  value 557.703568 \n",
      "converged\n",
      "                                          Df      AIC\n",
      "+ +age:factor(diagnosedWithMHD)           10 1135.407\n",
      "+ +factor(companySize)                    18 1140.442\n",
      "<none>                                     8 1141.401\n",
      "- age                                      6 1144.662\n",
      "+ +factor(isUSA):factor(diagnosedWithMHD) 10 1145.199\n",
      "+ +factor(isUSA):age                      10 1145.305\n",
      "+ +factor(gender)                         12 1145.755\n",
      "- factor(isUSA)                            6 1158.184\n",
      "- factor(diagnosedWithMHD)                 6 1161.136\n",
      "# weights:  18 (10 variable)\n",
      "initial  value 629.504841 \n",
      "iter  10 value 560.076889\n",
      "final  value 557.703568 \n",
      "converged\n",
      "\n",
      "Step:  AIC=1135.41\n",
      "factor(predictions) ~ factor(isUSA) + factor(diagnosedWithMHD) + \n",
      "    age + factor(diagnosedWithMHD):age\n",
      "\n",
      "trying - factor(isUSA) \n",
      "# weights:  15 (8 variable)\n",
      "initial  value 629.504841 \n",
      "iter  10 value 567.314618\n",
      "final  value 567.312121 \n",
      "converged\n",
      "trying - factor(diagnosedWithMHD):age \n",
      "# weights:  15 (8 variable)\n",
      "initial  value 629.504841 \n",
      "iter  10 value 562.956647\n",
      "final  value 562.700555 \n",
      "converged\n",
      "trying + factor(gender) \n",
      "# weights:  24 (14 variable)\n",
      "initial  value 629.504841 \n",
      "iter  10 value 559.804954\n",
      "final  value 555.810695 \n",
      "converged\n",
      "trying + factor(companySize) \n",
      "# weights:  33 (20 variable)\n",
      "initial  value 629.504841 \n",
      "iter  10 value 556.353968\n",
      "iter  20 value 547.196657\n",
      "final  value 547.173967 \n",
      "converged\n",
      "trying + factor(isUSA):age \n",
      "# weights:  21 (12 variable)\n",
      "initial  value 629.504841 \n",
      "iter  10 value 560.456432\n",
      "final  value 557.629496 \n",
      "converged\n",
      "trying + factor(isUSA):factor(diagnosedWithMHD) \n",
      "# weights:  21 (12 variable)\n",
      "initial  value 629.504841 \n",
      "iter  10 value 561.146981\n",
      "final  value 557.669985 \n",
      "converged\n",
      "                                          Df      AIC\n",
      "+ +factor(companySize)                    20 1134.348\n",
      "<none>                                    10 1135.407\n",
      "+ +factor(isUSA):age                      12 1139.259\n",
      "+ +factor(isUSA):factor(diagnosedWithMHD) 12 1139.340\n",
      "+ +factor(gender)                         14 1139.621\n",
      "- factor(diagnosedWithMHD):age             8 1141.401\n",
      "- factor(isUSA)                            8 1150.624\n",
      "# weights:  33 (20 variable)\n",
      "initial  value 629.504841 \n",
      "iter  10 value 556.353968\n",
      "iter  20 value 547.196657\n",
      "final  value 547.173967 \n",
      "converged\n",
      "\n",
      "Step:  AIC=1134.35\n",
      "factor(predictions) ~ factor(isUSA) + factor(diagnosedWithMHD) + \n",
      "    age + factor(companySize) + factor(diagnosedWithMHD):age\n",
      "\n",
      "trying - factor(isUSA) \n",
      "# weights:  30 (18 variable)\n",
      "initial  value 629.504841 \n",
      "iter  10 value 561.632122\n",
      "iter  20 value 554.948481\n",
      "final  value 554.946447 \n",
      "converged\n",
      "trying - factor(companySize) \n",
      "# weights:  18 (10 variable)\n",
      "initial  value 629.504841 \n",
      "iter  10 value 560.076889\n",
      "final  value 557.703568 \n",
      "converged\n",
      "trying - factor(diagnosedWithMHD):age \n",
      "# weights:  30 (18 variable)\n",
      "initial  value 629.504841 \n",
      "iter  10 value 554.831272\n",
      "iter  20 value 552.237795\n",
      "final  value 552.220969 \n",
      "converged\n",
      "trying + factor(gender) \n",
      "# weights:  39 (24 variable)\n",
      "initial  value 629.504841 \n",
      "iter  10 value 553.400489\n",
      "iter  20 value 545.415446\n",
      "final  value 545.344600 \n",
      "converged\n",
      "trying + factor(isUSA):factor(companySize) \n",
      "# weights:  48 (30 variable)\n",
      "initial  value 629.504841 \n",
      "iter  10 value 553.412698\n",
      "iter  20 value 540.422513\n",
      "iter  30 value 540.078476\n",
      "final  value 540.078044 \n",
      "converged\n",
      "trying + factor(isUSA):age \n",
      "# weights:  36 (22 variable)\n",
      "initial  value 629.504841 \n",
      "iter  10 value 562.008644\n",
      "iter  20 value 547.014009\n",
      "final  value 546.961401 \n",
      "converged\n",
      "trying + factor(isUSA):factor(diagnosedWithMHD) \n",
      "# weights:  36 (22 variable)\n",
      "initial  value 629.504841 \n",
      "iter  10 value 558.112751\n",
      "iter  20 value 547.182534\n",
      "final  value 547.155348 \n",
      "converged\n",
      "trying + factor(companySize):age \n",
      "# weights:  48 (30 variable)\n",
      "initial  value 629.504841 \n",
      "iter  10 value 569.918705\n",
      "iter  20 value 546.645589\n",
      "iter  30 value 542.197431\n",
      "iter  40 value 541.937701\n",
      "final  value 541.937456 \n",
      "converged\n",
      "trying + factor(companySize):factor(diagnosedWithMHD) \n",
      "# weights:  48 (30 variable)\n",
      "initial  value 629.504841 \n",
      "iter  10 value 551.917349\n",
      "iter  20 value 542.792691\n",
      "iter  30 value 542.618139\n",
      "final  value 542.615307 \n",
      "converged\n",
      "                                                Df      AIC\n",
      "<none>                                          20 1134.348\n",
      "- factor(companySize)                           10 1135.407\n",
      "+ +factor(isUSA):age                            22 1137.923\n",
      "+ +factor(isUSA):factor(diagnosedWithMHD)       22 1138.311\n",
      "+ +factor(gender)                               24 1138.689\n",
      "+ +factor(isUSA):factor(companySize)            30 1140.156\n",
      "- factor(diagnosedWithMHD):age                  18 1140.442\n",
      "+ +factor(companySize):age                      30 1143.875\n",
      "+ +factor(companySize):factor(diagnosedWithMHD) 30 1145.231\n",
      "- factor(isUSA)                                 18 1145.893\n"
     ]
    }
   ],
   "source": [
    "#then do stepwise regression for class 1\n",
    "baseMod = multinom(lowerBoundForm,data = inferenceFrame)\n",
    "upperMod = multinom(upperBoundForm,data = inferenceFrame)\n",
    "finalClassMod.mc = step(baseMod,scope = list(lower = baseMod,upper = upperMod),\n",
    "                   data = inferenceFrame,direction = \"both\")"
   ]
  },
  {
   "cell_type": "code",
   "execution_count": 32,
   "metadata": {
    "collapsed": false
   },
   "outputs": [
    {
     "data": {
      "text/plain": [
       "factor(predictions) ~ factor(isUSA) + factor(diagnosedWithMHD) + \n",
       "    age + factor(companySize) + factor(diagnosedWithMHD):age\n",
       "<environment: 0x7f8b3a56de98>"
      ]
     },
     "metadata": {},
     "output_type": "display_data"
    }
   ],
   "source": [
    "summary(finalClassMod.mc)$call$formula"
   ]
  },
  {
   "cell_type": "markdown",
   "metadata": {
    "collapsed": true
   },
   "source": [
    "_Figure 3: Our final model for the multinomial classifier._\n",
    "\n",
    "We see that our model considers $isUSA$, $age$, $companySize$, $diagnosedWithMHD$, and the interaction between $companySize$ and $diagnosedWithMHD$ in the final model. This slightly surprising given the sizable gender effect discovered in the previous step. I may still want to include this variable in our final model in order to build upon the gender effect discovered [in my previous analysis](https://medium.com/@tfluffm/data-and-mental-health-the-osmi-survey-2016-39a3d308ac2f)."
   ]
  },
  {
   "cell_type": "code",
   "execution_count": 33,
   "metadata": {
    "collapsed": false
   },
   "outputs": [],
   "source": [
    "#try a decision tree\n",
    "finalClassMod.tree = tree(factor(predictions) ~ factor(isUSA) + age +\n",
    "                                        factor(gender) + factor(companySize)\n",
    "                                          + factor(diagnosedWithMHD),\n",
    "                                          data = inferenceFrame)"
   ]
  },
  {
   "cell_type": "code",
   "execution_count": 34,
   "metadata": {
    "collapsed": false
   },
   "outputs": [
    {
     "data": {
      "image/png": "[encoded data removed]",
      "text/plain": [
       "plot without title"
      ]
     },
     "metadata": {},
     "output_type": "display_data"
    }
   ],
   "source": [
    "plot(finalClassMod.tree)\n",
    "text(finalClassMod.tree,pretty = TRUE)"
   ]
  },
  {
   "cell_type": "markdown",
   "metadata": {},
   "source": [
    "_Figure 4: Our final Decision Tree Model._\n",
    "\n",
    "We see that our decision tree seems to never predict if an individual is assigned to class assignment 2. This is a strong suggestion that we have an imbalanced classes issue that our current decision tree is having issues picking up. Like our multinomial logistic regression, `age`, `companySize`, `isUSA`, and `diagnosedWithMHD` seems to occur."
   ]
  },
  {
   "cell_type": "code",
   "execution_count": 35,
   "metadata": {
    "collapsed": false
   },
   "outputs": [],
   "source": [
    "#check predictions of both\n",
    "mClassPredictions = predict(finalClassMod.mc)\n",
    "treePredictions = predict(finalClassMod.tree,type = \"class\")\n",
    "actualPredictions = inferenceFrame$predictions"
   ]
  },
  {
   "cell_type": "code",
   "execution_count": 36,
   "metadata": {
    "collapsed": false,
    "run_control": {
     "marked": false
    }
   },
   "outputs": [
    {
     "name": "stdout",
     "output_type": "stream",
     "text": [
      "[1] \"The proportion accurate for the multinomial classifier is: 0.529\"\n",
      "[1] \"The proportion accurate for the decision tree is: 0.546\"\n"
     ]
    }
   ],
   "source": [
    "#get accuracy\n",
    "numAccurate.mc = length(\n",
    "                actualPredictions[(actualPredictions == mClassPredictions)])\n",
    "numAccurate.tree = length(\n",
    "                actualPredictions[(actualPredictions == treePredictions)])\n",
    "propAccurate.mc = numAccurate.mc / length(actualPredictions)\n",
    "propAccurate.tree = numAccurate.tree / length(actualPredictions)\n",
    "print(paste(\"The proportion accurate for the multinomial\",\n",
    "            \"classifier is:\",signif(propAccurate.mc,sigLev)))\n",
    "print(paste(\"The proportion accurate for the decision tree is:\",\n",
    "            signif(propAccurate.tree,sigLev)))"
   ]
  },
  {
   "cell_type": "markdown",
   "metadata": {},
   "source": [
    "We are talking about an accuracy difference of less than $2\\%$. They are both not amazing models, but the multinomial classifier at least will predict the class assignment of $2$ at particular points. Thus, I would argue that we should use the multinomial classifier for our class assignment. On a similar note, I would also like to include `gender` as a variable in the final class model in order to ensure an analysis of the gender effect."
   ]
  },
  {
   "cell_type": "code",
   "execution_count": 37,
   "metadata": {
    "collapsed": false
   },
   "outputs": [
    {
     "name": "stdout",
     "output_type": "stream",
     "text": [
      "# weights:  39 (24 variable)\n",
      "initial  value 629.504841 \n",
      "iter  10 value 553.400489\n",
      "iter  20 value 545.415446\n",
      "final  value 545.344600 \n",
      "converged\n"
     ]
    }
   ],
   "source": [
    "finalClassMod = multinom(factor(predictions) ~ factor(isUSA) \n",
    "                         + factor(diagnosedWithMHD) + age + factor(companySize)\n",
    "                         + factor(diagnosedWithMHD):age + gender,\n",
    "                         data = inferenceFrame)\n",
    "saveRDS(finalClassMod,\"../../models/finalClusterAssignmentClassifier.rds\")"
   ]
  },
  {
   "cell_type": "markdown",
   "metadata": {},
   "source": [
    "## Inference and Preditions\n",
    "\n",
    "Let's first get a measure of accuracy with the new `gender` variable included."
   ]
  },
  {
   "cell_type": "code",
   "execution_count": 38,
   "metadata": {
    "collapsed": false
   },
   "outputs": [
    {
     "name": "stdout",
     "output_type": "stream",
     "text": [
      "[1] \"The proportion accurate for the multinomial classifier is: 0.541\"\n"
     ]
    }
   ],
   "source": [
    "classPredictions = predict(finalClassMod)\n",
    "numAccurate = length(actualPredictions[(actualPredictions == classPredictions)])\n",
    "propAccurate = numAccurate / length(actualPredictions)\n",
    "print(paste(\"The proportion accurate for the multinomial\",\n",
    "            \"classifier is:\",signif(propAccurate,sigLev)))"
   ]
  },
  {
   "cell_type": "markdown",
   "metadata": {},
   "source": [
    "It looks like including the `gender` variable increased our accuracy on the inference set slightly, but it doesn't look to have a meaningful effect on accuracy."
   ]
  },
  {
   "cell_type": "code",
   "execution_count": 39,
   "metadata": {
    "collapsed": true
   },
   "outputs": [],
   "source": [
    "inferenceFrame$classAssignment = inferenceFrame$predictions\n",
    "inferenceFrame$predictedAssignment = predict(finalClassMod)"
   ]
  },
  {
   "cell_type": "code",
   "execution_count": 40,
   "metadata": {
    "collapsed": false
   },
   "outputs": [
    {
     "data": {
      "text/html": [
       "<table>\n",
       "<thead><tr><th></th><th scope=col>Actual 1</th><th scope=col>Actual 2</th><th scope=col>Actual 3</th></tr></thead>\n",
       "<tbody>\n",
       "\t<tr><th scope=row>Predict 1</th><td>54 </td><td> 10</td><td> 36</td></tr>\n",
       "\t<tr><th scope=row>Predict 2</th><td> 3 </td><td>  4</td><td>  3</td></tr>\n",
       "\t<tr><th scope=row>Predict 3</th><td>89 </td><td>122</td><td>252</td></tr>\n",
       "</tbody>\n",
       "</table>\n"
      ],
      "text/latex": [
       "\\begin{tabular}{r|lll}\n",
       "  & Actual 1 & Actual 2 & Actual 3\\\\\n",
       "\\hline\n",
       "\tPredict 1 & 54  &  10 &  36\\\\\n",
       "\tPredict 2 &  3  &   4 &   3\\\\\n",
       "\tPredict 3 & 89  & 122 & 252\\\\\n",
       "\\end{tabular}\n"
      ],
      "text/markdown": [
       "\n",
       "| <!--/--> | Actual 1 | Actual 2 | Actual 3 | \n",
       "|---|---|---|\n",
       "| Predict 1 | 54  |  10 |  36 | \n",
       "| Predict 2 |  3  |   4 |   3 | \n",
       "| Predict 3 | 89  | 122 | 252 | \n",
       "\n",
       "\n"
      ],
      "text/plain": [
       "          Actual 1 Actual 2 Actual 3\n",
       "Predict 1 54        10       36     \n",
       "Predict 2  3         4        3     \n",
       "Predict 3 89       122      252     "
      ]
     },
     "metadata": {},
     "output_type": "display_data"
    }
   ],
   "source": [
    "#let's make our confusion matrix\n",
    "confusionMat = matrix(0,nrow = 3,ncol = 3)\n",
    "for (i in 1:3){\n",
    "    for (j in 1:3){\n",
    "        levFrame = inferenceFrame[(inferenceFrame$predictedAssignment == i\n",
    "                                 & inferenceFrame$classAssignment == j),]\n",
    "        numAtLev = dim(levFrame)[1]\n",
    "        confusionMat[i,j] = numAtLev\n",
    "    }\n",
    "}\n",
    "#then name columns and rows\n",
    "rownames(confusionMat) = c(\"Predict 1\",\"Predict 2\",\"Predict 3\")\n",
    "colnames(confusionMat) = c(\"Actual 1\",\"Actual 2\",\"Actual 3\")\n",
    "confusionMat"
   ]
  },
  {
   "cell_type": "markdown",
   "metadata": {},
   "source": [
    "_Table 18: Our Confusion Matrix for our Final Model._\n",
    "\n",
    "We see by our confusion matrix that\n",
    "\n",
    "$$P(Correct | Actual(1)) = \\frac{54}{54 + 3 + 89} \\approx 36.97\\%,$$\n",
    "\n",
    "$$P(Correct | Actual(2)) = \\frac{4}{10 + 4 + 122} \\approx 2.94\\%,$$\n",
    "\n",
    "and\n",
    "\n",
    "$$P(Correct | Actual(3)) = \\frac{252}{36 + 3 + 252} \\approx 86.6\\%.$$\n",
    "\n",
    "Thus, we can see that our model is doing a pretty good job at predicting people in class assignment $3$, but generally not doing a great job at predicting classes $1$ and $2$. This is rather expected, since Class $3$ is a much larger group of individuals than classes $2$ and $1$. This is what we would call an imbalanced classes problem in the literature."
   ]
  },
  {
   "cell_type": "code",
   "execution_count": 54,
   "metadata": {
    "collapsed": false
   },
   "outputs": [
    {
     "data": {
      "text/html": [
       "<table>\n",
       "<thead><tr><th></th><th scope=col>2</th><th scope=col>3</th></tr></thead>\n",
       "<tbody>\n",
       "\t<tr><th scope=row>(Intercept)</th><td>-4.2900 </td><td>-2.17000</td></tr>\n",
       "\t<tr><th scope=row>factor(isUSA)1</th><td> 1.0200 </td><td> 0.44000</td></tr>\n",
       "\t<tr><th scope=row>factor(diagnosedWithMHD)Yes</th><td> 4.4000 </td><td> 3.23000</td></tr>\n",
       "\t<tr><th scope=row>age</th><td> 0.0666 </td><td> 0.05970</td></tr>\n",
       "\t<tr><th scope=row>factor(companySize)6-25</th><td> 0.3490 </td><td>-0.03120</td></tr>\n",
       "\t<tr><th scope=row>factor(companySize)26-100</th><td> 1.0600 </td><td> 0.03470</td></tr>\n",
       "\t<tr><th scope=row>factor(companySize)100-500</th><td> 1.2500 </td><td> 0.16300</td></tr>\n",
       "\t<tr><th scope=row>factor(companySize)500-1000</th><td> 1.3500 </td><td>-0.00414</td></tr>\n",
       "\t<tr><th scope=row>factor(companySize)More than 1000</th><td> 1.9400 </td><td> 0.96200</td></tr>\n",
       "\t<tr><th scope=row>genderO</th><td>-1.1900 </td><td>-0.40700</td></tr>\n",
       "\t<tr><th scope=row>genderW</th><td>-0.0311 </td><td> 0.31300</td></tr>\n",
       "\t<tr><th scope=row>factor(diagnosedWithMHD)Yes:age</th><td>-0.1100 </td><td>-0.06960</td></tr>\n",
       "</tbody>\n",
       "</table>\n"
      ],
      "text/latex": [
       "\\begin{tabular}{r|ll}\n",
       "  & 2 & 3\\\\\n",
       "\\hline\n",
       "\t(Intercept) & -4.2900  & -2.17000\\\\\n",
       "\tfactor(isUSA)1 &  1.0200  &  0.44000\\\\\n",
       "\tfactor(diagnosedWithMHD)Yes &  4.4000  &  3.23000\\\\\n",
       "\tage &  0.0666  &  0.05970\\\\\n",
       "\tfactor(companySize)6-25 &  0.3490  & -0.03120\\\\\n",
       "\tfactor(companySize)26-100 &  1.0600  &  0.03470\\\\\n",
       "\tfactor(companySize)100-500 &  1.2500  &  0.16300\\\\\n",
       "\tfactor(companySize)500-1000 &  1.3500  & -0.00414\\\\\n",
       "\tfactor(companySize)More than 1000 &  1.9400  &  0.96200\\\\\n",
       "\tgenderO & -1.1900  & -0.40700\\\\\n",
       "\tgenderW & -0.0311  &  0.31300\\\\\n",
       "\tfactor(diagnosedWithMHD)Yes:age & -0.1100  & -0.06960\\\\\n",
       "\\end{tabular}\n"
      ],
      "text/markdown": [
       "\n",
       "| <!--/--> | 2 | 3 | \n",
       "|---|---|---|---|---|---|---|---|---|---|---|---|\n",
       "| (Intercept) | -4.2900  | -2.17000 | \n",
       "| factor(isUSA)1 |  1.0200  |  0.44000 | \n",
       "| factor(diagnosedWithMHD)Yes |  4.4000  |  3.23000 | \n",
       "| age |  0.0666  |  0.05970 | \n",
       "| factor(companySize)6-25 |  0.3490  | -0.03120 | \n",
       "| factor(companySize)26-100 |  1.0600  |  0.03470 | \n",
       "| factor(companySize)100-500 |  1.2500  |  0.16300 | \n",
       "| factor(companySize)500-1000 |  1.3500  | -0.00414 | \n",
       "| factor(companySize)More than 1000 |  1.9400  |  0.96200 | \n",
       "| genderO | -1.1900  | -0.40700 | \n",
       "| genderW | -0.0311  |  0.31300 | \n",
       "| factor(diagnosedWithMHD)Yes:age | -0.1100  | -0.06960 | \n",
       "\n",
       "\n"
      ],
      "text/plain": [
       "                                  2       3       \n",
       "(Intercept)                       -4.2900 -2.17000\n",
       "factor(isUSA)1                     1.0200  0.44000\n",
       "factor(diagnosedWithMHD)Yes        4.4000  3.23000\n",
       "age                                0.0666  0.05970\n",
       "factor(companySize)6-25            0.3490 -0.03120\n",
       "factor(companySize)26-100          1.0600  0.03470\n",
       "factor(companySize)100-500         1.2500  0.16300\n",
       "factor(companySize)500-1000        1.3500 -0.00414\n",
       "factor(companySize)More than 1000  1.9400  0.96200\n",
       "genderO                           -1.1900 -0.40700\n",
       "genderW                           -0.0311  0.31300\n",
       "factor(diagnosedWithMHD)Yes:age   -0.1100 -0.06960"
      ]
     },
     "metadata": {},
     "output_type": "display_data"
    }
   ],
   "source": [
    "coefficientTable = summary(finalClassMod)$coefficients\n",
    "coefficientTable = t(coefficientTable)\n",
    "#shift around some variable levels for company size\n",
    "companyLowerLev = 5\n",
    "companyUpperLev = 9\n",
    "shiftVec = c(8,6,5,7,9)\n",
    "coefficientTable[companyLowerLev:companyUpperLev,] = (\n",
    "                    coefficientTable[shiftVec,])\n",
    "rownames(coefficientTable)[companyLowerLev:companyUpperLev] = (\n",
    "                                       rownames(coefficientTable)[shiftVec])\n",
    "#then print out table\n",
    "coefficientTable = signif(coefficientTable,sigLev)\n",
    "coefficientTable"
   ]
  },
  {
   "cell_type": "markdown",
   "metadata": {},
   "source": [
    "_Table 19: Our Coefficient Table For our Multinomial Classifier._\n",
    "\n",
    "There are quite a few effects to consider here.\n",
    "\n",
    "### Location Effect\n",
    "\n",
    "We see that ```isUSA``` has a class 2 effect estimate of $1.02$, which means that given all else constant, an individual working in the US is predicted to on average be $e^{1.02} \\approx 2.77$ times as likely to be associated with class $2$ than an individual not working in the US. We are thus predicting that an individual working in the US is $177\\%$ more likely to feel highly supported on mental health care in the workplace than an individual not working within the US. This at first seems promising, until we realize that since the base-likelihood of being in class $2$ is so small (see Intercept) That we are likely only estimating a relatively weak effect here.\n",
    "\n",
    "### Age and Diagnosis Effect\n",
    "\n",
    "### Company Size\n",
    "\n",
    "### Gender\n",
    "\n",
    "### Point Predictions\n",
    "\n",
    "Let's try to gather some point predictions for various levels we would like to consider given an average-aged individual, let's see our predictions for a US worker at various levels of gender and diagnosis for a large tech firm (e.g. Google, Facebook)"
   ]
  },
  {
   "cell_type": "code",
   "execution_count": 70,
   "metadata": {
    "collapsed": false
   },
   "outputs": [
    {
     "data": {
      "text/html": [
       "<table>\n",
       "<thead><tr><th scope=col>diagnosedWithMHD</th><th scope=col>gender</th><th scope=col>isUSA</th><th scope=col>age</th><th scope=col>companySize</th><th scope=col>classOneProb</th><th scope=col>classTwoProb</th><th scope=col>classThreeProb</th></tr></thead>\n",
       "<tbody>\n",
       "\t<tr><td>Yes           </td><td>W             </td><td>1             </td><td>33.6          </td><td>More than 1000</td><td>0.058         </td><td>0.28          </td><td>0.67          </td></tr>\n",
       "\t<tr><td>No            </td><td>W             </td><td>1             </td><td>33.6          </td><td>More than 1000</td><td>0.120         </td><td>0.30          </td><td>0.58          </td></tr>\n",
       "\t<tr><td>Yes           </td><td>O             </td><td>1             </td><td>33.6          </td><td>More than 1000</td><td>0.120         </td><td>0.19          </td><td>0.69          </td></tr>\n",
       "\t<tr><td>No            </td><td>O             </td><td>1             </td><td>33.6          </td><td>More than 1000</td><td>0.250         </td><td>0.19          </td><td>0.57          </td></tr>\n",
       "\t<tr><td>Yes           </td><td>M             </td><td>1             </td><td>33.6          </td><td>More than 1000</td><td>0.069         </td><td>0.34          </td><td>0.59          </td></tr>\n",
       "\t<tr><td>No            </td><td>M             </td><td>1             </td><td>33.6          </td><td>More than 1000</td><td>0.140         </td><td>0.36          </td><td>0.50          </td></tr>\n",
       "</tbody>\n",
       "</table>\n"
      ],
      "text/latex": [
       "\\begin{tabular}{r|llllllll}\n",
       " diagnosedWithMHD & gender & isUSA & age & companySize & classOneProb & classTwoProb & classThreeProb\\\\\n",
       "\\hline\n",
       "\t Yes            & W              & 1              & 33.6           & More than 1000 & 0.058          & 0.28           & 0.67          \\\\\n",
       "\t No             & W              & 1              & 33.6           & More than 1000 & 0.120          & 0.30           & 0.58          \\\\\n",
       "\t Yes            & O              & 1              & 33.6           & More than 1000 & 0.120          & 0.19           & 0.69          \\\\\n",
       "\t No             & O              & 1              & 33.6           & More than 1000 & 0.250          & 0.19           & 0.57          \\\\\n",
       "\t Yes            & M              & 1              & 33.6           & More than 1000 & 0.069          & 0.34           & 0.59          \\\\\n",
       "\t No             & M              & 1              & 33.6           & More than 1000 & 0.140          & 0.36           & 0.50          \\\\\n",
       "\\end{tabular}\n"
      ],
      "text/markdown": [
       "\n",
       "diagnosedWithMHD | gender | isUSA | age | companySize | classOneProb | classTwoProb | classThreeProb | \n",
       "|---|---|---|---|---|---|\n",
       "| Yes            | W              | 1              | 33.6           | More than 1000 | 0.058          | 0.28           | 0.67           | \n",
       "| No             | W              | 1              | 33.6           | More than 1000 | 0.120          | 0.30           | 0.58           | \n",
       "| Yes            | O              | 1              | 33.6           | More than 1000 | 0.120          | 0.19           | 0.69           | \n",
       "| No             | O              | 1              | 33.6           | More than 1000 | 0.250          | 0.19           | 0.57           | \n",
       "| Yes            | M              | 1              | 33.6           | More than 1000 | 0.069          | 0.34           | 0.59           | \n",
       "| No             | M              | 1              | 33.6           | More than 1000 | 0.140          | 0.36           | 0.50           | \n",
       "\n",
       "\n"
      ],
      "text/plain": [
       "  diagnosedWithMHD gender isUSA age  companySize    classOneProb classTwoProb\n",
       "1 Yes              W      1     33.6 More than 1000 0.058        0.28        \n",
       "2 No               W      1     33.6 More than 1000 0.120        0.30        \n",
       "3 Yes              O      1     33.6 More than 1000 0.120        0.19        \n",
       "4 No               O      1     33.6 More than 1000 0.250        0.19        \n",
       "5 Yes              M      1     33.6 More than 1000 0.069        0.34        \n",
       "6 No               M      1     33.6 More than 1000 0.140        0.36        \n",
       "  classThreeProb\n",
       "1 0.67          \n",
       "2 0.58          \n",
       "3 0.69          \n",
       "4 0.57          \n",
       "5 0.59          \n",
       "6 0.50          "
      ]
     },
     "metadata": {},
     "output_type": "display_data"
    }
   ],
   "source": [
    "#make relevant vectors for our data frame\n",
    "diagLev = c(\"Yes\",\"No\",\"Yes\",\"No\",\"Yes\",\"No\")\n",
    "genderLev = c(\"W\",\"W\",\"O\",\"O\",\"M\",\"M\")\n",
    "avgAge = signif(mean(inferenceFrame$age),sigLev)\n",
    "#then make our prediction frame\n",
    "predictFrame = data.frame(diagnosedWithMHD = diagLev,\n",
    "                          gender = genderLev,isUSA = 1,age = avgAge,\n",
    "                          companySize = \"More than 1000\")\n",
    "#make our predictions\n",
    "predictions = predict(finalClassMod,newdata = predictFrame,type = \"probs\")\n",
    "predictions = signif(predictions,sigLev - 1)\n",
    "#then export taht to a reasonable-looking data frame\n",
    "predictFrame$classOneProb = predictions[,1]\n",
    "predictFrame$classTwoProb = predictions[,2]\n",
    "predictFrame$classThreeProb = predictions[,3]\n",
    "predictFrame"
   ]
  },
  {
   "cell_type": "markdown",
   "metadata": {},
   "source": [
    "_Table 20: Predictions for US workers at large firms for various levels of gender and diagnosis._\n",
    "\n",
    "We see that across the board, those who are diagnosed with a mental health diagnosis are predicted to be much more likely to be in class $3$ than those who are not diagnosed. We also notice that we are predicting a slightly higher class $2$ assignment for men than for women.\n",
    "\n",
    "Let's see what this looks like for a recent college graduate (i.e. $22$ years old)."
   ]
  },
  {
   "cell_type": "code",
   "execution_count": 71,
   "metadata": {
    "collapsed": false
   },
   "outputs": [
    {
     "data": {
      "text/html": [
       "<table>\n",
       "<thead><tr><th scope=col>diagnosedWithMHD</th><th scope=col>gender</th><th scope=col>isUSA</th><th scope=col>age</th><th scope=col>companySize</th><th scope=col>classOneProb</th><th scope=col>classTwoProb</th><th scope=col>classThreeProb</th></tr></thead>\n",
       "<tbody>\n",
       "\t<tr><td>Yes           </td><td>W             </td><td>1             </td><td>22            </td><td>More than 1000</td><td>0.046         </td><td>0.36          </td><td>0.59          </td></tr>\n",
       "\t<tr><td>No            </td><td>W             </td><td>1             </td><td>22            </td><td>More than 1000</td><td>0.220         </td><td>0.25          </td><td>0.53          </td></tr>\n",
       "\t<tr><td>Yes           </td><td>O             </td><td>1             </td><td>22            </td><td>More than 1000</td><td>0.100         </td><td>0.26          </td><td>0.64          </td></tr>\n",
       "\t<tr><td>No            </td><td>O             </td><td>1             </td><td>22            </td><td>More than 1000</td><td>0.400         </td><td>0.14          </td><td>0.46          </td></tr>\n",
       "\t<tr><td>Yes           </td><td>M             </td><td>1             </td><td>22            </td><td>More than 1000</td><td>0.054         </td><td>0.44          </td><td>0.51          </td></tr>\n",
       "\t<tr><td>No            </td><td>M             </td><td>1             </td><td>22            </td><td>More than 1000</td><td>0.260         </td><td>0.30          </td><td>0.45          </td></tr>\n",
       "</tbody>\n",
       "</table>\n"
      ],
      "text/latex": [
       "\\begin{tabular}{r|llllllll}\n",
       " diagnosedWithMHD & gender & isUSA & age & companySize & classOneProb & classTwoProb & classThreeProb\\\\\n",
       "\\hline\n",
       "\t Yes            & W              & 1              & 22             & More than 1000 & 0.046          & 0.36           & 0.59          \\\\\n",
       "\t No             & W              & 1              & 22             & More than 1000 & 0.220          & 0.25           & 0.53          \\\\\n",
       "\t Yes            & O              & 1              & 22             & More than 1000 & 0.100          & 0.26           & 0.64          \\\\\n",
       "\t No             & O              & 1              & 22             & More than 1000 & 0.400          & 0.14           & 0.46          \\\\\n",
       "\t Yes            & M              & 1              & 22             & More than 1000 & 0.054          & 0.44           & 0.51          \\\\\n",
       "\t No             & M              & 1              & 22             & More than 1000 & 0.260          & 0.30           & 0.45          \\\\\n",
       "\\end{tabular}\n"
      ],
      "text/markdown": [
       "\n",
       "diagnosedWithMHD | gender | isUSA | age | companySize | classOneProb | classTwoProb | classThreeProb | \n",
       "|---|---|---|---|---|---|\n",
       "| Yes            | W              | 1              | 22             | More than 1000 | 0.046          | 0.36           | 0.59           | \n",
       "| No             | W              | 1              | 22             | More than 1000 | 0.220          | 0.25           | 0.53           | \n",
       "| Yes            | O              | 1              | 22             | More than 1000 | 0.100          | 0.26           | 0.64           | \n",
       "| No             | O              | 1              | 22             | More than 1000 | 0.400          | 0.14           | 0.46           | \n",
       "| Yes            | M              | 1              | 22             | More than 1000 | 0.054          | 0.44           | 0.51           | \n",
       "| No             | M              | 1              | 22             | More than 1000 | 0.260          | 0.30           | 0.45           | \n",
       "\n",
       "\n"
      ],
      "text/plain": [
       "  diagnosedWithMHD gender isUSA age companySize    classOneProb classTwoProb\n",
       "1 Yes              W      1     22  More than 1000 0.046        0.36        \n",
       "2 No               W      1     22  More than 1000 0.220        0.25        \n",
       "3 Yes              O      1     22  More than 1000 0.100        0.26        \n",
       "4 No               O      1     22  More than 1000 0.400        0.14        \n",
       "5 Yes              M      1     22  More than 1000 0.054        0.44        \n",
       "6 No               M      1     22  More than 1000 0.260        0.30        \n",
       "  classThreeProb\n",
       "1 0.59          \n",
       "2 0.53          \n",
       "3 0.64          \n",
       "4 0.46          \n",
       "5 0.51          \n",
       "6 0.45          "
      ]
     },
     "metadata": {},
     "output_type": "display_data"
    }
   ],
   "source": [
    "predictFrame$age = 22\n",
    "#make our predictions\n",
    "predictions = predict(finalClassMod,newdata = predictFrame,type = \"probs\")\n",
    "predictions = signif(predictions,sigLev - 1)\n",
    "#then export taht to a reasonable-looking data frame\n",
    "predictFrame$classOneProb = predictions[,1]\n",
    "predictFrame$classTwoProb = predictions[,2]\n",
    "predictFrame$classThreeProb = predictions[,3]\n",
    "predictFrame"
   ]
  },
  {
   "cell_type": "markdown",
   "metadata": {},
   "source": [
    "_Table 21: Predictoins for recent college graduates in the US at large firms for various levels of diagnosis and gender._\n",
    "\n",
    "We see a general increase in class $2$ assignment, which gives a sense that younger individuals are feeling more supported in the industry in terms of mental health than their older counterparts. W ealso see a large differential between those with a diagnosis and those without a diagnosis for the class $2$ assignment probability. This suggests that this difference in much more stark at younger ages than at older ages.\n",
    "\n",
    "Let's see the immediate effect of working at a mid-sized company ($[100,500]$ persons)."
   ]
  },
  {
   "cell_type": "code",
   "execution_count": 72,
   "metadata": {
    "collapsed": false
   },
   "outputs": [
    {
     "data": {
      "text/html": [
       "<table>\n",
       "<thead><tr><th scope=col>diagnosedWithMHD</th><th scope=col>gender</th><th scope=col>isUSA</th><th scope=col>age</th><th scope=col>companySize</th><th scope=col>classOneProb</th><th scope=col>classTwoProb</th><th scope=col>classThreeProb</th></tr></thead>\n",
       "<tbody>\n",
       "\t<tr><td>Yes    </td><td>W      </td><td>1      </td><td>22     </td><td>100-500</td><td>0.092  </td><td>0.37   </td><td>0.54   </td></tr>\n",
       "\t<tr><td>No     </td><td>W      </td><td>1      </td><td>22     </td><td>100-500</td><td>0.380  </td><td>0.21   </td><td>0.41   </td></tr>\n",
       "\t<tr><td>Yes    </td><td>O      </td><td>1      </td><td>22     </td><td>100-500</td><td>0.200  </td><td>0.25   </td><td>0.56   </td></tr>\n",
       "\t<tr><td>No     </td><td>O      </td><td>1      </td><td>22     </td><td>100-500</td><td>0.590  </td><td>0.10   </td><td>0.31   </td></tr>\n",
       "\t<tr><td>Yes    </td><td>M      </td><td>1      </td><td>22     </td><td>100-500</td><td>0.110  </td><td>0.44   </td><td>0.45   </td></tr>\n",
       "\t<tr><td>No     </td><td>M      </td><td>1      </td><td>22     </td><td>100-500</td><td>0.430  </td><td>0.24   </td><td>0.33   </td></tr>\n",
       "</tbody>\n",
       "</table>\n"
      ],
      "text/latex": [
       "\\begin{tabular}{r|llllllll}\n",
       " diagnosedWithMHD & gender & isUSA & age & companySize & classOneProb & classTwoProb & classThreeProb\\\\\n",
       "\\hline\n",
       "\t Yes     & W       & 1       & 22      & 100-500 & 0.092   & 0.37    & 0.54   \\\\\n",
       "\t No      & W       & 1       & 22      & 100-500 & 0.380   & 0.21    & 0.41   \\\\\n",
       "\t Yes     & O       & 1       & 22      & 100-500 & 0.200   & 0.25    & 0.56   \\\\\n",
       "\t No      & O       & 1       & 22      & 100-500 & 0.590   & 0.10    & 0.31   \\\\\n",
       "\t Yes     & M       & 1       & 22      & 100-500 & 0.110   & 0.44    & 0.45   \\\\\n",
       "\t No      & M       & 1       & 22      & 100-500 & 0.430   & 0.24    & 0.33   \\\\\n",
       "\\end{tabular}\n"
      ],
      "text/markdown": [
       "\n",
       "diagnosedWithMHD | gender | isUSA | age | companySize | classOneProb | classTwoProb | classThreeProb | \n",
       "|---|---|---|---|---|---|\n",
       "| Yes     | W       | 1       | 22      | 100-500 | 0.092   | 0.37    | 0.54    | \n",
       "| No      | W       | 1       | 22      | 100-500 | 0.380   | 0.21    | 0.41    | \n",
       "| Yes     | O       | 1       | 22      | 100-500 | 0.200   | 0.25    | 0.56    | \n",
       "| No      | O       | 1       | 22      | 100-500 | 0.590   | 0.10    | 0.31    | \n",
       "| Yes     | M       | 1       | 22      | 100-500 | 0.110   | 0.44    | 0.45    | \n",
       "| No      | M       | 1       | 22      | 100-500 | 0.430   | 0.24    | 0.33    | \n",
       "\n",
       "\n"
      ],
      "text/plain": [
       "  diagnosedWithMHD gender isUSA age companySize classOneProb classTwoProb\n",
       "1 Yes              W      1     22  100-500     0.092        0.37        \n",
       "2 No               W      1     22  100-500     0.380        0.21        \n",
       "3 Yes              O      1     22  100-500     0.200        0.25        \n",
       "4 No               O      1     22  100-500     0.590        0.10        \n",
       "5 Yes              M      1     22  100-500     0.110        0.44        \n",
       "6 No               M      1     22  100-500     0.430        0.24        \n",
       "  classThreeProb\n",
       "1 0.54          \n",
       "2 0.41          \n",
       "3 0.56          \n",
       "4 0.31          \n",
       "5 0.45          \n",
       "6 0.33          "
      ]
     },
     "metadata": {},
     "output_type": "display_data"
    }
   ],
   "source": [
    "predictFrame$companySize = \"100-500\"\n",
    "#make our predictions\n",
    "predictions = predict(finalClassMod,newdata = predictFrame,type = \"probs\")\n",
    "predictions = signif(predictions,sigLev - 1)\n",
    "#then export taht to a reasonable-looking data frame\n",
    "predictFrame$classOneProb = predictions[,1]\n",
    "predictFrame$classTwoProb = predictions[,2]\n",
    "predictFrame$classThreeProb = predictions[,3]\n",
    "predictFrame"
   ]
  },
  {
   "cell_type": "markdown",
   "metadata": {},
   "source": [
    "_Table 22: predictions for recent college graduates working in the US at mid-sized firms for various levels of diagnosis and gender._"
   ]
  },
  {
   "cell_type": "code",
   "execution_count": 92,
   "metadata": {
    "collapsed": true
   },
   "outputs": [],
   "source": [
    "#build out predictions for women\n",
    "predictFrame = data.frame(isUSA = 1,companySize = \"More than 1000\",\n",
    "                          age = 21:40,gender = \"W\",\n",
    "                          diagnosedWithMHD = \"Yes\")\n",
    "#then make our predictions\n",
    "predictions = predict(finalClassMod,newdata = predictFrame,type = \"probs\")\n",
    "predictions = signif(predictions,sigLev - 1)\n",
    "#then export taht to a reasonable-looking data frame\n",
    "predictFrame$classOneProb = predictions[,1]\n",
    "predictFrame$classTwoProb = predictions[,2]\n",
    "predictFrame$classThreeProb = predictions[,3]"
   ]
  },
  {
   "cell_type": "code",
   "execution_count": 100,
   "metadata": {
    "collapsed": false
   },
   "outputs": [
    {
     "data": {
      "image/png": "[encoded data removed]",
      "text/plain": [
       "Plot with title “Predicted Class Assignment\n",
       "On Age For Women”"
      ]
     },
     "metadata": {},
     "output_type": "display_data"
    }
   ],
   "source": [
    "#then plot these partial effects plots\n",
    "plot(x = NULL,y = NULL,xlim = c(21,40),ylim = c(0,1),\n",
    "     xlab = \"Age\",ylab = \"Predicted Probability\",\n",
    "     main = \"Predicted Class Assignment\\nOn Age For Women\")\n",
    "lines(predictFrame$age,predictFrame$classOneProb,col = \"Blue\")\n",
    "lines(predictFrame$age,predictFrame$classTwoProb,col = \"Red\")\n",
    "lines(predictFrame$age,predictFrame$classThreeProb,col = \"Green\")\n",
    "legend(21,1,legend = c(\"Class 1\",\"Class 2\",\"Class 3\"),\n",
    "       col = c(\"Blue\",\"Red\",\"Green\"),lty = 1)"
   ]
  },
  {
   "cell_type": "markdown",
   "metadata": {},
   "source": [
    "_Figure 5: Predicted Probability on Age For Diagnosed individuals working in the US at large firms._\n",
    "\n",
    "We see that there is a major shift down in predictions for the class $2$ assignment as age increases. It looks like we predict a $50\\%$ reduction over the two decades of ages we are considering. Nonetheless, for this demographic we are overwhelmingly considering a classification of $3.$"
   ]
  },
  {
   "cell_type": "code",
   "execution_count": 101,
   "metadata": {
    "collapsed": true
   },
   "outputs": [],
   "source": [
    "#build out predictions for men\n",
    "predictFrame = data.frame(isUSA = 1,companySize = \"More than 1000\",\n",
    "                          age = 21:40,gender = \"M\",\n",
    "                          diagnosedWithMHD = \"Yes\")\n",
    "#then make our predictions\n",
    "predictions = predict(finalClassMod,newdata = predictFrame,type = \"probs\")\n",
    "predictions = signif(predictions,sigLev - 1)\n",
    "#then export taht to a reasonable-looking data frame\n",
    "predictFrame$classOneProb = predictions[,1]\n",
    "predictFrame$classTwoProb = predictions[,2]\n",
    "predictFrame$classThreeProb = predictions[,3]"
   ]
  },
  {
   "cell_type": "code",
   "execution_count": 102,
   "metadata": {
    "collapsed": false
   },
   "outputs": [
    {
     "data": {
      "image/png": "[encoded data removed]",
      "text/plain": [
       "Plot with title “Predicted Class Assignment\n",
       "On Age For Men”"
      ]
     },
     "metadata": {},
     "output_type": "display_data"
    }
   ],
   "source": [
    "#then plot these partial effects plots\n",
    "plot(x = NULL,y = NULL,xlim = c(21,40),ylim = c(0,1),\n",
    "     xlab = \"Age\",ylab = \"Predicted Probability\",\n",
    "     main = \"Predicted Class Assignment\\nOn Age For Men\")\n",
    "lines(predictFrame$age,predictFrame$classOneProb,col = \"Blue\")\n",
    "lines(predictFrame$age,predictFrame$classTwoProb,col = \"Red\")\n",
    "lines(predictFrame$age,predictFrame$classThreeProb,col = \"Green\")\n",
    "legend(21,1,legend = c(\"Class 1\",\"Class 2\",\"Class 3\"),\n",
    "       col = c(\"Blue\",\"Red\",\"Green\"),lty = 1)"
   ]
  },
  {
   "cell_type": "markdown",
   "metadata": {},
   "source": [
    "_Figure 6: Predicted Class Assignment on Age for Men with a diagnosis working in the US at larger companies._\n",
    "\n",
    "We see that we have much more uncertainty about the predicted class for men at earlier ages than the predicted class for women."
   ]
  },
  {
   "cell_type": "code",
   "execution_count": null,
   "metadata": {
    "collapsed": true
   },
   "outputs": [],
   "source": []
  }
 ],
 "metadata": {
  "kernelspec": {
   "display_name": "R",
   "language": "R",
   "name": "ir"
  },
  "language_info": {
   "codemirror_mode": "r",
   "file_extension": ".r",
   "mimetype": "text/x-r-source",
   "name": "R",
   "pygments_lexer": "r",
   "version": "3.2.3"
  },
  "latex_envs": {
   "bibliofile": "biblio.bib",
   "cite_by": "apalike",
   "current_citInitial": 1,
   "eqLabelWithNumbers": true,
   "eqNumInitial": 0
  },
  "nav_menu": {},
  "toc": {
   "navigate_menu": true,
   "number_sections": false,
   "sideBar": true,
   "threshold": 6,
   "toc_cell": true,
   "toc_section_display": "block",
   "toc_window_display": true
  }
 },
 "nbformat": 4,
 "nbformat_minor": 2
}
