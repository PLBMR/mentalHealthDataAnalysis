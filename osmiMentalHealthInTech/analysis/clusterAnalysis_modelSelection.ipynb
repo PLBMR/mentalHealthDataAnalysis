{
 "cells": [
  {
   "cell_type": "markdown",
   "metadata": {
    "toc": "true"
   },
   "source": [
    "# Table of Contents\n",
    " <p><div class=\"lev1 toc-item\"><a href=\"#OSMI-Mental-Health-In-Tech-Survey-2016-:-Clustering-Model-Seleciton\" data-toc-modified-id=\"OSMI-Mental-Health-In-Tech-Survey-2016-:-Clustering-Model-Seleciton-1\"><span class=\"toc-item-num\">1&nbsp;&nbsp;</span>OSMI Mental Health In Tech Survey 2016 : Clustering Model Seleciton</a></div><div class=\"lev1 toc-item\"><a href=\"#Variables-Chosen\" data-toc-modified-id=\"Variables-Chosen-2\"><span class=\"toc-item-num\">2&nbsp;&nbsp;</span>Variables Chosen</a></div><div class=\"lev2 toc-item\"><a href=\"#Usage-of-explanation-variables\" data-toc-modified-id=\"Usage-of-explanation-variables-2.1\"><span class=\"toc-item-num\">2.1&nbsp;&nbsp;</span>Usage of explanation variables</a></div><div class=\"lev1 toc-item\"><a href=\"#Initial-Modeling\" data-toc-modified-id=\"Initial-Modeling-3\"><span class=\"toc-item-num\">3&nbsp;&nbsp;</span>Initial Modeling</a></div><div class=\"lev1 toc-item\"><a href=\"#Model-Selection\" data-toc-modified-id=\"Model-Selection-4\"><span class=\"toc-item-num\">4&nbsp;&nbsp;</span>Model Selection</a></div>"
   ]
  },
  {
   "cell_type": "markdown",
   "metadata": {},
   "source": [
    "# OSMI Mental Health In Tech Survey 2016 : Clustering Model Seleciton\n",
    "\n",
    "_By [Michael Rosenberg](mailto:mmrosenb@andrew.cmu.edu)._\n",
    "\n",
    "_**Description**: Contains my model selection procedure on a clustering of a set of questions related to employers and how the treat mental health._"
   ]
  },
  {
   "cell_type": "code",
   "execution_count": 50,
   "metadata": {
    "collapsed": false
   },
   "outputs": [],
   "source": [
    "#imports\n",
    "library(poLCA)\n",
    "\n",
    "#constants\n",
    "sigLev = 3\n",
    "percentMul = 100\n",
    "options(warn=-1) #turns off warnings"
   ]
  },
  {
   "cell_type": "code",
   "execution_count": 51,
   "metadata": {
    "collapsed": true
   },
   "outputs": [],
   "source": [
    "clusterFrame = read.csv(\"../data/processed/clusterDataset.csv\")"
   ]
  },
  {
   "cell_type": "markdown",
   "metadata": {},
   "source": [
    "# Variables Chosen\n",
    "\n",
    "You can see my [cluster map file](../data/preprocessed/clusterColumnMap.csv) to get a full sense of the variables used in this analysis. In this file, any variable I did not use contains an empty ```newColName```, and any variable that I am considering contains a particular ```newColName```. Because there are around $19$ variables that I am considering in my initial models, it seems to be overkill to list out the entire map here rather than describe them as they become relevant."
   ]
  },
  {
   "cell_type": "markdown",
   "metadata": {},
   "source": [
    "## Usage of explanation variables\n",
    "\n",
    "We see for the questions related to bringing up a mental health or physical health issue in an interview, they have a written explanation section included. While I have chosen to include these in my processed dataset, their usage may be difficult to specify due to the sparsity of user-inputted language. That being said, we may try certain methods on these sections in order to have their language inform our clustering models. In particular, it may be useful to consider a dimensionally reduced form of these questions."
   ]
  },
  {
   "cell_type": "code",
   "execution_count": 52,
   "metadata": {
    "collapsed": false
   },
   "outputs": [],
   "source": [
    "unclusteredVars = read.table(\"../data/preprocessed/noDiscEncoding.txt\",\n",
    "                             sep = \"\\n\")$V1\n",
    "filteredClusterFrame = clusterFrame[,!names(clusterFrame) %in% unclusteredVars]"
   ]
  },
  {
   "cell_type": "markdown",
   "metadata": {},
   "source": [
    "# Initial Modeling\n",
    "\n",
    "Because we have only categorical variables, it seems reasonable to limit our analysis to only considering latent class models. This is because we do not need to deal with mixed types, and so a typical $K$-modes clustering algorithm is not entirely necessary.\n",
    "\n",
    "I have a feeling that there are two main narratives that we need to consider: The narrative of \"employers are doing enough for mental health\" and the narrative of \"employers are not doing enough for mental health.\" Because of this, I think it might be useful to initially consider a $2$-class model."
   ]
  },
  {
   "cell_type": "code",
   "execution_count": 53,
   "metadata": {
    "collapsed": false
   },
   "outputs": [],
   "source": [
    "#make formula\n",
    "givenForm = cbind(empPrimTech,empProvideMHB,knowMHB,empDiscMH,empResourceMH,anonProtected,askLeaveDiff,negConsDiscMH,negConsDiscPH,coworkComfMHD,superComfMHD,empSeriousMH,heardNegConsMH,discInterviewPH,discInterviewMH,hurtCareerMH,teamNegMH,observeBadResponseMH)~1\n",
    "initMod.lcm = poLCA(givenForm,\n",
    "                    data = clusterFrame,nclass = 2,verbose = FALSE)"
   ]
  },
  {
   "cell_type": "code",
   "execution_count": 55,
   "metadata": {
    "collapsed": false
   },
   "outputs": [],
   "source": [
    "a = initMod.lcm$probs[[\"empPrimTech\"]]\n",
    "classOne = a[\"class 1: \",]\n",
    "classTwo = a[\"class 2: \",]\n",
    "klDiv = sum(classOne * log2(classOne / classTwo))"
   ]
  },
  {
   "cell_type": "code",
   "execution_count": 56,
   "metadata": {
    "collapsed": false
   },
   "outputs": [
    {
     "data": {
      "text/html": [
       "<dl class=dl-horizontal>\n",
       "\t<dt>empPrimTech</dt>\n",
       "\t\t<dd>0.00873</dd>\n",
       "\t<dt>knowMHB</dt>\n",
       "\t\t<dd>0.0557</dd>\n",
       "\t<dt>empProvideMHB</dt>\n",
       "\t\t<dd>0.0587</dd>\n",
       "\t<dt>heardNegConsMH</dt>\n",
       "\t\t<dd>0.0751</dd>\n",
       "\t<dt>empResourceMH</dt>\n",
       "\t\t<dd>0.121</dd>\n",
       "\t<dt>discInterviewPH</dt>\n",
       "\t\t<dd>0.155</dd>\n",
       "\t<dt>observeBadResponseMH</dt>\n",
       "\t\t<dd>0.203</dd>\n",
       "\t<dt>anonProtected</dt>\n",
       "\t\t<dd>0.21</dd>\n",
       "\t<dt>empDiscMH</dt>\n",
       "\t\t<dd>0.233</dd>\n",
       "\t<dt>discInterviewMH</dt>\n",
       "\t\t<dd>0.524</dd>\n",
       "\t<dt>negConsDiscPH</dt>\n",
       "\t\t<dd>0.555</dd>\n",
       "\t<dt>empSeriousMH</dt>\n",
       "\t\t<dd>0.959</dd>\n",
       "\t<dt>coworkComfMHD</dt>\n",
       "\t\t<dd>1.03</dd>\n",
       "\t<dt>askLeaveDiff</dt>\n",
       "\t\t<dd>1.15</dd>\n",
       "\t<dt>teamNegMH</dt>\n",
       "\t\t<dd>1.21</dd>\n",
       "\t<dt>superComfMHD</dt>\n",
       "\t\t<dd>1.62</dd>\n",
       "\t<dt>negConsDiscMH</dt>\n",
       "\t\t<dd>2.75</dd>\n",
       "\t<dt>hurtCareerMH</dt>\n",
       "\t\t<dd>10.2</dd>\n",
       "</dl>\n"
      ],
      "text/latex": [
       "\\begin{description*}\n",
       "\\item[empPrimTech] 0.00873\n",
       "\\item[knowMHB] 0.0557\n",
       "\\item[empProvideMHB] 0.0587\n",
       "\\item[heardNegConsMH] 0.0751\n",
       "\\item[empResourceMH] 0.121\n",
       "\\item[discInterviewPH] 0.155\n",
       "\\item[observeBadResponseMH] 0.203\n",
       "\\item[anonProtected] 0.21\n",
       "\\item[empDiscMH] 0.233\n",
       "\\item[discInterviewMH] 0.524\n",
       "\\item[negConsDiscPH] 0.555\n",
       "\\item[empSeriousMH] 0.959\n",
       "\\item[coworkComfMHD] 1.03\n",
       "\\item[askLeaveDiff] 1.15\n",
       "\\item[teamNegMH] 1.21\n",
       "\\item[superComfMHD] 1.62\n",
       "\\item[negConsDiscMH] 2.75\n",
       "\\item[hurtCareerMH] 10.2\n",
       "\\end{description*}\n"
      ],
      "text/markdown": [
       "empPrimTech\n",
       ":   0.00873knowMHB\n",
       ":   0.0557empProvideMHB\n",
       ":   0.0587heardNegConsMH\n",
       ":   0.0751empResourceMH\n",
       ":   0.121discInterviewPH\n",
       ":   0.155observeBadResponseMH\n",
       ":   0.203anonProtected\n",
       ":   0.21empDiscMH\n",
       ":   0.233discInterviewMH\n",
       ":   0.524negConsDiscPH\n",
       ":   0.555empSeriousMH\n",
       ":   0.959coworkComfMHD\n",
       ":   1.03askLeaveDiff\n",
       ":   1.15teamNegMH\n",
       ":   1.21superComfMHD\n",
       ":   1.62negConsDiscMH\n",
       ":   2.75hurtCareerMH\n",
       ":   10.2\n",
       "\n"
      ],
      "text/plain": [
       "         empPrimTech              knowMHB        empProvideMHB \n",
       "             0.00873              0.05570              0.05870 \n",
       "      heardNegConsMH        empResourceMH      discInterviewPH \n",
       "             0.07510              0.12100              0.15500 \n",
       "observeBadResponseMH        anonProtected            empDiscMH \n",
       "             0.20300              0.21000              0.23300 \n",
       "     discInterviewMH        negConsDiscPH         empSeriousMH \n",
       "             0.52400              0.55500              0.95900 \n",
       "       coworkComfMHD         askLeaveDiff            teamNegMH \n",
       "             1.03000              1.15000              1.21000 \n",
       "        superComfMHD        negConsDiscMH         hurtCareerMH \n",
       "             1.62000              2.75000             10.20000 "
      ]
     },
     "metadata": {},
     "output_type": "display_data"
    }
   ],
   "source": [
    "#make kldiv function for a given varname\n",
    "getKLDiv = function(varName){\n",
    "    #helper for getting the KL-Divergence for a given variable\n",
    "    varCondDist = initMod.lcm$probs[[varName]]\n",
    "    classOne = varCondDist[\"class 1: \",]\n",
    "    classTwo = varCondDist[\"class 2: \",]\n",
    "    klDiv = sum(classOne * log2(classOne / classTwo))\n",
    "    return(klDiv)\n",
    "}\n",
    "#make kl divergence vector\n",
    "klDivVec = sapply(colnames(filteredClusterFrame),getKLDiv)\n",
    "#order by value\n",
    "givenOrder = order(klDivVec)\n",
    "klDivVec = klDivVec[givenOrder]\n",
    "klDivVec = signif(klDivVec,sigLev)\n",
    "klDivVec"
   ]
  },
  {
   "cell_type": "markdown",
   "metadata": {},
   "source": [
    "_Table 1: Variables by KL-Divergence between the two class distribution for each variable in our latent class model._\n",
    "\n",
    "We see among the key important support variables such as whether the employer provides mental health benefits (```empProvideMHB```), whether the employer offers resources to deal with mental health (```empResourceMH```), and whether an individual knows about their mental health benefits (```knowMHB```), our KL-divergence is quite low. This might suggest that we would need to consider more classes if we want to discover meaningful separations in these variables."
   ]
  },
  {
   "cell_type": "code",
   "execution_count": 57,
   "metadata": {
    "collapsed": false
   },
   "outputs": [
    {
     "name": "stdout",
     "output_type": "stream",
     "text": [
      "[1] \"The number in our uncertainty range is 20\"\n"
     ]
    },
    {
     "data": {
      "image/png": "[encoded data removed]",
      "text/plain": [
       "Plot with title “Distribution of Predicted Probabilities of Class 1”"
      ]
     },
     "metadata": {},
     "output_type": "display_data"
    }
   ],
   "source": [
    "#get distribution of is class 1\n",
    "classOnePredictions = initMod.lcm$posterior[,1]\n",
    "hist(classOnePredictions,col = \"Blue\",freq = FALSE,\n",
    "     xlab = \"Predicted Probability of Class 1\",\n",
    "     main = \"Distribution of Predicted Probabilities of Class 1\")\n",
    "numUncertain = sum(classOnePredictions > .4 & classOnePredictions < .6)\n",
    "print(paste(\"The number in our uncertainty range is\",numUncertain))"
   ]
  },
  {
   "cell_type": "markdown",
   "metadata": {},
   "source": [
    "_Figure 1: Distribution of predicted probabilities._\n",
    "\n",
    "We see that our model is currently quite certain about it's predictions, Since we only have around $22$ of our $>1000$ observations in the uncertainty range of $0.4$ and $0.6$."
   ]
  },
  {
   "cell_type": "markdown",
   "metadata": {},
   "source": [
    "# Model Selection\n",
    "\n",
    "**DESCRIBE MORE HERE**"
   ]
  },
  {
   "cell_type": "code",
   "execution_count": 58,
   "metadata": {
    "collapsed": false
   },
   "outputs": [],
   "source": [
    "inferenceRows = sample(1:dim(clusterFrame)[1],\n",
    "                       round(dim(clusterFrame)[1] / 2))"
   ]
  },
  {
   "cell_type": "code",
   "execution_count": 59,
   "metadata": {
    "collapsed": false
   },
   "outputs": [],
   "source": [
    "inferenceSet = clusterFrame[inferenceRows,]\n",
    "selectionSet = clusterFrame[-inferenceRows,]"
   ]
  },
  {
   "cell_type": "code",
   "execution_count": 60,
   "metadata": {
    "collapsed": true
   },
   "outputs": [],
   "source": [
    "write.csv(inferenceSet,\"../data/processed/clusterData_inference.csv\",\n",
    "          row.names = FALSE)\n",
    "write.csv(selectionSet,\"../data/processed/clusterData_selection.csv\",\n",
    "          row.names = FALSE)"
   ]
  },
  {
   "cell_type": "code",
   "execution_count": 61,
   "metadata": {
    "collapsed": false
   },
   "outputs": [],
   "source": [
    "probOfObsGivenClass = function(lcmMod,obs,classNum){\n",
    "    #gets the probability of an observation given a particular class\n",
    "    prob = 1 #will multiply upon this\n",
    "    className = paste0(\"class \",classNum,\": \")\n",
    "    for (colName in names(obs)){ #calculate probability\n",
    "        if (colName != \"fold\" & !colName %in% unclusteredVars){\n",
    "        #get variable level string\n",
    "            varLev = obs[colName]\n",
    "            varString = paste0(\"Pr(\",varLev,\")\")\n",
    "            varMat = lcmMod$probs[[colName]]\n",
    "            givenProb = varMat[className,varString]\n",
    "            prob = prob * givenProb\n",
    "        }\n",
    "    }\n",
    "    return(prob)\n",
    "}\n",
    "probOfObs = function(lcmMod,obs){\n",
    "    #helper that predicts the probability of seeing an observation in\n",
    "    probOfObs = 0\n",
    "    for (classNum in 1:length(lcmMod$P)){\n",
    "        #get probability of observation given class\n",
    "        probGivenClass = probOfObsGivenClass(lcmMod,obs,classNum)\n",
    "        probGivenClassMul = probGivenClass * lcmMod$P[classNum]\n",
    "        probOfObs = probOfObs + probGivenClassMul\n",
    "    }\n",
    "    return(probOfObs)\n",
    "}\n",
    "getLogLike = function(lcm,givenFrame){\n",
    "    #helper that gets the log-likelihood of a dataset given a particular latent\n",
    "    #class model\n",
    "    predictedProbs = apply(givenFrame,1,probOfObs,lcmMod = lcm)\n",
    "    logLikelihood = sum(log(predictedProbs))\n",
    "    return(logLikelihood)\n",
    "}"
   ]
  },
  {
   "cell_type": "code",
   "execution_count": 62,
   "metadata": {
    "collapsed": false
   },
   "outputs": [],
   "source": [
    "#cv functions\n",
    "form = cbind(empPrimTech,empProvideMHB,knowMHB,empDiscMH,empResourceMH,\n",
    "             anonProtected,askLeaveDiff,negConsDiscMH,negConsDiscPH,\n",
    "             coworkComfMHD,superComfMHD,empSeriousMH,heardNegConsMH,\n",
    "             discInterviewPH,discInterviewMH,hurtCareerMH,teamNegMH,\n",
    "             observeBadResponseMH)~1\n",
    "getLogLikeCV <- function(numClasses,givenFrame,numFolds = 5){\n",
    "    #helper for getting cross-validated log-likelihood a dataset given a\n",
    "    #particular latent class model\n",
    "    #make folds\n",
    "    givenFrame$fold = sample(1:numFolds,dim(givenFrame)[1],replace = TRUE)\n",
    "    cvVec = rep(0,numFolds)\n",
    "    #then run through folds\n",
    "    for (foldLev in 1:numFolds){\n",
    "        #make cv slit\n",
    "        trainSet = givenFrame[which(givenFrame$fold != foldLev),]\n",
    "        testSet = givenFrame[which(givenFrame$fold == foldLev),]\n",
    "        #train on trainSet\n",
    "        newMod.lcm = poLCA(form,data = trainSet,nclass = numClasses,\n",
    "                           verbose = FALSE)\n",
    "        #get log-likelihood on test set\n",
    "        cvVec[foldLev] = getLogLike(newMod.lcm,testSet)\n",
    "    }\n",
    "    return(mean(cvVec))\n",
    "}\n",
    "#then try to get cv vec\n",
    "numClassesConsidered = 10\n",
    "consideredClassSizes = 1:numClassesConsidered\n",
    "cvVec = rep(0,numClassesConsidered)\n",
    "for (lev in consideredClassSizes){\n",
    "    cvVec[lev] = getLogLikeCV(lev,selectionSet)\n",
    "}"
   ]
  },
  {
   "cell_type": "code",
   "execution_count": 63,
   "metadata": {
    "collapsed": false
   },
   "outputs": [
    {
     "name": "stdout",
     "output_type": "stream",
     "text": [
      " [1] -2147.648 -2025.607 -2009.120 -2000.791 -2167.941 -2100.026 -2679.588\n",
      " [8]      -Inf      -Inf      -Inf\n"
     ]
    }
   ],
   "source": [
    "print(cvVec)"
   ]
  },
  {
   "cell_type": "markdown",
   "metadata": {},
   "source": [
    "We see that our model performs very well up to $3$ classes, begins to falter after $3$ classes, and then falls off a cliff after $5$ classes. Hence, we will choose a $3$ class model to predict upon the inference set."
   ]
  },
  {
   "cell_type": "code",
   "execution_count": 48,
   "metadata": {
    "collapsed": false
   },
   "outputs": [],
   "source": [
    "finalNumClasses = 3\n",
    "finalMod.lcm = poLCA(form,inferenceSet,nclass = finalNumClasses,\n",
    "                     verbose = FALSE)"
   ]
  },
  {
   "cell_type": "code",
   "execution_count": 49,
   "metadata": {
    "collapsed": true
   },
   "outputs": [],
   "source": [
    "saveRDS(finalMod.lcm,\"../models/finalClusterModel.rds\")"
   ]
  },
  {
   "cell_type": "code",
   "execution_count": null,
   "metadata": {
    "collapsed": true
   },
   "outputs": [],
   "source": []
  }
 ],
 "metadata": {
  "kernelspec": {
   "display_name": "R",
   "language": "R",
   "name": "ir"
  },
  "language_info": {
   "codemirror_mode": "r",
   "file_extension": ".r",
   "mimetype": "text/x-r-source",
   "name": "R",
   "pygments_lexer": "r",
   "version": "3.2.3"
  },
  "latex_envs": {
   "bibliofile": "biblio.bib",
   "cite_by": "apalike",
   "current_citInitial": 1,
   "eqLabelWithNumbers": true,
   "eqNumInitial": 0
  },
  "nav_menu": {},
  "toc": {
   "navigate_menu": true,
   "number_sections": false,
   "sideBar": true,
   "threshold": 6,
   "toc_cell": true,
   "toc_section_display": "block",
   "toc_window_display": true
  }
 },
 "nbformat": 4,
 "nbformat_minor": 2
}
