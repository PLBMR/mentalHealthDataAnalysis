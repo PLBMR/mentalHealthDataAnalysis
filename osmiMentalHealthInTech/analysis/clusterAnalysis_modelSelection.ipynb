{
 "cells": [
  {
   "cell_type": "markdown",
   "metadata": {
    "toc": "true"
   },
   "source": [
    "# Table of Contents\n",
    " <p><div class=\"lev1 toc-item\"><a href=\"#OSMI-Mental-Health-In-Tech-Survey-2016-:-Clustering-Model-Seleciton\" data-toc-modified-id=\"OSMI-Mental-Health-In-Tech-Survey-2016-:-Clustering-Model-Seleciton-1\"><span class=\"toc-item-num\">1&nbsp;&nbsp;</span>OSMI Mental Health In Tech Survey 2016 : Clustering Model Seleciton</a></div><div class=\"lev1 toc-item\"><a href=\"#Variables-Chosen\" data-toc-modified-id=\"Variables-Chosen-2\"><span class=\"toc-item-num\">2&nbsp;&nbsp;</span>Variables Chosen</a></div><div class=\"lev2 toc-item\"><a href=\"#Usage-of-why-variables\" data-toc-modified-id=\"Usage-of-why-variables-2.1\"><span class=\"toc-item-num\">2.1&nbsp;&nbsp;</span>Usage of why variables</a></div><div class=\"lev1 toc-item\"><a href=\"#Initial-Modeling\" data-toc-modified-id=\"Initial-Modeling-3\"><span class=\"toc-item-num\">3&nbsp;&nbsp;</span>Initial Modeling</a></div>"
   ]
  },
  {
   "cell_type": "markdown",
   "metadata": {},
   "source": [
    "# OSMI Mental Health In Tech Survey 2016 : Clustering Model Seleciton\n",
    "\n",
    "_By [Michael Rosenberg](mailto:mmrosenb@andrew.cmu.edu)._\n",
    "\n",
    "_**Description**: Contains my model selection procedure on a clustering of a set of questions related to employers and how the treat mental health._"
   ]
  },
  {
   "cell_type": "code",
   "execution_count": 35,
   "metadata": {
    "collapsed": false
   },
   "outputs": [],
   "source": [
    "#imports\n",
    "library(poLCA)\n",
    "\n",
    "#constants\n",
    "sigLev = 3\n",
    "percentMul = 100\n",
    "options(warn=-1) #turns off warnings"
   ]
  },
  {
   "cell_type": "code",
   "execution_count": 36,
   "metadata": {
    "collapsed": true
   },
   "outputs": [],
   "source": [
    "clusterFrame = read.csv(\"../data/processed/clusterDataset.csv\")"
   ]
  },
  {
   "cell_type": "markdown",
   "metadata": {},
   "source": [
    "# Variables Chosen\n",
    "\n",
    "You can see my [cluster map file](../data/preprocessed/clusterColumnMap.csv) to get a full sense of the variables used in this analysis. In this file, any variable I did not use contains an empty ```newColName```, and any variable that I am considering contains a particular ```newColName```. Because there are around $19$ variables that I am considering in my initial models, it seems to be overkill to list out the entire map here rather than describe them as they become relevant."
   ]
  },
  {
   "cell_type": "markdown",
   "metadata": {},
   "source": [
    "## Usage of why variables\n",
    "\n",
    "We see for the questions related to bringing up a mental health or physical health issue in an interview, they have a written explanation section included. While I have chosen to include these in my processed dataset, their usage may be difficult to specify due to the sparsity of user-inputted language. That being said, we may try certain methods on these sections in order to have their language inform our clustering models. In particular, it may be useful to consider a dimensionally reduced form of these questions."
   ]
  },
  {
   "cell_type": "code",
   "execution_count": 37,
   "metadata": {
    "collapsed": false
   },
   "outputs": [],
   "source": [
    "filteredClusterFrame = clusterFrame[,!names(clusterFrame) %in% c(\n",
    "                                        \"explanationMH\",\"explanationPH\")]"
   ]
  },
  {
   "cell_type": "markdown",
   "metadata": {},
   "source": [
    "# Initial Modeling\n",
    "\n",
    "Because we have only categorical variables, it seems reasonable to limit our analysis to only considering latent class models. This is because we do not need to deal with mixed types, and so a typical $K$-modes clustering algorithm is not entirely necessary.\n",
    "\n",
    "I have a feeling that there are two main narratives that we need to consider: The narrative of \"employers are doing enough for mental health\" and the narrative of \"employers are not doing enough for mental health.\" Because of this, I think it might be useful to initially consider a $2$-class model."
   ]
  },
  {
   "cell_type": "code",
   "execution_count": 45,
   "metadata": {
    "collapsed": false
   },
   "outputs": [
    {
     "name": "stdout",
     "output_type": "stream",
     "text": [
      "[1] \"cbind(empPrimTech,empProvideMHB,knowMHB,empDiscMH,empResourceMH,anonProtected,askLeaveDiff,negConsDiscMH,negConsDiscPH,coworkComfMHD,superComfMHD,empSeriousMH,heardNegConsMH,discInterviewPH,discInterviewMH,hurtCareerMH,teamNegMH,observeBadResponseMH,revealLikelihoodMH)~1\"\n",
      "Conditional item response (column) probabilities,\n",
      " by outcome variable, for each class (row) \n",
      " \n",
      "$empPrimTech\n",
      "           Pr(1)  Pr(2)\n",
      "class 1:  0.7954 0.2046\n",
      "class 2:  0.7488 0.2512\n",
      "\n",
      "$empProvideMHB\n",
      "           Pr(1)  Pr(2)  Pr(3)  Pr(4)\n",
      "class 1:  0.0791 0.1325 0.5064 0.2821\n",
      "class 2:  0.0666 0.2325 0.4258 0.2751\n",
      "\n",
      "$knowMHB\n",
      "           Pr(1)  Pr(2)  Pr(3)  Pr(4)\n",
      "class 1:  0.1211 0.3012 0.3281 0.2495\n",
      "class 2:  0.1116 0.2388 0.2888 0.3608\n",
      "\n",
      "$empDiscMH\n",
      "           Pr(1)  Pr(2)  Pr(3)\n",
      "class 1:  0.5905 0.2956 0.1139\n",
      "class 2:  0.8133 0.1178 0.0689\n",
      "\n",
      "$empResourceMH\n",
      "           Pr(1)  Pr(2)  Pr(3)\n",
      "class 1:  0.3761 0.3291 0.2948\n",
      "class 2:  0.5395 0.1948 0.2656\n",
      "\n",
      "$anonProtected\n",
      "           Pr(1)  Pr(2)  Pr(3)\n",
      "class 1:  0.5726 0.3898 0.0376\n",
      "class 2:  0.7129 0.1826 0.1045\n",
      "\n",
      "$askLeaveDiff\n",
      "           Pr(1)  Pr(2)  Pr(3)  Pr(4)  Pr(5)  Pr(6)\n",
      "class 1:  0.3536 0.3520 0.1520 0.0047 0.0611 0.0768\n",
      "class 2:  0.0508 0.1519 0.1582 0.1888 0.2720 0.1782\n",
      "\n",
      "$negConsDiscMH\n",
      "           Pr(1)  Pr(2)  Pr(3)\n",
      "class 1:  0.7596 0.2404 0.0000\n",
      "class 2:  0.0525 0.5862 0.3613\n",
      "\n",
      "$negConsDiscPH\n",
      "           Pr(1)  Pr(2)  Pr(3)\n",
      "class 1:  0.9342 0.0646 0.0012\n",
      "class 2:  0.5523 0.3818 0.0660\n",
      "\n",
      "$coworkComfMHD\n",
      "           Pr(1)  Pr(2)  Pr(3)\n",
      "class 1:  0.4810 0.4265 0.0926\n",
      "class 2:  0.3629 0.0770 0.5600\n",
      "\n",
      "$superComfMHD\n",
      "           Pr(1)  Pr(2)  Pr(3)\n",
      "class 1:  0.6759 0.2870 0.0371\n",
      "class 2:  0.1093 0.3738 0.5169\n",
      "\n",
      "$empSeriousMH\n",
      "           Pr(1)  Pr(2)  Pr(3)\n",
      "class 1:  0.3658 0.5363 0.0979\n",
      "class 2:  0.4864 0.1037 0.4099\n",
      "\n",
      "$heardNegConsMH\n",
      "           Pr(1)  Pr(2)\n",
      "class 1:  0.9676 0.0324\n",
      "class 2:  0.8681 0.1319\n",
      "\n",
      "$discInterviewPH\n",
      "           Pr(1)  Pr(2)  Pr(3)\n",
      "class 1:  0.4158 0.3486 0.2355\n",
      "class 2:  0.4264 0.1728 0.4008\n",
      "\n",
      "$discInterviewMH\n",
      "           Pr(1)  Pr(2)  Pr(3)\n",
      "class 1:  0.4305 0.4257 0.1437\n",
      "class 2:  0.1683 0.8069 0.0248\n",
      "\n",
      "$hurtCareerMH\n",
      "           Pr(1)  Pr(2)  Pr(3)  Pr(4)  Pr(5)\n",
      "class 1:  0.5807 0.2095 0.1367 0.0468 0.0264\n",
      "class 2:  0.2644 0.0148 0.6114 0.0000 0.1094\n",
      "\n",
      "$teamNegMH\n",
      "           Pr(1)  Pr(2)  Pr(3)  Pr(4)  Pr(5)\n",
      "class 1:  0.4539 0.4164 0.0078 0.0439 0.0780\n",
      "class 2:  0.0988 0.3899 0.0422 0.4652 0.0038\n",
      "\n",
      "$observeBadResponseMH\n",
      "           Pr(1)  Pr(2)  Pr(3)  Pr(4)  Pr(5)\n",
      "class 1:  0.5898 0.1811 0.0754 0.1137 0.0400\n",
      "class 2:  0.2875 0.2963 0.1499 0.2162 0.0501\n",
      "\n",
      "$revealLikelihoodMH\n",
      "           Pr(1)  Pr(2)  Pr(3)  Pr(4)  Pr(5)\n",
      "class 1:  0.6317 0.0454 0.1991 0.0864 0.0374\n",
      "class 2:  0.3408 0.2563 0.1498 0.1403 0.1128\n",
      "\n",
      "Estimated class population shares \n",
      " 0.4663 0.5337 \n",
      " \n",
      "Predicted class memberships (by modal posterior prob.) \n",
      " 0.4634 0.5366 \n",
      " \n",
      "========================================================= \n",
      "Fit for 2 latent classes: \n",
      "========================================================= \n",
      "number of observations: 1146 \n",
      "number of estimated parameters: 99 \n",
      "residual degrees of freedom: 1047 \n",
      "maximum log-likelihood: -21474.66 \n",
      " \n",
      "AIC(2): 43147.31\n",
      "BIC(2): 43646.67\n",
      "G^2(2): 26807.16 (Likelihood ratio/deviance statistic) \n",
      "X^2(2): 100288526599 (Chi-square goodness of fit) \n",
      " \n"
     ]
    }
   ],
   "source": [
    "#make formula\n",
    "columnString = paste(colnames(filteredClusterFrame),collapse = \",\")\n",
    "lhs = paste0(\"cbind(\",columnString,\")\")\n",
    "givenForm = paste0(lhs,\"~1\")\n",
    "print(givenForm)\n",
    "initMod.lcm = poLCA(cbind(empPrimTech,empProvideMHB,knowMHB,empDiscMH,empResourceMH,anonProtected,askLeaveDiff,negConsDiscMH,negConsDiscPH,coworkComfMHD,superComfMHD,empSeriousMH,heardNegConsMH,discInterviewPH,discInterviewMH,hurtCareerMH,teamNegMH,observeBadResponseMH,revealLikelihoodMH)~1,\n",
    "                    data = filteredClusterFrame,nclass = 2)"
   ]
  },
  {
   "cell_type": "code",
   "execution_count": null,
   "metadata": {
    "collapsed": true
   },
   "outputs": [],
   "source": []
  }
 ],
 "metadata": {
  "kernelspec": {
   "display_name": "R",
   "language": "R",
   "name": "ir"
  },
  "language_info": {
   "codemirror_mode": "r",
   "file_extension": ".r",
   "mimetype": "text/x-r-source",
   "name": "R",
   "pygments_lexer": "r",
   "version": "3.2.3"
  },
  "latex_envs": {
   "bibliofile": "biblio.bib",
   "cite_by": "apalike",
   "current_citInitial": 1,
   "eqLabelWithNumbers": true,
   "eqNumInitial": 0
  },
  "nav_menu": {},
  "toc": {
   "navigate_menu": true,
   "number_sections": false,
   "sideBar": true,
   "threshold": 6,
   "toc_cell": true,
   "toc_section_display": "block",
   "toc_window_display": true
  }
 },
 "nbformat": 4,
 "nbformat_minor": 2
}
