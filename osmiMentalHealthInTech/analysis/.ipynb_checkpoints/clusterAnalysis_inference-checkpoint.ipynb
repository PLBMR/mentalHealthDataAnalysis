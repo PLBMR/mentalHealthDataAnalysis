{
 "cells": [
  {
   "cell_type": "markdown",
   "metadata": {
    "toc": "true"
   },
   "source": [
    "# Table of Contents\n",
    " <p><div class=\"lev1 toc-item\"><a href=\"#OSMI-Mental-Health-In-Tech-Survey-2016-:-Inference-on-Cluster-Analysis\" data-toc-modified-id=\"OSMI-Mental-Health-In-Tech-Survey-2016-:-Inference-on-Cluster-Analysis-1\"><span class=\"toc-item-num\">1&nbsp;&nbsp;</span>OSMI Mental Health In Tech Survey 2016 : Inference on Cluster Analysis</a></div><div class=\"lev1 toc-item\"><a href=\"#Recap\" data-toc-modified-id=\"Recap-2\"><span class=\"toc-item-num\">2&nbsp;&nbsp;</span>Recap</a></div><div class=\"lev1 toc-item\"><a href=\"#Model-Study\" data-toc-modified-id=\"Model-Study-3\"><span class=\"toc-item-num\">3&nbsp;&nbsp;</span>Model Study</a></div><div class=\"lev2 toc-item\"><a href=\"#Class-Descriptions\" data-toc-modified-id=\"Class-Descriptions-3.1\"><span class=\"toc-item-num\">3.1&nbsp;&nbsp;</span>Class Descriptions</a></div><div class=\"lev1 toc-item\"><a href=\"#Relationship-of-Clusters-with-Demographics\" data-toc-modified-id=\"Relationship-of-Clusters-with-Demographics-4\"><span class=\"toc-item-num\">4&nbsp;&nbsp;</span>Relationship of Clusters with Demographics</a></div><div class=\"lev2 toc-item\"><a href=\"#Simple-Modeling\" data-toc-modified-id=\"Simple-Modeling-4.1\"><span class=\"toc-item-num\">4.1&nbsp;&nbsp;</span>Simple Modeling</a></div><div class=\"lev2 toc-item\"><a href=\"#Inference-and-Preditions\" data-toc-modified-id=\"Inference-and-Preditions-4.2\"><span class=\"toc-item-num\">4.2&nbsp;&nbsp;</span>Inference and Preditions</a></div>"
   ]
  },
  {
   "cell_type": "markdown",
   "metadata": {},
   "source": [
    "# OSMI Mental Health In Tech Survey 2016 : Inference on Cluster Analysis\n",
    "\n",
    "_By [Michael Rosenberg](mmrosenb@andrew.cmu.edu)._"
   ]
  },
  {
   "cell_type": "code",
   "execution_count": 226,
   "metadata": {
    "collapsed": false
   },
   "outputs": [],
   "source": [
    "#imports\n",
    "library(poLCA)\n",
    "library(nnet)\n",
    "library(tree)\n",
    "\n",
    "#constants\n",
    "sigLev = 3\n",
    "percentMul = 100\n",
    "options(warn=-1)"
   ]
  },
  {
   "cell_type": "code",
   "execution_count": 227,
   "metadata": {
    "collapsed": true
   },
   "outputs": [],
   "source": [
    "#load in data\n",
    "inferenceFrame = read.csv(\"../../data/processed/clusterData_inference.csv\")\n",
    "finalMod.lcm = readRDS(\"../../models/finalClusterModel.rds\")"
   ]
  },
  {
   "cell_type": "markdown",
   "metadata": {},
   "source": [
    "# Recap"
   ]
  },
  {
   "cell_type": "markdown",
   "metadata": {},
   "source": [
    "# Model Study"
   ]
  },
  {
   "cell_type": "code",
   "execution_count": 228,
   "metadata": {
    "collapsed": false
   },
   "outputs": [
    {
     "data": {
      "text/html": [
       "<table>\n",
       "<thead><tr><th scope=col>class</th><th scope=col>prior</th></tr></thead>\n",
       "<tbody>\n",
       "\t<tr><td>Class 1</td><td>0.279  </td></tr>\n",
       "\t<tr><td>Class 2</td><td>0.291  </td></tr>\n",
       "\t<tr><td>Class 3</td><td>0.430  </td></tr>\n",
       "</tbody>\n",
       "</table>\n"
      ],
      "text/latex": [
       "\\begin{tabular}{r|ll}\n",
       " class & prior\\\\\n",
       "\\hline\n",
       "\t Class 1 & 0.279  \\\\\n",
       "\t Class 2 & 0.291  \\\\\n",
       "\t Class 3 & 0.430  \\\\\n",
       "\\end{tabular}\n"
      ],
      "text/markdown": [
       "\n",
       "class | prior | \n",
       "|---|---|---|\n",
       "| Class 1 | 0.279   | \n",
       "| Class 2 | 0.291   | \n",
       "| Class 3 | 0.430   | \n",
       "\n",
       "\n"
      ],
      "text/plain": [
       "  class   prior\n",
       "1 Class 1 0.279\n",
       "2 Class 2 0.291\n",
       "3 Class 3 0.430"
      ]
     },
     "metadata": {},
     "output_type": "display_data"
    }
   ],
   "source": [
    "priorFrame = data.frame(class = c(\"Class 1\",\"Class 2\",\"Class 3\"),\n",
    "                        prior = signif(finalMod.lcm$P,sigLev))\n",
    "priorFrame"
   ]
  },
  {
   "cell_type": "markdown",
   "metadata": {},
   "source": [
    "_Table 1: Our prior distribution over our classes._\n",
    "\n",
    "We see that Class $3$ is more frequent than the other two, and Class $2$ is the least frequent of the three in our estimates. That being said, these classes are extremely close together, which suggests that we have relatively balanced classes."
   ]
  },
  {
   "cell_type": "code",
   "execution_count": 229,
   "metadata": {
    "collapsed": false
   },
   "outputs": [],
   "source": [
    "displayTable <- function(givenMod,varName){\n",
    "    #helper for producing table\n",
    "    #first, get discrete encoding\n",
    "    dEncodeFilename = paste0(\"../../data/preprocessed/discreteEncodings/\",\n",
    "                             varName,\".csv\")\n",
    "    dEncodeFrame = read.csv(dEncodeFilename)\n",
    "    #get levels\n",
    "    dEncodeLevels = dEncodeFrame$level\n",
    "    givenModTable = givenMod$probs[[varName]]\n",
    "    colnames(givenModTable) = dEncodeLevels\n",
    "    #then export\n",
    "    return(givenModTable)\n",
    "}"
   ]
  },
  {
   "cell_type": "code",
   "execution_count": 230,
   "metadata": {
    "collapsed": false
   },
   "outputs": [
    {
     "data": {
      "text/html": [
       "<dl>\n",
       "\t<dt>$empPrimTech</dt>\n",
       "\t\t<dd><table>\n",
       "<thead><tr><th></th><th scope=col>Pr(1)</th><th scope=col>Pr(2)</th></tr></thead>\n",
       "<tbody>\n",
       "\t<tr><th scope=row>class 1: </th><td>0.8244730</td><td>0.1755270</td></tr>\n",
       "\t<tr><th scope=row>class 2: </th><td>0.7556236</td><td>0.2443764</td></tr>\n",
       "\t<tr><th scope=row>class 3: </th><td>0.7313169</td><td>0.2686831</td></tr>\n",
       "</tbody>\n",
       "</table>\n",
       "</dd>\n",
       "\t<dt>$empProvideMHB</dt>\n",
       "\t\t<dd><table>\n",
       "<thead><tr><th></th><th scope=col>Pr(1)</th><th scope=col>Pr(2)</th><th scope=col>Pr(3)</th><th scope=col>Pr(4)</th></tr></thead>\n",
       "<tbody>\n",
       "\t<tr><th scope=row>class 1: </th><td>0.07427009</td><td>0.22916795</td><td>0.2261028 </td><td>0.4704592 </td></tr>\n",
       "\t<tr><th scope=row>class 2: </th><td>0.06018964</td><td>0.06937303</td><td>0.7134120 </td><td>0.1570253 </td></tr>\n",
       "\t<tr><th scope=row>class 3: </th><td>0.07747540</td><td>0.23044875</td><td>0.4827873 </td><td>0.2092886 </td></tr>\n",
       "</tbody>\n",
       "</table>\n",
       "</dd>\n",
       "\t<dt>$knowMHB</dt>\n",
       "\t\t<dd><table>\n",
       "<thead><tr><th></th><th scope=col>Pr(1)</th><th scope=col>Pr(2)</th><th scope=col>Pr(3)</th><th scope=col>Pr(4)</th></tr></thead>\n",
       "<tbody>\n",
       "\t<tr><th scope=row>class 1: </th><td>0.14796891</td><td>0.09327078</td><td>0.3717736 </td><td>0.3869867 </td></tr>\n",
       "\t<tr><th scope=row>class 2: </th><td>0.10042556</td><td>0.48110518</td><td>0.2825578 </td><td>0.1359115 </td></tr>\n",
       "\t<tr><th scope=row>class 3: </th><td>0.09981376</td><td>0.25939416</td><td>0.2615314 </td><td>0.3792607 </td></tr>\n",
       "</tbody>\n",
       "</table>\n",
       "</dd>\n",
       "\t<dt>$empDiscMH</dt>\n",
       "\t\t<dd><table>\n",
       "<thead><tr><th></th><th scope=col>Pr(1)</th><th scope=col>Pr(2)</th><th scope=col>Pr(3)</th></tr></thead>\n",
       "<tbody>\n",
       "\t<tr><th scope=row>class 1: </th><td>0.8394722 </td><td>0.04933336</td><td>0.11119440</td></tr>\n",
       "\t<tr><th scope=row>class 2: </th><td>0.4473752 </td><td>0.46926465</td><td>0.08336010</td></tr>\n",
       "\t<tr><th scope=row>class 3: </th><td>0.8245459 </td><td>0.12139603</td><td>0.05405804</td></tr>\n",
       "</tbody>\n",
       "</table>\n",
       "</dd>\n",
       "\t<dt>$empResourceMH</dt>\n",
       "\t\t<dd><table>\n",
       "<thead><tr><th></th><th scope=col>Pr(1)</th><th scope=col>Pr(2)</th><th scope=col>Pr(3)</th></tr></thead>\n",
       "<tbody>\n",
       "\t<tr><th scope=row>class 1: </th><td>0.5476726 </td><td>0.03033633</td><td>0.4219911 </td></tr>\n",
       "\t<tr><th scope=row>class 2: </th><td>0.2529474 </td><td>0.56581158</td><td>0.1812410 </td></tr>\n",
       "\t<tr><th scope=row>class 3: </th><td>0.5285850 </td><td>0.20643733</td><td>0.2649777 </td></tr>\n",
       "</tbody>\n",
       "</table>\n",
       "</dd>\n",
       "\t<dt>$anonProtected</dt>\n",
       "\t\t<dd><table>\n",
       "<thead><tr><th></th><th scope=col>Pr(1)</th><th scope=col>Pr(2)</th><th scope=col>Pr(3)</th></tr></thead>\n",
       "<tbody>\n",
       "\t<tr><th scope=row>class 1: </th><td>0.8649082   </td><td>0.0791176   </td><td>5.597423e-02</td></tr>\n",
       "\t<tr><th scope=row>class 2: </th><td>0.3787851   </td><td>0.6212149   </td><td>4.869347e-66</td></tr>\n",
       "\t<tr><th scope=row>class 3: </th><td>0.7042347   </td><td>0.1778710   </td><td>1.178943e-01</td></tr>\n",
       "</tbody>\n",
       "</table>\n",
       "</dd>\n",
       "\t<dt>$askLeaveDiff</dt>\n",
       "\t\t<dd><table>\n",
       "<thead><tr><th></th><th scope=col>Pr(1)</th><th scope=col>Pr(2)</th><th scope=col>Pr(3)</th><th scope=col>Pr(4)</th><th scope=col>Pr(5)</th><th scope=col>Pr(6)</th></tr></thead>\n",
       "<tbody>\n",
       "\t<tr><th scope=row>class 1: </th><td>0.20759913   </td><td>0.2659001    </td><td>0.2399045    </td><td> 2.774653e-11</td><td>0.12242258   </td><td>0.16417369   </td></tr>\n",
       "\t<tr><th scope=row>class 2: </th><td>0.40340612   </td><td>0.3395392    </td><td>0.1364857    </td><td>7.443782e-313</td><td>0.07548902   </td><td>0.04507992   </td></tr>\n",
       "\t<tr><th scope=row>class 3: </th><td>0.05098043   </td><td>0.1496780    </td><td>0.1537241    </td><td> 2.191933e-01</td><td>0.27128340   </td><td>0.15514075   </td></tr>\n",
       "</tbody>\n",
       "</table>\n",
       "</dd>\n",
       "\t<dt>$negConsDiscMH</dt>\n",
       "\t\t<dd><table>\n",
       "<thead><tr><th></th><th scope=col>Pr(1)</th><th scope=col>Pr(2)</th><th scope=col>Pr(3)</th></tr></thead>\n",
       "<tbody>\n",
       "\t<tr><th scope=row>class 1: </th><td>0.55936678  </td><td>0.4406332   </td><td>4.360700e-68</td></tr>\n",
       "\t<tr><th scope=row>class 2: </th><td>0.78683503  </td><td>0.2063713   </td><td>6.793659e-03</td></tr>\n",
       "\t<tr><th scope=row>class 3: </th><td>0.01372454  </td><td>0.5362477   </td><td>4.500278e-01</td></tr>\n",
       "</tbody>\n",
       "</table>\n",
       "</dd>\n",
       "\t<dt>$negConsDiscPH</dt>\n",
       "\t\t<dd><table>\n",
       "<thead><tr><th></th><th scope=col>Pr(1)</th><th scope=col>Pr(2)</th><th scope=col>Pr(3)</th></tr></thead>\n",
       "<tbody>\n",
       "\t<tr><th scope=row>class 1: </th><td>0.9015073 </td><td>0.09849273</td><td>0.00000000</td></tr>\n",
       "\t<tr><th scope=row>class 2: </th><td>0.9087820 </td><td>0.09121797</td><td>0.00000000</td></tr>\n",
       "\t<tr><th scope=row>class 3: </th><td>0.4762074 </td><td>0.44260986</td><td>0.08118272</td></tr>\n",
       "</tbody>\n",
       "</table>\n",
       "</dd>\n",
       "\t<dt>$coworkComfMHD</dt>\n",
       "\t\t<dd><table>\n",
       "<thead><tr><th></th><th scope=col>Pr(1)</th><th scope=col>Pr(2)</th><th scope=col>Pr(3)</th></tr></thead>\n",
       "<tbody>\n",
       "\t<tr><th scope=row>class 1: </th><td>0.5850546 </td><td>0.23937312</td><td>0.17557232</td></tr>\n",
       "\t<tr><th scope=row>class 2: </th><td>0.4416065 </td><td>0.51536516</td><td>0.04302838</td></tr>\n",
       "\t<tr><th scope=row>class 3: </th><td>0.3401605 </td><td>0.05609075</td><td>0.60374879</td></tr>\n",
       "</tbody>\n",
       "</table>\n",
       "</dd>\n",
       "\t<dt>$superComfMHD</dt>\n",
       "\t\t<dd><table>\n",
       "<thead><tr><th></th><th scope=col>Pr(1)</th><th scope=col>Pr(2)</th><th scope=col>Pr(3)</th></tr></thead>\n",
       "<tbody>\n",
       "\t<tr><th scope=row>class 1: </th><td>0.35724820 </td><td>0.5306085  </td><td>0.112143335</td></tr>\n",
       "\t<tr><th scope=row>class 2: </th><td>0.87569818 </td><td>0.1174421  </td><td>0.006859767</td></tr>\n",
       "\t<tr><th scope=row>class 3: </th><td>0.08894139 </td><td>0.3512466  </td><td>0.559811971</td></tr>\n",
       "</tbody>\n",
       "</table>\n",
       "</dd>\n",
       "\t<dt>$empSeriousMH</dt>\n",
       "\t\t<dd><table>\n",
       "<thead><tr><th></th><th scope=col>Pr(1)</th><th scope=col>Pr(2)</th><th scope=col>Pr(3)</th></tr></thead>\n",
       "<tbody>\n",
       "\t<tr><th scope=row>class 1: </th><td>0.6435654</td><td>0.2152881</td><td>0.1411465</td></tr>\n",
       "\t<tr><th scope=row>class 2: </th><td>0.1913052</td><td>0.6759570</td><td>0.1327377</td></tr>\n",
       "\t<tr><th scope=row>class 3: </th><td>0.4511753</td><td>0.1011147</td><td>0.4477100</td></tr>\n",
       "</tbody>\n",
       "</table>\n",
       "</dd>\n",
       "\t<dt>$heardNegConsMH</dt>\n",
       "\t\t<dd><table>\n",
       "<thead><tr><th></th><th scope=col>Pr(1)</th><th scope=col>Pr(2)</th></tr></thead>\n",
       "<tbody>\n",
       "\t<tr><th scope=row>class 1: </th><td>0.9877511 </td><td>0.01224893</td></tr>\n",
       "\t<tr><th scope=row>class 2: </th><td>0.9520863 </td><td>0.04791371</td></tr>\n",
       "\t<tr><th scope=row>class 3: </th><td>0.8495859 </td><td>0.15041405</td></tr>\n",
       "</tbody>\n",
       "</table>\n",
       "</dd>\n",
       "\t<dt>$discInterviewPH</dt>\n",
       "\t\t<dd><table>\n",
       "<thead><tr><th></th><th scope=col>Pr(1)</th><th scope=col>Pr(2)</th><th scope=col>Pr(3)</th></tr></thead>\n",
       "<tbody>\n",
       "\t<tr><th scope=row>class 1: </th><td>0.5228792</td><td>0.2932307</td><td>0.1838901</td></tr>\n",
       "\t<tr><th scope=row>class 2: </th><td>0.4078881</td><td>0.3292150</td><td>0.2628970</td></tr>\n",
       "\t<tr><th scope=row>class 3: </th><td>0.3668165</td><td>0.1510890</td><td>0.4820945</td></tr>\n",
       "</tbody>\n",
       "</table>\n",
       "</dd>\n",
       "\t<dt>$discInterviewMH</dt>\n",
       "\t\t<dd><table>\n",
       "<thead><tr><th></th><th scope=col>Pr(1)</th><th scope=col>Pr(2)</th><th scope=col>Pr(3)</th></tr></thead>\n",
       "<tbody>\n",
       "\t<tr><th scope=row>class 1: </th><td>0.4067476</td><td>0.4893513</td><td>0.1039010</td></tr>\n",
       "\t<tr><th scope=row>class 2: </th><td>0.4208812</td><td>0.4305374</td><td>0.1485814</td></tr>\n",
       "\t<tr><th scope=row>class 3: </th><td>0.1208965</td><td>0.8563080</td><td>0.0227955</td></tr>\n",
       "</tbody>\n",
       "</table>\n",
       "</dd>\n",
       "\t<dt>$hurtCareerMH</dt>\n",
       "\t\t<dd><table>\n",
       "<thead><tr><th></th><th scope=col>Pr(1)</th><th scope=col>Pr(2)</th><th scope=col>Pr(3)</th><th scope=col>Pr(4)</th><th scope=col>Pr(5)</th></tr></thead>\n",
       "<tbody>\n",
       "\t<tr><th scope=row>class 1: </th><td>0.6680637    </td><td>1.239090e-01 </td><td>0.1814641    </td><td> 1.199368e-02</td><td>0.01456951   </td></tr>\n",
       "\t<tr><th scope=row>class 2: </th><td>0.5004982    </td><td>2.530836e-01 </td><td>0.1136515    </td><td> 8.449795e-02</td><td>0.04826868   </td></tr>\n",
       "\t<tr><th scope=row>class 3: </th><td>0.1571125    </td><td>2.624015e-98 </td><td>0.7145163    </td><td>3.734120e-178</td><td>0.12837115   </td></tr>\n",
       "</tbody>\n",
       "</table>\n",
       "</dd>\n",
       "\t<dt>$teamNegMH</dt>\n",
       "\t\t<dd><table>\n",
       "<thead><tr><th></th><th scope=col>Pr(1)</th><th scope=col>Pr(2)</th><th scope=col>Pr(3)</th><th scope=col>Pr(4)</th><th scope=col>Pr(5)</th></tr></thead>\n",
       "<tbody>\n",
       "\t<tr><th scope=row>class 1: </th><td>0.38829324 </td><td>0.5330610  </td><td>0.01183862 </td><td>0.05109429 </td><td>0.015712897</td></tr>\n",
       "\t<tr><th scope=row>class 2: </th><td>0.44312437 </td><td>0.3622803  </td><td>0.01246846 </td><td>0.05322270 </td><td>0.128904187</td></tr>\n",
       "\t<tr><th scope=row>class 3: </th><td>0.06912633 </td><td>0.3058124  </td><td>0.04476435 </td><td>0.57621775 </td><td>0.004079122</td></tr>\n",
       "</tbody>\n",
       "</table>\n",
       "</dd>\n",
       "\t<dt>$observeBadResponseMH</dt>\n",
       "\t\t<dd><table>\n",
       "<thead><tr><th></th><th scope=col>Pr(1)</th><th scope=col>Pr(2)</th><th scope=col>Pr(3)</th><th scope=col>Pr(4)</th><th scope=col>Pr(5)</th></tr></thead>\n",
       "<tbody>\n",
       "\t<tr><th scope=row>class 1: </th><td>0.5759585 </td><td>0.2287329 </td><td>0.02023198</td><td>0.1234917 </td><td>0.05158498</td></tr>\n",
       "\t<tr><th scope=row>class 2: </th><td>0.4909702 </td><td>0.1950338 </td><td>0.14048537</td><td>0.1499544 </td><td>0.02355625</td></tr>\n",
       "\t<tr><th scope=row>class 3: </th><td>0.2842630 </td><td>0.2918597 </td><td>0.18003059</td><td>0.1999229 </td><td>0.04392381</td></tr>\n",
       "</tbody>\n",
       "</table>\n",
       "</dd>\n",
       "</dl>\n"
      ],
      "text/latex": [
       "\\begin{description}\n",
       "\\item[\\$empPrimTech] \\begin{tabular}{r|ll}\n",
       "  & Pr(1) & Pr(2)\\\\\n",
       "\\hline\n",
       "\tclass 1:  & 0.8244730 & 0.1755270\\\\\n",
       "\tclass 2:  & 0.7556236 & 0.2443764\\\\\n",
       "\tclass 3:  & 0.7313169 & 0.2686831\\\\\n",
       "\\end{tabular}\n",
       "\n",
       "\\item[\\$empProvideMHB] \\begin{tabular}{r|llll}\n",
       "  & Pr(1) & Pr(2) & Pr(3) & Pr(4)\\\\\n",
       "\\hline\n",
       "\tclass 1:  & 0.07427009 & 0.22916795 & 0.2261028  & 0.4704592 \\\\\n",
       "\tclass 2:  & 0.06018964 & 0.06937303 & 0.7134120  & 0.1570253 \\\\\n",
       "\tclass 3:  & 0.07747540 & 0.23044875 & 0.4827873  & 0.2092886 \\\\\n",
       "\\end{tabular}\n",
       "\n",
       "\\item[\\$knowMHB] \\begin{tabular}{r|llll}\n",
       "  & Pr(1) & Pr(2) & Pr(3) & Pr(4)\\\\\n",
       "\\hline\n",
       "\tclass 1:  & 0.14796891 & 0.09327078 & 0.3717736  & 0.3869867 \\\\\n",
       "\tclass 2:  & 0.10042556 & 0.48110518 & 0.2825578  & 0.1359115 \\\\\n",
       "\tclass 3:  & 0.09981376 & 0.25939416 & 0.2615314  & 0.3792607 \\\\\n",
       "\\end{tabular}\n",
       "\n",
       "\\item[\\$empDiscMH] \\begin{tabular}{r|lll}\n",
       "  & Pr(1) & Pr(2) & Pr(3)\\\\\n",
       "\\hline\n",
       "\tclass 1:  & 0.8394722  & 0.04933336 & 0.11119440\\\\\n",
       "\tclass 2:  & 0.4473752  & 0.46926465 & 0.08336010\\\\\n",
       "\tclass 3:  & 0.8245459  & 0.12139603 & 0.05405804\\\\\n",
       "\\end{tabular}\n",
       "\n",
       "\\item[\\$empResourceMH] \\begin{tabular}{r|lll}\n",
       "  & Pr(1) & Pr(2) & Pr(3)\\\\\n",
       "\\hline\n",
       "\tclass 1:  & 0.5476726  & 0.03033633 & 0.4219911 \\\\\n",
       "\tclass 2:  & 0.2529474  & 0.56581158 & 0.1812410 \\\\\n",
       "\tclass 3:  & 0.5285850  & 0.20643733 & 0.2649777 \\\\\n",
       "\\end{tabular}\n",
       "\n",
       "\\item[\\$anonProtected] \\begin{tabular}{r|lll}\n",
       "  & Pr(1) & Pr(2) & Pr(3)\\\\\n",
       "\\hline\n",
       "\tclass 1:  & 0.8649082    & 0.0791176    & 5.597423e-02\\\\\n",
       "\tclass 2:  & 0.3787851    & 0.6212149    & 4.869347e-66\\\\\n",
       "\tclass 3:  & 0.7042347    & 0.1778710    & 1.178943e-01\\\\\n",
       "\\end{tabular}\n",
       "\n",
       "\\item[\\$askLeaveDiff] \\begin{tabular}{r|llllll}\n",
       "  & Pr(1) & Pr(2) & Pr(3) & Pr(4) & Pr(5) & Pr(6)\\\\\n",
       "\\hline\n",
       "\tclass 1:  & 0.20759913    & 0.2659001     & 0.2399045     &  2.774653e-11 & 0.12242258    & 0.16417369   \\\\\n",
       "\tclass 2:  & 0.40340612    & 0.3395392     & 0.1364857     & 7.443782e-313 & 0.07548902    & 0.04507992   \\\\\n",
       "\tclass 3:  & 0.05098043    & 0.1496780     & 0.1537241     &  2.191933e-01 & 0.27128340    & 0.15514075   \\\\\n",
       "\\end{tabular}\n",
       "\n",
       "\\item[\\$negConsDiscMH] \\begin{tabular}{r|lll}\n",
       "  & Pr(1) & Pr(2) & Pr(3)\\\\\n",
       "\\hline\n",
       "\tclass 1:  & 0.55936678   & 0.4406332    & 4.360700e-68\\\\\n",
       "\tclass 2:  & 0.78683503   & 0.2063713    & 6.793659e-03\\\\\n",
       "\tclass 3:  & 0.01372454   & 0.5362477    & 4.500278e-01\\\\\n",
       "\\end{tabular}\n",
       "\n",
       "\\item[\\$negConsDiscPH] \\begin{tabular}{r|lll}\n",
       "  & Pr(1) & Pr(2) & Pr(3)\\\\\n",
       "\\hline\n",
       "\tclass 1:  & 0.9015073  & 0.09849273 & 0.00000000\\\\\n",
       "\tclass 2:  & 0.9087820  & 0.09121797 & 0.00000000\\\\\n",
       "\tclass 3:  & 0.4762074  & 0.44260986 & 0.08118272\\\\\n",
       "\\end{tabular}\n",
       "\n",
       "\\item[\\$coworkComfMHD] \\begin{tabular}{r|lll}\n",
       "  & Pr(1) & Pr(2) & Pr(3)\\\\\n",
       "\\hline\n",
       "\tclass 1:  & 0.5850546  & 0.23937312 & 0.17557232\\\\\n",
       "\tclass 2:  & 0.4416065  & 0.51536516 & 0.04302838\\\\\n",
       "\tclass 3:  & 0.3401605  & 0.05609075 & 0.60374879\\\\\n",
       "\\end{tabular}\n",
       "\n",
       "\\item[\\$superComfMHD] \\begin{tabular}{r|lll}\n",
       "  & Pr(1) & Pr(2) & Pr(3)\\\\\n",
       "\\hline\n",
       "\tclass 1:  & 0.35724820  & 0.5306085   & 0.112143335\\\\\n",
       "\tclass 2:  & 0.87569818  & 0.1174421   & 0.006859767\\\\\n",
       "\tclass 3:  & 0.08894139  & 0.3512466   & 0.559811971\\\\\n",
       "\\end{tabular}\n",
       "\n",
       "\\item[\\$empSeriousMH] \\begin{tabular}{r|lll}\n",
       "  & Pr(1) & Pr(2) & Pr(3)\\\\\n",
       "\\hline\n",
       "\tclass 1:  & 0.6435654 & 0.2152881 & 0.1411465\\\\\n",
       "\tclass 2:  & 0.1913052 & 0.6759570 & 0.1327377\\\\\n",
       "\tclass 3:  & 0.4511753 & 0.1011147 & 0.4477100\\\\\n",
       "\\end{tabular}\n",
       "\n",
       "\\item[\\$heardNegConsMH] \\begin{tabular}{r|ll}\n",
       "  & Pr(1) & Pr(2)\\\\\n",
       "\\hline\n",
       "\tclass 1:  & 0.9877511  & 0.01224893\\\\\n",
       "\tclass 2:  & 0.9520863  & 0.04791371\\\\\n",
       "\tclass 3:  & 0.8495859  & 0.15041405\\\\\n",
       "\\end{tabular}\n",
       "\n",
       "\\item[\\$discInterviewPH] \\begin{tabular}{r|lll}\n",
       "  & Pr(1) & Pr(2) & Pr(3)\\\\\n",
       "\\hline\n",
       "\tclass 1:  & 0.5228792 & 0.2932307 & 0.1838901\\\\\n",
       "\tclass 2:  & 0.4078881 & 0.3292150 & 0.2628970\\\\\n",
       "\tclass 3:  & 0.3668165 & 0.1510890 & 0.4820945\\\\\n",
       "\\end{tabular}\n",
       "\n",
       "\\item[\\$discInterviewMH] \\begin{tabular}{r|lll}\n",
       "  & Pr(1) & Pr(2) & Pr(3)\\\\\n",
       "\\hline\n",
       "\tclass 1:  & 0.4067476 & 0.4893513 & 0.1039010\\\\\n",
       "\tclass 2:  & 0.4208812 & 0.4305374 & 0.1485814\\\\\n",
       "\tclass 3:  & 0.1208965 & 0.8563080 & 0.0227955\\\\\n",
       "\\end{tabular}\n",
       "\n",
       "\\item[\\$hurtCareerMH] \\begin{tabular}{r|lllll}\n",
       "  & Pr(1) & Pr(2) & Pr(3) & Pr(4) & Pr(5)\\\\\n",
       "\\hline\n",
       "\tclass 1:  & 0.6680637     & 1.239090e-01  & 0.1814641     &  1.199368e-02 & 0.01456951   \\\\\n",
       "\tclass 2:  & 0.5004982     & 2.530836e-01  & 0.1136515     &  8.449795e-02 & 0.04826868   \\\\\n",
       "\tclass 3:  & 0.1571125     & 2.624015e-98  & 0.7145163     & 3.734120e-178 & 0.12837115   \\\\\n",
       "\\end{tabular}\n",
       "\n",
       "\\item[\\$teamNegMH] \\begin{tabular}{r|lllll}\n",
       "  & Pr(1) & Pr(2) & Pr(3) & Pr(4) & Pr(5)\\\\\n",
       "\\hline\n",
       "\tclass 1:  & 0.38829324  & 0.5330610   & 0.01183862  & 0.05109429  & 0.015712897\\\\\n",
       "\tclass 2:  & 0.44312437  & 0.3622803   & 0.01246846  & 0.05322270  & 0.128904187\\\\\n",
       "\tclass 3:  & 0.06912633  & 0.3058124   & 0.04476435  & 0.57621775  & 0.004079122\\\\\n",
       "\\end{tabular}\n",
       "\n",
       "\\item[\\$observeBadResponseMH] \\begin{tabular}{r|lllll}\n",
       "  & Pr(1) & Pr(2) & Pr(3) & Pr(4) & Pr(5)\\\\\n",
       "\\hline\n",
       "\tclass 1:  & 0.5759585  & 0.2287329  & 0.02023198 & 0.1234917  & 0.05158498\\\\\n",
       "\tclass 2:  & 0.4909702  & 0.1950338  & 0.14048537 & 0.1499544  & 0.02355625\\\\\n",
       "\tclass 3:  & 0.2842630  & 0.2918597  & 0.18003059 & 0.1999229  & 0.04392381\\\\\n",
       "\\end{tabular}\n",
       "\n",
       "\\end{description}\n"
      ],
      "text/markdown": [
       "$empPrimTech\n",
       ":   \n",
       "| <!--/--> | Pr(1) | Pr(2) | \n",
       "|---|---|---|\n",
       "| class 1:  | 0.8244730 | 0.1755270 | \n",
       "| class 2:  | 0.7556236 | 0.2443764 | \n",
       "| class 3:  | 0.7313169 | 0.2686831 | \n",
       "\n",
       "\n",
       "\n",
       "$empProvideMHB\n",
       ":   \n",
       "| <!--/--> | Pr(1) | Pr(2) | Pr(3) | Pr(4) | \n",
       "|---|---|---|\n",
       "| class 1:  | 0.07427009 | 0.22916795 | 0.2261028  | 0.4704592  | \n",
       "| class 2:  | 0.06018964 | 0.06937303 | 0.7134120  | 0.1570253  | \n",
       "| class 3:  | 0.07747540 | 0.23044875 | 0.4827873  | 0.2092886  | \n",
       "\n",
       "\n",
       "\n",
       "$knowMHB\n",
       ":   \n",
       "| <!--/--> | Pr(1) | Pr(2) | Pr(3) | Pr(4) | \n",
       "|---|---|---|\n",
       "| class 1:  | 0.14796891 | 0.09327078 | 0.3717736  | 0.3869867  | \n",
       "| class 2:  | 0.10042556 | 0.48110518 | 0.2825578  | 0.1359115  | \n",
       "| class 3:  | 0.09981376 | 0.25939416 | 0.2615314  | 0.3792607  | \n",
       "\n",
       "\n",
       "\n",
       "$empDiscMH\n",
       ":   \n",
       "| <!--/--> | Pr(1) | Pr(2) | Pr(3) | \n",
       "|---|---|---|\n",
       "| class 1:  | 0.8394722  | 0.04933336 | 0.11119440 | \n",
       "| class 2:  | 0.4473752  | 0.46926465 | 0.08336010 | \n",
       "| class 3:  | 0.8245459  | 0.12139603 | 0.05405804 | \n",
       "\n",
       "\n",
       "\n",
       "$empResourceMH\n",
       ":   \n",
       "| <!--/--> | Pr(1) | Pr(2) | Pr(3) | \n",
       "|---|---|---|\n",
       "| class 1:  | 0.5476726  | 0.03033633 | 0.4219911  | \n",
       "| class 2:  | 0.2529474  | 0.56581158 | 0.1812410  | \n",
       "| class 3:  | 0.5285850  | 0.20643733 | 0.2649777  | \n",
       "\n",
       "\n",
       "\n",
       "$anonProtected\n",
       ":   \n",
       "| <!--/--> | Pr(1) | Pr(2) | Pr(3) | \n",
       "|---|---|---|\n",
       "| class 1:  | 0.8649082    | 0.0791176    | 5.597423e-02 | \n",
       "| class 2:  | 0.3787851    | 0.6212149    | 4.869347e-66 | \n",
       "| class 3:  | 0.7042347    | 0.1778710    | 1.178943e-01 | \n",
       "\n",
       "\n",
       "\n",
       "$askLeaveDiff\n",
       ":   \n",
       "| <!--/--> | Pr(1) | Pr(2) | Pr(3) | Pr(4) | Pr(5) | Pr(6) | \n",
       "|---|---|---|\n",
       "| class 1:  | 0.20759913    | 0.2659001     | 0.2399045     |  2.774653e-11 | 0.12242258    | 0.16417369    | \n",
       "| class 2:  | 0.40340612    | 0.3395392     | 0.1364857     | 7.443782e-313 | 0.07548902    | 0.04507992    | \n",
       "| class 3:  | 0.05098043    | 0.1496780     | 0.1537241     |  2.191933e-01 | 0.27128340    | 0.15514075    | \n",
       "\n",
       "\n",
       "\n",
       "$negConsDiscMH\n",
       ":   \n",
       "| <!--/--> | Pr(1) | Pr(2) | Pr(3) | \n",
       "|---|---|---|\n",
       "| class 1:  | 0.55936678   | 0.4406332    | 4.360700e-68 | \n",
       "| class 2:  | 0.78683503   | 0.2063713    | 6.793659e-03 | \n",
       "| class 3:  | 0.01372454   | 0.5362477    | 4.500278e-01 | \n",
       "\n",
       "\n",
       "\n",
       "$negConsDiscPH\n",
       ":   \n",
       "| <!--/--> | Pr(1) | Pr(2) | Pr(3) | \n",
       "|---|---|---|\n",
       "| class 1:  | 0.9015073  | 0.09849273 | 0.00000000 | \n",
       "| class 2:  | 0.9087820  | 0.09121797 | 0.00000000 | \n",
       "| class 3:  | 0.4762074  | 0.44260986 | 0.08118272 | \n",
       "\n",
       "\n",
       "\n",
       "$coworkComfMHD\n",
       ":   \n",
       "| <!--/--> | Pr(1) | Pr(2) | Pr(3) | \n",
       "|---|---|---|\n",
       "| class 1:  | 0.5850546  | 0.23937312 | 0.17557232 | \n",
       "| class 2:  | 0.4416065  | 0.51536516 | 0.04302838 | \n",
       "| class 3:  | 0.3401605  | 0.05609075 | 0.60374879 | \n",
       "\n",
       "\n",
       "\n",
       "$superComfMHD\n",
       ":   \n",
       "| <!--/--> | Pr(1) | Pr(2) | Pr(3) | \n",
       "|---|---|---|\n",
       "| class 1:  | 0.35724820  | 0.5306085   | 0.112143335 | \n",
       "| class 2:  | 0.87569818  | 0.1174421   | 0.006859767 | \n",
       "| class 3:  | 0.08894139  | 0.3512466   | 0.559811971 | \n",
       "\n",
       "\n",
       "\n",
       "$empSeriousMH\n",
       ":   \n",
       "| <!--/--> | Pr(1) | Pr(2) | Pr(3) | \n",
       "|---|---|---|\n",
       "| class 1:  | 0.6435654 | 0.2152881 | 0.1411465 | \n",
       "| class 2:  | 0.1913052 | 0.6759570 | 0.1327377 | \n",
       "| class 3:  | 0.4511753 | 0.1011147 | 0.4477100 | \n",
       "\n",
       "\n",
       "\n",
       "$heardNegConsMH\n",
       ":   \n",
       "| <!--/--> | Pr(1) | Pr(2) | \n",
       "|---|---|---|\n",
       "| class 1:  | 0.9877511  | 0.01224893 | \n",
       "| class 2:  | 0.9520863  | 0.04791371 | \n",
       "| class 3:  | 0.8495859  | 0.15041405 | \n",
       "\n",
       "\n",
       "\n",
       "$discInterviewPH\n",
       ":   \n",
       "| <!--/--> | Pr(1) | Pr(2) | Pr(3) | \n",
       "|---|---|---|\n",
       "| class 1:  | 0.5228792 | 0.2932307 | 0.1838901 | \n",
       "| class 2:  | 0.4078881 | 0.3292150 | 0.2628970 | \n",
       "| class 3:  | 0.3668165 | 0.1510890 | 0.4820945 | \n",
       "\n",
       "\n",
       "\n",
       "$discInterviewMH\n",
       ":   \n",
       "| <!--/--> | Pr(1) | Pr(2) | Pr(3) | \n",
       "|---|---|---|\n",
       "| class 1:  | 0.4067476 | 0.4893513 | 0.1039010 | \n",
       "| class 2:  | 0.4208812 | 0.4305374 | 0.1485814 | \n",
       "| class 3:  | 0.1208965 | 0.8563080 | 0.0227955 | \n",
       "\n",
       "\n",
       "\n",
       "$hurtCareerMH\n",
       ":   \n",
       "| <!--/--> | Pr(1) | Pr(2) | Pr(3) | Pr(4) | Pr(5) | \n",
       "|---|---|---|\n",
       "| class 1:  | 0.6680637     | 1.239090e-01  | 0.1814641     |  1.199368e-02 | 0.01456951    | \n",
       "| class 2:  | 0.5004982     | 2.530836e-01  | 0.1136515     |  8.449795e-02 | 0.04826868    | \n",
       "| class 3:  | 0.1571125     | 2.624015e-98  | 0.7145163     | 3.734120e-178 | 0.12837115    | \n",
       "\n",
       "\n",
       "\n",
       "$teamNegMH\n",
       ":   \n",
       "| <!--/--> | Pr(1) | Pr(2) | Pr(3) | Pr(4) | Pr(5) | \n",
       "|---|---|---|\n",
       "| class 1:  | 0.38829324  | 0.5330610   | 0.01183862  | 0.05109429  | 0.015712897 | \n",
       "| class 2:  | 0.44312437  | 0.3622803   | 0.01246846  | 0.05322270  | 0.128904187 | \n",
       "| class 3:  | 0.06912633  | 0.3058124   | 0.04476435  | 0.57621775  | 0.004079122 | \n",
       "\n",
       "\n",
       "\n",
       "$observeBadResponseMH\n",
       ":   \n",
       "| <!--/--> | Pr(1) | Pr(2) | Pr(3) | Pr(4) | Pr(5) | \n",
       "|---|---|---|\n",
       "| class 1:  | 0.5759585  | 0.2287329  | 0.02023198 | 0.1234917  | 0.05158498 | \n",
       "| class 2:  | 0.4909702  | 0.1950338  | 0.14048537 | 0.1499544  | 0.02355625 | \n",
       "| class 3:  | 0.2842630  | 0.2918597  | 0.18003059 | 0.1999229  | 0.04392381 | \n",
       "\n",
       "\n",
       "\n",
       "\n",
       "\n"
      ],
      "text/plain": [
       "$empPrimTech\n",
       "              Pr(1)     Pr(2)\n",
       "class 1:  0.8244730 0.1755270\n",
       "class 2:  0.7556236 0.2443764\n",
       "class 3:  0.7313169 0.2686831\n",
       "\n",
       "$empProvideMHB\n",
       "               Pr(1)      Pr(2)     Pr(3)     Pr(4)\n",
       "class 1:  0.07427009 0.22916795 0.2261028 0.4704592\n",
       "class 2:  0.06018964 0.06937303 0.7134120 0.1570253\n",
       "class 3:  0.07747540 0.23044875 0.4827873 0.2092886\n",
       "\n",
       "$knowMHB\n",
       "               Pr(1)      Pr(2)     Pr(3)     Pr(4)\n",
       "class 1:  0.14796891 0.09327078 0.3717736 0.3869867\n",
       "class 2:  0.10042556 0.48110518 0.2825578 0.1359115\n",
       "class 3:  0.09981376 0.25939416 0.2615314 0.3792607\n",
       "\n",
       "$empDiscMH\n",
       "              Pr(1)      Pr(2)      Pr(3)\n",
       "class 1:  0.8394722 0.04933336 0.11119440\n",
       "class 2:  0.4473752 0.46926465 0.08336010\n",
       "class 3:  0.8245459 0.12139603 0.05405804\n",
       "\n",
       "$empResourceMH\n",
       "              Pr(1)      Pr(2)     Pr(3)\n",
       "class 1:  0.5476726 0.03033633 0.4219911\n",
       "class 2:  0.2529474 0.56581158 0.1812410\n",
       "class 3:  0.5285850 0.20643733 0.2649777\n",
       "\n",
       "$anonProtected\n",
       "              Pr(1)     Pr(2)        Pr(3)\n",
       "class 1:  0.8649082 0.0791176 5.597423e-02\n",
       "class 2:  0.3787851 0.6212149 4.869347e-66\n",
       "class 3:  0.7042347 0.1778710 1.178943e-01\n",
       "\n",
       "$askLeaveDiff\n",
       "               Pr(1)     Pr(2)     Pr(3)         Pr(4)      Pr(5)      Pr(6)\n",
       "class 1:  0.20759913 0.2659001 0.2399045  2.774653e-11 0.12242258 0.16417369\n",
       "class 2:  0.40340612 0.3395392 0.1364857 7.443782e-313 0.07548902 0.04507992\n",
       "class 3:  0.05098043 0.1496780 0.1537241  2.191933e-01 0.27128340 0.15514075\n",
       "\n",
       "$negConsDiscMH\n",
       "               Pr(1)     Pr(2)        Pr(3)\n",
       "class 1:  0.55936678 0.4406332 4.360700e-68\n",
       "class 2:  0.78683503 0.2063713 6.793659e-03\n",
       "class 3:  0.01372454 0.5362477 4.500278e-01\n",
       "\n",
       "$negConsDiscPH\n",
       "              Pr(1)      Pr(2)      Pr(3)\n",
       "class 1:  0.9015073 0.09849273 0.00000000\n",
       "class 2:  0.9087820 0.09121797 0.00000000\n",
       "class 3:  0.4762074 0.44260986 0.08118272\n",
       "\n",
       "$coworkComfMHD\n",
       "              Pr(1)      Pr(2)      Pr(3)\n",
       "class 1:  0.5850546 0.23937312 0.17557232\n",
       "class 2:  0.4416065 0.51536516 0.04302838\n",
       "class 3:  0.3401605 0.05609075 0.60374879\n",
       "\n",
       "$superComfMHD\n",
       "               Pr(1)     Pr(2)       Pr(3)\n",
       "class 1:  0.35724820 0.5306085 0.112143335\n",
       "class 2:  0.87569818 0.1174421 0.006859767\n",
       "class 3:  0.08894139 0.3512466 0.559811971\n",
       "\n",
       "$empSeriousMH\n",
       "              Pr(1)     Pr(2)     Pr(3)\n",
       "class 1:  0.6435654 0.2152881 0.1411465\n",
       "class 2:  0.1913052 0.6759570 0.1327377\n",
       "class 3:  0.4511753 0.1011147 0.4477100\n",
       "\n",
       "$heardNegConsMH\n",
       "              Pr(1)      Pr(2)\n",
       "class 1:  0.9877511 0.01224893\n",
       "class 2:  0.9520863 0.04791371\n",
       "class 3:  0.8495859 0.15041405\n",
       "\n",
       "$discInterviewPH\n",
       "              Pr(1)     Pr(2)     Pr(3)\n",
       "class 1:  0.5228792 0.2932307 0.1838901\n",
       "class 2:  0.4078881 0.3292150 0.2628970\n",
       "class 3:  0.3668165 0.1510890 0.4820945\n",
       "\n",
       "$discInterviewMH\n",
       "              Pr(1)     Pr(2)     Pr(3)\n",
       "class 1:  0.4067476 0.4893513 0.1039010\n",
       "class 2:  0.4208812 0.4305374 0.1485814\n",
       "class 3:  0.1208965 0.8563080 0.0227955\n",
       "\n",
       "$hurtCareerMH\n",
       "              Pr(1)        Pr(2)     Pr(3)         Pr(4)      Pr(5)\n",
       "class 1:  0.6680637 1.239090e-01 0.1814641  1.199368e-02 0.01456951\n",
       "class 2:  0.5004982 2.530836e-01 0.1136515  8.449795e-02 0.04826868\n",
       "class 3:  0.1571125 2.624015e-98 0.7145163 3.734120e-178 0.12837115\n",
       "\n",
       "$teamNegMH\n",
       "               Pr(1)     Pr(2)      Pr(3)      Pr(4)       Pr(5)\n",
       "class 1:  0.38829324 0.5330610 0.01183862 0.05109429 0.015712897\n",
       "class 2:  0.44312437 0.3622803 0.01246846 0.05322270 0.128904187\n",
       "class 3:  0.06912633 0.3058124 0.04476435 0.57621775 0.004079122\n",
       "\n",
       "$observeBadResponseMH\n",
       "              Pr(1)     Pr(2)      Pr(3)     Pr(4)      Pr(5)\n",
       "class 1:  0.5759585 0.2287329 0.02023198 0.1234917 0.05158498\n",
       "class 2:  0.4909702 0.1950338 0.14048537 0.1499544 0.02355625\n",
       "class 3:  0.2842630 0.2918597 0.18003059 0.1999229 0.04392381\n"
      ]
     },
     "metadata": {},
     "output_type": "display_data"
    }
   ],
   "source": [
    "finalMod.lcm$probs"
   ]
  },
  {
   "cell_type": "markdown",
   "metadata": {},
   "source": [
    "We see interesting results from the following tables:\n",
    "\n",
    "* ```empProvideMHB```\n",
    "\n",
    "* ```knowMHB```\n",
    "\n",
    "* ```empDiscMH```\n",
    "\n",
    "* ```anonProtected```\n",
    "\n",
    "* ```askLeaveDiff```\n",
    "\n",
    "* ```negConsDiscMH```\n",
    "\n",
    "* ```negConsDiscPH```\n",
    "\n",
    "* ```coworkComfMHD```\n",
    "\n",
    "* ```superComfMHD```\n",
    "\n",
    "* ```discInterviewMH```\n",
    "\n",
    "* ```hurtCareerMH```\n",
    "\n",
    "* ```teamNegMH```\n",
    "\n",
    "* ```observeBadResponseMH```"
   ]
  },
  {
   "cell_type": "code",
   "execution_count": 231,
   "metadata": {
    "collapsed": false,
    "scrolled": false
   },
   "outputs": [
    {
     "data": {
      "text/html": [
       "<table>\n",
       "<thead><tr><th></th><th scope=col>Not eligible for coverage / N/A</th><th scope=col>No</th><th scope=col>Yes</th><th scope=col>I don't know</th></tr></thead>\n",
       "<tbody>\n",
       "\t<tr><th scope=row>class 1: </th><td>0.07427009</td><td>0.22916795</td><td>0.2261028 </td><td>0.4704592 </td></tr>\n",
       "\t<tr><th scope=row>class 2: </th><td>0.06018964</td><td>0.06937303</td><td>0.7134120 </td><td>0.1570253 </td></tr>\n",
       "\t<tr><th scope=row>class 3: </th><td>0.07747540</td><td>0.23044875</td><td>0.4827873 </td><td>0.2092886 </td></tr>\n",
       "</tbody>\n",
       "</table>\n"
      ],
      "text/latex": [
       "\\begin{tabular}{r|llll}\n",
       "  & Not eligible for coverage / N/A & No & Yes & I don't know\\\\\n",
       "\\hline\n",
       "\tclass 1:  & 0.07427009 & 0.22916795 & 0.2261028  & 0.4704592 \\\\\n",
       "\tclass 2:  & 0.06018964 & 0.06937303 & 0.7134120  & 0.1570253 \\\\\n",
       "\tclass 3:  & 0.07747540 & 0.23044875 & 0.4827873  & 0.2092886 \\\\\n",
       "\\end{tabular}\n"
      ],
      "text/markdown": [
       "\n",
       "| <!--/--> | Not eligible for coverage / N/A | No | Yes | I don't know | \n",
       "|---|---|---|\n",
       "| class 1:  | 0.07427009 | 0.22916795 | 0.2261028  | 0.4704592  | \n",
       "| class 2:  | 0.06018964 | 0.06937303 | 0.7134120  | 0.1570253  | \n",
       "| class 3:  | 0.07747540 | 0.23044875 | 0.4827873  | 0.2092886  | \n",
       "\n",
       "\n"
      ],
      "text/plain": [
       "          Not eligible for coverage / N/A No         Yes       I don't know\n",
       "class 1:  0.07427009                      0.22916795 0.2261028 0.4704592   \n",
       "class 2:  0.06018964                      0.06937303 0.7134120 0.1570253   \n",
       "class 3:  0.07747540                      0.23044875 0.4827873 0.2092886   "
      ]
     },
     "metadata": {},
     "output_type": "display_data"
    }
   ],
   "source": [
    "displayTable(finalMod.lcm,\"empProvideMHB\")"
   ]
  },
  {
   "cell_type": "markdown",
   "metadata": {},
   "source": [
    "_Table 2: Conditional Probabilities on Answers to the question \"Does your employer provide mental health benefits as part of healthcare coverage?\" ._\n",
    "\n",
    "We see a start effect beginning to occur in these classes. It is apparent that Class $2$ has a higher chance of having mental health coverage than classes $1$ and $3$. However, For Class $1$, this is because of an uncertainty about available coverage (\"I don't know\"), while this is more evenly distributed across outcomes for class $3$. This to some extent suggests that we have a class that has good coverage, and two classes that either primarily don't or are uncertain about available coverage."
   ]
  },
  {
   "cell_type": "code",
   "execution_count": 232,
   "metadata": {
    "collapsed": false
   },
   "outputs": [
    {
     "data": {
      "text/html": [
       "<table>\n",
       "<thead><tr><th></th><th scope=col>N/A</th><th scope=col>Yes</th><th scope=col>I am not sure</th><th scope=col>No</th></tr></thead>\n",
       "<tbody>\n",
       "\t<tr><th scope=row>class 1: </th><td>0.14796891</td><td>0.09327078</td><td>0.3717736 </td><td>0.3869867 </td></tr>\n",
       "\t<tr><th scope=row>class 2: </th><td>0.10042556</td><td>0.48110518</td><td>0.2825578 </td><td>0.1359115 </td></tr>\n",
       "\t<tr><th scope=row>class 3: </th><td>0.09981376</td><td>0.25939416</td><td>0.2615314 </td><td>0.3792607 </td></tr>\n",
       "</tbody>\n",
       "</table>\n"
      ],
      "text/latex": [
       "\\begin{tabular}{r|llll}\n",
       "  & N/A & Yes & I am not sure & No\\\\\n",
       "\\hline\n",
       "\tclass 1:  & 0.14796891 & 0.09327078 & 0.3717736  & 0.3869867 \\\\\n",
       "\tclass 2:  & 0.10042556 & 0.48110518 & 0.2825578  & 0.1359115 \\\\\n",
       "\tclass 3:  & 0.09981376 & 0.25939416 & 0.2615314  & 0.3792607 \\\\\n",
       "\\end{tabular}\n"
      ],
      "text/markdown": [
       "\n",
       "| <!--/--> | N/A | Yes | I am not sure | No | \n",
       "|---|---|---|\n",
       "| class 1:  | 0.14796891 | 0.09327078 | 0.3717736  | 0.3869867  | \n",
       "| class 2:  | 0.10042556 | 0.48110518 | 0.2825578  | 0.1359115  | \n",
       "| class 3:  | 0.09981376 | 0.25939416 | 0.2615314  | 0.3792607  | \n",
       "\n",
       "\n"
      ],
      "text/plain": [
       "          N/A        Yes        I am not sure No       \n",
       "class 1:  0.14796891 0.09327078 0.3717736     0.3869867\n",
       "class 2:  0.10042556 0.48110518 0.2825578     0.1359115\n",
       "class 3:  0.09981376 0.25939416 0.2615314     0.3792607"
      ]
     },
     "metadata": {},
     "output_type": "display_data"
    }
   ],
   "source": [
    "displayTable(finalMod.lcm,\"knowMHB\")"
   ]
  },
  {
   "cell_type": "markdown",
   "metadata": {},
   "source": [
    "_Table 3: Conditional Probabilities on Answers to the question \"Do you know the options for mental health care available under your employer-provided coverage?\" ._\n",
    "\n",
    "We see an emphasis on \"I am not sure\" and \"No\" for class $1$, an emphasis on \"Yes\" and \"I am not sure\" for class $2$, and a balanced class for class $3$. This suggests that class $1$ leans no on this question, class $2$ leans yes on this question, and class $3$ is generally uncertain on its lean for this question."
   ]
  },
  {
   "cell_type": "code",
   "execution_count": 233,
   "metadata": {
    "collapsed": false
   },
   "outputs": [
    {
     "data": {
      "text/html": [
       "<table>\n",
       "<thead><tr><th></th><th scope=col>No</th><th scope=col>Yes</th><th scope=col>I don't know</th></tr></thead>\n",
       "<tbody>\n",
       "\t<tr><th scope=row>class 1: </th><td>0.8394722 </td><td>0.04933336</td><td>0.11119440</td></tr>\n",
       "\t<tr><th scope=row>class 2: </th><td>0.4473752 </td><td>0.46926465</td><td>0.08336010</td></tr>\n",
       "\t<tr><th scope=row>class 3: </th><td>0.8245459 </td><td>0.12139603</td><td>0.05405804</td></tr>\n",
       "</tbody>\n",
       "</table>\n"
      ],
      "text/latex": [
       "\\begin{tabular}{r|lll}\n",
       "  & No & Yes & I don't know\\\\\n",
       "\\hline\n",
       "\tclass 1:  & 0.8394722  & 0.04933336 & 0.11119440\\\\\n",
       "\tclass 2:  & 0.4473752  & 0.46926465 & 0.08336010\\\\\n",
       "\tclass 3:  & 0.8245459  & 0.12139603 & 0.05405804\\\\\n",
       "\\end{tabular}\n"
      ],
      "text/markdown": [
       "\n",
       "| <!--/--> | No | Yes | I don't know | \n",
       "|---|---|---|\n",
       "| class 1:  | 0.8394722  | 0.04933336 | 0.11119440 | \n",
       "| class 2:  | 0.4473752  | 0.46926465 | 0.08336010 | \n",
       "| class 3:  | 0.8245459  | 0.12139603 | 0.05405804 | \n",
       "\n",
       "\n"
      ],
      "text/plain": [
       "          No        Yes        I don't know\n",
       "class 1:  0.8394722 0.04933336 0.11119440  \n",
       "class 2:  0.4473752 0.46926465 0.08336010  \n",
       "class 3:  0.8245459 0.12139603 0.05405804  "
      ]
     },
     "metadata": {},
     "output_type": "display_data"
    }
   ],
   "source": [
    "displayTable(finalMod.lcm,\"empDiscMH\")"
   ]
  },
  {
   "cell_type": "markdown",
   "metadata": {},
   "source": [
    "_Table 4: Conditional Probabilities on Answers to the question \"Has your employer ever formally discussed mental health (for example, as part of a wellness campaign or other official communication)?\" ._\n",
    "\n",
    "We see that Class $1$ and Class $3$ seem to be centered on No, while class $2$ is balanced between no and yes. Thus, Class $1$ and $3$ represent a likelihood of an employer not discussing mental health, while class $2$ represents a toss-up between the two possibilities."
   ]
  },
  {
   "cell_type": "code",
   "execution_count": 234,
   "metadata": {
    "collapsed": false
   },
   "outputs": [
    {
     "data": {
      "text/html": [
       "<table>\n",
       "<thead><tr><th></th><th scope=col>I don't know</th><th scope=col>Yes</th><th scope=col>No</th></tr></thead>\n",
       "<tbody>\n",
       "\t<tr><th scope=row>class 1: </th><td>0.8649082   </td><td>0.0791176   </td><td>5.597423e-02</td></tr>\n",
       "\t<tr><th scope=row>class 2: </th><td>0.3787851   </td><td>0.6212149   </td><td>4.869347e-66</td></tr>\n",
       "\t<tr><th scope=row>class 3: </th><td>0.7042347   </td><td>0.1778710   </td><td>1.178943e-01</td></tr>\n",
       "</tbody>\n",
       "</table>\n"
      ],
      "text/latex": [
       "\\begin{tabular}{r|lll}\n",
       "  & I don't know & Yes & No\\\\\n",
       "\\hline\n",
       "\tclass 1:  & 0.8649082    & 0.0791176    & 5.597423e-02\\\\\n",
       "\tclass 2:  & 0.3787851    & 0.6212149    & 4.869347e-66\\\\\n",
       "\tclass 3:  & 0.7042347    & 0.1778710    & 1.178943e-01\\\\\n",
       "\\end{tabular}\n"
      ],
      "text/markdown": [
       "\n",
       "| <!--/--> | I don't know | Yes | No | \n",
       "|---|---|---|\n",
       "| class 1:  | 0.8649082    | 0.0791176    | 5.597423e-02 | \n",
       "| class 2:  | 0.3787851    | 0.6212149    | 4.869347e-66 | \n",
       "| class 3:  | 0.7042347    | 0.1778710    | 1.178943e-01 | \n",
       "\n",
       "\n"
      ],
      "text/plain": [
       "          I don't know Yes       No          \n",
       "class 1:  0.8649082    0.0791176 5.597423e-02\n",
       "class 2:  0.3787851    0.6212149 4.869347e-66\n",
       "class 3:  0.7042347    0.1778710 1.178943e-01"
      ]
     },
     "metadata": {},
     "output_type": "display_data"
    }
   ],
   "source": [
    "displayTable(finalMod.lcm,\"anonProtected\")"
   ]
  },
  {
   "cell_type": "markdown",
   "metadata": {},
   "source": [
    "_Table 5: Conditional Probabilities on answers to the question \"Is your anonymity protected if you choose to take advantage of mental health or substance abuse treatment resources provided by your employer?\" ._\n",
    "\n",
    "We see that Class $1$ and $3$ represent a high uncertainty that their anonymity is protected, while Class $2$ leans yes on this. Thus, class $2$ represents individuals who are more sure that their anonymity will be protected if they take advantage of mental health and substance abuse treatment resources."
   ]
  },
  {
   "cell_type": "code",
   "execution_count": 235,
   "metadata": {
    "collapsed": false
   },
   "outputs": [
    {
     "data": {
      "text/html": [
       "<table>\n",
       "<thead><tr><th></th><th scope=col>Very easy</th><th scope=col>Somewhat easy</th><th scope=col>Neither easy nor difficult</th><th scope=col>Very difficult</th><th scope=col>Somewhat difficult</th><th scope=col>I don't know</th></tr></thead>\n",
       "<tbody>\n",
       "\t<tr><th scope=row>class 1: </th><td>0.20759913   </td><td>0.2659001    </td><td>0.2399045    </td><td> 2.774653e-11</td><td>0.12242258   </td><td>0.16417369   </td></tr>\n",
       "\t<tr><th scope=row>class 2: </th><td>0.40340612   </td><td>0.3395392    </td><td>0.1364857    </td><td>7.443782e-313</td><td>0.07548902   </td><td>0.04507992   </td></tr>\n",
       "\t<tr><th scope=row>class 3: </th><td>0.05098043   </td><td>0.1496780    </td><td>0.1537241    </td><td> 2.191933e-01</td><td>0.27128340   </td><td>0.15514075   </td></tr>\n",
       "</tbody>\n",
       "</table>\n"
      ],
      "text/latex": [
       "\\begin{tabular}{r|llllll}\n",
       "  & Very easy & Somewhat easy & Neither easy nor difficult & Very difficult & Somewhat difficult & I don't know\\\\\n",
       "\\hline\n",
       "\tclass 1:  & 0.20759913    & 0.2659001     & 0.2399045     &  2.774653e-11 & 0.12242258    & 0.16417369   \\\\\n",
       "\tclass 2:  & 0.40340612    & 0.3395392     & 0.1364857     & 7.443782e-313 & 0.07548902    & 0.04507992   \\\\\n",
       "\tclass 3:  & 0.05098043    & 0.1496780     & 0.1537241     &  2.191933e-01 & 0.27128340    & 0.15514075   \\\\\n",
       "\\end{tabular}\n"
      ],
      "text/markdown": [
       "\n",
       "| <!--/--> | Very easy | Somewhat easy | Neither easy nor difficult | Very difficult | Somewhat difficult | I don't know | \n",
       "|---|---|---|\n",
       "| class 1:  | 0.20759913    | 0.2659001     | 0.2399045     |  2.774653e-11 | 0.12242258    | 0.16417369    | \n",
       "| class 2:  | 0.40340612    | 0.3395392     | 0.1364857     | 7.443782e-313 | 0.07548902    | 0.04507992    | \n",
       "| class 3:  | 0.05098043    | 0.1496780     | 0.1537241     |  2.191933e-01 | 0.27128340    | 0.15514075    | \n",
       "\n",
       "\n"
      ],
      "text/plain": [
       "          Very easy  Somewhat easy Neither easy nor difficult Very difficult\n",
       "class 1:  0.20759913 0.2659001     0.2399045                   2.774653e-11 \n",
       "class 2:  0.40340612 0.3395392     0.1364857                  7.443782e-313 \n",
       "class 3:  0.05098043 0.1496780     0.1537241                   2.191933e-01 \n",
       "          Somewhat difficult I don't know\n",
       "class 1:  0.12242258         0.16417369  \n",
       "class 2:  0.07548902         0.04507992  \n",
       "class 3:  0.27128340         0.15514075  "
      ]
     },
     "metadata": {},
     "output_type": "display_data"
    }
   ],
   "source": [
    "displayTable(finalMod.lcm,\"askLeaveDiff\")"
   ]
  },
  {
   "cell_type": "markdown",
   "metadata": {},
   "source": [
    "_Table 6: \"If a mental health issue prompted you to request a medical leave from work, asking for that leave would be:\"_\n",
    "\n",
    "We see that class $1$ and $2$ generally features individuals who would suggest that asking for leave for mental health reasons would be easy, while Class $3$ represents individuals who would find that process more difficult."
   ]
  },
  {
   "cell_type": "code",
   "execution_count": 236,
   "metadata": {
    "collapsed": false
   },
   "outputs": [
    {
     "data": {
      "text/html": [
       "<table>\n",
       "<thead><tr><th></th><th scope=col>No</th><th scope=col>Maybe</th><th scope=col>Yes</th></tr></thead>\n",
       "<tbody>\n",
       "\t<tr><th scope=row>class 1: </th><td>0.55936678  </td><td>0.4406332   </td><td>4.360700e-68</td></tr>\n",
       "\t<tr><th scope=row>class 2: </th><td>0.78683503  </td><td>0.2063713   </td><td>6.793659e-03</td></tr>\n",
       "\t<tr><th scope=row>class 3: </th><td>0.01372454  </td><td>0.5362477   </td><td>4.500278e-01</td></tr>\n",
       "</tbody>\n",
       "</table>\n"
      ],
      "text/latex": [
       "\\begin{tabular}{r|lll}\n",
       "  & No & Maybe & Yes\\\\\n",
       "\\hline\n",
       "\tclass 1:  & 0.55936678   & 0.4406332    & 4.360700e-68\\\\\n",
       "\tclass 2:  & 0.78683503   & 0.2063713    & 6.793659e-03\\\\\n",
       "\tclass 3:  & 0.01372454   & 0.5362477    & 4.500278e-01\\\\\n",
       "\\end{tabular}\n"
      ],
      "text/markdown": [
       "\n",
       "| <!--/--> | No | Maybe | Yes | \n",
       "|---|---|---|\n",
       "| class 1:  | 0.55936678   | 0.4406332    | 4.360700e-68 | \n",
       "| class 2:  | 0.78683503   | 0.2063713    | 6.793659e-03 | \n",
       "| class 3:  | 0.01372454   | 0.5362477    | 4.500278e-01 | \n",
       "\n",
       "\n"
      ],
      "text/plain": [
       "          No         Maybe     Yes         \n",
       "class 1:  0.55936678 0.4406332 4.360700e-68\n",
       "class 2:  0.78683503 0.2063713 6.793659e-03\n",
       "class 3:  0.01372454 0.5362477 4.500278e-01"
      ]
     },
     "metadata": {},
     "output_type": "display_data"
    }
   ],
   "source": [
    "displayTable(finalMod.lcm,\"negConsDiscMH\")"
   ]
  },
  {
   "cell_type": "markdown",
   "metadata": {},
   "source": [
    "_Table 7: \"Do you think that discussing a mental health disorder with your employer would have negative consequences?\" ._\n",
    "\n",
    "Classes $1$ and $2$ generally feature indivduals who find the process of discussing mental health with their employer to not feature negative consequences, while Class $3$ suggests that there might be negative consequences to this process."
   ]
  },
  {
   "cell_type": "code",
   "execution_count": 237,
   "metadata": {
    "collapsed": false
   },
   "outputs": [
    {
     "data": {
      "text/html": [
       "<table>\n",
       "<thead><tr><th></th><th scope=col>No</th><th scope=col>Maybe</th><th scope=col>Yes</th></tr></thead>\n",
       "<tbody>\n",
       "\t<tr><th scope=row>class 1: </th><td>0.9015073 </td><td>0.09849273</td><td>0.00000000</td></tr>\n",
       "\t<tr><th scope=row>class 2: </th><td>0.9087820 </td><td>0.09121797</td><td>0.00000000</td></tr>\n",
       "\t<tr><th scope=row>class 3: </th><td>0.4762074 </td><td>0.44260986</td><td>0.08118272</td></tr>\n",
       "</tbody>\n",
       "</table>\n"
      ],
      "text/latex": [
       "\\begin{tabular}{r|lll}\n",
       "  & No & Maybe & Yes\\\\\n",
       "\\hline\n",
       "\tclass 1:  & 0.9015073  & 0.09849273 & 0.00000000\\\\\n",
       "\tclass 2:  & 0.9087820  & 0.09121797 & 0.00000000\\\\\n",
       "\tclass 3:  & 0.4762074  & 0.44260986 & 0.08118272\\\\\n",
       "\\end{tabular}\n"
      ],
      "text/markdown": [
       "\n",
       "| <!--/--> | No | Maybe | Yes | \n",
       "|---|---|---|\n",
       "| class 1:  | 0.9015073  | 0.09849273 | 0.00000000 | \n",
       "| class 2:  | 0.9087820  | 0.09121797 | 0.00000000 | \n",
       "| class 3:  | 0.4762074  | 0.44260986 | 0.08118272 | \n",
       "\n",
       "\n"
      ],
      "text/plain": [
       "          No        Maybe      Yes       \n",
       "class 1:  0.9015073 0.09849273 0.00000000\n",
       "class 2:  0.9087820 0.09121797 0.00000000\n",
       "class 3:  0.4762074 0.44260986 0.08118272"
      ]
     },
     "metadata": {},
     "output_type": "display_data"
    }
   ],
   "source": [
    "displayTable(finalMod.lcm,\"negConsDiscPH\")"
   ]
  },
  {
   "cell_type": "markdown",
   "metadata": {},
   "source": [
    "_Table 8: \"Do you think that discussing a physical health issue with your employer would have negative consequences?\" ._\n",
    "\n",
    "Interestingly, Classes $1$ and $2$ seem to also find that discussing mental health will not feature negative consequences, while Class 3 leans maybe-to-no on this context. Thus, Classes $1$ and $2$ seem rather certain that they will not feature negative consequences on either discussions of mental and physical health, while Class $3$ leans yes for mental health and leans no for physical health. In particular, what becomes rather interesting is that Classes $1$ and $2$ seem to be much more certain that they will not face negative consequences in the physical health ream than they are in the mental health realm."
   ]
  },
  {
   "cell_type": "code",
   "execution_count": 238,
   "metadata": {
    "collapsed": false
   },
   "outputs": [
    {
     "data": {
      "text/html": [
       "<table>\n",
       "<thead><tr><th></th><th scope=col>Maybe</th><th scope=col>Yes</th><th scope=col>No</th></tr></thead>\n",
       "<tbody>\n",
       "\t<tr><th scope=row>class 1: </th><td>0.5850546 </td><td>0.23937312</td><td>0.17557232</td></tr>\n",
       "\t<tr><th scope=row>class 2: </th><td>0.4416065 </td><td>0.51536516</td><td>0.04302838</td></tr>\n",
       "\t<tr><th scope=row>class 3: </th><td>0.3401605 </td><td>0.05609075</td><td>0.60374879</td></tr>\n",
       "</tbody>\n",
       "</table>\n"
      ],
      "text/latex": [
       "\\begin{tabular}{r|lll}\n",
       "  & Maybe & Yes & No\\\\\n",
       "\\hline\n",
       "\tclass 1:  & 0.5850546  & 0.23937312 & 0.17557232\\\\\n",
       "\tclass 2:  & 0.4416065  & 0.51536516 & 0.04302838\\\\\n",
       "\tclass 3:  & 0.3401605  & 0.05609075 & 0.60374879\\\\\n",
       "\\end{tabular}\n"
      ],
      "text/markdown": [
       "\n",
       "| <!--/--> | Maybe | Yes | No | \n",
       "|---|---|---|\n",
       "| class 1:  | 0.5850546  | 0.23937312 | 0.17557232 | \n",
       "| class 2:  | 0.4416065  | 0.51536516 | 0.04302838 | \n",
       "| class 3:  | 0.3401605  | 0.05609075 | 0.60374879 | \n",
       "\n",
       "\n"
      ],
      "text/plain": [
       "          Maybe     Yes        No        \n",
       "class 1:  0.5850546 0.23937312 0.17557232\n",
       "class 2:  0.4416065 0.51536516 0.04302838\n",
       "class 3:  0.3401605 0.05609075 0.60374879"
      ]
     },
     "metadata": {},
     "output_type": "display_data"
    }
   ],
   "source": [
    "displayTable(finalMod.lcm,\"coworkComfMHD\")"
   ]
  },
  {
   "cell_type": "markdown",
   "metadata": {},
   "source": [
    "_Table 9: \"Would you feel comfortable discussing a mental health disorder with your coworkers?\" _\n",
    "\n",
    "What becomes clear is the effect on the no answer. We see that there is a higher emphasis on \"No\" progressing from classes $2$, $1$, $3.$ This may suggest that Class $2$ features those who are very likely to be uncomfortable discussing with their coworkers, Class $1$ features individuals who are somewhat likely to be uncomfortable discussing with their coworkers, and Class $3$ features individuals who are not very likely to be uncomfortable discussing with their coworkers."
   ]
  },
  {
   "cell_type": "code",
   "execution_count": 239,
   "metadata": {
    "collapsed": false
   },
   "outputs": [
    {
     "data": {
      "text/html": [
       "<table>\n",
       "<thead><tr><th></th><th scope=col>Yes</th><th scope=col>Maybe</th><th scope=col>No</th></tr></thead>\n",
       "<tbody>\n",
       "\t<tr><th scope=row>class 1: </th><td>0.35724820 </td><td>0.5306085  </td><td>0.112143335</td></tr>\n",
       "\t<tr><th scope=row>class 2: </th><td>0.87569818 </td><td>0.1174421  </td><td>0.006859767</td></tr>\n",
       "\t<tr><th scope=row>class 3: </th><td>0.08894139 </td><td>0.3512466  </td><td>0.559811971</td></tr>\n",
       "</tbody>\n",
       "</table>\n"
      ],
      "text/latex": [
       "\\begin{tabular}{r|lll}\n",
       "  & Yes & Maybe & No\\\\\n",
       "\\hline\n",
       "\tclass 1:  & 0.35724820  & 0.5306085   & 0.112143335\\\\\n",
       "\tclass 2:  & 0.87569818  & 0.1174421   & 0.006859767\\\\\n",
       "\tclass 3:  & 0.08894139  & 0.3512466   & 0.559811971\\\\\n",
       "\\end{tabular}\n"
      ],
      "text/markdown": [
       "\n",
       "| <!--/--> | Yes | Maybe | No | \n",
       "|---|---|---|\n",
       "| class 1:  | 0.35724820  | 0.5306085   | 0.112143335 | \n",
       "| class 2:  | 0.87569818  | 0.1174421   | 0.006859767 | \n",
       "| class 3:  | 0.08894139  | 0.3512466   | 0.559811971 | \n",
       "\n",
       "\n"
      ],
      "text/plain": [
       "          Yes        Maybe     No         \n",
       "class 1:  0.35724820 0.5306085 0.112143335\n",
       "class 2:  0.87569818 0.1174421 0.006859767\n",
       "class 3:  0.08894139 0.3512466 0.559811971"
      ]
     },
     "metadata": {},
     "output_type": "display_data"
    }
   ],
   "source": [
    "displayTable(finalMod.lcm,\"superComfMHD\")"
   ]
  },
  {
   "cell_type": "markdown",
   "metadata": {},
   "source": [
    "_Table 10: \"Would you feel comfortable discussing a mental health disorder with your direct supervisor(s)?\" ._\n",
    "\n",
    "We see a similar progression from our previous table. Thus, it is likely that those who are comfortable discussing mental health with their coworkers are likely to be comfortable discussing mental health with their direct supervisors."
   ]
  },
  {
   "cell_type": "code",
   "execution_count": 240,
   "metadata": {
    "collapsed": false
   },
   "outputs": [
    {
     "data": {
      "text/html": [
       "<table>\n",
       "<thead><tr><th></th><th scope=col>Maybe</th><th scope=col>No</th><th scope=col>Yes</th></tr></thead>\n",
       "<tbody>\n",
       "\t<tr><th scope=row>class 1: </th><td>0.4067476</td><td>0.4893513</td><td>0.1039010</td></tr>\n",
       "\t<tr><th scope=row>class 2: </th><td>0.4208812</td><td>0.4305374</td><td>0.1485814</td></tr>\n",
       "\t<tr><th scope=row>class 3: </th><td>0.1208965</td><td>0.8563080</td><td>0.0227955</td></tr>\n",
       "</tbody>\n",
       "</table>\n"
      ],
      "text/latex": [
       "\\begin{tabular}{r|lll}\n",
       "  & Maybe & No & Yes\\\\\n",
       "\\hline\n",
       "\tclass 1:  & 0.4067476 & 0.4893513 & 0.1039010\\\\\n",
       "\tclass 2:  & 0.4208812 & 0.4305374 & 0.1485814\\\\\n",
       "\tclass 3:  & 0.1208965 & 0.8563080 & 0.0227955\\\\\n",
       "\\end{tabular}\n"
      ],
      "text/markdown": [
       "\n",
       "| <!--/--> | Maybe | No | Yes | \n",
       "|---|---|---|\n",
       "| class 1:  | 0.4067476 | 0.4893513 | 0.1039010 | \n",
       "| class 2:  | 0.4208812 | 0.4305374 | 0.1485814 | \n",
       "| class 3:  | 0.1208965 | 0.8563080 | 0.0227955 | \n",
       "\n",
       "\n"
      ],
      "text/plain": [
       "          Maybe     No        Yes      \n",
       "class 1:  0.4067476 0.4893513 0.1039010\n",
       "class 2:  0.4208812 0.4305374 0.1485814\n",
       "class 3:  0.1208965 0.8563080 0.0227955"
      ]
     },
     "metadata": {},
     "output_type": "display_data"
    }
   ],
   "source": [
    "displayTable(finalMod.lcm,\"discInterviewMH\")"
   ]
  },
  {
   "cell_type": "markdown",
   "metadata": {},
   "source": [
    "_Table 11: \"Would you bring up a mental health issue with a potential employer in an interview?\" ._\n",
    "\n",
    "We see another thing occur: Class $3$ will very not likely discuss a mental health issue with a potential employer, and there seems to be more comfort in class $2$ and $1$. We see generally that most people do not say yes to this question, expressing a lean no across all classes."
   ]
  },
  {
   "cell_type": "code",
   "execution_count": 241,
   "metadata": {
    "collapsed": false
   },
   "outputs": [
    {
     "data": {
      "text/html": [
       "<table>\n",
       "<thead><tr><th></th><th scope=col>Maybe</th><th scope=col>No, I don't think it would</th><th scope=col>Yes, I think it would</th><th scope=col>No, it has not</th><th scope=col>Yes, it has</th></tr></thead>\n",
       "<tbody>\n",
       "\t<tr><th scope=row>class 1: </th><td>0.6680637    </td><td>1.239090e-01 </td><td>0.1814641    </td><td> 1.199368e-02</td><td>0.01456951   </td></tr>\n",
       "\t<tr><th scope=row>class 2: </th><td>0.5004982    </td><td>2.530836e-01 </td><td>0.1136515    </td><td> 8.449795e-02</td><td>0.04826868   </td></tr>\n",
       "\t<tr><th scope=row>class 3: </th><td>0.1571125    </td><td>2.624015e-98 </td><td>0.7145163    </td><td>3.734120e-178</td><td>0.12837115   </td></tr>\n",
       "</tbody>\n",
       "</table>\n"
      ],
      "text/latex": [
       "\\begin{tabular}{r|lllll}\n",
       "  & Maybe & No, I don't think it would & Yes, I think it would & No, it has not & Yes, it has\\\\\n",
       "\\hline\n",
       "\tclass 1:  & 0.6680637     & 1.239090e-01  & 0.1814641     &  1.199368e-02 & 0.01456951   \\\\\n",
       "\tclass 2:  & 0.5004982     & 2.530836e-01  & 0.1136515     &  8.449795e-02 & 0.04826868   \\\\\n",
       "\tclass 3:  & 0.1571125     & 2.624015e-98  & 0.7145163     & 3.734120e-178 & 0.12837115   \\\\\n",
       "\\end{tabular}\n"
      ],
      "text/markdown": [
       "\n",
       "| <!--/--> | Maybe | No, I don't think it would | Yes, I think it would | No, it has not | Yes, it has | \n",
       "|---|---|---|\n",
       "| class 1:  | 0.6680637     | 1.239090e-01  | 0.1814641     |  1.199368e-02 | 0.01456951    | \n",
       "| class 2:  | 0.5004982     | 2.530836e-01  | 0.1136515     |  8.449795e-02 | 0.04826868    | \n",
       "| class 3:  | 0.1571125     | 2.624015e-98  | 0.7145163     | 3.734120e-178 | 0.12837115    | \n",
       "\n",
       "\n"
      ],
      "text/plain": [
       "          Maybe     No, I don't think it would Yes, I think it would\n",
       "class 1:  0.6680637 1.239090e-01               0.1814641            \n",
       "class 2:  0.5004982 2.530836e-01               0.1136515            \n",
       "class 3:  0.1571125 2.624015e-98               0.7145163            \n",
       "          No, it has not Yes, it has\n",
       "class 1:   1.199368e-02  0.01456951 \n",
       "class 2:   8.449795e-02  0.04826868 \n",
       "class 3:  3.734120e-178  0.12837115 "
      ]
     },
     "metadata": {},
     "output_type": "display_data"
    }
   ],
   "source": [
    "displayTable(finalMod.lcm,\"hurtCareerMH\")"
   ]
  },
  {
   "cell_type": "markdown",
   "metadata": {},
   "source": [
    "_Table 12: \"Do you feel that being identified as a person with a mental health issue would hurt your career?\"._\n",
    "\n",
    "We see the key impact is between the the \"Yes, I think it would\" column and the \"Maybe\" column. We see that Class $3$ tends to believe for sure that being identified as a person with a mental health issue will in fact hurt their career, while Classes $1$ and $2$ believe that being identified will only maybe hurt their career. This is again identifying a sense of certainty and uncertainty that exist among the three classes."
   ]
  },
  {
   "cell_type": "code",
   "execution_count": 242,
   "metadata": {
    "collapsed": false
   },
   "outputs": [
    {
     "data": {
      "text/html": [
       "<table>\n",
       "<thead><tr><th></th><th scope=col>No, I don't think they would</th><th scope=col>Maybe</th><th scope=col>Yes, they do</th><th scope=col>Yes, I think they would</th><th scope=col>No, they do not</th></tr></thead>\n",
       "<tbody>\n",
       "\t<tr><th scope=row>class 1: </th><td>0.38829324 </td><td>0.5330610  </td><td>0.01183862 </td><td>0.05109429 </td><td>0.015712897</td></tr>\n",
       "\t<tr><th scope=row>class 2: </th><td>0.44312437 </td><td>0.3622803  </td><td>0.01246846 </td><td>0.05322270 </td><td>0.128904187</td></tr>\n",
       "\t<tr><th scope=row>class 3: </th><td>0.06912633 </td><td>0.3058124  </td><td>0.04476435 </td><td>0.57621775 </td><td>0.004079122</td></tr>\n",
       "</tbody>\n",
       "</table>\n"
      ],
      "text/latex": [
       "\\begin{tabular}{r|lllll}\n",
       "  & No, I don't think they would & Maybe & Yes, they do & Yes, I think they would & No, they do not\\\\\n",
       "\\hline\n",
       "\tclass 1:  & 0.38829324  & 0.5330610   & 0.01183862  & 0.05109429  & 0.015712897\\\\\n",
       "\tclass 2:  & 0.44312437  & 0.3622803   & 0.01246846  & 0.05322270  & 0.128904187\\\\\n",
       "\tclass 3:  & 0.06912633  & 0.3058124   & 0.04476435  & 0.57621775  & 0.004079122\\\\\n",
       "\\end{tabular}\n"
      ],
      "text/markdown": [
       "\n",
       "| <!--/--> | No, I don't think they would | Maybe | Yes, they do | Yes, I think they would | No, they do not | \n",
       "|---|---|---|\n",
       "| class 1:  | 0.38829324  | 0.5330610   | 0.01183862  | 0.05109429  | 0.015712897 | \n",
       "| class 2:  | 0.44312437  | 0.3622803   | 0.01246846  | 0.05322270  | 0.128904187 | \n",
       "| class 3:  | 0.06912633  | 0.3058124   | 0.04476435  | 0.57621775  | 0.004079122 | \n",
       "\n",
       "\n"
      ],
      "text/plain": [
       "          No, I don't think they would Maybe     Yes, they do\n",
       "class 1:  0.38829324                   0.5330610 0.01183862  \n",
       "class 2:  0.44312437                   0.3622803 0.01246846  \n",
       "class 3:  0.06912633                   0.3058124 0.04476435  \n",
       "          Yes, I think they would No, they do not\n",
       "class 1:  0.05109429              0.015712897    \n",
       "class 2:  0.05322270              0.128904187    \n",
       "class 3:  0.57621775              0.004079122    "
      ]
     },
     "metadata": {},
     "output_type": "display_data"
    }
   ],
   "source": [
    "displayTable(finalMod.lcm,\"teamNegMH\")"
   ]
  },
  {
   "cell_type": "markdown",
   "metadata": {},
   "source": [
    "_Table 13: \"Do you think that team members/co-workers would view you more negatively if they knew you suffered from a mental health issue?\" ._\n",
    "\n",
    "We see a that Class $3$ leans yes in this situation while classes $1$ and $2$ lean no in this situation. This is very similar to our previous question, although there is a deeper \"lean no\" in this context."
   ]
  },
  {
   "cell_type": "code",
   "execution_count": 243,
   "metadata": {
    "collapsed": false
   },
   "outputs": [
    {
     "data": {
      "text/html": [
       "<table>\n",
       "<thead><tr><th></th><th scope=col>No</th><th scope=col>Maybe/Not sure</th><th scope=col>Yes, I experienced</th><th scope=col>Yes, I observed</th><th scope=col>N/A</th></tr></thead>\n",
       "<tbody>\n",
       "\t<tr><th scope=row>class 1: </th><td>0.5759585 </td><td>0.2287329 </td><td>0.02023198</td><td>0.1234917 </td><td>0.05158498</td></tr>\n",
       "\t<tr><th scope=row>class 2: </th><td>0.4909702 </td><td>0.1950338 </td><td>0.14048537</td><td>0.1499544 </td><td>0.02355625</td></tr>\n",
       "\t<tr><th scope=row>class 3: </th><td>0.2842630 </td><td>0.2918597 </td><td>0.18003059</td><td>0.1999229 </td><td>0.04392381</td></tr>\n",
       "</tbody>\n",
       "</table>\n"
      ],
      "text/latex": [
       "\\begin{tabular}{r|lllll}\n",
       "  & No & Maybe/Not sure & Yes, I experienced & Yes, I observed & N/A\\\\\n",
       "\\hline\n",
       "\tclass 1:  & 0.5759585  & 0.2287329  & 0.02023198 & 0.1234917  & 0.05158498\\\\\n",
       "\tclass 2:  & 0.4909702  & 0.1950338  & 0.14048537 & 0.1499544  & 0.02355625\\\\\n",
       "\tclass 3:  & 0.2842630  & 0.2918597  & 0.18003059 & 0.1999229  & 0.04392381\\\\\n",
       "\\end{tabular}\n"
      ],
      "text/markdown": [
       "\n",
       "| <!--/--> | No | Maybe/Not sure | Yes, I experienced | Yes, I observed | N/A | \n",
       "|---|---|---|\n",
       "| class 1:  | 0.5759585  | 0.2287329  | 0.02023198 | 0.1234917  | 0.05158498 | \n",
       "| class 2:  | 0.4909702  | 0.1950338  | 0.14048537 | 0.1499544  | 0.02355625 | \n",
       "| class 3:  | 0.2842630  | 0.2918597  | 0.18003059 | 0.1999229  | 0.04392381 | \n",
       "\n",
       "\n"
      ],
      "text/plain": [
       "          No        Maybe/Not sure Yes, I experienced Yes, I observed\n",
       "class 1:  0.5759585 0.2287329      0.02023198         0.1234917      \n",
       "class 2:  0.4909702 0.1950338      0.14048537         0.1499544      \n",
       "class 3:  0.2842630 0.2918597      0.18003059         0.1999229      \n",
       "          N/A       \n",
       "class 1:  0.05158498\n",
       "class 2:  0.02355625\n",
       "class 3:  0.04392381"
      ]
     },
     "metadata": {},
     "output_type": "display_data"
    }
   ],
   "source": [
    "displayTable(finalMod.lcm,\"observeBadResponseMH\")"
   ]
  },
  {
   "cell_type": "markdown",
   "metadata": {},
   "source": [
    "_Table 14: \"Have you observed or experienced an unsupportive or badly handled response to a mental health issue in your current or previous workplace?\" ._\n",
    "\n",
    "The key changes we see are in the No and Maybe columns. Class $1$ leans no, while Classes $2$ and $3$ lean only more weakly no with Class $3$ leaning maybe."
   ]
  },
  {
   "cell_type": "markdown",
   "metadata": {
    "collapsed": true
   },
   "source": [
    "## Class Descriptions\n",
    "\n",
    "It is apparent to me that Class $1$ represents individuals with a high amount of mental health benefits, moderate employer respect over mental health conditions, moderate to high colleague respect over mental health conditions, and a perception of low career damage over mental health conditions. Class $2$ contains individuals with high employer-provided mental health benefits, high employer respect over mental health conditions, high colleague respect over mental health conditions, and a perception of moderate career damage over mental health conditions. Class $3$ contains individuals with moderate employer-provided mental health benefits, low employer and colleague respect over mental health conditions, and a perception of high career damage over mental health conditions.\n",
    "\n",
    "In this extent, Class $1$ represents a group of individuals who perceive moderate support in the workplace over mental health conditions, Class $2$ represents a group of individuals who perceive high support in the workplace over mental health conditions, and Class $3$ represents a group of individuals who perceive low support in the workplace over mental health conditions. Given that Class $3$ is the biggest cluster and Class $2$ is the smallest cluster of the model, this measure is slightly concerning."
   ]
  },
  {
   "cell_type": "markdown",
   "metadata": {},
   "source": [
    "# Relationship of Clusters with Demographics\n",
    "\n",
    "To relate back to our previous analysis, it will be interesting to study the relationship of our current clusters with some of our demographic variables. We will need to do some variable transformation to study some of the relationships."
   ]
  },
  {
   "cell_type": "code",
   "execution_count": 244,
   "metadata": {
    "collapsed": false
   },
   "outputs": [],
   "source": [
    "#store predictions\n",
    "inferenceFrame$predictions = finalMod.lcm$predclass"
   ]
  },
  {
   "cell_type": "code",
   "execution_count": 245,
   "metadata": {
    "collapsed": false
   },
   "outputs": [],
   "source": [
    "#get isUSA\n",
    "inferenceFrame$isUSA = 0\n",
    "inferenceFrame$isUSA[\n",
    "        which(inferenceFrame$country == \"United States of America\")] = 1"
   ]
  },
  {
   "cell_type": "code",
   "execution_count": 246,
   "metadata": {
    "collapsed": false
   },
   "outputs": [
    {
     "data": {
      "text/plain": [
       "   \n",
       "      1   2   3\n",
       "  0  67  52  84\n",
       "  1  97 114 159"
      ]
     },
     "metadata": {},
     "output_type": "display_data"
    }
   ],
   "source": [
    "#then form a table\n",
    "usaPredictTable = table(inferenceFrame$isUSA,inferenceFrame$predictions)\n",
    "usaPredictTable"
   ]
  },
  {
   "cell_type": "markdown",
   "metadata": {},
   "source": [
    "_Table 15: isUSA on class assignment._\n",
    "\n",
    "We see that $P(2|\\neg isUSA) = \\frac{52}{85 + 33 + 88} \\approx 16.02\\%.$ In contrast,\n",
    "\n",
    "$$P(2 | isUSA) = \\frac{115}{89 + 115 + 163} \\approx 31.34\\%.$$\n",
    "\n",
    "This does suggest a slightly increased assignment to class $2$ for individuals in the United States. This may suggest that workers in the United States generally have higher support in the workplace over mental health conditions than individuals who are not in the United States. This is an important suggestion based on our previous statements aobut the significance of $isUSA$ for predicting the incidence rate of diagnosed mental health conditions. That being said,\n",
    "\n",
    "$$P(3|isUSA) = \\frac{163}{89 + 115 + 163} \\approx 44.41\\%$$\n",
    "\n",
    "and\n",
    "\n",
    "$$P(3|\\neg isUSA) = \\frac{88}{88 + 33 + 85} \\approx 42.72\\%,$$\n",
    "\n",
    "So the rate of low support is rather high in both cases."
   ]
  },
  {
   "cell_type": "code",
   "execution_count": 76,
   "metadata": {
    "collapsed": false
   },
   "outputs": [
    {
     "data": {
      "image/png": "[encoded data removed]",
      "text/plain": [
       "Plot with title “Age on Class Assignment”"
      ]
     },
     "metadata": {},
     "output_type": "display_data"
    }
   ],
   "source": [
    "boxplot(age~predictions,data = inferenceFrame,ylab = \"age\",\n",
    "        xlab = \"Class Assignment\",\n",
    "        main = \"Age on Class Assignment\")"
   ]
  },
  {
   "cell_type": "markdown",
   "metadata": {},
   "source": [
    "_Figure 1: Age on Class Assignment._\n",
    "\n",
    "We see little relation between age of the worker and the class assignment."
   ]
  },
  {
   "cell_type": "code",
   "execution_count": 262,
   "metadata": {
    "collapsed": false
   },
   "outputs": [],
   "source": [
    "#then recode gender (i.e. a social construct)\n",
    "genderFrame = read.csv(\"../../data/preprocessed/genderCountFrame.csv\")\n",
    "colnames(genderFrame)[1] = \"gender\"\n",
    "genderFrame$count = NULL\n",
    "#merge the two datasets\n",
    "inferenceFrame = merge(inferenceFrame,genderFrame,by = \"gender\")"
   ]
  },
  {
   "cell_type": "code",
   "execution_count": 263,
   "metadata": {
    "collapsed": false
   },
   "outputs": [],
   "source": [
    "inferenceFrame$gender = inferenceFrame$genderMap\n",
    "inferenceFrame$genderMap = NULL"
   ]
  },
  {
   "cell_type": "code",
   "execution_count": 264,
   "metadata": {
    "collapsed": false
   },
   "outputs": [
    {
     "data": {
      "text/plain": [
       "   \n",
       "      1   2   3\n",
       "  M 139 120 175\n",
       "  O   4   4   5\n",
       "  W  21  42  63"
      ]
     },
     "metadata": {},
     "output_type": "display_data"
    }
   ],
   "source": [
    "genderPredictTable = table(inferenceFrame$gender,inferenceFrame$predictions)\n",
    "genderPredictTable"
   ]
  },
  {
   "cell_type": "markdown",
   "metadata": {},
   "source": [
    "_Table 16: encoded gender on class assignment._\n",
    "\n",
    "We see that\n",
    "\n",
    "$$P(2 | M) = \\frac{99}{146 + 99 + 163} = 24.26\\%$$\n",
    "\n",
    "and\n",
    "\n",
    "$$P(2 | W) = \\frac{47}{23 + 47 + 83} = 30.71\\%.$$\n",
    "\n",
    "These are pretty close together. We also see that\n",
    "\n",
    "$$P(3 | M) = \\frac{163}{146 + 99 + 163} \\approx 40\\%$$\n",
    "\n",
    "and that\n",
    "\n",
    "$$P(3 | W) = \\frac{83}{23+47+83} = 54.24\\%$$\n",
    "\n",
    "This is a sizable effect to consider. In particular, it would suggest that women are more likely to feel poorly supported on mental health in the industry than men."
   ]
  },
  {
   "cell_type": "code",
   "execution_count": 84,
   "metadata": {
    "collapsed": false
   },
   "outputs": [],
   "source": [
    "inferenceFrame$companySize[is.na(inferenceFrame$companySize)] = (\n",
    "                            \"Self-Employed\")"
   ]
  },
  {
   "cell_type": "code",
   "execution_count": 85,
   "metadata": {
    "collapsed": false
   },
   "outputs": [
    {
     "data": {
      "text/plain": [
       "                \n",
       "                  1  2  3\n",
       "  1-5            12  1 17\n",
       "  100-500        39 32 53\n",
       "  26-100         47 34 62\n",
       "  500-1000       12 14 15\n",
       "  6-25           40 18 44\n",
       "  More than 1000 23 49 59"
      ]
     },
     "metadata": {},
     "output_type": "display_data"
    }
   ],
   "source": [
    "table(inferenceFrame$companySize,inferenceFrame$predictions)"
   ]
  },
  {
   "cell_type": "markdown",
   "metadata": {},
   "source": [
    "_Table 17: company size on class assignment._"
   ]
  },
  {
   "cell_type": "code",
   "execution_count": 247,
   "metadata": {
    "collapsed": false
   },
   "outputs": [
    {
     "data": {
      "text/plain": [
       "     \n",
       "        1   2   3\n",
       "  No   99  76 107\n",
       "  Yes  65  90 136"
      ]
     },
     "metadata": {},
     "output_type": "display_data"
    }
   ],
   "source": [
    "table(inferenceFrame$diagnosedWithMHD,inferenceFrame$predictions)"
   ]
  },
  {
   "cell_type": "markdown",
   "metadata": {},
   "source": [
    "We see that\n",
    "\n",
    "$$P(2|No) = \\frac{76}{99 + 76 + 107} = 26.95\\%$$\n",
    "\n",
    "and\n",
    "\n",
    "$$P(2|Yes) = \\frac{90}{65 + 90 + 136} = 30.93\\%.$$\n",
    "\n",
    "We also see that\n",
    "\n",
    "$$P(3|No) \\approx 37.94\\%$$\n",
    "\n",
    "and that\n",
    "\n",
    "$$P(3|Yes) \\approx 46.74\\%$$"
   ]
  },
  {
   "cell_type": "markdown",
   "metadata": {},
   "source": [
    "## Simple Modeling\n",
    "\n",
    "**FIX: ADD More explanation here**"
   ]
  },
  {
   "cell_type": "code",
   "execution_count": 268,
   "metadata": {
    "collapsed": false
   },
   "outputs": [],
   "source": [
    "lowerBoundForm = \"factor(predictions)~1\"\n",
    "#then make upperbound\n",
    "upperBoundModVec = c()\n",
    "#get all interaction levels available\n",
    "for (gender in c(TRUE,FALSE)){\n",
    "    for (isUSA in c(TRUE,FALSE)){\n",
    "        for (companySize in c(TRUE,FALSE)){\n",
    "            for (age in c(TRUE,FALSE)){\n",
    "                for (diagnosedWithMHD in c(TRUE,FALSE)){\n",
    "                    givenTermVec = c()\n",
    "                    if (gender){\n",
    "                        givenTermVec = c(givenTermVec,\"factor(gender)\")\n",
    "                    }\n",
    "                    if (companySize){\n",
    "                        givenTermVec = c(givenTermVec,\"factor(companySize)\")\n",
    "                    }\n",
    "                    if (isUSA){\n",
    "                        givenTermVec = c(givenTermVec,\"factor(isUSA)\")\n",
    "                    }\n",
    "                    if (age){\n",
    "                        givenTermVec = c(givenTermVec,\"age\")\n",
    "                    }\n",
    "                    if (diagnosedWithMHD){\n",
    "                        givenTermVec = c(givenTermVec,\n",
    "                                         \"factor(diagnosedWithMHD)\")\n",
    "                    }\n",
    "                    #then paste these all\n",
    "                    givenTerm = paste(givenTermVec,collapse = \":\")\n",
    "                    if (givenTerm != \"\"){\n",
    "                        upperBoundModVec = c(upperBoundModVec,givenTerm)\n",
    "                    }\n",
    "                }\n",
    "            }\n",
    "        }\n",
    "    }\n",
    "}\n",
    "#then get upper bound form\n",
    "upperBoundForm = paste(upperBoundModVec,collapse = \"+\")\n",
    "upperBoundForm = paste0(\"factor(predictions)~\",upperBoundForm)"
   ]
  },
  {
   "cell_type": "code",
   "execution_count": 269,
   "metadata": {
    "collapsed": false,
    "scrolled": true
   },
   "outputs": [
    {
     "name": "stdout",
     "output_type": "stream",
     "text": [
      "# weights:  6 (2 variable)\n",
      "initial  value 629.504841 \n",
      "final  value 619.275518 \n",
      "converged\n",
      "# weights:  435 (288 variable)\n",
      "initial  value 629.504841 \n",
      "iter  10 value 579.776365\n",
      "iter  20 value 567.664446\n",
      "iter  30 value 562.636017\n",
      "iter  40 value 558.092849\n",
      "iter  50 value 552.069595\n",
      "iter  60 value 543.376223\n",
      "iter  70 value 536.584527\n",
      "iter  80 value 529.878582\n",
      "iter  90 value 525.395199\n",
      "iter 100 value 518.984711\n",
      "final  value 518.984711 \n",
      "stopped after 100 iterations\n",
      "Start:  AIC=1242.55\n",
      "factor(predictions) ~ 1\n",
      "\n",
      "trying + factor(gender) \n",
      "# weights:  12 (6 variable)\n",
      "initial  value 629.504841 \n",
      "iter  10 value 613.116732\n",
      "final  value 613.116631 \n",
      "converged\n",
      "trying + factor(isUSA) \n",
      "# weights:  9 (4 variable)\n",
      "initial  value 629.504841 \n",
      "final  value 617.579880 \n",
      "converged\n",
      "trying + factor(companySize) \n",
      "# weights:  21 (12 variable)\n",
      "initial  value 629.504841 \n",
      "iter  10 value 610.900595\n",
      "final  value 610.792067 \n",
      "converged\n",
      "trying + age \n",
      "# weights:  9 (4 variable)\n",
      "initial  value 629.504841 \n",
      "final  value 619.257779 \n",
      "converged\n",
      "trying + factor(diagnosedWithMHD) \n",
      "# weights:  9 (4 variable)\n",
      "initial  value 629.504841 \n",
      "final  value 613.470473 \n",
      "converged\n",
      "                            Df      AIC\n",
      "+ +factor(diagnosedWithMHD)  4 1234.941\n",
      "+ +factor(gender)            6 1238.233\n",
      "<none>                       2 1242.551\n",
      "+ +factor(isUSA)             4 1243.160\n",
      "+ +factor(companySize)      12 1245.584\n",
      "+ +age                       4 1246.516\n",
      "# weights:  9 (4 variable)\n",
      "initial  value 629.504841 \n",
      "final  value 613.470473 \n",
      "converged\n",
      "\n",
      "Step:  AIC=1234.94\n",
      "factor(predictions) ~ factor(diagnosedWithMHD)\n",
      "\n",
      "trying - factor(diagnosedWithMHD) \n",
      "# weights:  6 (2 variable)\n",
      "initial  value 629.504841 \n",
      "final  value 619.275518 \n",
      "converged\n",
      "trying + factor(gender) \n",
      "# weights:  15 (8 variable)\n",
      "initial  value 629.504841 \n",
      "iter  10 value 608.774995\n",
      "final  value 608.749220 \n",
      "converged\n",
      "trying + factor(isUSA) \n",
      "# weights:  12 (6 variable)\n",
      "initial  value 629.504841 \n",
      "iter  10 value 612.318690\n",
      "iter  10 value 612.318689\n",
      "iter  10 value 612.318689\n",
      "final  value 612.318689 \n",
      "converged\n",
      "trying + factor(companySize) \n",
      "# weights:  24 (14 variable)\n",
      "initial  value 629.504841 \n",
      "iter  10 value 605.627124\n",
      "iter  20 value 604.975170\n",
      "iter  20 value 604.975170\n",
      "iter  20 value 604.975170\n",
      "final  value 604.975170 \n",
      "converged\n",
      "trying + age \n",
      "# weights:  12 (6 variable)\n",
      "initial  value 629.504841 \n",
      "iter  10 value 613.443325\n",
      "final  value 613.439346 \n",
      "converged\n",
      "                           Df      AIC\n",
      "+ +factor(gender)           8 1233.498\n",
      "<none>                      4 1234.941\n",
      "+ +factor(isUSA)            6 1236.637\n",
      "+ +factor(companySize)     14 1237.950\n",
      "+ +age                      6 1238.879\n",
      "- factor(diagnosedWithMHD)  2 1242.551\n",
      "# weights:  15 (8 variable)\n",
      "initial  value 629.504841 \n",
      "iter  10 value 608.774995\n",
      "final  value 608.749220 \n",
      "converged\n",
      "\n",
      "Step:  AIC=1233.5\n",
      "factor(predictions) ~ factor(diagnosedWithMHD) + factor(gender)\n",
      "\n",
      "trying - factor(diagnosedWithMHD) \n",
      "# weights:  12 (6 variable)\n",
      "initial  value 629.504841 \n",
      "iter  10 value 613.116732\n",
      "final  value 613.116631 \n",
      "converged\n",
      "trying - factor(gender) \n",
      "# weights:  9 (4 variable)\n",
      "initial  value 629.504841 \n",
      "final  value 613.470473 \n",
      "converged\n",
      "trying + factor(isUSA) \n",
      "# weights:  18 (10 variable)\n",
      "initial  value 629.504841 \n",
      "iter  10 value 607.951812\n",
      "final  value 607.865792 \n",
      "converged\n",
      "trying + factor(companySize) \n",
      "# weights:  30 (18 variable)\n",
      "initial  value 629.504841 \n",
      "iter  10 value 600.671736\n",
      "iter  20 value 599.801324\n",
      "final  value 599.798589 \n",
      "converged\n",
      "trying + age \n",
      "# weights:  18 (10 variable)\n",
      "initial  value 629.504841 \n",
      "iter  10 value 608.848146\n",
      "final  value 608.702884 \n",
      "converged\n",
      "trying + factor(gender):factor(diagnosedWithMHD) \n",
      "# weights:  21 (12 variable)\n",
      "initial  value 629.504841 \n",
      "iter  10 value 607.170477\n",
      "iter  20 value 606.505276\n",
      "final  value 606.499957 \n",
      "converged\n",
      "                                           Df      AIC\n",
      "<none>                                      8 1233.498\n",
      "- factor(gender)                            4 1234.941\n",
      "+ +factor(companySize)                     18 1235.597\n",
      "+ +factor(isUSA)                           10 1235.732\n",
      "+ +factor(gender):factor(diagnosedWithMHD) 12 1237.000\n",
      "+ +age                                     10 1237.406\n",
      "- factor(diagnosedWithMHD)                  6 1238.233\n"
     ]
    }
   ],
   "source": [
    "#then do stepwise regression for class 1\n",
    "baseMod = multinom(lowerBoundForm,data = inferenceFrame)\n",
    "upperMod = multinom(upperBoundForm,data = inferenceFrame)\n",
    "finalClassMod.mc = step(baseMod,scope = list(lower = baseMod,upper = upperMod),\n",
    "                   data = inferenceFrame,direction = \"both\")"
   ]
  },
  {
   "cell_type": "code",
   "execution_count": 270,
   "metadata": {
    "collapsed": false
   },
   "outputs": [
    {
     "data": {
      "text/plain": [
       "factor(predictions) ~ factor(diagnosedWithMHD) + factor(gender)\n",
       "<environment: 0x7fe6078f8c08>"
      ]
     },
     "metadata": {},
     "output_type": "display_data"
    }
   ],
   "source": [
    "summary(finalClassMod.mc)$call$formula"
   ]
  },
  {
   "cell_type": "markdown",
   "metadata": {
    "collapsed": true
   },
   "source": [
    "_Figure 2: Our final model for the multinomial classifier._\n",
    "\n",
    "We see that our model considers $isUSA$, $gender$, and $companySize$ for predicting our class assignment."
   ]
  },
  {
   "cell_type": "code",
   "execution_count": 272,
   "metadata": {
    "collapsed": false
   },
   "outputs": [],
   "source": [
    "#try a decision tree\n",
    "finalClassMod.tree = tree(factor(predictions) ~ factor(isUSA) + age +\n",
    "                                        factor(gender) + factor(companySize)\n",
    "                                          + factor(diagnosedWithMHD),\n",
    "                                          data = inferenceFrame)"
   ]
  },
  {
   "cell_type": "code",
   "execution_count": 273,
   "metadata": {
    "collapsed": false
   },
   "outputs": [
    {
     "data": {
      "image/png": "[encoded data removed]",
      "text/plain": [
       "plot without title"
      ]
     },
     "metadata": {},
     "output_type": "display_data"
    }
   ],
   "source": [
    "plot(finalClassMod.tree)\n",
    "text(finalClassMod.tree,pretty = TRUE)"
   ]
  },
  {
   "cell_type": "markdown",
   "metadata": {},
   "source": [
    "_Figure 3: Our final Decision Tree Model._\n",
    "\n",
    "We see that our decision tree seems to never predict if an individual is assigned to class assignment 2. This is a strong suggestion that we have an imbalanced classes issue that our current decision tree is having issues picking up. Like our multinomial logistic regression, `gender`, `companySize`, but this swaps out consideration of `isUSA` to consider `age`."
   ]
  },
  {
   "cell_type": "code",
   "execution_count": 274,
   "metadata": {
    "collapsed": false
   },
   "outputs": [],
   "source": [
    "#check predictions of both\n",
    "mClassPredictions = predict(finalClassMod.mc)\n",
    "treePredictions = predict(finalClassMod.tree,type = \"class\")\n",
    "actualPredictions = inferenceFrame$predictions"
   ]
  },
  {
   "cell_type": "code",
   "execution_count": 275,
   "metadata": {
    "collapsed": false,
    "run_control": {
     "marked": false
    }
   },
   "outputs": [
    {
     "name": "stdout",
     "output_type": "stream",
     "text": [
      "[1] \"The proportion accurate for the multinomial classifier is: 0.426\"\n",
      "[1] \"The proportion accurate for the decision tree is: 0.424\"\n"
     ]
    }
   ],
   "source": [
    "#get accuracy\n",
    "numAccurate.mc = length(\n",
    "                actualPredictions[(actualPredictions == mClassPredictions)])\n",
    "numAccurate.tree = length(\n",
    "                actualPredictions[(actualPredictions == treePredictions)])\n",
    "propAccurate.mc = numAccurate.mc / length(actualPredictions)\n",
    "propAccurate.tree = numAccurate.tree / length(actualPredictions)\n",
    "print(paste(\"The proportion accurate for the multinomial\",\n",
    "            \"classifier is:\",signif(propAccurate.mc,sigLev)))\n",
    "print(paste(\"The proportion accurate for the decision tree is:\",\n",
    "            signif(propAccurate.tree,sigLev)))"
   ]
  },
  {
   "cell_type": "markdown",
   "metadata": {},
   "source": [
    "We are talking about an accuracy difference of less than $1\\%$. They are both not amazing models, but the multinomial classifier at least will predict the class assignment of $2$ at particular points. Thus, I would argue that we should use the multinomial classifier for our class assignment."
   ]
  },
  {
   "cell_type": "code",
   "execution_count": 276,
   "metadata": {
    "collapsed": true
   },
   "outputs": [],
   "source": [
    "finalClassMod = finalClassMod.mc\n",
    "saveRDS(finalClassMod,\"../../models/finalClusterAssignmentClassifier.rds\")"
   ]
  },
  {
   "cell_type": "markdown",
   "metadata": {},
   "source": [
    "## Inference and Preditions\n",
    "\n",
    "As discussed before, our current model does a rather poor job at predicting the inference set. This is before we optimized for out-of-sample prediction."
   ]
  },
  {
   "cell_type": "code",
   "execution_count": 277,
   "metadata": {
    "collapsed": true
   },
   "outputs": [],
   "source": [
    "inferenceFrame$classAssignment = inferenceFrame$predictions\n",
    "inferenceFrame$predictedAssignment = predict(finalClassMod)"
   ]
  },
  {
   "cell_type": "code",
   "execution_count": 278,
   "metadata": {
    "collapsed": false
   },
   "outputs": [
    {
     "data": {
      "text/html": [
       "<table>\n",
       "<thead><tr><th></th><th scope=col>Actual 1</th><th scope=col>Actual 2</th><th scope=col>Actual 3</th></tr></thead>\n",
       "<tbody>\n",
       "\t<tr><th scope=row>Predict 1</th><td>90 </td><td> 59</td><td> 89</td></tr>\n",
       "\t<tr><th scope=row>Predict 2</th><td> 0 </td><td>  0</td><td>  0</td></tr>\n",
       "\t<tr><th scope=row>Predict 3</th><td>74 </td><td>107</td><td>154</td></tr>\n",
       "</tbody>\n",
       "</table>\n"
      ],
      "text/latex": [
       "\\begin{tabular}{r|lll}\n",
       "  & Actual 1 & Actual 2 & Actual 3\\\\\n",
       "\\hline\n",
       "\tPredict 1 & 90  &  59 &  89\\\\\n",
       "\tPredict 2 &  0  &   0 &   0\\\\\n",
       "\tPredict 3 & 74  & 107 & 154\\\\\n",
       "\\end{tabular}\n"
      ],
      "text/markdown": [
       "\n",
       "| <!--/--> | Actual 1 | Actual 2 | Actual 3 | \n",
       "|---|---|---|\n",
       "| Predict 1 | 90  |  59 |  89 | \n",
       "| Predict 2 |  0  |   0 |   0 | \n",
       "| Predict 3 | 74  | 107 | 154 | \n",
       "\n",
       "\n"
      ],
      "text/plain": [
       "          Actual 1 Actual 2 Actual 3\n",
       "Predict 1 90        59       89     \n",
       "Predict 2  0         0        0     \n",
       "Predict 3 74       107      154     "
      ]
     },
     "metadata": {},
     "output_type": "display_data"
    }
   ],
   "source": [
    "#let's make our confusion matrix\n",
    "confusionMat = matrix(0,nrow = 3,ncol = 3)\n",
    "for (i in 1:3){\n",
    "    for (j in 1:3){\n",
    "        levFrame = inferenceFrame[(inferenceFrame$predictedAssignment == i\n",
    "                                 & inferenceFrame$classAssignment == j),]\n",
    "        numAtLev = dim(levFrame)[1]\n",
    "        confusionMat[i,j] = numAtLev\n",
    "    }\n",
    "}\n",
    "#then name columns and rows\n",
    "rownames(confusionMat) = c(\"Predict 1\",\"Predict 2\",\"Predict 3\")\n",
    "colnames(confusionMat) = c(\"Actual 1\",\"Actual 2\",\"Actual 3\")\n",
    "confusionMat"
   ]
  },
  {
   "cell_type": "markdown",
   "metadata": {},
   "source": [
    "_Table 17: Our Confusion Matrix for our Final Model._\n",
    "\n",
    "We see by our confusion matrix that\n",
    "\n",
    "$$P(Correct | Actual(1)) = \\frac{65}{65 + 13 + 95} \\approx 37.57\\%,$$\n",
    "\n",
    "$$P(Correct | Actual(2)) = 0%,$$\n",
    "\n",
    "and\n",
    "\n",
    "$$P(Correct | Actual(3)) = \\frac{164}{54 + 32 + 164} \\approx 65.6\\%.$$\n",
    "\n",
    "Thus, we can see that our model is doing a pretty good job at predicting people in class assignment 3, but generally not doing a great job at predicting classes $1$ and $2$. This is rather expected"
   ]
  },
  {
   "cell_type": "code",
   "execution_count": null,
   "metadata": {
    "collapsed": true
   },
   "outputs": [],
   "source": []
  }
 ],
 "metadata": {
  "kernelspec": {
   "display_name": "R",
   "language": "R",
   "name": "ir"
  },
  "language_info": {
   "codemirror_mode": "r",
   "file_extension": ".r",
   "mimetype": "text/x-r-source",
   "name": "R",
   "pygments_lexer": "r",
   "version": "3.2.3"
  },
  "latex_envs": {
   "bibliofile": "biblio.bib",
   "cite_by": "apalike",
   "current_citInitial": 1,
   "eqLabelWithNumbers": true,
   "eqNumInitial": 0
  },
  "nav_menu": {},
  "toc": {
   "navigate_menu": true,
   "number_sections": false,
   "sideBar": true,
   "threshold": 6,
   "toc_cell": true,
   "toc_section_display": "block",
   "toc_window_display": true
  }
 },
 "nbformat": 4,
 "nbformat_minor": 2
}
