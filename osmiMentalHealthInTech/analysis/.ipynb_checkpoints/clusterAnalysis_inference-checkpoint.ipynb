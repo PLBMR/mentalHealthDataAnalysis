{
 "cells": [
  {
   "cell_type": "markdown",
   "metadata": {},
   "source": [
    "# OSMI Mental Health In Tech Survey 2016 : Inference on Cluster Analysis\n",
    "\n",
    "_By [Michael Rosenberg](mmrosenb@andrew.cmu.edu)._"
   ]
  },
  {
   "cell_type": "code",
   "execution_count": 22,
   "metadata": {
    "collapsed": false
   },
   "outputs": [],
   "source": [
    "#imports\n",
    "library(poLCA)\n",
    "\n",
    "#constants\n",
    "sigLev = 3\n",
    "percentMul = 100\n",
    "options(warn=-1)"
   ]
  },
  {
   "cell_type": "code",
   "execution_count": 23,
   "metadata": {
    "collapsed": true
   },
   "outputs": [],
   "source": [
    "#load in data\n",
    "inferenceFrame = read.csv(\"../data/processed/clusterData_inference.csv\")\n",
    "finalMod.lcm = readRDS(\"../models/finalClusterModel.rds\")"
   ]
  },
  {
   "cell_type": "markdown",
   "metadata": {},
   "source": [
    "# Recap"
   ]
  },
  {
   "cell_type": "markdown",
   "metadata": {},
   "source": [
    "# Model Study"
   ]
  },
  {
   "cell_type": "code",
   "execution_count": 24,
   "metadata": {
    "collapsed": false
   },
   "outputs": [
    {
     "data": {
      "text/html": [
       "<table>\n",
       "<thead><tr><th scope=col>class</th><th scope=col>prior</th></tr></thead>\n",
       "<tbody>\n",
       "\t<tr><td>Class 1</td><td>0.335  </td></tr>\n",
       "\t<tr><td>Class 2</td><td>0.267  </td></tr>\n",
       "\t<tr><td>Class 3</td><td>0.398  </td></tr>\n",
       "</tbody>\n",
       "</table>\n"
      ],
      "text/latex": [
       "\\begin{tabular}{r|ll}\n",
       " class & prior\\\\\n",
       "\\hline\n",
       "\t Class 1 & 0.335  \\\\\n",
       "\t Class 2 & 0.267  \\\\\n",
       "\t Class 3 & 0.398  \\\\\n",
       "\\end{tabular}\n"
      ],
      "text/markdown": [
       "\n",
       "class | prior | \n",
       "|---|---|---|\n",
       "| Class 1 | 0.335   | \n",
       "| Class 2 | 0.267   | \n",
       "| Class 3 | 0.398   | \n",
       "\n",
       "\n"
      ],
      "text/plain": [
       "  class   prior\n",
       "1 Class 1 0.335\n",
       "2 Class 2 0.267\n",
       "3 Class 3 0.398"
      ]
     },
     "metadata": {},
     "output_type": "display_data"
    }
   ],
   "source": [
    "priorFrame = data.frame(class = c(\"Class 1\",\"Class 2\",\"Class 3\"),\n",
    "                        prior = signif(finalMod.lcm$P,sigLev))\n",
    "priorFrame"
   ]
  },
  {
   "cell_type": "markdown",
   "metadata": {},
   "source": [
    "_Table 1: Our prior distribution over our classes._\n",
    "\n",
    "We see that Class $3$ is more frequent than the other two, and Class $2$ is the least frequent of the three in our estimates. That being said, these classes are extremely close together, which suggests that we have relatively balanced classes."
   ]
  },
  {
   "cell_type": "code",
   "execution_count": 25,
   "metadata": {
    "collapsed": false
   },
   "outputs": [],
   "source": [
    "displayTable <- function(givenMod,varName){\n",
    "    #helper for producing table\n",
    "    #first, get discrete encoding\n",
    "    dEncodeFilename = paste0(\"../data/preprocessed/discreteEncodings/\",\n",
    "                             varName,\".csv\")\n",
    "    dEncodeFrame = read.csv(dEncodeFilename)\n",
    "    #get levels\n",
    "    dEncodeLevels = dEncodeFrame$level\n",
    "    givenModTable = givenMod$probs[[varName]]\n",
    "    colnames(givenModTable) = dEncodeLevels\n",
    "    #then export\n",
    "    return(givenModTable)\n",
    "}"
   ]
  },
  {
   "cell_type": "code",
   "execution_count": 26,
   "metadata": {
    "collapsed": false
   },
   "outputs": [
    {
     "data": {
      "text/html": [
       "<dl>\n",
       "\t<dt>$empPrimTech</dt>\n",
       "\t\t<dd><table>\n",
       "<thead><tr><th></th><th scope=col>Pr(1)</th><th scope=col>Pr(2)</th></tr></thead>\n",
       "<tbody>\n",
       "\t<tr><th scope=row>class 1: </th><td>0.8430343</td><td>0.1569657</td></tr>\n",
       "\t<tr><th scope=row>class 2: </th><td>0.7330880</td><td>0.2669120</td></tr>\n",
       "\t<tr><th scope=row>class 3: </th><td>0.7499901</td><td>0.2500099</td></tr>\n",
       "</tbody>\n",
       "</table>\n",
       "</dd>\n",
       "\t<dt>$empProvideMHB</dt>\n",
       "\t\t<dd><table>\n",
       "<thead><tr><th></th><th scope=col>Pr(1)</th><th scope=col>Pr(2)</th><th scope=col>Pr(3)</th><th scope=col>Pr(4)</th></tr></thead>\n",
       "<tbody>\n",
       "\t<tr><th scope=row>class 1: </th><td>1.642364e-01</td><td>2.167321e-01</td><td>0.1424650   </td><td>0.47656658  </td></tr>\n",
       "\t<tr><th scope=row>class 2: </th><td>8.320116e-16</td><td>2.159016e-43</td><td>0.9137403   </td><td>0.08625966  </td></tr>\n",
       "\t<tr><th scope=row>class 3: </th><td>8.546565e-02</td><td>2.648100e-01</td><td>0.4682599   </td><td>0.18146453  </td></tr>\n",
       "</tbody>\n",
       "</table>\n",
       "</dd>\n",
       "\t<dt>$knowMHB</dt>\n",
       "\t\t<dd><table>\n",
       "<thead><tr><th></th><th scope=col>Pr(1)</th><th scope=col>Pr(2)</th><th scope=col>Pr(3)</th><th scope=col>Pr(4)</th></tr></thead>\n",
       "<tbody>\n",
       "\t<tr><th scope=row>class 1: </th><td> 2.126764e-01</td><td>0.0601222    </td><td>0.4087160    </td><td>0.3184853    </td></tr>\n",
       "\t<tr><th scope=row>class 2: </th><td>1.926283e-157</td><td>0.6037233    </td><td>0.2788540    </td><td>0.1174227    </td></tr>\n",
       "\t<tr><th scope=row>class 3: </th><td> 1.061076e-01</td><td>0.2370277    </td><td>0.2539455    </td><td>0.4029192    </td></tr>\n",
       "</tbody>\n",
       "</table>\n",
       "</dd>\n",
       "\t<dt>$empDiscMH</dt>\n",
       "\t\t<dd><table>\n",
       "<thead><tr><th></th><th scope=col>Pr(1)</th><th scope=col>Pr(2)</th><th scope=col>Pr(3)</th></tr></thead>\n",
       "<tbody>\n",
       "\t<tr><th scope=row>class 1: </th><td>0.7781698 </td><td>0.1498108 </td><td>0.07201940</td></tr>\n",
       "\t<tr><th scope=row>class 2: </th><td>0.4656429 </td><td>0.4257247 </td><td>0.10863243</td></tr>\n",
       "\t<tr><th scope=row>class 3: </th><td>0.8041357 </td><td>0.1101271 </td><td>0.08573719</td></tr>\n",
       "</tbody>\n",
       "</table>\n",
       "</dd>\n",
       "\t<dt>$empResourceMH</dt>\n",
       "\t\t<dd><table>\n",
       "<thead><tr><th></th><th scope=col>Pr(1)</th><th scope=col>Pr(2)</th><th scope=col>Pr(3)</th></tr></thead>\n",
       "<tbody>\n",
       "\t<tr><th scope=row>class 1: </th><td>0.4935734 </td><td>0.09156644</td><td>0.4148602 </td></tr>\n",
       "\t<tr><th scope=row>class 2: </th><td>0.2654382 </td><td>0.53149626</td><td>0.2030655 </td></tr>\n",
       "\t<tr><th scope=row>class 3: </th><td>0.5728230 </td><td>0.21521471</td><td>0.2119623 </td></tr>\n",
       "</tbody>\n",
       "</table>\n",
       "</dd>\n",
       "\t<dt>$anonProtected</dt>\n",
       "\t\t<dd><table>\n",
       "<thead><tr><th></th><th scope=col>Pr(1)</th><th scope=col>Pr(2)</th><th scope=col>Pr(3)</th></tr></thead>\n",
       "<tbody>\n",
       "\t<tr><th scope=row>class 1: </th><td>0.7952877 </td><td>0.1624957 </td><td>0.04221660</td></tr>\n",
       "\t<tr><th scope=row>class 2: </th><td>0.3628419 </td><td>0.6049427 </td><td>0.03221538</td></tr>\n",
       "\t<tr><th scope=row>class 3: </th><td>0.6615075 </td><td>0.1896335 </td><td>0.14885896</td></tr>\n",
       "</tbody>\n",
       "</table>\n",
       "</dd>\n",
       "\t<dt>$askLeaveDiff</dt>\n",
       "\t\t<dd><table>\n",
       "<thead><tr><th></th><th scope=col>Pr(1)</th><th scope=col>Pr(2)</th><th scope=col>Pr(3)</th><th scope=col>Pr(4)</th><th scope=col>Pr(5)</th><th scope=col>Pr(6)</th></tr></thead>\n",
       "<tbody>\n",
       "\t<tr><th scope=row>class 1: </th><td>0.26897298 </td><td>0.3065587  </td><td>0.1981722  </td><td>0.008404437</td><td>0.08608925 </td><td>0.13180238 </td></tr>\n",
       "\t<tr><th scope=row>class 2: </th><td>0.36731656 </td><td>0.3134537  </td><td>0.1519005  </td><td>0.012890826</td><td>0.07668416 </td><td>0.07775424 </td></tr>\n",
       "\t<tr><th scope=row>class 3: </th><td>0.04916784 </td><td>0.1237994  </td><td>0.1259986  </td><td>0.220889999</td><td>0.32316312 </td><td>0.15698108 </td></tr>\n",
       "</tbody>\n",
       "</table>\n",
       "</dd>\n",
       "\t<dt>$negConsDiscMH</dt>\n",
       "\t\t<dd><table>\n",
       "<thead><tr><th></th><th scope=col>Pr(1)</th><th scope=col>Pr(2)</th><th scope=col>Pr(3)</th></tr></thead>\n",
       "<tbody>\n",
       "\t<tr><th scope=row>class 1: </th><td>0.61298667</td><td>0.3680594 </td><td>0.01895389</td></tr>\n",
       "\t<tr><th scope=row>class 2: </th><td>0.71300178</td><td>0.2668044 </td><td>0.02019384</td></tr>\n",
       "\t<tr><th scope=row>class 3: </th><td>0.01035916</td><td>0.5283918 </td><td>0.46124909</td></tr>\n",
       "</tbody>\n",
       "</table>\n",
       "</dd>\n",
       "\t<dt>$negConsDiscPH</dt>\n",
       "\t\t<dd><table>\n",
       "<thead><tr><th></th><th scope=col>Pr(1)</th><th scope=col>Pr(2)</th><th scope=col>Pr(3)</th></tr></thead>\n",
       "<tbody>\n",
       "\t<tr><th scope=row>class 1: </th><td>0.8871132    </td><td>0.11288685   </td><td> 0.000000e+00</td></tr>\n",
       "\t<tr><th scope=row>class 2: </th><td>0.9188544    </td><td>0.08114562   </td><td>3.963335e-247</td></tr>\n",
       "\t<tr><th scope=row>class 3: </th><td>0.4876558    </td><td>0.41595463   </td><td> 9.638953e-02</td></tr>\n",
       "</tbody>\n",
       "</table>\n",
       "</dd>\n",
       "\t<dt>$coworkComfMHD</dt>\n",
       "\t\t<dd><table>\n",
       "<thead><tr><th></th><th scope=col>Pr(1)</th><th scope=col>Pr(2)</th><th scope=col>Pr(3)</th></tr></thead>\n",
       "<tbody>\n",
       "\t<tr><th scope=row>class 1: </th><td>0.4222275 </td><td>0.36947491</td><td>0.20829757</td></tr>\n",
       "\t<tr><th scope=row>class 2: </th><td>0.5242416 </td><td>0.40811732</td><td>0.06764111</td></tr>\n",
       "\t<tr><th scope=row>class 3: </th><td>0.3146879 </td><td>0.04691369</td><td>0.63839837</td></tr>\n",
       "</tbody>\n",
       "</table>\n",
       "</dd>\n",
       "\t<dt>$superComfMHD</dt>\n",
       "\t\t<dd><table>\n",
       "<thead><tr><th></th><th scope=col>Pr(1)</th><th scope=col>Pr(2)</th><th scope=col>Pr(3)</th></tr></thead>\n",
       "<tbody>\n",
       "\t<tr><th scope=row>class 1: </th><td>0.50966453</td><td>0.3374349 </td><td>0.15290062</td></tr>\n",
       "\t<tr><th scope=row>class 2: </th><td>0.70200861</td><td>0.2777027 </td><td>0.02028869</td></tr>\n",
       "\t<tr><th scope=row>class 3: </th><td>0.06948366</td><td>0.3496547 </td><td>0.58086162</td></tr>\n",
       "</tbody>\n",
       "</table>\n",
       "</dd>\n",
       "\t<dt>$empSeriousMH</dt>\n",
       "\t\t<dd><table>\n",
       "<thead><tr><th></th><th scope=col>Pr(1)</th><th scope=col>Pr(2)</th><th scope=col>Pr(3)</th></tr></thead>\n",
       "<tbody>\n",
       "\t<tr><th scope=row>class 1: </th><td>0.4941462 </td><td>0.38370897</td><td>0.1221448 </td></tr>\n",
       "\t<tr><th scope=row>class 2: </th><td>0.2777335 </td><td>0.56702113</td><td>0.1552454 </td></tr>\n",
       "\t<tr><th scope=row>class 3: </th><td>0.4852353 </td><td>0.09492299</td><td>0.4198418 </td></tr>\n",
       "</tbody>\n",
       "</table>\n",
       "</dd>\n",
       "\t<dt>$heardNegConsMH</dt>\n",
       "\t\t<dd><table>\n",
       "<thead><tr><th></th><th scope=col>Pr(1)</th><th scope=col>Pr(2)</th></tr></thead>\n",
       "<tbody>\n",
       "\t<tr><th scope=row>class 1: </th><td>1.0000000    </td><td>1.628924e-104</td></tr>\n",
       "\t<tr><th scope=row>class 2: </th><td>0.9346540    </td><td> 6.534599e-02</td></tr>\n",
       "\t<tr><th scope=row>class 3: </th><td>0.8378824    </td><td> 1.621176e-01</td></tr>\n",
       "</tbody>\n",
       "</table>\n",
       "</dd>\n",
       "\t<dt>$discInterviewPH</dt>\n",
       "\t\t<dd><table>\n",
       "<thead><tr><th></th><th scope=col>Pr(1)</th><th scope=col>Pr(2)</th><th scope=col>Pr(3)</th></tr></thead>\n",
       "<tbody>\n",
       "\t<tr><th scope=row>class 1: </th><td>0.4684743</td><td>0.3291969</td><td>0.2023287</td></tr>\n",
       "\t<tr><th scope=row>class 2: </th><td>0.4538477</td><td>0.2797621</td><td>0.2663902</td></tr>\n",
       "\t<tr><th scope=row>class 3: </th><td>0.3624552</td><td>0.1799415</td><td>0.4576032</td></tr>\n",
       "</tbody>\n",
       "</table>\n",
       "</dd>\n",
       "\t<dt>$discInterviewMH</dt>\n",
       "\t\t<dd><table>\n",
       "<thead><tr><th></th><th scope=col>Pr(1)</th><th scope=col>Pr(2)</th><th scope=col>Pr(3)</th></tr></thead>\n",
       "<tbody>\n",
       "\t<tr><th scope=row>class 1: </th><td>0.4141951  </td><td>0.4443144  </td><td>0.141490471</td></tr>\n",
       "\t<tr><th scope=row>class 2: </th><td>0.3784929  </td><td>0.5188057  </td><td>0.102701387</td></tr>\n",
       "\t<tr><th scope=row>class 3: </th><td>0.1080653  </td><td>0.8868756  </td><td>0.005059122</td></tr>\n",
       "</tbody>\n",
       "</table>\n",
       "</dd>\n",
       "\t<dt>$hurtCareerMH</dt>\n",
       "\t\t<dd><table>\n",
       "<thead><tr><th></th><th scope=col>Pr(1)</th><th scope=col>Pr(2)</th><th scope=col>Pr(3)</th><th scope=col>Pr(4)</th><th scope=col>Pr(5)</th></tr></thead>\n",
       "<tbody>\n",
       "\t<tr><th scope=row>class 1: </th><td>0.6400979    </td><td>1.593310e-01 </td><td>0.1786443    </td><td> 1.256227e-02</td><td>0.009364537  </td></tr>\n",
       "\t<tr><th scope=row>class 2: </th><td>0.4571984    </td><td>2.120691e-01 </td><td>0.2089758    </td><td> 8.229287e-02</td><td>0.039463789  </td></tr>\n",
       "\t<tr><th scope=row>class 3: </th><td>0.1678252    </td><td>2.158570e-31 </td><td>0.6912437    </td><td>3.440738e-252</td><td>0.140931092  </td></tr>\n",
       "</tbody>\n",
       "</table>\n",
       "</dd>\n",
       "\t<dt>$teamNegMH</dt>\n",
       "\t\t<dd><table>\n",
       "<thead><tr><th></th><th scope=col>Pr(1)</th><th scope=col>Pr(2)</th><th scope=col>Pr(3)</th><th scope=col>Pr(4)</th><th scope=col>Pr(5)</th></tr></thead>\n",
       "<tbody>\n",
       "\t<tr><th scope=row>class 1: </th><td>0.40917010   </td><td>0.5059225    </td><td>2.746781e-41 </td><td>0.06559947   </td><td> 1.930795e-02</td></tr>\n",
       "\t<tr><th scope=row>class 2: </th><td>0.36634273   </td><td>0.4244439    </td><td>2.001484e-02 </td><td>0.06960929   </td><td> 1.195892e-01</td></tr>\n",
       "\t<tr><th scope=row>class 3: </th><td>0.04594928   </td><td>0.2806029    </td><td>5.668430e-02 </td><td>0.61676350   </td><td>6.068534e-226</td></tr>\n",
       "</tbody>\n",
       "</table>\n",
       "</dd>\n",
       "\t<dt>$observeBadResponseMH</dt>\n",
       "\t\t<dd><table>\n",
       "<thead><tr><th></th><th scope=col>Pr(1)</th><th scope=col>Pr(2)</th><th scope=col>Pr(3)</th><th scope=col>Pr(4)</th><th scope=col>Pr(5)</th></tr></thead>\n",
       "<tbody>\n",
       "\t<tr><th scope=row>class 1: </th><td>0.6438238 </td><td>0.1456524 </td><td>0.04150696</td><td>0.1072585 </td><td>0.06175832</td></tr>\n",
       "\t<tr><th scope=row>class 2: </th><td>0.4658428 </td><td>0.2119307 </td><td>0.14336701</td><td>0.1522821 </td><td>0.02657739</td></tr>\n",
       "\t<tr><th scope=row>class 3: </th><td>0.2421454 </td><td>0.3226602 </td><td>0.17133292</td><td>0.2196491 </td><td>0.04421233</td></tr>\n",
       "</tbody>\n",
       "</table>\n",
       "</dd>\n",
       "</dl>\n"
      ],
      "text/latex": [
       "\\begin{description}\n",
       "\\item[\\$empPrimTech] \\begin{tabular}{r|ll}\n",
       "  & Pr(1) & Pr(2)\\\\\n",
       "\\hline\n",
       "\tclass 1:  & 0.8430343 & 0.1569657\\\\\n",
       "\tclass 2:  & 0.7330880 & 0.2669120\\\\\n",
       "\tclass 3:  & 0.7499901 & 0.2500099\\\\\n",
       "\\end{tabular}\n",
       "\n",
       "\\item[\\$empProvideMHB] \\begin{tabular}{r|llll}\n",
       "  & Pr(1) & Pr(2) & Pr(3) & Pr(4)\\\\\n",
       "\\hline\n",
       "\tclass 1:  & 1.642364e-01 & 2.167321e-01 & 0.1424650    & 0.47656658  \\\\\n",
       "\tclass 2:  & 8.320116e-16 & 2.159016e-43 & 0.9137403    & 0.08625966  \\\\\n",
       "\tclass 3:  & 8.546565e-02 & 2.648100e-01 & 0.4682599    & 0.18146453  \\\\\n",
       "\\end{tabular}\n",
       "\n",
       "\\item[\\$knowMHB] \\begin{tabular}{r|llll}\n",
       "  & Pr(1) & Pr(2) & Pr(3) & Pr(4)\\\\\n",
       "\\hline\n",
       "\tclass 1:  &  2.126764e-01 & 0.0601222     & 0.4087160     & 0.3184853    \\\\\n",
       "\tclass 2:  & 1.926283e-157 & 0.6037233     & 0.2788540     & 0.1174227    \\\\\n",
       "\tclass 3:  &  1.061076e-01 & 0.2370277     & 0.2539455     & 0.4029192    \\\\\n",
       "\\end{tabular}\n",
       "\n",
       "\\item[\\$empDiscMH] \\begin{tabular}{r|lll}\n",
       "  & Pr(1) & Pr(2) & Pr(3)\\\\\n",
       "\\hline\n",
       "\tclass 1:  & 0.7781698  & 0.1498108  & 0.07201940\\\\\n",
       "\tclass 2:  & 0.4656429  & 0.4257247  & 0.10863243\\\\\n",
       "\tclass 3:  & 0.8041357  & 0.1101271  & 0.08573719\\\\\n",
       "\\end{tabular}\n",
       "\n",
       "\\item[\\$empResourceMH] \\begin{tabular}{r|lll}\n",
       "  & Pr(1) & Pr(2) & Pr(3)\\\\\n",
       "\\hline\n",
       "\tclass 1:  & 0.4935734  & 0.09156644 & 0.4148602 \\\\\n",
       "\tclass 2:  & 0.2654382  & 0.53149626 & 0.2030655 \\\\\n",
       "\tclass 3:  & 0.5728230  & 0.21521471 & 0.2119623 \\\\\n",
       "\\end{tabular}\n",
       "\n",
       "\\item[\\$anonProtected] \\begin{tabular}{r|lll}\n",
       "  & Pr(1) & Pr(2) & Pr(3)\\\\\n",
       "\\hline\n",
       "\tclass 1:  & 0.7952877  & 0.1624957  & 0.04221660\\\\\n",
       "\tclass 2:  & 0.3628419  & 0.6049427  & 0.03221538\\\\\n",
       "\tclass 3:  & 0.6615075  & 0.1896335  & 0.14885896\\\\\n",
       "\\end{tabular}\n",
       "\n",
       "\\item[\\$askLeaveDiff] \\begin{tabular}{r|llllll}\n",
       "  & Pr(1) & Pr(2) & Pr(3) & Pr(4) & Pr(5) & Pr(6)\\\\\n",
       "\\hline\n",
       "\tclass 1:  & 0.26897298  & 0.3065587   & 0.1981722   & 0.008404437 & 0.08608925  & 0.13180238 \\\\\n",
       "\tclass 2:  & 0.36731656  & 0.3134537   & 0.1519005   & 0.012890826 & 0.07668416  & 0.07775424 \\\\\n",
       "\tclass 3:  & 0.04916784  & 0.1237994   & 0.1259986   & 0.220889999 & 0.32316312  & 0.15698108 \\\\\n",
       "\\end{tabular}\n",
       "\n",
       "\\item[\\$negConsDiscMH] \\begin{tabular}{r|lll}\n",
       "  & Pr(1) & Pr(2) & Pr(3)\\\\\n",
       "\\hline\n",
       "\tclass 1:  & 0.61298667 & 0.3680594  & 0.01895389\\\\\n",
       "\tclass 2:  & 0.71300178 & 0.2668044  & 0.02019384\\\\\n",
       "\tclass 3:  & 0.01035916 & 0.5283918  & 0.46124909\\\\\n",
       "\\end{tabular}\n",
       "\n",
       "\\item[\\$negConsDiscPH] \\begin{tabular}{r|lll}\n",
       "  & Pr(1) & Pr(2) & Pr(3)\\\\\n",
       "\\hline\n",
       "\tclass 1:  & 0.8871132     & 0.11288685    &  0.000000e+00\\\\\n",
       "\tclass 2:  & 0.9188544     & 0.08114562    & 3.963335e-247\\\\\n",
       "\tclass 3:  & 0.4876558     & 0.41595463    &  9.638953e-02\\\\\n",
       "\\end{tabular}\n",
       "\n",
       "\\item[\\$coworkComfMHD] \\begin{tabular}{r|lll}\n",
       "  & Pr(1) & Pr(2) & Pr(3)\\\\\n",
       "\\hline\n",
       "\tclass 1:  & 0.4222275  & 0.36947491 & 0.20829757\\\\\n",
       "\tclass 2:  & 0.5242416  & 0.40811732 & 0.06764111\\\\\n",
       "\tclass 3:  & 0.3146879  & 0.04691369 & 0.63839837\\\\\n",
       "\\end{tabular}\n",
       "\n",
       "\\item[\\$superComfMHD] \\begin{tabular}{r|lll}\n",
       "  & Pr(1) & Pr(2) & Pr(3)\\\\\n",
       "\\hline\n",
       "\tclass 1:  & 0.50966453 & 0.3374349  & 0.15290062\\\\\n",
       "\tclass 2:  & 0.70200861 & 0.2777027  & 0.02028869\\\\\n",
       "\tclass 3:  & 0.06948366 & 0.3496547  & 0.58086162\\\\\n",
       "\\end{tabular}\n",
       "\n",
       "\\item[\\$empSeriousMH] \\begin{tabular}{r|lll}\n",
       "  & Pr(1) & Pr(2) & Pr(3)\\\\\n",
       "\\hline\n",
       "\tclass 1:  & 0.4941462  & 0.38370897 & 0.1221448 \\\\\n",
       "\tclass 2:  & 0.2777335  & 0.56702113 & 0.1552454 \\\\\n",
       "\tclass 3:  & 0.4852353  & 0.09492299 & 0.4198418 \\\\\n",
       "\\end{tabular}\n",
       "\n",
       "\\item[\\$heardNegConsMH] \\begin{tabular}{r|ll}\n",
       "  & Pr(1) & Pr(2)\\\\\n",
       "\\hline\n",
       "\tclass 1:  & 1.0000000     & 1.628924e-104\\\\\n",
       "\tclass 2:  & 0.9346540     &  6.534599e-02\\\\\n",
       "\tclass 3:  & 0.8378824     &  1.621176e-01\\\\\n",
       "\\end{tabular}\n",
       "\n",
       "\\item[\\$discInterviewPH] \\begin{tabular}{r|lll}\n",
       "  & Pr(1) & Pr(2) & Pr(3)\\\\\n",
       "\\hline\n",
       "\tclass 1:  & 0.4684743 & 0.3291969 & 0.2023287\\\\\n",
       "\tclass 2:  & 0.4538477 & 0.2797621 & 0.2663902\\\\\n",
       "\tclass 3:  & 0.3624552 & 0.1799415 & 0.4576032\\\\\n",
       "\\end{tabular}\n",
       "\n",
       "\\item[\\$discInterviewMH] \\begin{tabular}{r|lll}\n",
       "  & Pr(1) & Pr(2) & Pr(3)\\\\\n",
       "\\hline\n",
       "\tclass 1:  & 0.4141951   & 0.4443144   & 0.141490471\\\\\n",
       "\tclass 2:  & 0.3784929   & 0.5188057   & 0.102701387\\\\\n",
       "\tclass 3:  & 0.1080653   & 0.8868756   & 0.005059122\\\\\n",
       "\\end{tabular}\n",
       "\n",
       "\\item[\\$hurtCareerMH] \\begin{tabular}{r|lllll}\n",
       "  & Pr(1) & Pr(2) & Pr(3) & Pr(4) & Pr(5)\\\\\n",
       "\\hline\n",
       "\tclass 1:  & 0.6400979     & 1.593310e-01  & 0.1786443     &  1.256227e-02 & 0.009364537  \\\\\n",
       "\tclass 2:  & 0.4571984     & 2.120691e-01  & 0.2089758     &  8.229287e-02 & 0.039463789  \\\\\n",
       "\tclass 3:  & 0.1678252     & 2.158570e-31  & 0.6912437     & 3.440738e-252 & 0.140931092  \\\\\n",
       "\\end{tabular}\n",
       "\n",
       "\\item[\\$teamNegMH] \\begin{tabular}{r|lllll}\n",
       "  & Pr(1) & Pr(2) & Pr(3) & Pr(4) & Pr(5)\\\\\n",
       "\\hline\n",
       "\tclass 1:  & 0.40917010    & 0.5059225     & 2.746781e-41  & 0.06559947    &  1.930795e-02\\\\\n",
       "\tclass 2:  & 0.36634273    & 0.4244439     & 2.001484e-02  & 0.06960929    &  1.195892e-01\\\\\n",
       "\tclass 3:  & 0.04594928    & 0.2806029     & 5.668430e-02  & 0.61676350    & 6.068534e-226\\\\\n",
       "\\end{tabular}\n",
       "\n",
       "\\item[\\$observeBadResponseMH] \\begin{tabular}{r|lllll}\n",
       "  & Pr(1) & Pr(2) & Pr(3) & Pr(4) & Pr(5)\\\\\n",
       "\\hline\n",
       "\tclass 1:  & 0.6438238  & 0.1456524  & 0.04150696 & 0.1072585  & 0.06175832\\\\\n",
       "\tclass 2:  & 0.4658428  & 0.2119307  & 0.14336701 & 0.1522821  & 0.02657739\\\\\n",
       "\tclass 3:  & 0.2421454  & 0.3226602  & 0.17133292 & 0.2196491  & 0.04421233\\\\\n",
       "\\end{tabular}\n",
       "\n",
       "\\end{description}\n"
      ],
      "text/markdown": [
       "$empPrimTech\n",
       ":   \n",
       "| <!--/--> | Pr(1) | Pr(2) | \n",
       "|---|---|---|\n",
       "| class 1:  | 0.8430343 | 0.1569657 | \n",
       "| class 2:  | 0.7330880 | 0.2669120 | \n",
       "| class 3:  | 0.7499901 | 0.2500099 | \n",
       "\n",
       "\n",
       "\n",
       "$empProvideMHB\n",
       ":   \n",
       "| <!--/--> | Pr(1) | Pr(2) | Pr(3) | Pr(4) | \n",
       "|---|---|---|\n",
       "| class 1:  | 1.642364e-01 | 2.167321e-01 | 0.1424650    | 0.47656658   | \n",
       "| class 2:  | 8.320116e-16 | 2.159016e-43 | 0.9137403    | 0.08625966   | \n",
       "| class 3:  | 8.546565e-02 | 2.648100e-01 | 0.4682599    | 0.18146453   | \n",
       "\n",
       "\n",
       "\n",
       "$knowMHB\n",
       ":   \n",
       "| <!--/--> | Pr(1) | Pr(2) | Pr(3) | Pr(4) | \n",
       "|---|---|---|\n",
       "| class 1:  |  2.126764e-01 | 0.0601222     | 0.4087160     | 0.3184853     | \n",
       "| class 2:  | 1.926283e-157 | 0.6037233     | 0.2788540     | 0.1174227     | \n",
       "| class 3:  |  1.061076e-01 | 0.2370277     | 0.2539455     | 0.4029192     | \n",
       "\n",
       "\n",
       "\n",
       "$empDiscMH\n",
       ":   \n",
       "| <!--/--> | Pr(1) | Pr(2) | Pr(3) | \n",
       "|---|---|---|\n",
       "| class 1:  | 0.7781698  | 0.1498108  | 0.07201940 | \n",
       "| class 2:  | 0.4656429  | 0.4257247  | 0.10863243 | \n",
       "| class 3:  | 0.8041357  | 0.1101271  | 0.08573719 | \n",
       "\n",
       "\n",
       "\n",
       "$empResourceMH\n",
       ":   \n",
       "| <!--/--> | Pr(1) | Pr(2) | Pr(3) | \n",
       "|---|---|---|\n",
       "| class 1:  | 0.4935734  | 0.09156644 | 0.4148602  | \n",
       "| class 2:  | 0.2654382  | 0.53149626 | 0.2030655  | \n",
       "| class 3:  | 0.5728230  | 0.21521471 | 0.2119623  | \n",
       "\n",
       "\n",
       "\n",
       "$anonProtected\n",
       ":   \n",
       "| <!--/--> | Pr(1) | Pr(2) | Pr(3) | \n",
       "|---|---|---|\n",
       "| class 1:  | 0.7952877  | 0.1624957  | 0.04221660 | \n",
       "| class 2:  | 0.3628419  | 0.6049427  | 0.03221538 | \n",
       "| class 3:  | 0.6615075  | 0.1896335  | 0.14885896 | \n",
       "\n",
       "\n",
       "\n",
       "$askLeaveDiff\n",
       ":   \n",
       "| <!--/--> | Pr(1) | Pr(2) | Pr(3) | Pr(4) | Pr(5) | Pr(6) | \n",
       "|---|---|---|\n",
       "| class 1:  | 0.26897298  | 0.3065587   | 0.1981722   | 0.008404437 | 0.08608925  | 0.13180238  | \n",
       "| class 2:  | 0.36731656  | 0.3134537   | 0.1519005   | 0.012890826 | 0.07668416  | 0.07775424  | \n",
       "| class 3:  | 0.04916784  | 0.1237994   | 0.1259986   | 0.220889999 | 0.32316312  | 0.15698108  | \n",
       "\n",
       "\n",
       "\n",
       "$negConsDiscMH\n",
       ":   \n",
       "| <!--/--> | Pr(1) | Pr(2) | Pr(3) | \n",
       "|---|---|---|\n",
       "| class 1:  | 0.61298667 | 0.3680594  | 0.01895389 | \n",
       "| class 2:  | 0.71300178 | 0.2668044  | 0.02019384 | \n",
       "| class 3:  | 0.01035916 | 0.5283918  | 0.46124909 | \n",
       "\n",
       "\n",
       "\n",
       "$negConsDiscPH\n",
       ":   \n",
       "| <!--/--> | Pr(1) | Pr(2) | Pr(3) | \n",
       "|---|---|---|\n",
       "| class 1:  | 0.8871132     | 0.11288685    |  0.000000e+00 | \n",
       "| class 2:  | 0.9188544     | 0.08114562    | 3.963335e-247 | \n",
       "| class 3:  | 0.4876558     | 0.41595463    |  9.638953e-02 | \n",
       "\n",
       "\n",
       "\n",
       "$coworkComfMHD\n",
       ":   \n",
       "| <!--/--> | Pr(1) | Pr(2) | Pr(3) | \n",
       "|---|---|---|\n",
       "| class 1:  | 0.4222275  | 0.36947491 | 0.20829757 | \n",
       "| class 2:  | 0.5242416  | 0.40811732 | 0.06764111 | \n",
       "| class 3:  | 0.3146879  | 0.04691369 | 0.63839837 | \n",
       "\n",
       "\n",
       "\n",
       "$superComfMHD\n",
       ":   \n",
       "| <!--/--> | Pr(1) | Pr(2) | Pr(3) | \n",
       "|---|---|---|\n",
       "| class 1:  | 0.50966453 | 0.3374349  | 0.15290062 | \n",
       "| class 2:  | 0.70200861 | 0.2777027  | 0.02028869 | \n",
       "| class 3:  | 0.06948366 | 0.3496547  | 0.58086162 | \n",
       "\n",
       "\n",
       "\n",
       "$empSeriousMH\n",
       ":   \n",
       "| <!--/--> | Pr(1) | Pr(2) | Pr(3) | \n",
       "|---|---|---|\n",
       "| class 1:  | 0.4941462  | 0.38370897 | 0.1221448  | \n",
       "| class 2:  | 0.2777335  | 0.56702113 | 0.1552454  | \n",
       "| class 3:  | 0.4852353  | 0.09492299 | 0.4198418  | \n",
       "\n",
       "\n",
       "\n",
       "$heardNegConsMH\n",
       ":   \n",
       "| <!--/--> | Pr(1) | Pr(2) | \n",
       "|---|---|---|\n",
       "| class 1:  | 1.0000000     | 1.628924e-104 | \n",
       "| class 2:  | 0.9346540     |  6.534599e-02 | \n",
       "| class 3:  | 0.8378824     |  1.621176e-01 | \n",
       "\n",
       "\n",
       "\n",
       "$discInterviewPH\n",
       ":   \n",
       "| <!--/--> | Pr(1) | Pr(2) | Pr(3) | \n",
       "|---|---|---|\n",
       "| class 1:  | 0.4684743 | 0.3291969 | 0.2023287 | \n",
       "| class 2:  | 0.4538477 | 0.2797621 | 0.2663902 | \n",
       "| class 3:  | 0.3624552 | 0.1799415 | 0.4576032 | \n",
       "\n",
       "\n",
       "\n",
       "$discInterviewMH\n",
       ":   \n",
       "| <!--/--> | Pr(1) | Pr(2) | Pr(3) | \n",
       "|---|---|---|\n",
       "| class 1:  | 0.4141951   | 0.4443144   | 0.141490471 | \n",
       "| class 2:  | 0.3784929   | 0.5188057   | 0.102701387 | \n",
       "| class 3:  | 0.1080653   | 0.8868756   | 0.005059122 | \n",
       "\n",
       "\n",
       "\n",
       "$hurtCareerMH\n",
       ":   \n",
       "| <!--/--> | Pr(1) | Pr(2) | Pr(3) | Pr(4) | Pr(5) | \n",
       "|---|---|---|\n",
       "| class 1:  | 0.6400979     | 1.593310e-01  | 0.1786443     |  1.256227e-02 | 0.009364537   | \n",
       "| class 2:  | 0.4571984     | 2.120691e-01  | 0.2089758     |  8.229287e-02 | 0.039463789   | \n",
       "| class 3:  | 0.1678252     | 2.158570e-31  | 0.6912437     | 3.440738e-252 | 0.140931092   | \n",
       "\n",
       "\n",
       "\n",
       "$teamNegMH\n",
       ":   \n",
       "| <!--/--> | Pr(1) | Pr(2) | Pr(3) | Pr(4) | Pr(5) | \n",
       "|---|---|---|\n",
       "| class 1:  | 0.40917010    | 0.5059225     | 2.746781e-41  | 0.06559947    |  1.930795e-02 | \n",
       "| class 2:  | 0.36634273    | 0.4244439     | 2.001484e-02  | 0.06960929    |  1.195892e-01 | \n",
       "| class 3:  | 0.04594928    | 0.2806029     | 5.668430e-02  | 0.61676350    | 6.068534e-226 | \n",
       "\n",
       "\n",
       "\n",
       "$observeBadResponseMH\n",
       ":   \n",
       "| <!--/--> | Pr(1) | Pr(2) | Pr(3) | Pr(4) | Pr(5) | \n",
       "|---|---|---|\n",
       "| class 1:  | 0.6438238  | 0.1456524  | 0.04150696 | 0.1072585  | 0.06175832 | \n",
       "| class 2:  | 0.4658428  | 0.2119307  | 0.14336701 | 0.1522821  | 0.02657739 | \n",
       "| class 3:  | 0.2421454  | 0.3226602  | 0.17133292 | 0.2196491  | 0.04421233 | \n",
       "\n",
       "\n",
       "\n",
       "\n",
       "\n"
      ],
      "text/plain": [
       "$empPrimTech\n",
       "              Pr(1)     Pr(2)\n",
       "class 1:  0.8430343 0.1569657\n",
       "class 2:  0.7330880 0.2669120\n",
       "class 3:  0.7499901 0.2500099\n",
       "\n",
       "$empProvideMHB\n",
       "                 Pr(1)        Pr(2)     Pr(3)      Pr(4)\n",
       "class 1:  1.642364e-01 2.167321e-01 0.1424650 0.47656658\n",
       "class 2:  8.320116e-16 2.159016e-43 0.9137403 0.08625966\n",
       "class 3:  8.546565e-02 2.648100e-01 0.4682599 0.18146453\n",
       "\n",
       "$knowMHB\n",
       "                  Pr(1)     Pr(2)     Pr(3)     Pr(4)\n",
       "class 1:   2.126764e-01 0.0601222 0.4087160 0.3184853\n",
       "class 2:  1.926283e-157 0.6037233 0.2788540 0.1174227\n",
       "class 3:   1.061076e-01 0.2370277 0.2539455 0.4029192\n",
       "\n",
       "$empDiscMH\n",
       "              Pr(1)     Pr(2)      Pr(3)\n",
       "class 1:  0.7781698 0.1498108 0.07201940\n",
       "class 2:  0.4656429 0.4257247 0.10863243\n",
       "class 3:  0.8041357 0.1101271 0.08573719\n",
       "\n",
       "$empResourceMH\n",
       "              Pr(1)      Pr(2)     Pr(3)\n",
       "class 1:  0.4935734 0.09156644 0.4148602\n",
       "class 2:  0.2654382 0.53149626 0.2030655\n",
       "class 3:  0.5728230 0.21521471 0.2119623\n",
       "\n",
       "$anonProtected\n",
       "              Pr(1)     Pr(2)      Pr(3)\n",
       "class 1:  0.7952877 0.1624957 0.04221660\n",
       "class 2:  0.3628419 0.6049427 0.03221538\n",
       "class 3:  0.6615075 0.1896335 0.14885896\n",
       "\n",
       "$askLeaveDiff\n",
       "               Pr(1)     Pr(2)     Pr(3)       Pr(4)      Pr(5)      Pr(6)\n",
       "class 1:  0.26897298 0.3065587 0.1981722 0.008404437 0.08608925 0.13180238\n",
       "class 2:  0.36731656 0.3134537 0.1519005 0.012890826 0.07668416 0.07775424\n",
       "class 3:  0.04916784 0.1237994 0.1259986 0.220889999 0.32316312 0.15698108\n",
       "\n",
       "$negConsDiscMH\n",
       "               Pr(1)     Pr(2)      Pr(3)\n",
       "class 1:  0.61298667 0.3680594 0.01895389\n",
       "class 2:  0.71300178 0.2668044 0.02019384\n",
       "class 3:  0.01035916 0.5283918 0.46124909\n",
       "\n",
       "$negConsDiscPH\n",
       "              Pr(1)      Pr(2)         Pr(3)\n",
       "class 1:  0.8871132 0.11288685  0.000000e+00\n",
       "class 2:  0.9188544 0.08114562 3.963335e-247\n",
       "class 3:  0.4876558 0.41595463  9.638953e-02\n",
       "\n",
       "$coworkComfMHD\n",
       "              Pr(1)      Pr(2)      Pr(3)\n",
       "class 1:  0.4222275 0.36947491 0.20829757\n",
       "class 2:  0.5242416 0.40811732 0.06764111\n",
       "class 3:  0.3146879 0.04691369 0.63839837\n",
       "\n",
       "$superComfMHD\n",
       "               Pr(1)     Pr(2)      Pr(3)\n",
       "class 1:  0.50966453 0.3374349 0.15290062\n",
       "class 2:  0.70200861 0.2777027 0.02028869\n",
       "class 3:  0.06948366 0.3496547 0.58086162\n",
       "\n",
       "$empSeriousMH\n",
       "              Pr(1)      Pr(2)     Pr(3)\n",
       "class 1:  0.4941462 0.38370897 0.1221448\n",
       "class 2:  0.2777335 0.56702113 0.1552454\n",
       "class 3:  0.4852353 0.09492299 0.4198418\n",
       "\n",
       "$heardNegConsMH\n",
       "              Pr(1)         Pr(2)\n",
       "class 1:  1.0000000 1.628924e-104\n",
       "class 2:  0.9346540  6.534599e-02\n",
       "class 3:  0.8378824  1.621176e-01\n",
       "\n",
       "$discInterviewPH\n",
       "              Pr(1)     Pr(2)     Pr(3)\n",
       "class 1:  0.4684743 0.3291969 0.2023287\n",
       "class 2:  0.4538477 0.2797621 0.2663902\n",
       "class 3:  0.3624552 0.1799415 0.4576032\n",
       "\n",
       "$discInterviewMH\n",
       "              Pr(1)     Pr(2)       Pr(3)\n",
       "class 1:  0.4141951 0.4443144 0.141490471\n",
       "class 2:  0.3784929 0.5188057 0.102701387\n",
       "class 3:  0.1080653 0.8868756 0.005059122\n",
       "\n",
       "$hurtCareerMH\n",
       "              Pr(1)        Pr(2)     Pr(3)         Pr(4)       Pr(5)\n",
       "class 1:  0.6400979 1.593310e-01 0.1786443  1.256227e-02 0.009364537\n",
       "class 2:  0.4571984 2.120691e-01 0.2089758  8.229287e-02 0.039463789\n",
       "class 3:  0.1678252 2.158570e-31 0.6912437 3.440738e-252 0.140931092\n",
       "\n",
       "$teamNegMH\n",
       "               Pr(1)     Pr(2)        Pr(3)      Pr(4)         Pr(5)\n",
       "class 1:  0.40917010 0.5059225 2.746781e-41 0.06559947  1.930795e-02\n",
       "class 2:  0.36634273 0.4244439 2.001484e-02 0.06960929  1.195892e-01\n",
       "class 3:  0.04594928 0.2806029 5.668430e-02 0.61676350 6.068534e-226\n",
       "\n",
       "$observeBadResponseMH\n",
       "              Pr(1)     Pr(2)      Pr(3)     Pr(4)      Pr(5)\n",
       "class 1:  0.6438238 0.1456524 0.04150696 0.1072585 0.06175832\n",
       "class 2:  0.4658428 0.2119307 0.14336701 0.1522821 0.02657739\n",
       "class 3:  0.2421454 0.3226602 0.17133292 0.2196491 0.04421233\n"
      ]
     },
     "metadata": {},
     "output_type": "display_data"
    }
   ],
   "source": [
    "finalMod.lcm$probs"
   ]
  },
  {
   "cell_type": "markdown",
   "metadata": {},
   "source": [
    "We see interesting results from the following tables:\n",
    "\n",
    "* ```empProvideMHB```\n",
    "\n",
    "* ```knowMHB```\n",
    "\n",
    "* ```empDiscMH```\n",
    "\n",
    "* ```anonProtected```\n",
    "\n",
    "* ```askLeaveDiff```\n",
    "\n",
    "* ```negConsDiscMH```\n",
    "\n",
    "* ```negConsDiscPH```\n",
    "\n",
    "* ```coworkComfMHD```\n",
    "\n",
    "* ```superComfMHD```\n",
    "\n",
    "* ```discInterviewMH```\n",
    "\n",
    "* ```hurtCareerMH```\n",
    "\n",
    "* ```teamNegMH```\n",
    "\n",
    "* ```observeBadResponseMH```"
   ]
  },
  {
   "cell_type": "code",
   "execution_count": 27,
   "metadata": {
    "collapsed": false,
    "scrolled": false
   },
   "outputs": [
    {
     "data": {
      "text/html": [
       "<table>\n",
       "<thead><tr><th></th><th scope=col>Not eligible for coverage / N/A</th><th scope=col>No</th><th scope=col>Yes</th><th scope=col>I don't know</th></tr></thead>\n",
       "<tbody>\n",
       "\t<tr><th scope=row>class 1: </th><td>1.642364e-01</td><td>2.167321e-01</td><td>0.1424650   </td><td>0.47656658  </td></tr>\n",
       "\t<tr><th scope=row>class 2: </th><td>8.320116e-16</td><td>2.159016e-43</td><td>0.9137403   </td><td>0.08625966  </td></tr>\n",
       "\t<tr><th scope=row>class 3: </th><td>8.546565e-02</td><td>2.648100e-01</td><td>0.4682599   </td><td>0.18146453  </td></tr>\n",
       "</tbody>\n",
       "</table>\n"
      ],
      "text/latex": [
       "\\begin{tabular}{r|llll}\n",
       "  & Not eligible for coverage / N/A & No & Yes & I don't know\\\\\n",
       "\\hline\n",
       "\tclass 1:  & 1.642364e-01 & 2.167321e-01 & 0.1424650    & 0.47656658  \\\\\n",
       "\tclass 2:  & 8.320116e-16 & 2.159016e-43 & 0.9137403    & 0.08625966  \\\\\n",
       "\tclass 3:  & 8.546565e-02 & 2.648100e-01 & 0.4682599    & 0.18146453  \\\\\n",
       "\\end{tabular}\n"
      ],
      "text/markdown": [
       "\n",
       "| <!--/--> | Not eligible for coverage / N/A | No | Yes | I don't know | \n",
       "|---|---|---|\n",
       "| class 1:  | 1.642364e-01 | 2.167321e-01 | 0.1424650    | 0.47656658   | \n",
       "| class 2:  | 8.320116e-16 | 2.159016e-43 | 0.9137403    | 0.08625966   | \n",
       "| class 3:  | 8.546565e-02 | 2.648100e-01 | 0.4682599    | 0.18146453   | \n",
       "\n",
       "\n"
      ],
      "text/plain": [
       "          Not eligible for coverage / N/A No           Yes       I don't know\n",
       "class 1:  1.642364e-01                    2.167321e-01 0.1424650 0.47656658  \n",
       "class 2:  8.320116e-16                    2.159016e-43 0.9137403 0.08625966  \n",
       "class 3:  8.546565e-02                    2.648100e-01 0.4682599 0.18146453  "
      ]
     },
     "metadata": {},
     "output_type": "display_data"
    }
   ],
   "source": [
    "displayTable(finalMod.lcm,\"empProvideMHB\")"
   ]
  },
  {
   "cell_type": "markdown",
   "metadata": {},
   "source": [
    "_Table 2: Conditional Probabilities on Answers to the question \"Does your employer provide mental health benefits as part of healthcare coverage?\" ._\n",
    "\n",
    "We see a start effect beginning to occur in these classes. It is apparent that Class $2$ has a higher chance of having mental health coverage than classes $1$ and $3$. However, For Class $1$, this is because of an uncertainty about available coverage (\"I don't know\"), while this is more evenly distributed across outcomes for class $3$. This to some extent suggests that we have a class that has good coverage, and two classes that either primarily don't or are uncertain about available coverage."
   ]
  },
  {
   "cell_type": "code",
   "execution_count": 28,
   "metadata": {
    "collapsed": false
   },
   "outputs": [
    {
     "data": {
      "text/html": [
       "<table>\n",
       "<thead><tr><th></th><th scope=col>N/A</th><th scope=col>Yes</th><th scope=col>I am not sure</th><th scope=col>No</th></tr></thead>\n",
       "<tbody>\n",
       "\t<tr><th scope=row>class 1: </th><td> 2.126764e-01</td><td>0.0601222    </td><td>0.4087160    </td><td>0.3184853    </td></tr>\n",
       "\t<tr><th scope=row>class 2: </th><td>1.926283e-157</td><td>0.6037233    </td><td>0.2788540    </td><td>0.1174227    </td></tr>\n",
       "\t<tr><th scope=row>class 3: </th><td> 1.061076e-01</td><td>0.2370277    </td><td>0.2539455    </td><td>0.4029192    </td></tr>\n",
       "</tbody>\n",
       "</table>\n"
      ],
      "text/latex": [
       "\\begin{tabular}{r|llll}\n",
       "  & N/A & Yes & I am not sure & No\\\\\n",
       "\\hline\n",
       "\tclass 1:  &  2.126764e-01 & 0.0601222     & 0.4087160     & 0.3184853    \\\\\n",
       "\tclass 2:  & 1.926283e-157 & 0.6037233     & 0.2788540     & 0.1174227    \\\\\n",
       "\tclass 3:  &  1.061076e-01 & 0.2370277     & 0.2539455     & 0.4029192    \\\\\n",
       "\\end{tabular}\n"
      ],
      "text/markdown": [
       "\n",
       "| <!--/--> | N/A | Yes | I am not sure | No | \n",
       "|---|---|---|\n",
       "| class 1:  |  2.126764e-01 | 0.0601222     | 0.4087160     | 0.3184853     | \n",
       "| class 2:  | 1.926283e-157 | 0.6037233     | 0.2788540     | 0.1174227     | \n",
       "| class 3:  |  1.061076e-01 | 0.2370277     | 0.2539455     | 0.4029192     | \n",
       "\n",
       "\n"
      ],
      "text/plain": [
       "          N/A           Yes       I am not sure No       \n",
       "class 1:   2.126764e-01 0.0601222 0.4087160     0.3184853\n",
       "class 2:  1.926283e-157 0.6037233 0.2788540     0.1174227\n",
       "class 3:   1.061076e-01 0.2370277 0.2539455     0.4029192"
      ]
     },
     "metadata": {},
     "output_type": "display_data"
    }
   ],
   "source": [
    "displayTable(finalMod.lcm,\"knowMHB\")"
   ]
  },
  {
   "cell_type": "markdown",
   "metadata": {},
   "source": [
    "_Table 3: Conditional Probabilities on Answers to the question \"Do you know the options for mental health care available under your employer-provided coverage?\" ._\n",
    "\n",
    "We see an emphasis on \"I am not sure\" and \"No\" for class $1$, an emphasis on \"Yes\" and \"I am not sure\" for class $2$, and a balanced class for class $3$. This suggests that class $1$ leans no on this question, class $2$ leans yes on this question, and class $3$ is generally uncertain on its lean for this question."
   ]
  },
  {
   "cell_type": "code",
   "execution_count": 29,
   "metadata": {
    "collapsed": false
   },
   "outputs": [
    {
     "data": {
      "text/html": [
       "<table>\n",
       "<thead><tr><th></th><th scope=col>No</th><th scope=col>Yes</th><th scope=col>I don't know</th></tr></thead>\n",
       "<tbody>\n",
       "\t<tr><th scope=row>class 1: </th><td>0.7781698 </td><td>0.1498108 </td><td>0.07201940</td></tr>\n",
       "\t<tr><th scope=row>class 2: </th><td>0.4656429 </td><td>0.4257247 </td><td>0.10863243</td></tr>\n",
       "\t<tr><th scope=row>class 3: </th><td>0.8041357 </td><td>0.1101271 </td><td>0.08573719</td></tr>\n",
       "</tbody>\n",
       "</table>\n"
      ],
      "text/latex": [
       "\\begin{tabular}{r|lll}\n",
       "  & No & Yes & I don't know\\\\\n",
       "\\hline\n",
       "\tclass 1:  & 0.7781698  & 0.1498108  & 0.07201940\\\\\n",
       "\tclass 2:  & 0.4656429  & 0.4257247  & 0.10863243\\\\\n",
       "\tclass 3:  & 0.8041357  & 0.1101271  & 0.08573719\\\\\n",
       "\\end{tabular}\n"
      ],
      "text/markdown": [
       "\n",
       "| <!--/--> | No | Yes | I don't know | \n",
       "|---|---|---|\n",
       "| class 1:  | 0.7781698  | 0.1498108  | 0.07201940 | \n",
       "| class 2:  | 0.4656429  | 0.4257247  | 0.10863243 | \n",
       "| class 3:  | 0.8041357  | 0.1101271  | 0.08573719 | \n",
       "\n",
       "\n"
      ],
      "text/plain": [
       "          No        Yes       I don't know\n",
       "class 1:  0.7781698 0.1498108 0.07201940  \n",
       "class 2:  0.4656429 0.4257247 0.10863243  \n",
       "class 3:  0.8041357 0.1101271 0.08573719  "
      ]
     },
     "metadata": {},
     "output_type": "display_data"
    }
   ],
   "source": [
    "displayTable(finalMod.lcm,\"empDiscMH\")"
   ]
  },
  {
   "cell_type": "markdown",
   "metadata": {},
   "source": [
    "_Table 4: Conditional Probabilities on Answers to the question \"Has your employer ever formally discussed mental health (for example, as part of a wellness campaign or other official communication)?\" ._\n",
    "\n",
    "We see that Class $1$ and Class $3$ seem to be centered on No, while class $2$ is balanced between no and yes. Thus, Class $1$ and $3$ represent a likelihood of an employer not discussing mental health, while class $2$ represents a toss-up between the two possibilities."
   ]
  },
  {
   "cell_type": "code",
   "execution_count": 30,
   "metadata": {
    "collapsed": false
   },
   "outputs": [
    {
     "data": {
      "text/html": [
       "<table>\n",
       "<thead><tr><th></th><th scope=col>I don't know</th><th scope=col>Yes</th><th scope=col>No</th></tr></thead>\n",
       "<tbody>\n",
       "\t<tr><th scope=row>class 1: </th><td>0.7952877 </td><td>0.1624957 </td><td>0.04221660</td></tr>\n",
       "\t<tr><th scope=row>class 2: </th><td>0.3628419 </td><td>0.6049427 </td><td>0.03221538</td></tr>\n",
       "\t<tr><th scope=row>class 3: </th><td>0.6615075 </td><td>0.1896335 </td><td>0.14885896</td></tr>\n",
       "</tbody>\n",
       "</table>\n"
      ],
      "text/latex": [
       "\\begin{tabular}{r|lll}\n",
       "  & I don't know & Yes & No\\\\\n",
       "\\hline\n",
       "\tclass 1:  & 0.7952877  & 0.1624957  & 0.04221660\\\\\n",
       "\tclass 2:  & 0.3628419  & 0.6049427  & 0.03221538\\\\\n",
       "\tclass 3:  & 0.6615075  & 0.1896335  & 0.14885896\\\\\n",
       "\\end{tabular}\n"
      ],
      "text/markdown": [
       "\n",
       "| <!--/--> | I don't know | Yes | No | \n",
       "|---|---|---|\n",
       "| class 1:  | 0.7952877  | 0.1624957  | 0.04221660 | \n",
       "| class 2:  | 0.3628419  | 0.6049427  | 0.03221538 | \n",
       "| class 3:  | 0.6615075  | 0.1896335  | 0.14885896 | \n",
       "\n",
       "\n"
      ],
      "text/plain": [
       "          I don't know Yes       No        \n",
       "class 1:  0.7952877    0.1624957 0.04221660\n",
       "class 2:  0.3628419    0.6049427 0.03221538\n",
       "class 3:  0.6615075    0.1896335 0.14885896"
      ]
     },
     "metadata": {},
     "output_type": "display_data"
    }
   ],
   "source": [
    "displayTable(finalMod.lcm,\"anonProtected\")"
   ]
  },
  {
   "cell_type": "markdown",
   "metadata": {},
   "source": [
    "_Table 5: Conditional Probabilities on answers to the question \"Is your anonymity protected if you choose to take advantage of mental health or substance abuse treatment resources provided by your employer?\" ._\n",
    "\n",
    "We see that Class $1$ and $3$ represent a high uncertainty that their anonymity is protected, while Class $2$ leans yes on this. Thus, class $2$ represents individuals who are more sure that their anonymity will be protected if they take advantage of mental health and substance abuse treatment resources."
   ]
  },
  {
   "cell_type": "code",
   "execution_count": 31,
   "metadata": {
    "collapsed": false
   },
   "outputs": [
    {
     "data": {
      "text/html": [
       "<table>\n",
       "<thead><tr><th></th><th scope=col>Very easy</th><th scope=col>Somewhat easy</th><th scope=col>Neither easy nor difficult</th><th scope=col>Very difficult</th><th scope=col>Somewhat difficult</th><th scope=col>I don't know</th></tr></thead>\n",
       "<tbody>\n",
       "\t<tr><th scope=row>class 1: </th><td>0.26897298 </td><td>0.3065587  </td><td>0.1981722  </td><td>0.008404437</td><td>0.08608925 </td><td>0.13180238 </td></tr>\n",
       "\t<tr><th scope=row>class 2: </th><td>0.36731656 </td><td>0.3134537  </td><td>0.1519005  </td><td>0.012890826</td><td>0.07668416 </td><td>0.07775424 </td></tr>\n",
       "\t<tr><th scope=row>class 3: </th><td>0.04916784 </td><td>0.1237994  </td><td>0.1259986  </td><td>0.220889999</td><td>0.32316312 </td><td>0.15698108 </td></tr>\n",
       "</tbody>\n",
       "</table>\n"
      ],
      "text/latex": [
       "\\begin{tabular}{r|llllll}\n",
       "  & Very easy & Somewhat easy & Neither easy nor difficult & Very difficult & Somewhat difficult & I don't know\\\\\n",
       "\\hline\n",
       "\tclass 1:  & 0.26897298  & 0.3065587   & 0.1981722   & 0.008404437 & 0.08608925  & 0.13180238 \\\\\n",
       "\tclass 2:  & 0.36731656  & 0.3134537   & 0.1519005   & 0.012890826 & 0.07668416  & 0.07775424 \\\\\n",
       "\tclass 3:  & 0.04916784  & 0.1237994   & 0.1259986   & 0.220889999 & 0.32316312  & 0.15698108 \\\\\n",
       "\\end{tabular}\n"
      ],
      "text/markdown": [
       "\n",
       "| <!--/--> | Very easy | Somewhat easy | Neither easy nor difficult | Very difficult | Somewhat difficult | I don't know | \n",
       "|---|---|---|\n",
       "| class 1:  | 0.26897298  | 0.3065587   | 0.1981722   | 0.008404437 | 0.08608925  | 0.13180238  | \n",
       "| class 2:  | 0.36731656  | 0.3134537   | 0.1519005   | 0.012890826 | 0.07668416  | 0.07775424  | \n",
       "| class 3:  | 0.04916784  | 0.1237994   | 0.1259986   | 0.220889999 | 0.32316312  | 0.15698108  | \n",
       "\n",
       "\n"
      ],
      "text/plain": [
       "          Very easy  Somewhat easy Neither easy nor difficult Very difficult\n",
       "class 1:  0.26897298 0.3065587     0.1981722                  0.008404437   \n",
       "class 2:  0.36731656 0.3134537     0.1519005                  0.012890826   \n",
       "class 3:  0.04916784 0.1237994     0.1259986                  0.220889999   \n",
       "          Somewhat difficult I don't know\n",
       "class 1:  0.08608925         0.13180238  \n",
       "class 2:  0.07668416         0.07775424  \n",
       "class 3:  0.32316312         0.15698108  "
      ]
     },
     "metadata": {},
     "output_type": "display_data"
    }
   ],
   "source": [
    "displayTable(finalMod.lcm,\"askLeaveDiff\")"
   ]
  },
  {
   "cell_type": "markdown",
   "metadata": {},
   "source": [
    "_Table 6: \"If a mental health issue prompted you to request a medical leave from work, asking for that leave would be:\"_\n",
    "\n",
    "We see that class $1$ and $2$ generally features individuals who would suggest that asking for leave for mental health reasons would be easy, while Class $3$ represents individuals who would find that process more difficult."
   ]
  },
  {
   "cell_type": "code",
   "execution_count": 32,
   "metadata": {
    "collapsed": false
   },
   "outputs": [
    {
     "data": {
      "text/html": [
       "<table>\n",
       "<thead><tr><th></th><th scope=col>No</th><th scope=col>Maybe</th><th scope=col>Yes</th></tr></thead>\n",
       "<tbody>\n",
       "\t<tr><th scope=row>class 1: </th><td>0.61298667</td><td>0.3680594 </td><td>0.01895389</td></tr>\n",
       "\t<tr><th scope=row>class 2: </th><td>0.71300178</td><td>0.2668044 </td><td>0.02019384</td></tr>\n",
       "\t<tr><th scope=row>class 3: </th><td>0.01035916</td><td>0.5283918 </td><td>0.46124909</td></tr>\n",
       "</tbody>\n",
       "</table>\n"
      ],
      "text/latex": [
       "\\begin{tabular}{r|lll}\n",
       "  & No & Maybe & Yes\\\\\n",
       "\\hline\n",
       "\tclass 1:  & 0.61298667 & 0.3680594  & 0.01895389\\\\\n",
       "\tclass 2:  & 0.71300178 & 0.2668044  & 0.02019384\\\\\n",
       "\tclass 3:  & 0.01035916 & 0.5283918  & 0.46124909\\\\\n",
       "\\end{tabular}\n"
      ],
      "text/markdown": [
       "\n",
       "| <!--/--> | No | Maybe | Yes | \n",
       "|---|---|---|\n",
       "| class 1:  | 0.61298667 | 0.3680594  | 0.01895389 | \n",
       "| class 2:  | 0.71300178 | 0.2668044  | 0.02019384 | \n",
       "| class 3:  | 0.01035916 | 0.5283918  | 0.46124909 | \n",
       "\n",
       "\n"
      ],
      "text/plain": [
       "          No         Maybe     Yes       \n",
       "class 1:  0.61298667 0.3680594 0.01895389\n",
       "class 2:  0.71300178 0.2668044 0.02019384\n",
       "class 3:  0.01035916 0.5283918 0.46124909"
      ]
     },
     "metadata": {},
     "output_type": "display_data"
    }
   ],
   "source": [
    "displayTable(finalMod.lcm,\"negConsDiscMH\")"
   ]
  },
  {
   "cell_type": "markdown",
   "metadata": {},
   "source": [
    "_Table 7: \"Do you think that discussing a mental health disorder with your employer would have negative consequences?\" ._\n",
    "\n",
    "Classes $1$ and $2$ generally feature indivduals who find the process of discussing mental health with their employer to not feature negative consequences, while Class $3$ suggests that there might be negative consequences to this process."
   ]
  },
  {
   "cell_type": "code",
   "execution_count": 33,
   "metadata": {
    "collapsed": false
   },
   "outputs": [
    {
     "data": {
      "text/html": [
       "<table>\n",
       "<thead><tr><th></th><th scope=col>No</th><th scope=col>Maybe</th><th scope=col>Yes</th></tr></thead>\n",
       "<tbody>\n",
       "\t<tr><th scope=row>class 1: </th><td>0.8871132    </td><td>0.11288685   </td><td> 0.000000e+00</td></tr>\n",
       "\t<tr><th scope=row>class 2: </th><td>0.9188544    </td><td>0.08114562   </td><td>3.963335e-247</td></tr>\n",
       "\t<tr><th scope=row>class 3: </th><td>0.4876558    </td><td>0.41595463   </td><td> 9.638953e-02</td></tr>\n",
       "</tbody>\n",
       "</table>\n"
      ],
      "text/latex": [
       "\\begin{tabular}{r|lll}\n",
       "  & No & Maybe & Yes\\\\\n",
       "\\hline\n",
       "\tclass 1:  & 0.8871132     & 0.11288685    &  0.000000e+00\\\\\n",
       "\tclass 2:  & 0.9188544     & 0.08114562    & 3.963335e-247\\\\\n",
       "\tclass 3:  & 0.4876558     & 0.41595463    &  9.638953e-02\\\\\n",
       "\\end{tabular}\n"
      ],
      "text/markdown": [
       "\n",
       "| <!--/--> | No | Maybe | Yes | \n",
       "|---|---|---|\n",
       "| class 1:  | 0.8871132     | 0.11288685    |  0.000000e+00 | \n",
       "| class 2:  | 0.9188544     | 0.08114562    | 3.963335e-247 | \n",
       "| class 3:  | 0.4876558     | 0.41595463    |  9.638953e-02 | \n",
       "\n",
       "\n"
      ],
      "text/plain": [
       "          No        Maybe      Yes          \n",
       "class 1:  0.8871132 0.11288685  0.000000e+00\n",
       "class 2:  0.9188544 0.08114562 3.963335e-247\n",
       "class 3:  0.4876558 0.41595463  9.638953e-02"
      ]
     },
     "metadata": {},
     "output_type": "display_data"
    }
   ],
   "source": [
    "displayTable(finalMod.lcm,\"negConsDiscPH\")"
   ]
  },
  {
   "cell_type": "markdown",
   "metadata": {},
   "source": [
    "_Table 8: \"Do you think that discussing a physical health issue with your employer would have negative consequences?\" ._\n",
    "\n",
    "Interestingly, Classes $1$ and $2$ seem to also find that discussing mental health will not feature negative consequences, while Class 3 leans maybe-to-no on this context. Thus, Classes $1$ and $2$ seem rather certain that they will not feature negative consequences on either discussions of mental and physical health, while Class $3$ leans yes for mental health and leans no for physical health. In particular, what becomes rather interesting is that Classes $1$ and $2$ seem to be much more certain that they will not face negative consequences in the physical health ream than they are in the mental health realm."
   ]
  },
  {
   "cell_type": "code",
   "execution_count": 34,
   "metadata": {
    "collapsed": false
   },
   "outputs": [
    {
     "data": {
      "text/html": [
       "<table>\n",
       "<thead><tr><th></th><th scope=col>Maybe</th><th scope=col>Yes</th><th scope=col>No</th></tr></thead>\n",
       "<tbody>\n",
       "\t<tr><th scope=row>class 1: </th><td>0.4222275 </td><td>0.36947491</td><td>0.20829757</td></tr>\n",
       "\t<tr><th scope=row>class 2: </th><td>0.5242416 </td><td>0.40811732</td><td>0.06764111</td></tr>\n",
       "\t<tr><th scope=row>class 3: </th><td>0.3146879 </td><td>0.04691369</td><td>0.63839837</td></tr>\n",
       "</tbody>\n",
       "</table>\n"
      ],
      "text/latex": [
       "\\begin{tabular}{r|lll}\n",
       "  & Maybe & Yes & No\\\\\n",
       "\\hline\n",
       "\tclass 1:  & 0.4222275  & 0.36947491 & 0.20829757\\\\\n",
       "\tclass 2:  & 0.5242416  & 0.40811732 & 0.06764111\\\\\n",
       "\tclass 3:  & 0.3146879  & 0.04691369 & 0.63839837\\\\\n",
       "\\end{tabular}\n"
      ],
      "text/markdown": [
       "\n",
       "| <!--/--> | Maybe | Yes | No | \n",
       "|---|---|---|\n",
       "| class 1:  | 0.4222275  | 0.36947491 | 0.20829757 | \n",
       "| class 2:  | 0.5242416  | 0.40811732 | 0.06764111 | \n",
       "| class 3:  | 0.3146879  | 0.04691369 | 0.63839837 | \n",
       "\n",
       "\n"
      ],
      "text/plain": [
       "          Maybe     Yes        No        \n",
       "class 1:  0.4222275 0.36947491 0.20829757\n",
       "class 2:  0.5242416 0.40811732 0.06764111\n",
       "class 3:  0.3146879 0.04691369 0.63839837"
      ]
     },
     "metadata": {},
     "output_type": "display_data"
    }
   ],
   "source": [
    "displayTable(finalMod.lcm,\"coworkComfMHD\")"
   ]
  },
  {
   "cell_type": "markdown",
   "metadata": {},
   "source": [
    "_Table 9: \"Would you feel comfortable discussing a mental health disorder with your coworkers?\" _\n",
    "\n",
    "What becomes clear is the effect on the no answer. We see that there is a higher emphasis on \"No\" progressing from classes $2$, $1$, $3.$ This may suggest that Class $2$ features those who are very likely to be uncomfortable discussing with their coworkers, Class $1$ features individuals who are somewhat likely to be uncomfortable discussing with their coworkers, and Class $3$ features individuals who are not very likely to be uncomfortable discussing with their coworkers."
   ]
  },
  {
   "cell_type": "code",
   "execution_count": 35,
   "metadata": {
    "collapsed": false
   },
   "outputs": [
    {
     "data": {
      "text/html": [
       "<table>\n",
       "<thead><tr><th></th><th scope=col>Yes</th><th scope=col>Maybe</th><th scope=col>No</th></tr></thead>\n",
       "<tbody>\n",
       "\t<tr><th scope=row>class 1: </th><td>0.50966453</td><td>0.3374349 </td><td>0.15290062</td></tr>\n",
       "\t<tr><th scope=row>class 2: </th><td>0.70200861</td><td>0.2777027 </td><td>0.02028869</td></tr>\n",
       "\t<tr><th scope=row>class 3: </th><td>0.06948366</td><td>0.3496547 </td><td>0.58086162</td></tr>\n",
       "</tbody>\n",
       "</table>\n"
      ],
      "text/latex": [
       "\\begin{tabular}{r|lll}\n",
       "  & Yes & Maybe & No\\\\\n",
       "\\hline\n",
       "\tclass 1:  & 0.50966453 & 0.3374349  & 0.15290062\\\\\n",
       "\tclass 2:  & 0.70200861 & 0.2777027  & 0.02028869\\\\\n",
       "\tclass 3:  & 0.06948366 & 0.3496547  & 0.58086162\\\\\n",
       "\\end{tabular}\n"
      ],
      "text/markdown": [
       "\n",
       "| <!--/--> | Yes | Maybe | No | \n",
       "|---|---|---|\n",
       "| class 1:  | 0.50966453 | 0.3374349  | 0.15290062 | \n",
       "| class 2:  | 0.70200861 | 0.2777027  | 0.02028869 | \n",
       "| class 3:  | 0.06948366 | 0.3496547  | 0.58086162 | \n",
       "\n",
       "\n"
      ],
      "text/plain": [
       "          Yes        Maybe     No        \n",
       "class 1:  0.50966453 0.3374349 0.15290062\n",
       "class 2:  0.70200861 0.2777027 0.02028869\n",
       "class 3:  0.06948366 0.3496547 0.58086162"
      ]
     },
     "metadata": {},
     "output_type": "display_data"
    }
   ],
   "source": [
    "displayTable(finalMod.lcm,\"superComfMHD\")"
   ]
  },
  {
   "cell_type": "markdown",
   "metadata": {},
   "source": [
    "_Table 10: \"Would you feel comfortable discussing a mental health disorder with your direct supervisor(s)?\" ._\n",
    "\n",
    "We see a similar progression from our previous table. Thus, it is likely that those who are comfortable discussing mental health with their coworkers are likely to be comfortable discussing mental health with their direct supervisors."
   ]
  },
  {
   "cell_type": "code",
   "execution_count": 36,
   "metadata": {
    "collapsed": false
   },
   "outputs": [
    {
     "data": {
      "text/html": [
       "<table>\n",
       "<thead><tr><th></th><th scope=col>Maybe</th><th scope=col>No</th><th scope=col>Yes</th></tr></thead>\n",
       "<tbody>\n",
       "\t<tr><th scope=row>class 1: </th><td>0.4141951  </td><td>0.4443144  </td><td>0.141490471</td></tr>\n",
       "\t<tr><th scope=row>class 2: </th><td>0.3784929  </td><td>0.5188057  </td><td>0.102701387</td></tr>\n",
       "\t<tr><th scope=row>class 3: </th><td>0.1080653  </td><td>0.8868756  </td><td>0.005059122</td></tr>\n",
       "</tbody>\n",
       "</table>\n"
      ],
      "text/latex": [
       "\\begin{tabular}{r|lll}\n",
       "  & Maybe & No & Yes\\\\\n",
       "\\hline\n",
       "\tclass 1:  & 0.4141951   & 0.4443144   & 0.141490471\\\\\n",
       "\tclass 2:  & 0.3784929   & 0.5188057   & 0.102701387\\\\\n",
       "\tclass 3:  & 0.1080653   & 0.8868756   & 0.005059122\\\\\n",
       "\\end{tabular}\n"
      ],
      "text/markdown": [
       "\n",
       "| <!--/--> | Maybe | No | Yes | \n",
       "|---|---|---|\n",
       "| class 1:  | 0.4141951   | 0.4443144   | 0.141490471 | \n",
       "| class 2:  | 0.3784929   | 0.5188057   | 0.102701387 | \n",
       "| class 3:  | 0.1080653   | 0.8868756   | 0.005059122 | \n",
       "\n",
       "\n"
      ],
      "text/plain": [
       "          Maybe     No        Yes        \n",
       "class 1:  0.4141951 0.4443144 0.141490471\n",
       "class 2:  0.3784929 0.5188057 0.102701387\n",
       "class 3:  0.1080653 0.8868756 0.005059122"
      ]
     },
     "metadata": {},
     "output_type": "display_data"
    }
   ],
   "source": [
    "displayTable(finalMod.lcm,\"discInterviewMH\")"
   ]
  },
  {
   "cell_type": "markdown",
   "metadata": {},
   "source": [
    "_Table 11: \"Would you bring up a mental health issue with a potential employer in an interview?\" ._\n",
    "\n",
    "We see another thing occur: Class $3$ will very not likely discuss a mental health issue with a potential employer, and there seems to be more comfort in class $2$ and $1$. We see generally that most people do not say yes to this question, expressing a lean no across all classes."
   ]
  },
  {
   "cell_type": "code",
   "execution_count": 37,
   "metadata": {
    "collapsed": false
   },
   "outputs": [
    {
     "data": {
      "text/html": [
       "<table>\n",
       "<thead><tr><th></th><th scope=col>Maybe</th><th scope=col>No, I don't think it would</th><th scope=col>Yes, I think it would</th><th scope=col>No, it has not</th><th scope=col>Yes, it has</th></tr></thead>\n",
       "<tbody>\n",
       "\t<tr><th scope=row>class 1: </th><td>0.6400979    </td><td>1.593310e-01 </td><td>0.1786443    </td><td> 1.256227e-02</td><td>0.009364537  </td></tr>\n",
       "\t<tr><th scope=row>class 2: </th><td>0.4571984    </td><td>2.120691e-01 </td><td>0.2089758    </td><td> 8.229287e-02</td><td>0.039463789  </td></tr>\n",
       "\t<tr><th scope=row>class 3: </th><td>0.1678252    </td><td>2.158570e-31 </td><td>0.6912437    </td><td>3.440738e-252</td><td>0.140931092  </td></tr>\n",
       "</tbody>\n",
       "</table>\n"
      ],
      "text/latex": [
       "\\begin{tabular}{r|lllll}\n",
       "  & Maybe & No, I don't think it would & Yes, I think it would & No, it has not & Yes, it has\\\\\n",
       "\\hline\n",
       "\tclass 1:  & 0.6400979     & 1.593310e-01  & 0.1786443     &  1.256227e-02 & 0.009364537  \\\\\n",
       "\tclass 2:  & 0.4571984     & 2.120691e-01  & 0.2089758     &  8.229287e-02 & 0.039463789  \\\\\n",
       "\tclass 3:  & 0.1678252     & 2.158570e-31  & 0.6912437     & 3.440738e-252 & 0.140931092  \\\\\n",
       "\\end{tabular}\n"
      ],
      "text/markdown": [
       "\n",
       "| <!--/--> | Maybe | No, I don't think it would | Yes, I think it would | No, it has not | Yes, it has | \n",
       "|---|---|---|\n",
       "| class 1:  | 0.6400979     | 1.593310e-01  | 0.1786443     |  1.256227e-02 | 0.009364537   | \n",
       "| class 2:  | 0.4571984     | 2.120691e-01  | 0.2089758     |  8.229287e-02 | 0.039463789   | \n",
       "| class 3:  | 0.1678252     | 2.158570e-31  | 0.6912437     | 3.440738e-252 | 0.140931092   | \n",
       "\n",
       "\n"
      ],
      "text/plain": [
       "          Maybe     No, I don't think it would Yes, I think it would\n",
       "class 1:  0.6400979 1.593310e-01               0.1786443            \n",
       "class 2:  0.4571984 2.120691e-01               0.2089758            \n",
       "class 3:  0.1678252 2.158570e-31               0.6912437            \n",
       "          No, it has not Yes, it has\n",
       "class 1:   1.256227e-02  0.009364537\n",
       "class 2:   8.229287e-02  0.039463789\n",
       "class 3:  3.440738e-252  0.140931092"
      ]
     },
     "metadata": {},
     "output_type": "display_data"
    }
   ],
   "source": [
    "displayTable(finalMod.lcm,\"hurtCareerMH\")"
   ]
  },
  {
   "cell_type": "markdown",
   "metadata": {},
   "source": [
    "_Table 12: \"Do you feel that being identified as a person with a mental health issue would hurt your career?\"._\n",
    "\n",
    "We see the key impact is between the the \"Yes, I think it would\" column and the \"Maybe\" column. We see that Class $3$ tends to believe for sure that being identified as a person with a mental health issue will in fact hurt their career, while Classes $1$ and $2$ believe that being identified will only maybe hurt their career. This is again identifying a sense of certainty and uncertainty that exist among the three classes."
   ]
  },
  {
   "cell_type": "code",
   "execution_count": 38,
   "metadata": {
    "collapsed": false
   },
   "outputs": [
    {
     "data": {
      "text/html": [
       "<table>\n",
       "<thead><tr><th></th><th scope=col>No, I don't think they would</th><th scope=col>Maybe</th><th scope=col>Yes, they do</th><th scope=col>Yes, I think they would</th><th scope=col>No, they do not</th></tr></thead>\n",
       "<tbody>\n",
       "\t<tr><th scope=row>class 1: </th><td>0.40917010   </td><td>0.5059225    </td><td>2.746781e-41 </td><td>0.06559947   </td><td> 1.930795e-02</td></tr>\n",
       "\t<tr><th scope=row>class 2: </th><td>0.36634273   </td><td>0.4244439    </td><td>2.001484e-02 </td><td>0.06960929   </td><td> 1.195892e-01</td></tr>\n",
       "\t<tr><th scope=row>class 3: </th><td>0.04594928   </td><td>0.2806029    </td><td>5.668430e-02 </td><td>0.61676350   </td><td>6.068534e-226</td></tr>\n",
       "</tbody>\n",
       "</table>\n"
      ],
      "text/latex": [
       "\\begin{tabular}{r|lllll}\n",
       "  & No, I don't think they would & Maybe & Yes, they do & Yes, I think they would & No, they do not\\\\\n",
       "\\hline\n",
       "\tclass 1:  & 0.40917010    & 0.5059225     & 2.746781e-41  & 0.06559947    &  1.930795e-02\\\\\n",
       "\tclass 2:  & 0.36634273    & 0.4244439     & 2.001484e-02  & 0.06960929    &  1.195892e-01\\\\\n",
       "\tclass 3:  & 0.04594928    & 0.2806029     & 5.668430e-02  & 0.61676350    & 6.068534e-226\\\\\n",
       "\\end{tabular}\n"
      ],
      "text/markdown": [
       "\n",
       "| <!--/--> | No, I don't think they would | Maybe | Yes, they do | Yes, I think they would | No, they do not | \n",
       "|---|---|---|\n",
       "| class 1:  | 0.40917010    | 0.5059225     | 2.746781e-41  | 0.06559947    |  1.930795e-02 | \n",
       "| class 2:  | 0.36634273    | 0.4244439     | 2.001484e-02  | 0.06960929    |  1.195892e-01 | \n",
       "| class 3:  | 0.04594928    | 0.2806029     | 5.668430e-02  | 0.61676350    | 6.068534e-226 | \n",
       "\n",
       "\n"
      ],
      "text/plain": [
       "          No, I don't think they would Maybe     Yes, they do\n",
       "class 1:  0.40917010                   0.5059225 2.746781e-41\n",
       "class 2:  0.36634273                   0.4244439 2.001484e-02\n",
       "class 3:  0.04594928                   0.2806029 5.668430e-02\n",
       "          Yes, I think they would No, they do not\n",
       "class 1:  0.06559947               1.930795e-02  \n",
       "class 2:  0.06960929               1.195892e-01  \n",
       "class 3:  0.61676350              6.068534e-226  "
      ]
     },
     "metadata": {},
     "output_type": "display_data"
    }
   ],
   "source": [
    "displayTable(finalMod.lcm,\"teamNegMH\")"
   ]
  },
  {
   "cell_type": "markdown",
   "metadata": {},
   "source": [
    "_Table 13: \"Do you think that team members/co-workers would view you more negatively if they knew you suffered from a mental health issue?\" ._\n",
    "\n",
    "We see a that Class $3$ leans yes in this situation while classes $1$ and $2$ lean no in this situation. This is very similar to our previous question, although there is a deeper \"lean no\" in this context."
   ]
  },
  {
   "cell_type": "code",
   "execution_count": 39,
   "metadata": {
    "collapsed": false
   },
   "outputs": [
    {
     "data": {
      "text/html": [
       "<table>\n",
       "<thead><tr><th></th><th scope=col>No</th><th scope=col>Maybe/Not sure</th><th scope=col>Yes, I experienced</th><th scope=col>Yes, I observed</th><th scope=col>N/A</th></tr></thead>\n",
       "<tbody>\n",
       "\t<tr><th scope=row>class 1: </th><td>0.6438238 </td><td>0.1456524 </td><td>0.04150696</td><td>0.1072585 </td><td>0.06175832</td></tr>\n",
       "\t<tr><th scope=row>class 2: </th><td>0.4658428 </td><td>0.2119307 </td><td>0.14336701</td><td>0.1522821 </td><td>0.02657739</td></tr>\n",
       "\t<tr><th scope=row>class 3: </th><td>0.2421454 </td><td>0.3226602 </td><td>0.17133292</td><td>0.2196491 </td><td>0.04421233</td></tr>\n",
       "</tbody>\n",
       "</table>\n"
      ],
      "text/latex": [
       "\\begin{tabular}{r|lllll}\n",
       "  & No & Maybe/Not sure & Yes, I experienced & Yes, I observed & N/A\\\\\n",
       "\\hline\n",
       "\tclass 1:  & 0.6438238  & 0.1456524  & 0.04150696 & 0.1072585  & 0.06175832\\\\\n",
       "\tclass 2:  & 0.4658428  & 0.2119307  & 0.14336701 & 0.1522821  & 0.02657739\\\\\n",
       "\tclass 3:  & 0.2421454  & 0.3226602  & 0.17133292 & 0.2196491  & 0.04421233\\\\\n",
       "\\end{tabular}\n"
      ],
      "text/markdown": [
       "\n",
       "| <!--/--> | No | Maybe/Not sure | Yes, I experienced | Yes, I observed | N/A | \n",
       "|---|---|---|\n",
       "| class 1:  | 0.6438238  | 0.1456524  | 0.04150696 | 0.1072585  | 0.06175832 | \n",
       "| class 2:  | 0.4658428  | 0.2119307  | 0.14336701 | 0.1522821  | 0.02657739 | \n",
       "| class 3:  | 0.2421454  | 0.3226602  | 0.17133292 | 0.2196491  | 0.04421233 | \n",
       "\n",
       "\n"
      ],
      "text/plain": [
       "          No        Maybe/Not sure Yes, I experienced Yes, I observed\n",
       "class 1:  0.6438238 0.1456524      0.04150696         0.1072585      \n",
       "class 2:  0.4658428 0.2119307      0.14336701         0.1522821      \n",
       "class 3:  0.2421454 0.3226602      0.17133292         0.2196491      \n",
       "          N/A       \n",
       "class 1:  0.06175832\n",
       "class 2:  0.02657739\n",
       "class 3:  0.04421233"
      ]
     },
     "metadata": {},
     "output_type": "display_data"
    }
   ],
   "source": [
    "displayTable(finalMod.lcm,\"observeBadResponseMH\")"
   ]
  },
  {
   "cell_type": "markdown",
   "metadata": {},
   "source": [
    "_Table 14: \"Have you observed or experienced an unsupportive or badly handled response to a mental health issue in your current or previous workplace?\" ._\n",
    "\n",
    "The key changes we see are in the No and Maybe columns. Class $1$ leans no, while Classes $2$ and $3$ lean only more weakly no with Class $3$ leaning maybe."
   ]
  },
  {
   "cell_type": "code",
   "execution_count": null,
   "metadata": {
    "collapsed": true
   },
   "outputs": [],
   "source": []
  }
 ],
 "metadata": {
  "kernelspec": {
   "display_name": "R",
   "language": "R",
   "name": "ir"
  },
  "language_info": {
   "codemirror_mode": "r",
   "file_extension": ".r",
   "mimetype": "text/x-r-source",
   "name": "R",
   "pygments_lexer": "r",
   "version": "3.2.3"
  },
  "latex_envs": {
   "bibliofile": "biblio.bib",
   "cite_by": "apalike",
   "current_citInitial": 1,
   "eqLabelWithNumbers": true,
   "eqNumInitial": 0
  },
  "nav_menu": {},
  "toc": {
   "navigate_menu": true,
   "number_sections": true,
   "sideBar": true,
   "threshold": 6,
   "toc_cell": false,
   "toc_section_display": "block",
   "toc_window_display": false
  }
 },
 "nbformat": 4,
 "nbformat_minor": 2
}
