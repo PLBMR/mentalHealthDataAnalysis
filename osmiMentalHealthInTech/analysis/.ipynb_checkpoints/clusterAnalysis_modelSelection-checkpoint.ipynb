{
 "cells": [
  {
   "cell_type": "markdown",
   "metadata": {
    "toc": "true"
   },
   "source": [
    "# Table of Contents\n",
    " <p><div class=\"lev1 toc-item\"><a href=\"#OSMI-Mental-Health-In-Tech-Survey-2016-:-Clustering-Model-Seleciton\" data-toc-modified-id=\"OSMI-Mental-Health-In-Tech-Survey-2016-:-Clustering-Model-Seleciton-1\"><span class=\"toc-item-num\">1&nbsp;&nbsp;</span>OSMI Mental Health In Tech Survey 2016 : Clustering Model Seleciton</a></div><div class=\"lev1 toc-item\"><a href=\"#Variables-Chosen\" data-toc-modified-id=\"Variables-Chosen-2\"><span class=\"toc-item-num\">2&nbsp;&nbsp;</span>Variables Chosen</a></div><div class=\"lev2 toc-item\"><a href=\"#Usage-of-why-variables\" data-toc-modified-id=\"Usage-of-why-variables-2.1\"><span class=\"toc-item-num\">2.1&nbsp;&nbsp;</span>Usage of why variables</a></div><div class=\"lev1 toc-item\"><a href=\"#Initial-Modeling\" data-toc-modified-id=\"Initial-Modeling-3\"><span class=\"toc-item-num\">3&nbsp;&nbsp;</span>Initial Modeling</a></div>"
   ]
  },
  {
   "cell_type": "markdown",
   "metadata": {},
   "source": [
    "# OSMI Mental Health In Tech Survey 2016 : Clustering Model Seleciton\n",
    "\n",
    "_By [Michael Rosenberg](mailto:mmrosenb@andrew.cmu.edu)._\n",
    "\n",
    "_**Description**: Contains my model selection procedure on a clustering of a set of questions related to employers and how the treat mental health._"
   ]
  },
  {
   "cell_type": "code",
   "execution_count": 35,
   "metadata": {
    "collapsed": false
   },
   "outputs": [],
   "source": [
    "#imports\n",
    "library(poLCA)\n",
    "\n",
    "#constants\n",
    "sigLev = 3\n",
    "percentMul = 100\n",
    "options(warn=-1) #turns off warnings"
   ]
  },
  {
   "cell_type": "code",
   "execution_count": 36,
   "metadata": {
    "collapsed": true
   },
   "outputs": [],
   "source": [
    "clusterFrame = read.csv(\"../data/processed/clusterDataset.csv\")"
   ]
  },
  {
   "cell_type": "markdown",
   "metadata": {},
   "source": [
    "# Variables Chosen\n",
    "\n",
    "You can see my [cluster map file](../data/preprocessed/clusterColumnMap.csv) to get a full sense of the variables used in this analysis. In this file, any variable I did not use contains an empty ```newColName```, and any variable that I am considering contains a particular ```newColName```. Because there are around $19$ variables that I am considering in my initial models, it seems to be overkill to list out the entire map here rather than describe them as they become relevant."
   ]
  },
  {
   "cell_type": "markdown",
   "metadata": {},
   "source": [
    "## Usage of why variables\n",
    "\n",
    "We see for the questions related to bringing up a mental health or physical health issue in an interview, they have a written explanation section included. While I have chosen to include these in my processed dataset, their usage may be difficult to specify due to the sparsity of user-inputted language. That being said, we may try certain methods on these sections in order to have their language inform our clustering models. In particular, it may be useful to consider a dimensionally reduced form of these questions."
   ]
  },
  {
   "cell_type": "code",
   "execution_count": 37,
   "metadata": {
    "collapsed": false
   },
   "outputs": [],
   "source": [
    "filteredClusterFrame = clusterFrame[,!names(clusterFrame) %in% c(\n",
    "                                        \"explanationMH\",\"explanationPH\")]"
   ]
  },
  {
   "cell_type": "markdown",
   "metadata": {},
   "source": [
    "# Initial Modeling\n",
    "\n",
    "Because we have only categorical variables, it seems reasonable to limit our analysis to only considering latent class models. This is because we do not need to deal with mixed types, and so a typical $K$-modes clustering algorithm is not entirely necessary.\n",
    "\n",
    "I have a feeling that there are two main narratives that we need to consider: The narrative of \"employers are doing enough for mental health\" and the narrative of \"employers are not doing enough for mental health.\" Because of this, I think it might be useful to initially consider a $2$-class model."
   ]
  },
  {
   "cell_type": "code",
   "execution_count": 38,
   "metadata": {
    "collapsed": false
   },
   "outputs": [
    {
     "ename": "ERROR",
     "evalue": "Error: $ operator is invalid for atomic vectors\n",
     "output_type": "error",
     "traceback": [
      "Error: $ operator is invalid for atomic vectors\nTraceback:\n",
      "1. poLCA(givenForm, data = filteredClusterFrame, nclass = 2)",
      "2. data[rowSums(is.na(model.matrix(formula, mframe))) == 0, ]",
      "3. `[.data.frame`(data, rowSums(is.na(model.matrix(formula, mframe))) == \n .     0, )",
      "4. rowSums(is.na(model.matrix(formula, mframe)))",
      "5. is.data.frame(x)",
      "6. model.matrix(formula, mframe)",
      "7. model.matrix.default(formula, mframe)",
      "8. terms(object, data = data)",
      "9. terms.default(object, data = data)"
     ]
    }
   ],
   "source": [
    "#make formula\n",
    "columnString = paste(colnames(filteredClusterFrame),collapse = \",\")\n",
    "lhs = paste0(\"cbind(\",columnString,\")\")\n",
    "givenForm = paste0(lhs,\"~1\")\n",
    "print(givenForm)\n",
    "initMod.lcm = poLCA(givenForm,data = filteredClusterFrame,nclass = 2)"
   ]
  },
  {
   "cell_type": "code",
   "execution_count": null,
   "metadata": {
    "collapsed": true
   },
   "outputs": [],
   "source": []
  }
 ],
 "metadata": {
  "kernelspec": {
   "display_name": "R",
   "language": "R",
   "name": "ir"
  },
  "language_info": {
   "codemirror_mode": "r",
   "file_extension": ".r",
   "mimetype": "text/x-r-source",
   "name": "R",
   "pygments_lexer": "r",
   "version": "3.2.3"
  },
  "latex_envs": {
   "bibliofile": "biblio.bib",
   "cite_by": "apalike",
   "current_citInitial": 1,
   "eqLabelWithNumbers": true,
   "eqNumInitial": 0
  },
  "nav_menu": {},
  "toc": {
   "navigate_menu": true,
   "number_sections": false,
   "sideBar": true,
   "threshold": 6,
   "toc_cell": true,
   "toc_section_display": "block",
   "toc_window_display": true
  }
 },
 "nbformat": 4,
 "nbformat_minor": 2
}
