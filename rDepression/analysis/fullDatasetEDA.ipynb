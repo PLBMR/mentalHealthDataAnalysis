{
 "cells": [
  {
   "cell_type": "markdown",
   "metadata": {
    "toc": "true"
   },
   "source": [
    "# Table of Contents\n",
    " <p><div class=\"lev1 toc-item\"><a href=\"#r/depression:-Analysis-of-All-Reddit-Comments\" data-toc-modified-id=\"r/depression:-Analysis-of-All-Reddit-Comments-1\"><span class=\"toc-item-num\">1&nbsp;&nbsp;</span>r/depression: Analysis of All Reddit Comments</a></div><div class=\"lev1 toc-item\"><a href=\"#Dataset-Extraction-Recap\" data-toc-modified-id=\"Dataset-Extraction-Recap-2\"><span class=\"toc-item-num\">2&nbsp;&nbsp;</span>Dataset Extraction Recap</a></div><div class=\"lev1 toc-item\"><a href=\"#Summary-Statistics\" data-toc-modified-id=\"Summary-Statistics-3\"><span class=\"toc-item-num\">3&nbsp;&nbsp;</span>Summary Statistics</a></div><div class=\"lev2 toc-item\"><a href=\"#Investigation-of-data-quality-for-body\" data-toc-modified-id=\"Investigation-of-data-quality-for-body-3.1\"><span class=\"toc-item-num\">3.1&nbsp;&nbsp;</span>Investigation of data quality for <code>body</code></a></div><div class=\"lev2 toc-item\"><a href=\"#Distribution-of-Parent-IDs\" data-toc-modified-id=\"Distribution-of-Parent-IDs-3.2\"><span class=\"toc-item-num\">3.2&nbsp;&nbsp;</span>Distribution of Parent IDs</a></div><div class=\"lev2 toc-item\"><a href=\"#Distribution-of-Authors\" data-toc-modified-id=\"Distribution-of-Authors-3.3\"><span class=\"toc-item-num\">3.3&nbsp;&nbsp;</span>Distribution of Authors</a></div><div class=\"lev2 toc-item\"><a href=\"#Posting-Over-Time\" data-toc-modified-id=\"Posting-Over-Time-3.4\"><span class=\"toc-item-num\">3.4&nbsp;&nbsp;</span>Posting Over Time</a></div><div class=\"lev2 toc-item\"><a href=\"#Language\" data-toc-modified-id=\"Language-3.5\"><span class=\"toc-item-num\">3.5&nbsp;&nbsp;</span>Language</a></div><div class=\"lev3 toc-item\"><a href=\"#Distribution-of-Words\" data-toc-modified-id=\"Distribution-of-Words-3.5.1\"><span class=\"toc-item-num\">3.5.1&nbsp;&nbsp;</span>Distribution of Words</a></div><div class=\"lev2 toc-item\"><a href=\"#Score\" data-toc-modified-id=\"Score-3.6\"><span class=\"toc-item-num\">3.6&nbsp;&nbsp;</span>Score</a></div><div class=\"lev2 toc-item\"><a href=\"#Controversiality\" data-toc-modified-id=\"Controversiality-3.7\"><span class=\"toc-item-num\">3.7&nbsp;&nbsp;</span>Controversiality</a></div><div class=\"lev1 toc-item\"><a href=\"#Bivariate-Relationships\" data-toc-modified-id=\"Bivariate-Relationships-4\"><span class=\"toc-item-num\">4&nbsp;&nbsp;</span>Bivariate Relationships</a></div><div class=\"lev2 toc-item\"><a href=\"#Language-Over-Time\" data-toc-modified-id=\"Language-Over-Time-4.1\"><span class=\"toc-item-num\">4.1&nbsp;&nbsp;</span>Language Over Time</a></div><div class=\"lev2 toc-item\"><a href=\"#Language-as-a-predictor-of-score\" data-toc-modified-id=\"Language-as-a-predictor-of-score-4.2\"><span class=\"toc-item-num\">4.2&nbsp;&nbsp;</span>Language as a predictor of score</a></div>"
   ]
  },
  {
   "cell_type": "markdown",
   "metadata": {},
   "source": [
    "# r/depression: Analysis of All Reddit Comments\n",
    "\n",
    "_By [Michael Rosenberg](mailto:rosenberg.michael.m@gmail.com)._\n",
    "\n",
    "_**Description**: Contains a short analysis of all reddit comment data that I extracted from [Google BigQuery](https://www.reddit.com/r/bigquery/comments/3cej2b/17_billion_reddit_comments_loaded_on_bigquery/)._\n",
    "\n",
    "_Last Updated: 10/22/2017 5:40 PM EST._"
   ]
  },
  {
   "cell_type": "code",
   "execution_count": 59,
   "metadata": {
    "ExecuteTime": {
     "end_time": "2017-10-28T16:10:35.878564Z",
     "start_time": "2017-10-28T12:10:35.800126-04:00"
    },
    "collapsed": true
   },
   "outputs": [],
   "source": [
    "#imports\n",
    "import pandas as pd\n",
    "import matplotlib.pyplot as plt\n",
    "import seaborn as sns\n",
    "import numpy as np\n",
    "import nltk #for relevant corpora\n",
    "import collections as co #for ordered dictionary\n",
    "import StringIO #for string manipulation\n",
    "from sklearn.feature_extraction.text import CountVectorizer\n",
    "import sklearn.linear_model as lm\n",
    "import random\n",
    "\n",
    "#helpers\n",
    "sigLev = 3\n",
    "%matplotlib inline\n",
    "sns.set_style(\"whitegrid\")\n",
    "pd.options.display.precision = sigLev"
   ]
  },
  {
   "cell_type": "code",
   "execution_count": 5,
   "metadata": {
    "ExecuteTime": {
     "end_time": "2017-10-28T02:42:13.440774Z",
     "start_time": "2017-10-27T22:41:57.308680-04:00"
    },
    "collapsed": true
   },
   "outputs": [],
   "source": [
    "#load in data\n",
    "commentFrame = pd.read_csv(\"../data/raw/allRDepressionData.csv\")"
   ]
  },
  {
   "cell_type": "markdown",
   "metadata": {},
   "source": [
    "# Dataset Extraction Recap\n",
    "\n",
    "We downloaded this dataset on [Google BigQuery](https://www.reddit.com/r/bigquery/comments/3cej2b/17_billion_reddit_comments_loaded_on_bigquery/) using a variant of the command found [here](../code/rDepression_all.sql). This dataset was extracted on 10/22/2017.\n",
    "\n",
    "This is a dataset of comments from the [r/depression](https://www.reddit.com/r/depression/) page. Note that this does not contain submissions, which will be extracted from another dataset later on."
   ]
  },
  {
   "cell_type": "markdown",
   "metadata": {},
   "source": [
    "# Summary Statistics"
   ]
  },
  {
   "cell_type": "code",
   "execution_count": 11,
   "metadata": {
    "ExecuteTime": {
     "end_time": "2017-10-28T15:34:20.835108Z",
     "start_time": "2017-10-28T11:34:20.797050-04:00"
    },
    "collapsed": false
   },
   "outputs": [
    {
     "data": {
      "text/plain": [
       "(2023603, 21)"
      ]
     },
     "execution_count": 11,
     "metadata": {},
     "output_type": "execute_result"
    }
   ],
   "source": [
    "commentFrame.shape"
   ]
  },
  {
   "cell_type": "markdown",
   "metadata": {},
   "source": [
    "We see that this dataset contains $2$ Million Comments. This is a large amount of text to work with, although it isn't currently clear if this is large compared to other available subreddits."
   ]
  },
  {
   "cell_type": "code",
   "execution_count": 12,
   "metadata": {
    "ExecuteTime": {
     "end_time": "2017-10-28T15:34:22.109716Z",
     "start_time": "2017-10-28T11:34:22.094406-04:00"
    },
    "collapsed": false
   },
   "outputs": [
    {
     "data": {
      "text/plain": [
       "Index([u'body', u'score_hidden', u'archived', u'name', u'author',\n",
       "       u'author_flair_text', u'downs', u'created_utc', u'subreddit_id',\n",
       "       u'link_id', u'parent_id', u'score', u'retrieved_on',\n",
       "       u'controversiality', u'gilded', u'id', u'subreddit', u'ups',\n",
       "       u'distinguished', u'author_flair_css_class', u'removal_reason'],\n",
       "      dtype='object')"
      ]
     },
     "execution_count": 12,
     "metadata": {},
     "output_type": "execute_result"
    }
   ],
   "source": [
    "commentFrame.columns"
   ]
  },
  {
   "cell_type": "markdown",
   "metadata": {},
   "source": [
    "We have a few variables that are relevant here:\n",
    "\n",
    "* `body`: The text of the comment.\n",
    "\n",
    "* `score_hidden`: a flag indicating whether the score was hidden. Currently, it is not clear if this option is available for this subreddit.\n",
    "\n",
    "* `archived`: a flag indicating whether the thread was archived.\n",
    "\n",
    "* `name`: not clear what this is yet; Let's do some exploration on this.\n",
    "\n",
    "* `author`: the username of the author who wrote the comment.\n",
    "\n",
    "* `author_flair_text`: the flair text indicated at the bottom of the author. Currently not clear if this is useful text, but we will consider it for now.\n",
    "\n",
    "* `downs`: The number of downs on the score of the comment. It's not clear whether this has been censored or not. We should perhaps check this in our EDA.\n",
    "\n",
    "* `created_utc`: the creation date of the comment in coordinated universal time. We will likely need to translate this into a datetime within Pandas to interpret the timeline of these comments.\n",
    "\n",
    "* `subreddit_id`: the ID of the subreddit the comment was placed on. Again, since all subreddits in this dataset should be `depression`, we should only have one level of `subreddit_id` in this dataset.\n",
    "\n",
    "* `link_id`: This is the link to the entire thread, starting from the very beginning.\n",
    "\n",
    "* `parent_id`: the ID of the item these comment is attached to. \n",
    "\n",
    "* `score`: The score of the comment as of 7/30/2017. My best guess is that this is the sum of upvotes and downvotes on a given comment.\n",
    "\n",
    "* `retrieved_on`: not clear if this is when _we_ retrieve the comment or when another group of individuals have retrieved the comment._\n",
    "\n",
    "* `constroversiality`: Some measure of how controversial a comment is. Not clear if these analytics are provided for this thread, but still useful to consider.\n",
    "\n",
    "* `gilded`: Not clear what this is.\n",
    "\n",
    "* `id`: ID of the comment.\n",
    "\n",
    "* `subreddit`: This is the subreddit the comment was placed on. Currently, all subreddits in this dataset should be `depression`.\n",
    "\n",
    "* `ups`: Number of ups on a comment. Not clear if this is provided by this thread or it is censored.\n",
    "\n",
    "* `distinguished`: Not entirely sure what qualifies as a distinguished comment. Again, probably censored.\n",
    "\n",
    "* `author_flair_css_class`: I guess this is the css class associated with the author flair text. Not sure if it's important to consider this when analyzing `author_flair_text`. I doubt it is.\n",
    "\n",
    "* `removal_reason`: the reason for the removal of a particular comment. I am guessing this is a reason code that we will need to perform some lookups for to get the text-based reason for a removal. That being said, we will likely remove these types of comments from our analysis anyway."
   ]
  },
  {
   "cell_type": "code",
   "execution_count": 13,
   "metadata": {
    "ExecuteTime": {
     "end_time": "2017-10-28T15:34:54.047847Z",
     "start_time": "2017-10-28T11:34:49.195586-04:00"
    },
    "collapsed": false
   },
   "outputs": [
    {
     "data": {
      "text/plain": [
       "body                           47\n",
       "score_hidden              1037364\n",
       "archived                  1037364\n",
       "name                      1037364\n",
       "author                          0\n",
       "author_flair_text         2023603\n",
       "downs                     1037364\n",
       "created_utc                     0\n",
       "subreddit_id                    0\n",
       "link_id                         0\n",
       "parent_id                       0\n",
       "score                           0\n",
       "retrieved_on                 2767\n",
       "controversiality                0\n",
       "gilded                          0\n",
       "id                              0\n",
       "subreddit                       0\n",
       "ups                        582300\n",
       "distinguished             2019357\n",
       "author_flair_css_class    2023603\n",
       "removal_reason            2023603\n",
       "dtype: int64"
      ]
     },
     "execution_count": 13,
     "metadata": {},
     "output_type": "execute_result"
    }
   ],
   "source": [
    "#data quality check\n",
    "numNullFrame = commentFrame.apply(lambda x: x[x.isnull()].shape[0],axis = 0)\n",
    "numNullFrame"
   ]
  },
  {
   "cell_type": "markdown",
   "metadata": {},
   "source": [
    "_Table 1: Number of Null observations in our dataset by column._"
   ]
  },
  {
   "cell_type": "markdown",
   "metadata": {},
   "source": [
    "We see we have around $47$ bodies without information whatsoever. We also see sizable amount of nulls in:\n",
    "\n",
    "* `score_hidden`\n",
    "\n",
    "* `archived`\n",
    "\n",
    "* `name`\n",
    "\n",
    "* `author_flair_text`\n",
    "\n",
    "* `downs`\n",
    "\n",
    "* `ups`\n",
    "\n",
    "* `distinguished`\n",
    "\n",
    "* `author_flair_css_class`\n",
    "\n",
    "* `removal_reason`\n",
    "\n",
    "We see almost all observations with null counts for `author_flair_text`, `author_flair_css_class`, and `removal_reason`. For these reasons, we will remove them from the rest of our exploration."
   ]
  },
  {
   "cell_type": "code",
   "execution_count": 14,
   "metadata": {
    "ExecuteTime": {
     "end_time": "2017-10-28T15:34:54.618361Z",
     "start_time": "2017-10-28T11:34:54.050080-04:00"
    },
    "collapsed": true
   },
   "outputs": [],
   "source": [
    "#remove null bodies\n",
    "filteredCommentFrame = commentFrame[commentFrame[\"body\"].notnull()]"
   ]
  },
  {
   "cell_type": "code",
   "execution_count": 15,
   "metadata": {
    "ExecuteTime": {
     "end_time": "2017-10-28T15:34:58.579188Z",
     "start_time": "2017-10-28T11:34:57.948086-04:00"
    },
    "collapsed": true
   },
   "outputs": [],
   "source": [
    "#drop  empty columns\n",
    "droppedColumns = [\"author_flair_text\",\"author_flair_css_class\",\n",
    "                  \"removal_reason\"]\n",
    "filteredCommentFrame = filteredCommentFrame.drop(droppedColumns,axis = 1)"
   ]
  },
  {
   "cell_type": "code",
   "execution_count": 16,
   "metadata": {
    "ExecuteTime": {
     "end_time": "2017-10-28T15:35:06.712432Z",
     "start_time": "2017-10-28T11:34:58.581001-04:00"
    },
    "collapsed": false
   },
   "outputs": [
    {
     "data": {
      "text/plain": [
       "body                1711649\n",
       "score_hidden              1\n",
       "archived                  2\n",
       "name                 985818\n",
       "author               253371\n",
       "downs                     1\n",
       "created_utc         2005312\n",
       "subreddit_id              1\n",
       "link_id              328417\n",
       "parent_id           1160632\n",
       "score                   367\n",
       "retrieved_on        1921960\n",
       "controversiality          2\n",
       "gilded                    4\n",
       "id                  2021454\n",
       "subreddit                 1\n",
       "ups                     334\n",
       "distinguished             1\n",
       "dtype: int64"
      ]
     },
     "execution_count": 16,
     "metadata": {},
     "output_type": "execute_result"
    }
   ],
   "source": [
    "#get number of levels\n",
    "nUniqueFrame = filteredCommentFrame.apply(lambda x: x.nunique(),axis = 0)\n",
    "nUniqueFrame"
   ]
  },
  {
   "cell_type": "markdown",
   "metadata": {},
   "source": [
    "_Table 2: Number of Unique Levels per variable._\n",
    "\n",
    "This provides us with quite a bit of information:\n",
    "\n",
    "* We have many repeated types of comments. Perhaps this is part of the group that are removed from consideration.\n",
    "\n",
    "* We have around 250K authors on this reddit. that's a rate of around $\\frac{2000000}{250000} = \\frac{200}{25} = 8$ comments per author. This suggest some moderate level of interaction on the site, Since I expected there to be more around $[1,2]$ comments per author.\n",
    "\n",
    "* There are a little over $328$K unique threads. This means there tends to be fewer than $6$ comments per thread, although we will likely see more distributional inequality further in our analysis."
   ]
  },
  {
   "cell_type": "markdown",
   "metadata": {},
   "source": [
    "## Investigation of data quality for `body`"
   ]
  },
  {
   "cell_type": "code",
   "execution_count": 17,
   "metadata": {
    "ExecuteTime": {
     "end_time": "2017-10-28T15:35:56.516032Z",
     "start_time": "2017-10-28T11:35:47.064377-04:00"
    },
    "collapsed": false
   },
   "outputs": [
    {
     "data": {
      "text/html": [
       "<div>\n",
       "<table border=\"1\" class=\"dataframe\">\n",
       "  <thead>\n",
       "    <tr style=\"text-align: right;\">\n",
       "      <th></th>\n",
       "      <th>body</th>\n",
       "      <th>count</th>\n",
       "    </tr>\n",
       "  </thead>\n",
       "  <tbody>\n",
       "    <tr>\n",
       "      <th>1590770</th>\n",
       "      <td>[deleted]</td>\n",
       "      <td>208990</td>\n",
       "    </tr>\n",
       "    <tr>\n",
       "      <th>1591171</th>\n",
       "      <td>[removed]</td>\n",
       "      <td>55613</td>\n",
       "    </tr>\n",
       "    <tr>\n",
       "      <th>1186318</th>\n",
       "      <td>Thank you.</td>\n",
       "      <td>997</td>\n",
       "    </tr>\n",
       "    <tr>\n",
       "      <th>1162179</th>\n",
       "      <td>Thank you</td>\n",
       "      <td>846</td>\n",
       "    </tr>\n",
       "    <tr>\n",
       "      <th>1180368</th>\n",
       "      <td>Thank you!</td>\n",
       "      <td>594</td>\n",
       "    </tr>\n",
       "    <tr>\n",
       "      <th>52559</th>\n",
       "      <td>:)</td>\n",
       "      <td>535</td>\n",
       "    </tr>\n",
       "    <tr>\n",
       "      <th>1193066</th>\n",
       "      <td>Thanks</td>\n",
       "      <td>506</td>\n",
       "    </tr>\n",
       "    <tr>\n",
       "      <th>1162457</th>\n",
       "      <td>Thank you :)</td>\n",
       "      <td>474</td>\n",
       "    </tr>\n",
       "    <tr>\n",
       "      <th>1212052</th>\n",
       "      <td>Thanks!</td>\n",
       "      <td>377</td>\n",
       "    </tr>\n",
       "    <tr>\n",
       "      <th>1088428</th>\n",
       "      <td>Same</td>\n",
       "      <td>359</td>\n",
       "    </tr>\n",
       "    <tr>\n",
       "      <th>1186543</th>\n",
       "      <td>Thank you.</td>\n",
       "      <td>345</td>\n",
       "    </tr>\n",
       "    <tr>\n",
       "      <th>35227</th>\n",
       "      <td>&amp;lt;3</td>\n",
       "      <td>341</td>\n",
       "    </tr>\n",
       "    <tr>\n",
       "      <th>1497024</th>\n",
       "      <td>Yes</td>\n",
       "      <td>340</td>\n",
       "    </tr>\n",
       "    <tr>\n",
       "      <th>1217779</th>\n",
       "      <td>Thanks.</td>\n",
       "      <td>338</td>\n",
       "    </tr>\n",
       "    <tr>\n",
       "      <th>1193297</th>\n",
       "      <td>Thanks :)</td>\n",
       "      <td>327</td>\n",
       "    </tr>\n",
       "    <tr>\n",
       "      <th>51786</th>\n",
       "      <td>:(</td>\n",
       "      <td>299</td>\n",
       "    </tr>\n",
       "    <tr>\n",
       "      <th>1511037</th>\n",
       "      <td>Yes.</td>\n",
       "      <td>292</td>\n",
       "    </tr>\n",
       "    <tr>\n",
       "      <th>1673475</th>\n",
       "      <td>thank you</td>\n",
       "      <td>267</td>\n",
       "    </tr>\n",
       "    <tr>\n",
       "      <th>280889</th>\n",
       "      <td>Happy birthday!</td>\n",
       "      <td>262</td>\n",
       "    </tr>\n",
       "    <tr>\n",
       "      <th>1162213</th>\n",
       "      <td>Thank you</td>\n",
       "      <td>243</td>\n",
       "    </tr>\n",
       "    <tr>\n",
       "      <th>1095755</th>\n",
       "      <td>Same.</td>\n",
       "      <td>189</td>\n",
       "    </tr>\n",
       "    <tr>\n",
       "      <th>950465</th>\n",
       "      <td>Me too</td>\n",
       "      <td>185</td>\n",
       "    </tr>\n",
       "    <tr>\n",
       "      <th>278079</th>\n",
       "      <td>Happy Birthday!</td>\n",
       "      <td>175</td>\n",
       "    </tr>\n",
       "    <tr>\n",
       "      <th>39510</th>\n",
       "      <td>*hugs*</td>\n",
       "      <td>171</td>\n",
       "    </tr>\n",
       "    <tr>\n",
       "      <th>951743</th>\n",
       "      <td>Me too.</td>\n",
       "      <td>171</td>\n",
       "    </tr>\n",
       "    <tr>\n",
       "      <th>1675837</th>\n",
       "      <td>thanks</td>\n",
       "      <td>171</td>\n",
       "    </tr>\n",
       "    <tr>\n",
       "      <th>1666415</th>\n",
       "      <td>same</td>\n",
       "      <td>163</td>\n",
       "    </tr>\n",
       "    <tr>\n",
       "      <th>1436105</th>\n",
       "      <td>Why?</td>\n",
       "      <td>160</td>\n",
       "    </tr>\n",
       "    <tr>\n",
       "      <th>1005289</th>\n",
       "      <td>No.</td>\n",
       "      <td>159</td>\n",
       "    </tr>\n",
       "    <tr>\n",
       "      <th>1703652</th>\n",
       "      <td>yes</td>\n",
       "      <td>159</td>\n",
       "    </tr>\n",
       "  </tbody>\n",
       "</table>\n",
       "</div>"
      ],
      "text/plain": [
       "                    body   count\n",
       "1590770        [deleted]  208990\n",
       "1591171        [removed]   55613\n",
       "1186318       Thank you.     997\n",
       "1162179        Thank you     846\n",
       "1180368       Thank you!     594\n",
       "52559                 :)     535\n",
       "1193066           Thanks     506\n",
       "1162457     Thank you :)     474\n",
       "1212052          Thanks!     377\n",
       "1088428             Same     359\n",
       "1186543      Thank you.      345\n",
       "35227              &lt;3     341\n",
       "1497024              Yes     340\n",
       "1217779          Thanks.     338\n",
       "1193297        Thanks :)     327\n",
       "51786                 :(     299\n",
       "1511037             Yes.     292\n",
       "1673475        thank you     267\n",
       "280889   Happy birthday!     262\n",
       "1162213       Thank you      243\n",
       "1095755            Same.     189\n",
       "950465            Me too     185\n",
       "278079   Happy Birthday!     175\n",
       "39510             *hugs*     171\n",
       "951743           Me too.     171\n",
       "1675837           thanks     171\n",
       "1666415             same     163\n",
       "1436105             Why?     160\n",
       "1005289              No.     159\n",
       "1703652              yes     159"
      ]
     },
     "execution_count": 17,
     "metadata": {},
     "output_type": "execute_result"
    }
   ],
   "source": [
    "bodyFrame = filteredCommentFrame.groupby(\"body\",as_index = False)[\n",
    "                                                                \"score\"].count()\n",
    "bodyFrame = bodyFrame.rename(columns = {\"score\":\"count\"})\n",
    "bodyFrame = bodyFrame.sort_values(\"count\",ascending = False)\n",
    "topLev = 30\n",
    "bodyFrame.iloc[0:topLev]"
   ]
  },
  {
   "cell_type": "markdown",
   "metadata": {},
   "source": [
    "_Table 3: Top Thirty Comments by count._\n",
    "\n",
    "We see that there are a lot of [removed] and [deleted] observations in our dataset. While I don't yet know the difference between these two, they don't really express meaningful language content with the exception of context. Thus, I think I want to remove them from consideration from the dataset."
   ]
  },
  {
   "cell_type": "code",
   "execution_count": 18,
   "metadata": {
    "ExecuteTime": {
     "end_time": "2017-10-28T15:35:57.204785Z",
     "start_time": "2017-10-28T11:35:56.518655-04:00"
    },
    "collapsed": false
   },
   "outputs": [
    {
     "data": {
      "text/plain": [
       "(1758953, 18)"
      ]
     },
     "execution_count": 18,
     "metadata": {},
     "output_type": "execute_result"
    }
   ],
   "source": [
    "filteredCommentFrame = filteredCommentFrame[~(\n",
    "            filteredCommentFrame[\"body\"].isin([\"[removed]\",\"[deleted]\"]))]\n",
    "filteredCommentFrame.shape"
   ]
  },
  {
   "cell_type": "markdown",
   "metadata": {},
   "source": [
    "We are now down to a little under $1.8$ millions comments."
   ]
  },
  {
   "cell_type": "markdown",
   "metadata": {},
   "source": [
    "## Distribution of  Link IDs"
   ]
  },
  {
   "cell_type": "code",
   "execution_count": 19,
   "metadata": {
    "ExecuteTime": {
     "end_time": "2017-10-28T15:36:14.908503Z",
     "start_time": "2017-10-28T11:36:13.611743-04:00"
    },
    "collapsed": false,
    "scrolled": false
   },
   "outputs": [],
   "source": [
    "#get threads by comment count\n",
    "parentFrame = filteredCommentFrame.groupby(\"link_id\",as_index = False)[\n",
    "                                                            \"score\"].count()\n",
    "parentFrame = parentFrame.rename(columns = {\"score\":\"count\"})\n",
    "parentFrame = parentFrame.sort_values(\"count\",ascending = False)\n",
    "#add rank\n",
    "parentFrame[\"rank\"] = range(parentFrame.shape[0])\n",
    "#add density\n",
    "parentFrame[\"density\"] = parentFrame[\"count\"] / parentFrame[\"count\"].sum()\n",
    "#ad log-rank\n",
    "parentFrame[\"logRank\"] = np.log(parentFrame[\"rank\"] + 1)"
   ]
  },
  {
   "cell_type": "code",
   "execution_count": 20,
   "metadata": {
    "ExecuteTime": {
     "end_time": "2017-10-28T15:36:19.607902Z",
     "start_time": "2017-10-28T11:36:18.734522-04:00"
    },
    "collapsed": false
   },
   "outputs": [
    {
     "data": {
      "text/plain": [
       "<matplotlib.text.Text at 0x10c68b8d0>"
      ]
     },
     "execution_count": 20,
     "metadata": {},
     "output_type": "execute_result"
    },
    {
     "data": {
      "image/png": "[encoded data removed]",
      "text/plain": [
       "<matplotlib.figure.Figure at 0x1053f1950>"
      ]
     },
     "metadata": {},
     "output_type": "display_data"
    }
   ],
   "source": [
    "#then plot\n",
    "plt.plot(parentFrame[\"logRank\"],parentFrame[\"density\"])\n",
    "plt.xlabel(\"$\\log(rank)$\")\n",
    "plt.ylabel(\"Density\")\n",
    "plt.title(\"Density on $\\log(rank)$ for Thread Comment Count\")"
   ]
  },
  {
   "cell_type": "markdown",
   "metadata": {},
   "source": [
    "_Figure 1: Rank-Density Plot for Thread Comment Count._\n",
    "\n",
    "We see less sparsity that we would expect. Around the top $e^{10} \\approx 22000$ threads take up most of the comment distribution. This is around $6.7\\%$ of the threads. Sparse, but not as bad as some distributions."
   ]
  },
  {
   "cell_type": "code",
   "execution_count": 21,
   "metadata": {
    "ExecuteTime": {
     "end_time": "2017-10-28T15:38:07.599772Z",
     "start_time": "2017-10-28T11:38:07.578344-04:00"
    },
    "collapsed": false
   },
   "outputs": [
    {
     "data": {
      "text/html": [
       "<div>\n",
       "<table border=\"1\" class=\"dataframe\">\n",
       "  <thead>\n",
       "    <tr style=\"text-align: right;\">\n",
       "      <th></th>\n",
       "      <th>link_id</th>\n",
       "      <th>count</th>\n",
       "      <th>rank</th>\n",
       "      <th>density</th>\n",
       "      <th>logRank</th>\n",
       "    </tr>\n",
       "  </thead>\n",
       "  <tbody>\n",
       "    <tr>\n",
       "      <th>229942</th>\n",
       "      <td>t3_5qsba5</td>\n",
       "      <td>2903</td>\n",
       "      <td>0</td>\n",
       "      <td>1.650e-03</td>\n",
       "      <td>0.000</td>\n",
       "    </tr>\n",
       "    <tr>\n",
       "      <th>243471</th>\n",
       "      <td>t3_61w2k1</td>\n",
       "      <td>2668</td>\n",
       "      <td>1</td>\n",
       "      <td>1.517e-03</td>\n",
       "      <td>0.693</td>\n",
       "    </tr>\n",
       "    <tr>\n",
       "      <th>253725</th>\n",
       "      <td>t3_6a7gb9</td>\n",
       "      <td>2003</td>\n",
       "      <td>2</td>\n",
       "      <td>1.139e-03</td>\n",
       "      <td>1.099</td>\n",
       "    </tr>\n",
       "    <tr>\n",
       "      <th>96514</th>\n",
       "      <td>t3_2vv8ll</td>\n",
       "      <td>1786</td>\n",
       "      <td>3</td>\n",
       "      <td>1.015e-03</td>\n",
       "      <td>1.386</td>\n",
       "    </tr>\n",
       "    <tr>\n",
       "      <th>276447</th>\n",
       "      <td>t3_6swsuk</td>\n",
       "      <td>1740</td>\n",
       "      <td>4</td>\n",
       "      <td>9.892e-04</td>\n",
       "      <td>1.609</td>\n",
       "    </tr>\n",
       "    <tr>\n",
       "      <th>266948</th>\n",
       "      <td>t3_6lfjbt</td>\n",
       "      <td>1277</td>\n",
       "      <td>5</td>\n",
       "      <td>7.260e-04</td>\n",
       "      <td>1.792</td>\n",
       "    </tr>\n",
       "    <tr>\n",
       "      <th>127468</th>\n",
       "      <td>t3_3j4g0a</td>\n",
       "      <td>1211</td>\n",
       "      <td>6</td>\n",
       "      <td>6.885e-04</td>\n",
       "      <td>1.946</td>\n",
       "    </tr>\n",
       "    <tr>\n",
       "      <th>112306</th>\n",
       "      <td>t3_37c5fw</td>\n",
       "      <td>1021</td>\n",
       "      <td>7</td>\n",
       "      <td>5.805e-04</td>\n",
       "      <td>2.079</td>\n",
       "    </tr>\n",
       "    <tr>\n",
       "      <th>260481</th>\n",
       "      <td>t3_6fx6lt</td>\n",
       "      <td>1011</td>\n",
       "      <td>8</td>\n",
       "      <td>5.748e-04</td>\n",
       "      <td>2.197</td>\n",
       "    </tr>\n",
       "    <tr>\n",
       "      <th>13099</th>\n",
       "      <td>t3_19gu09</td>\n",
       "      <td>983</td>\n",
       "      <td>9</td>\n",
       "      <td>5.589e-04</td>\n",
       "      <td>2.303</td>\n",
       "    </tr>\n",
       "  </tbody>\n",
       "</table>\n",
       "</div>"
      ],
      "text/plain": [
       "          link_id  count  rank    density  logRank\n",
       "229942  t3_5qsba5   2903     0  1.650e-03    0.000\n",
       "243471  t3_61w2k1   2668     1  1.517e-03    0.693\n",
       "253725  t3_6a7gb9   2003     2  1.139e-03    1.099\n",
       "96514   t3_2vv8ll   1786     3  1.015e-03    1.386\n",
       "276447  t3_6swsuk   1740     4  9.892e-04    1.609\n",
       "266948  t3_6lfjbt   1277     5  7.260e-04    1.792\n",
       "127468  t3_3j4g0a   1211     6  6.885e-04    1.946\n",
       "112306  t3_37c5fw   1021     7  5.805e-04    2.079\n",
       "260481  t3_6fx6lt   1011     8  5.748e-04    2.197\n",
       "13099   t3_19gu09    983     9  5.589e-04    2.303"
      ]
     },
     "execution_count": 21,
     "metadata": {},
     "output_type": "execute_result"
    }
   ],
   "source": [
    "#get top thread ids\n",
    "topLev = 10\n",
    "topThreadFrame = parentFrame.iloc[0:topLev]\n",
    "topThreadFrame"
   ]
  },
  {
   "cell_type": "markdown",
   "metadata": {
    "collapsed": true
   },
   "source": [
    "_Table 4: Our top 10 Threads by Count._\n",
    "\n",
    "We see the most popular parent ID is associated with a [large check-in thread](https://www.reddit.com/r/depression/comments/5qsba5). In particular, this is a weekly check-in thread that is \"a place to take a moment and share what is going on and how you are doing.\" It started around $8$ months ago, so it's surprising how robust the comment count is for this particular thread.\n",
    "\n",
    "We see the second most popular thread is also another [weekly check-in thread](https://www.reddit.com/r/depression/comments/61w2k1/rdepression_weekly_check_in/). It is possible that we will find many of these evident in our discourse, and they suggest an environment in which individuals are looking after one another over the internet."
   ]
  },
  {
   "cell_type": "markdown",
   "metadata": {},
   "source": [
    "## Distribution of Authors"
   ]
  },
  {
   "cell_type": "code",
   "execution_count": 22,
   "metadata": {
    "ExecuteTime": {
     "end_time": "2017-10-28T15:39:11.566742Z",
     "start_time": "2017-10-28T11:39:10.442007-04:00"
    },
    "collapsed": false
   },
   "outputs": [],
   "source": [
    "#get threads by comment count\n",
    "authorFrame = filteredCommentFrame.groupby(\"author\",as_index = False)[\n",
    "                                                            \"score\"].count()\n",
    "authorFrame = authorFrame.rename(columns = {\"score\":\"count\"})\n",
    "authorFrame = authorFrame.sort_values(\"count\",ascending = False)\n",
    "#add rank\n",
    "authorFrame[\"rank\"] = range(authorFrame.shape[0])\n",
    "#add density\n",
    "authorFrame[\"density\"] = authorFrame[\"count\"] / authorFrame[\"count\"].sum()\n",
    "#ad log-rank\n",
    "authorFrame[\"logRank\"] = np.log(authorFrame[\"rank\"] + 1)"
   ]
  },
  {
   "cell_type": "code",
   "execution_count": 23,
   "metadata": {
    "ExecuteTime": {
     "end_time": "2017-10-28T15:39:11.900387Z",
     "start_time": "2017-10-28T11:39:11.568585-04:00"
    },
    "collapsed": false
   },
   "outputs": [
    {
     "data": {
      "text/plain": [
       "<matplotlib.text.Text at 0x10d08a850>"
      ]
     },
     "execution_count": 23,
     "metadata": {},
     "output_type": "execute_result"
    },
    {
     "data": {
      "image/png": "[encoded data removed]",
      "text/plain": [
       "<matplotlib.figure.Figure at 0x10c6df410>"
      ]
     },
     "metadata": {},
     "output_type": "display_data"
    }
   ],
   "source": [
    "#then plot\n",
    "plt.plot(authorFrame[\"logRank\"],authorFrame[\"density\"])\n",
    "plt.xlabel(\"$\\log(rank)$\")\n",
    "plt.ylabel(\"Density\")\n",
    "plt.title(\"Density on $\\log(rank)$ for Author Comment Count\")"
   ]
  },
  {
   "cell_type": "markdown",
   "metadata": {},
   "source": [
    "_Figure 2: Authors by comment count._\n",
    "\n",
    "We see one author hogging a huge amount of the distribution. Let's check out what this author is."
   ]
  },
  {
   "cell_type": "code",
   "execution_count": 24,
   "metadata": {
    "ExecuteTime": {
     "end_time": "2017-10-28T15:39:12.842607Z",
     "start_time": "2017-10-28T11:39:12.819778-04:00"
    },
    "collapsed": false
   },
   "outputs": [
    {
     "data": {
      "text/html": [
       "<div>\n",
       "<table border=\"1\" class=\"dataframe\">\n",
       "  <thead>\n",
       "    <tr style=\"text-align: right;\">\n",
       "      <th></th>\n",
       "      <th>author</th>\n",
       "      <th>count</th>\n",
       "      <th>rank</th>\n",
       "      <th>density</th>\n",
       "      <th>logRank</th>\n",
       "    </tr>\n",
       "  </thead>\n",
       "  <tbody>\n",
       "    <tr>\n",
       "      <th>116876</th>\n",
       "      <td>[deleted]</td>\n",
       "      <td>92820</td>\n",
       "      <td>0</td>\n",
       "      <td>5.277e-02</td>\n",
       "      <td>0.000</td>\n",
       "    </tr>\n",
       "    <tr>\n",
       "      <th>87510</th>\n",
       "      <td>SQLwitch</td>\n",
       "      <td>2789</td>\n",
       "      <td>1</td>\n",
       "      <td>1.586e-03</td>\n",
       "      <td>0.693</td>\n",
       "    </tr>\n",
       "    <tr>\n",
       "      <th>193542</th>\n",
       "      <td>mobiuschick</td>\n",
       "      <td>2360</td>\n",
       "      <td>2</td>\n",
       "      <td>1.342e-03</td>\n",
       "      <td>1.099</td>\n",
       "    </tr>\n",
       "    <tr>\n",
       "      <th>222354</th>\n",
       "      <td>skyqween</td>\n",
       "      <td>2203</td>\n",
       "      <td>3</td>\n",
       "      <td>1.252e-03</td>\n",
       "      <td>1.386</td>\n",
       "    </tr>\n",
       "    <tr>\n",
       "      <th>196564</th>\n",
       "      <td>mytwocats11</td>\n",
       "      <td>2177</td>\n",
       "      <td>4</td>\n",
       "      <td>1.238e-03</td>\n",
       "      <td>1.609</td>\n",
       "    </tr>\n",
       "    <tr>\n",
       "      <th>190233</th>\n",
       "      <td>mcfattykins</td>\n",
       "      <td>2006</td>\n",
       "      <td>5</td>\n",
       "      <td>1.140e-03</td>\n",
       "      <td>1.792</td>\n",
       "    </tr>\n",
       "    <tr>\n",
       "      <th>13272</th>\n",
       "      <td>Bhruic</td>\n",
       "      <td>1899</td>\n",
       "      <td>6</td>\n",
       "      <td>1.080e-03</td>\n",
       "      <td>1.946</td>\n",
       "    </tr>\n",
       "    <tr>\n",
       "      <th>207554</th>\n",
       "      <td>poisontongue</td>\n",
       "      <td>1738</td>\n",
       "      <td>7</td>\n",
       "      <td>9.881e-04</td>\n",
       "      <td>2.079</td>\n",
       "    </tr>\n",
       "    <tr>\n",
       "      <th>134322</th>\n",
       "      <td>cacktastic</td>\n",
       "      <td>1637</td>\n",
       "      <td>8</td>\n",
       "      <td>9.307e-04</td>\n",
       "      <td>2.197</td>\n",
       "    </tr>\n",
       "    <tr>\n",
       "      <th>87345</th>\n",
       "      <td>SH2355</td>\n",
       "      <td>1546</td>\n",
       "      <td>9</td>\n",
       "      <td>8.789e-04</td>\n",
       "      <td>2.303</td>\n",
       "    </tr>\n",
       "  </tbody>\n",
       "</table>\n",
       "</div>"
      ],
      "text/plain": [
       "              author  count  rank    density  logRank\n",
       "116876     [deleted]  92820     0  5.277e-02    0.000\n",
       "87510       SQLwitch   2789     1  1.586e-03    0.693\n",
       "193542   mobiuschick   2360     2  1.342e-03    1.099\n",
       "222354      skyqween   2203     3  1.252e-03    1.386\n",
       "196564   mytwocats11   2177     4  1.238e-03    1.609\n",
       "190233   mcfattykins   2006     5  1.140e-03    1.792\n",
       "13272         Bhruic   1899     6  1.080e-03    1.946\n",
       "207554  poisontongue   1738     7  9.881e-04    2.079\n",
       "134322    cacktastic   1637     8  9.307e-04    2.197\n",
       "87345         SH2355   1546     9  8.789e-04    2.303"
      ]
     },
     "execution_count": 24,
     "metadata": {},
     "output_type": "execute_result"
    }
   ],
   "source": [
    "topAuthorFrame = authorFrame.iloc[0:topLev]\n",
    "topAuthorFrame"
   ]
  },
  {
   "cell_type": "markdown",
   "metadata": {},
   "source": [
    "_Table 5: Top 10 Authors by comment count._\n",
    "\n",
    "We see an enormous amount of observations come from deleted accounts. We can think of these as comments that are current unattributed to a particular author. While for most of our analysis, having indicators on the author likely won't matter, it will likely matter quite a bit when we do some forms of conversation modeling on our dataset.\n",
    "\n",
    "Besides this, we see we have some commenters who exist in the $[2000,3000]$ range for number of comments. This is a sizable amount of the distribution, and suggests data sparsity in terms of the commenters that are likely to exist in the dataset."
   ]
  },
  {
   "cell_type": "markdown",
   "metadata": {},
   "source": [
    "## Posting Over Time"
   ]
  },
  {
   "cell_type": "code",
   "execution_count": 25,
   "metadata": {
    "ExecuteTime": {
     "end_time": "2017-10-28T15:39:15.318748Z",
     "start_time": "2017-10-28T11:39:15.222821-04:00"
    },
    "collapsed": false
   },
   "outputs": [],
   "source": [
    "#convert from utc\n",
    "filteredCommentFrame[\"creationDatetime\"] = pd.to_datetime(\n",
    "                            filteredCommentFrame[\"created_utc\"],unit = 's')"
   ]
  },
  {
   "cell_type": "code",
   "execution_count": 26,
   "metadata": {
    "ExecuteTime": {
     "end_time": "2017-10-28T15:39:15.734787Z",
     "start_time": "2017-10-28T11:39:15.715364-04:00"
    },
    "collapsed": false
   },
   "outputs": [
    {
     "data": {
      "text/plain": [
       "Timestamp('2009-01-01 02:14:06')"
      ]
     },
     "execution_count": 26,
     "metadata": {},
     "output_type": "execute_result"
    }
   ],
   "source": [
    "filteredCommentFrame[\"creationDatetime\"].min()"
   ]
  },
  {
   "cell_type": "markdown",
   "metadata": {},
   "source": [
    "We see our earliest post in this group of comments is from $2009$. This follows with the claim on the front page of the subreddit that [it has been a community for $8$ years](https://www.reddit.com/r/depression/)."
   ]
  },
  {
   "cell_type": "code",
   "execution_count": 27,
   "metadata": {
    "ExecuteTime": {
     "end_time": "2017-10-28T15:39:21.862552Z",
     "start_time": "2017-10-28T11:39:17.085824-04:00"
    },
    "collapsed": false
   },
   "outputs": [],
   "source": [
    "#just get dates\n",
    "filteredCommentFrame[\"creationDate\"] = pd.to_datetime(\n",
    "                        filteredCommentFrame[\"creationDatetime\"].dt.date)"
   ]
  },
  {
   "cell_type": "code",
   "execution_count": 28,
   "metadata": {
    "ExecuteTime": {
     "end_time": "2017-10-28T15:39:22.309448Z",
     "start_time": "2017-10-28T11:39:21.864328-04:00"
    },
    "collapsed": false
   },
   "outputs": [
    {
     "data": {
      "text/plain": [
       "<matplotlib.text.Text at 0x10d1a90d0>"
      ]
     },
     "execution_count": 28,
     "metadata": {},
     "output_type": "execute_result"
    },
    {
     "data": {
      "image/png": "[encoded data removed]",
      "text/plain": [
       "<matplotlib.figure.Figure at 0x10c6fe1d0>"
      ]
     },
     "metadata": {},
     "output_type": "display_data"
    }
   ],
   "source": [
    "#then get count over time\n",
    "creationDateCountSeries = filteredCommentFrame.groupby(\"creationDate\")[\n",
    "                                                                \"id\"].count()\n",
    "creationDateCountSeries.plot()\n",
    "plt.xlabel(\"Creation Date\")\n",
    "plt.ylabel(\"Count\")\n",
    "plt.title(\"Creation of Comments over Time\")"
   ]
  },
  {
   "cell_type": "markdown",
   "metadata": {},
   "source": [
    "_Figure 3: Creation of Comments Over time._\n",
    "\n",
    "We see a gradual increase in popularity over time in the subreddit, although we see a flattening of users (and some points a decline) between $2013$ and $2015$. We should start to ask why there is a sudden uptick in the usage of the subreddit after $2015$.\n",
    "\n",
    "It would be interesting to study if there is a seasonality uptick at particular points in the year. It is possible that seasonal affective disorder may have a relationship with thread usage."
   ]
  },
  {
   "cell_type": "code",
   "execution_count": 29,
   "metadata": {
    "ExecuteTime": {
     "end_time": "2017-10-28T15:39:22.882184Z",
     "start_time": "2017-10-28T11:39:22.311865-04:00"
    },
    "collapsed": false
   },
   "outputs": [
    {
     "data": {
      "text/plain": [
       "<matplotlib.text.Text at 0x10c60ef10>"
      ]
     },
     "execution_count": 29,
     "metadata": {},
     "output_type": "execute_result"
    },
    {
     "data": {
      "image/png": "[encoded data removed]",
      "text/plain": [
       "<matplotlib.figure.Figure at 0x10d0a0590>"
      ]
     },
     "metadata": {},
     "output_type": "display_data"
    }
   ],
   "source": [
    "#get month\n",
    "filteredCommentFrame[\"creationMonth\"] = filteredCommentFrame[\n",
    "                                                        \"creationDate\"].dt.month\n",
    "#then plot\n",
    "creationMonthCountSeries = filteredCommentFrame.groupby(\"creationMonth\")[\n",
    "                                                                \"id\"].count()\n",
    "creationMonthCountSeries.plot()\n",
    "plt.xlabel(\"Creation Month\")\n",
    "plt.ylabel(\"Comment Count\")\n",
    "plt.title(\"Comment Count Over Month\")"
   ]
  },
  {
   "cell_type": "markdown",
   "metadata": {},
   "source": [
    "_Figure 4: Comment Count Over Month._\n",
    "\n",
    "We see a very interesting phenomena occuring. In particular, we see a drop in users over the winter months and a surge in users over the summer months. This may be an indication of two phenomena:\n",
    "\n",
    "* The school season may dictate the usage of the site. In particular, at times where the school season is just starting, usage of the site tends to drop. Given the typical age of a Reddit user, I wouldn't be surprised if this effect is occuring. That being said, much of my assumptions about the age of Reddit users is informed by observation rather than by demographics.\n",
    "\n",
    "* It is possible that we see a dip in the winter months due to seasonal affective disorder (SAD). While we would expect users with SAD to perhaps look for help during this time, it is possible that people affected by SAD are driven away from their typical behaviors during this particular timeframe.\n",
    "\n",
    "What would be useful is to compare this seasonality to the entirety of reddit in order to validate potential effects that we see. We should also note that what I have suggested is purely conjecture as of this time; we have not performed any causal analysis to prove the above effects."
   ]
  },
  {
   "cell_type": "code",
   "execution_count": 30,
   "metadata": {
    "ExecuteTime": {
     "end_time": "2017-10-28T15:39:25.292869Z",
     "start_time": "2017-10-28T11:39:25.172625-04:00"
    },
    "collapsed": true
   },
   "outputs": [],
   "source": [
    "#check day of the week effects\n",
    "filteredCommentFrame[\"creationDOW\"] = filteredCommentFrame[\n",
    "                                                    \"creationDate\"].dt.dayofweek"
   ]
  },
  {
   "cell_type": "code",
   "execution_count": 31,
   "metadata": {
    "ExecuteTime": {
     "end_time": "2017-10-28T15:39:26.000638Z",
     "start_time": "2017-10-28T11:39:25.494168-04:00"
    },
    "collapsed": false
   },
   "outputs": [
    {
     "data": {
      "text/plain": [
       "<matplotlib.text.Text at 0x10d3ef7d0>"
      ]
     },
     "execution_count": 31,
     "metadata": {},
     "output_type": "execute_result"
    },
    {
     "data": {
      "image/png": "[encoded data removed]",
      "text/plain": [
       "<matplotlib.figure.Figure at 0x10e203a90>"
      ]
     },
     "metadata": {},
     "output_type": "display_data"
    }
   ],
   "source": [
    "#then plot\n",
    "creationDOWCountSeries = filteredCommentFrame.groupby(\"creationDOW\")[\n",
    "                                                                \"id\"].count()\n",
    "creationDOWCountSeries.plot()\n",
    "plt.xlabel(\"Creation Day of Week (Monday = 0)\")\n",
    "plt.ylabel(\"Comment Count\")\n",
    "plt.title(\"Comment Count Over Day of Week\")"
   ]
  },
  {
   "cell_type": "markdown",
   "metadata": {},
   "source": [
    "_Figure 5: Comment Count over Day of Week._\n",
    "\n",
    "We see a pretty typical effect here for posting day of week. the weekdays seem to be peak times of posting, with a steady decline heading into Friday and Saturday. This is likely because people have plans over the weekend that keep them away from their computer. The population who use this subreddit don't seem to stray from typical forum norms despite my original thought that this population would be more irregular than that."
   ]
  },
  {
   "cell_type": "code",
   "execution_count": 32,
   "metadata": {
    "ExecuteTime": {
     "end_time": "2017-10-28T15:39:26.957149Z",
     "start_time": "2017-10-28T11:39:26.847969-04:00"
    },
    "collapsed": true
   },
   "outputs": [],
   "source": [
    "filteredCommentFrame[\"creationHour\"] = filteredCommentFrame[\n",
    "                                    \"creationDatetime\"].dt.hour"
   ]
  },
  {
   "cell_type": "code",
   "execution_count": 33,
   "metadata": {
    "ExecuteTime": {
     "end_time": "2017-10-28T15:39:28.120799Z",
     "start_time": "2017-10-28T11:39:27.597112-04:00"
    },
    "collapsed": false
   },
   "outputs": [
    {
     "data": {
      "text/plain": [
       "<matplotlib.text.Text at 0x10d49cf50>"
      ]
     },
     "execution_count": 33,
     "metadata": {},
     "output_type": "execute_result"
    },
    {
     "data": {
      "image/png": "[encoded data removed]",
      "text/plain": [
       "<matplotlib.figure.Figure at 0x10611f990>"
      ]
     },
     "metadata": {},
     "output_type": "display_data"
    }
   ],
   "source": [
    "#then plot\n",
    "creationHourCountSeries = filteredCommentFrame.groupby(\"creationHour\")[\n",
    "                                                                \"id\"].count()\n",
    "creationHourCountSeries.plot()\n",
    "plt.xlabel(\"Creation Hour\") \n",
    "plt.ylabel(\"Comment Count\")\n",
    "plt.title(\"Comment Count Over Hour\")"
   ]
  },
  {
   "cell_type": "markdown",
   "metadata": {},
   "source": [
    "_Figure 6: Comment Count over Hour._\n",
    "\n",
    "What becomes an issue for interpreting this plot is that it is in UTC rather than our typical EST and PST (because USA). We will note that UTC is 4 hours ahead of EST when interpreting this plot.\n",
    "\n",
    "As expected. the very early morning hours ($6$ AM EST in particular) seem to be a low point in usage for the site, while the size looks to peak in usage from between $4$ PM and $12$ AM EST. This is expected, since the workday likely keeps individuals away from the subreddit, and then the subreddit goes back to relatively high usage when the workday is over."
   ]
  },
  {
   "cell_type": "markdown",
   "metadata": {},
   "source": [
    "## Language\n",
    "\n",
    "Let's begin to study some of the language present in this dataset. Let's study the word distribution present in the dataset.\n",
    "\n",
    "### Distribution of Words"
   ]
  },
  {
   "cell_type": "code",
   "execution_count": 34,
   "metadata": {
    "ExecuteTime": {
     "end_time": "2017-10-28T16:00:44.011342Z",
     "start_time": "2017-10-28T11:39:31.348495-04:00"
    },
    "collapsed": false,
    "run_control": {
     "marked": false
    }
   },
   "outputs": [
    {
     "name": "stdout",
     "output_type": "stream",
     "text": [
      "1758953\n",
      "0\n",
      "10000\n",
      "20000\n",
      "30000\n",
      "40000\n",
      "50000\n",
      "60000\n",
      "70000\n",
      "80000\n",
      "90000\n",
      "100000\n",
      "110000\n",
      "120000\n",
      "130000\n",
      "140000\n",
      "150000\n",
      "160000\n",
      "170000\n",
      "180000\n",
      "190000\n",
      "200000\n",
      "210000\n",
      "220000\n",
      "230000\n",
      "240000\n",
      "250000\n",
      "260000\n",
      "270000\n",
      "280000\n",
      "290000\n",
      "300000\n",
      "310000\n",
      "320000\n",
      "330000\n",
      "340000\n",
      "350000\n",
      "360000\n",
      "370000\n",
      "380000\n",
      "390000\n",
      "400000\n",
      "410000\n",
      "420000\n",
      "430000\n",
      "440000\n",
      "450000\n",
      "460000\n",
      "470000\n",
      "480000\n",
      "490000\n",
      "500000\n",
      "510000\n",
      "520000\n",
      "530000\n",
      "540000\n",
      "550000\n",
      "560000\n",
      "570000\n",
      "580000\n",
      "590000\n",
      "600000\n",
      "610000\n",
      "620000\n",
      "630000\n",
      "640000\n",
      "650000\n",
      "660000\n",
      "670000\n",
      "680000\n",
      "690000\n",
      "700000\n",
      "710000\n",
      "720000\n",
      "730000\n",
      "740000\n",
      "750000\n",
      "760000\n",
      "770000\n",
      "780000\n",
      "790000\n",
      "800000\n",
      "810000\n",
      "820000\n",
      "830000\n",
      "840000\n",
      "850000\n",
      "860000\n",
      "870000\n",
      "880000\n",
      "890000\n",
      "900000\n",
      "910000\n",
      "920000\n",
      "930000\n",
      "940000\n",
      "950000\n",
      "960000\n",
      "970000\n",
      "980000\n",
      "990000\n",
      "1000000\n",
      "1010000\n",
      "1020000\n",
      "1030000\n",
      "1040000\n",
      "1050000\n",
      "1060000\n",
      "1070000\n",
      "1080000\n",
      "1090000\n",
      "1100000\n",
      "1110000\n",
      "1120000\n",
      "1130000\n",
      "1140000\n",
      "1150000\n",
      "1160000\n",
      "1170000\n",
      "1180000\n",
      "1190000\n",
      "1200000\n",
      "1210000\n",
      "1220000\n",
      "1230000\n",
      "1240000\n",
      "1250000\n",
      "1260000\n",
      "1270000\n",
      "1280000\n",
      "1290000\n",
      "1300000\n",
      "1310000\n",
      "1320000\n",
      "1330000\n",
      "1340000\n",
      "1350000\n",
      "1360000\n",
      "1370000\n",
      "1380000\n",
      "1390000\n",
      "1400000\n",
      "1410000\n",
      "1420000\n",
      "1430000\n",
      "1440000\n",
      "1450000\n",
      "1460000\n",
      "1470000\n",
      "1480000\n",
      "1490000\n",
      "1500000\n",
      "1510000\n",
      "1520000\n",
      "1530000\n",
      "1540000\n",
      "1550000\n",
      "1560000\n",
      "1570000\n",
      "1580000\n",
      "1590000\n",
      "1600000\n",
      "1610000\n",
      "1620000\n",
      "1630000\n",
      "1640000\n",
      "1650000\n",
      "1660000\n",
      "1670000\n",
      "1680000\n",
      "1690000\n",
      "1700000\n",
      "1710000\n",
      "1720000\n",
      "1730000\n",
      "1740000\n",
      "1750000\n"
     ]
    }
   ],
   "source": [
    "#get all words into one long list\n",
    "rawWordList = []\n",
    "print(filteredCommentFrame.shape[0])\n",
    "for i in xrange(filteredCommentFrame.shape[0]):\n",
    "    if (i % 10000 == 0): print(i)\n",
    "    tokenizedSentence = nltk.tokenize.word_tokenize(\n",
    "                            filteredCommentFrame[\"body\"].iloc[i].decode(\"utf8\"))\n",
    "    rawWordList.extend(tokenizedSentence)"
   ]
  },
  {
   "cell_type": "code",
   "execution_count": 35,
   "metadata": {
    "ExecuteTime": {
     "end_time": "2017-10-28T16:01:23.956528Z",
     "start_time": "2017-10-28T12:00:44.013378-04:00"
    },
    "collapsed": false
   },
   "outputs": [],
   "source": [
    "filteredWordList = [word.lower() for word in rawWordList] #lowercase everything"
   ]
  },
  {
   "cell_type": "code",
   "execution_count": 36,
   "metadata": {
    "ExecuteTime": {
     "end_time": "2017-10-28T16:01:55.916159Z",
     "start_time": "2017-10-28T12:01:23.968456-04:00"
    },
    "collapsed": true
   },
   "outputs": [],
   "source": [
    "#get legal words and get stop words\n",
    "legalWordSet = set(nltk.corpus.words.words())\n",
    "stopWordSet = set(nltk.corpus.stopwords.words())\n",
    "#then make our filtration\n",
    "filteredWordList = [word for word in filteredWordList\n",
    "                           if word in legalWordSet and\n",
    "                              word not in stopWordSet]"
   ]
  },
  {
   "cell_type": "code",
   "execution_count": 37,
   "metadata": {
    "ExecuteTime": {
     "end_time": "2017-10-28T16:02:12.828849Z",
     "start_time": "2017-10-28T12:01:55.918824-04:00"
    },
    "collapsed": false
   },
   "outputs": [],
   "source": [
    "#create a counter\n",
    "filteredWordCounter = co.Counter(filteredWordList)"
   ]
  },
  {
   "cell_type": "code",
   "execution_count": 38,
   "metadata": {
    "ExecuteTime": {
     "end_time": "2017-10-28T16:02:12.841026Z",
     "start_time": "2017-10-28T12:02:12.830692-04:00"
    },
    "collapsed": true
   },
   "outputs": [],
   "source": [
    "numWords = sum(filteredWordCounter.values())\n",
    "numTokens = len(filteredWordCounter.keys())"
   ]
  },
  {
   "cell_type": "code",
   "execution_count": 39,
   "metadata": {
    "ExecuteTime": {
     "end_time": "2017-10-28T16:02:12.855396Z",
     "start_time": "2017-10-28T12:02:12.846738-04:00"
    },
    "collapsed": false
   },
   "outputs": [
    {
     "name": "stdout",
     "output_type": "stream",
     "text": [
      "41464906\n",
      "35291\n"
     ]
    }
   ],
   "source": [
    "print(numWords)\n",
    "print(numTokens)"
   ]
  },
  {
   "cell_type": "markdown",
   "metadata": {},
   "source": [
    "After all of our filtration to non-stop words and elgal words, we have an extremely small vocabulary. In particular, we have $42$M tokens in our sentences, but only $35$K words. Let's see what the rank distribution looks like."
   ]
  },
  {
   "cell_type": "code",
   "execution_count": 40,
   "metadata": {
    "ExecuteTime": {
     "end_time": "2017-10-28T16:02:18.616492Z",
     "start_time": "2017-10-28T12:02:12.861028-04:00"
    },
    "collapsed": true
   },
   "outputs": [],
   "source": [
    "wordFrequencyFrame = pd.DataFrame(filteredWordCounter.most_common(),\n",
    "                                  columns = [\"Word\",\"Frequency\"])"
   ]
  },
  {
   "cell_type": "code",
   "execution_count": 41,
   "metadata": {
    "ExecuteTime": {
     "end_time": "2017-10-28T16:02:18.632970Z",
     "start_time": "2017-10-28T12:02:18.619437-04:00"
    },
    "collapsed": true
   },
   "outputs": [],
   "source": [
    "wordFrequencyFrame[\"Density\"] = (wordFrequencyFrame[\"Frequency\"] /\n",
    "                                    sum(wordFrequencyFrame[\"Frequency\"]))"
   ]
  },
  {
   "cell_type": "code",
   "execution_count": 42,
   "metadata": {
    "ExecuteTime": {
     "end_time": "2017-10-28T16:02:18.958763Z",
     "start_time": "2017-10-28T12:02:18.634940-04:00"
    },
    "collapsed": false
   },
   "outputs": [
    {
     "data": {
      "text/plain": [
       "<matplotlib.text.Text at 0x3016c77d0>"
      ]
     },
     "execution_count": 42,
     "metadata": {},
     "output_type": "execute_result"
    },
    {
     "data": {
      "image/png": "[encoded data removed]",
      "text/plain": [
       "<matplotlib.figure.Figure at 0x10d565950>"
      ]
     },
     "metadata": {},
     "output_type": "display_data"
    }
   ],
   "source": [
    "#then plot rank-density plot\n",
    "#for the sake of easier visuals, we will log the rank\n",
    "desiredLineWidth = 3\n",
    "plt.plot(np.log(wordFrequencyFrame.index+1),wordFrequencyFrame[\"Density\"],\n",
    "         lw = desiredLineWidth)\n",
    "plt.xlabel(\"Log-Rank\")\n",
    "plt.ylabel(\"Density\")\n",
    "plt.title(\"Log(Rank)-Density Plot\\nFor Words in our Corpus\")"
   ]
  },
  {
   "cell_type": "markdown",
   "metadata": {},
   "source": [
    "_Figure 7: $\\log(Rank)$-Density plot for our corpus._\n",
    "\n",
    "As expected, we see an extremely sparse distribution. Only the top $e^6 \\approx 404$ most frequent words take up the majority of the distribution. This is very typical of language, so I'm not surprised to see this result."
   ]
  },
  {
   "cell_type": "code",
   "execution_count": 43,
   "metadata": {
    "ExecuteTime": {
     "end_time": "2017-10-28T16:02:18.988483Z",
     "start_time": "2017-10-28T12:02:18.961308-04:00"
    },
    "collapsed": false
   },
   "outputs": [
    {
     "data": {
      "text/html": [
       "<div>\n",
       "<table border=\"1\" class=\"dataframe\">\n",
       "  <thead>\n",
       "    <tr style=\"text-align: right;\">\n",
       "      <th></th>\n",
       "      <th>Word</th>\n",
       "      <th>Frequency</th>\n",
       "      <th>Density</th>\n",
       "    </tr>\n",
       "  </thead>\n",
       "  <tbody>\n",
       "    <tr>\n",
       "      <th>0</th>\n",
       "      <td>like</td>\n",
       "      <td>688936</td>\n",
       "      <td>0.017</td>\n",
       "    </tr>\n",
       "    <tr>\n",
       "      <th>1</th>\n",
       "      <td>feel</td>\n",
       "      <td>521535</td>\n",
       "      <td>0.013</td>\n",
       "    </tr>\n",
       "    <tr>\n",
       "      <th>2</th>\n",
       "      <td>people</td>\n",
       "      <td>517888</td>\n",
       "      <td>0.012</td>\n",
       "    </tr>\n",
       "    <tr>\n",
       "      <th>3</th>\n",
       "      <td>get</td>\n",
       "      <td>479925</td>\n",
       "      <td>0.012</td>\n",
       "    </tr>\n",
       "    <tr>\n",
       "      <th>4</th>\n",
       "      <td>know</td>\n",
       "      <td>470995</td>\n",
       "      <td>0.011</td>\n",
       "    </tr>\n",
       "    <tr>\n",
       "      <th>5</th>\n",
       "      <td>really</td>\n",
       "      <td>381104</td>\n",
       "      <td>0.009</td>\n",
       "    </tr>\n",
       "    <tr>\n",
       "      <th>6</th>\n",
       "      <td>think</td>\n",
       "      <td>361188</td>\n",
       "      <td>0.009</td>\n",
       "    </tr>\n",
       "    <tr>\n",
       "      <th>7</th>\n",
       "      <td>life</td>\n",
       "      <td>355951</td>\n",
       "      <td>0.009</td>\n",
       "    </tr>\n",
       "    <tr>\n",
       "      <th>8</th>\n",
       "      <td>time</td>\n",
       "      <td>349284</td>\n",
       "      <td>0.008</td>\n",
       "    </tr>\n",
       "    <tr>\n",
       "      <th>9</th>\n",
       "      <td>would</td>\n",
       "      <td>336561</td>\n",
       "      <td>0.008</td>\n",
       "    </tr>\n",
       "    <tr>\n",
       "      <th>10</th>\n",
       "      <td>one</td>\n",
       "      <td>325131</td>\n",
       "      <td>0.008</td>\n",
       "    </tr>\n",
       "    <tr>\n",
       "      <th>11</th>\n",
       "      <td>depression</td>\n",
       "      <td>306116</td>\n",
       "      <td>0.007</td>\n",
       "    </tr>\n",
       "    <tr>\n",
       "      <th>12</th>\n",
       "      <td>help</td>\n",
       "      <td>294694</td>\n",
       "      <td>0.007</td>\n",
       "    </tr>\n",
       "    <tr>\n",
       "      <th>13</th>\n",
       "      <td>good</td>\n",
       "      <td>293950</td>\n",
       "      <td>0.007</td>\n",
       "    </tr>\n",
       "    <tr>\n",
       "      <th>14</th>\n",
       "      <td>even</td>\n",
       "      <td>286051</td>\n",
       "      <td>0.007</td>\n",
       "    </tr>\n",
       "  </tbody>\n",
       "</table>\n",
       "</div>"
      ],
      "text/plain": [
       "          Word  Frequency  Density\n",
       "0         like     688936    0.017\n",
       "1         feel     521535    0.013\n",
       "2       people     517888    0.012\n",
       "3          get     479925    0.012\n",
       "4         know     470995    0.011\n",
       "5       really     381104    0.009\n",
       "6        think     361188    0.009\n",
       "7         life     355951    0.009\n",
       "8         time     349284    0.008\n",
       "9        would     336561    0.008\n",
       "10         one     325131    0.008\n",
       "11  depression     306116    0.007\n",
       "12        help     294694    0.007\n",
       "13        good     293950    0.007\n",
       "14        even     286051    0.007"
      ]
     },
     "execution_count": 43,
     "metadata": {},
     "output_type": "execute_result"
    }
   ],
   "source": [
    "topLev = 15\n",
    "topFreqFrame = wordFrequencyFrame.iloc[0:topLev,:]\n",
    "topFreqFrame"
   ]
  },
  {
   "cell_type": "markdown",
   "metadata": {},
   "source": [
    "_Table 6: Top $15$ most frequent words in our corpus._\n",
    "\n",
    "We see some expected words show up in the top 15, such as \"depression\" and \"help\" . However, there seems to be a focus on feelings, with words like \"feel\", \"people\", and \"think\" showing up as relatively common words. This suggests feelings and discussion of thoughts and feelings are important in the discussion on this subreddit."
   ]
  },
  {
   "cell_type": "code",
   "execution_count": 44,
   "metadata": {
    "ExecuteTime": {
     "end_time": "2017-10-28T16:02:46.004100Z",
     "start_time": "2017-10-28T12:02:18.991364-04:00"
    },
    "collapsed": true
   },
   "outputs": [],
   "source": [
    "#check top bigrams\n",
    "#first, lowercase all of our raw words\n",
    "rawWordList = [word.lower() for word in rawWordList]"
   ]
  },
  {
   "cell_type": "code",
   "execution_count": 45,
   "metadata": {
    "ExecuteTime": {
     "end_time": "2017-10-28T16:05:36.190725Z",
     "start_time": "2017-10-28T12:02:46.006472-04:00"
    },
    "collapsed": true
   },
   "outputs": [],
   "source": [
    "bigrams = nltk.bigrams(rawWordList)\n",
    "bigramFDist = nltk.FreqDist(bigrams)"
   ]
  },
  {
   "cell_type": "code",
   "execution_count": 46,
   "metadata": {
    "ExecuteTime": {
     "end_time": "2017-10-28T16:06:42.341544Z",
     "start_time": "2017-10-28T12:05:36.192705-04:00"
    },
    "collapsed": true
   },
   "outputs": [],
   "source": [
    "bigramFrame = pd.DataFrame(list(bigramFDist.items()),\n",
    "                           columns = [\"Key\",\"Frequency\"])"
   ]
  },
  {
   "cell_type": "code",
   "execution_count": 47,
   "metadata": {
    "ExecuteTime": {
     "end_time": "2017-10-28T16:06:42.593935Z",
     "start_time": "2017-10-28T12:06:42.344168-04:00"
    },
    "collapsed": false
   },
   "outputs": [],
   "source": [
    "bigramFrame[\"density\"] = (bigramFrame[\"Frequency\"] \n",
    "                          / bigramFrame[\"Frequency\"].sum())"
   ]
  },
  {
   "cell_type": "code",
   "execution_count": 48,
   "metadata": {
    "ExecuteTime": {
     "end_time": "2017-10-28T16:06:45.144420Z",
     "start_time": "2017-10-28T12:06:42.602704-04:00"
    },
    "collapsed": true
   },
   "outputs": [],
   "source": [
    "bigramFrame = bigramFrame.sort_values(\"density\",ascending = False)"
   ]
  },
  {
   "cell_type": "code",
   "execution_count": 49,
   "metadata": {
    "ExecuteTime": {
     "end_time": "2017-10-28T16:06:45.168490Z",
     "start_time": "2017-10-28T12:06:45.146195-04:00"
    },
    "collapsed": false
   },
   "outputs": [
    {
     "data": {
      "text/html": [
       "<div>\n",
       "<table border=\"1\" class=\"dataframe\">\n",
       "  <thead>\n",
       "    <tr style=\"text-align: right;\">\n",
       "      <th></th>\n",
       "      <th>Key</th>\n",
       "      <th>Frequency</th>\n",
       "      <th>density</th>\n",
       "    </tr>\n",
       "  </thead>\n",
       "  <tbody>\n",
       "    <tr>\n",
       "      <th>4020367</th>\n",
       "      <td>(., i)</td>\n",
       "      <td>1682131</td>\n",
       "      <td>0.013</td>\n",
       "    </tr>\n",
       "    <tr>\n",
       "      <th>1155582</th>\n",
       "      <td>(i, 'm)</td>\n",
       "      <td>707012</td>\n",
       "      <td>0.005</td>\n",
       "    </tr>\n",
       "    <tr>\n",
       "      <th>2969194</th>\n",
       "      <td>(do, n't)</td>\n",
       "      <td>606620</td>\n",
       "      <td>0.005</td>\n",
       "    </tr>\n",
       "    <tr>\n",
       "      <th>1155630</th>\n",
       "      <td>(it, 's)</td>\n",
       "      <td>569021</td>\n",
       "      <td>0.004</td>\n",
       "    </tr>\n",
       "    <tr>\n",
       "      <th>4713538</th>\n",
       "      <td>(,, i)</td>\n",
       "      <td>524597</td>\n",
       "      <td>0.004</td>\n",
       "    </tr>\n",
       "    <tr>\n",
       "      <th>3604916</th>\n",
       "      <td>(,, but)</td>\n",
       "      <td>506379</td>\n",
       "      <td>0.004</td>\n",
       "    </tr>\n",
       "    <tr>\n",
       "      <th>2412152</th>\n",
       "      <td>(,, and)</td>\n",
       "      <td>493802</td>\n",
       "      <td>0.004</td>\n",
       "    </tr>\n",
       "    <tr>\n",
       "      <th>577180</th>\n",
       "      <td>(., it)</td>\n",
       "      <td>420220</td>\n",
       "      <td>0.003</td>\n",
       "    </tr>\n",
       "    <tr>\n",
       "      <th>4947609</th>\n",
       "      <td>(i, do)</td>\n",
       "      <td>343684</td>\n",
       "      <td>0.003</td>\n",
       "    </tr>\n",
       "    <tr>\n",
       "      <th>1059565</th>\n",
       "      <td>(if, you)</td>\n",
       "      <td>315935</td>\n",
       "      <td>0.002</td>\n",
       "    </tr>\n",
       "    <tr>\n",
       "      <th>1684162</th>\n",
       "      <td>(and, i)</td>\n",
       "      <td>312228</td>\n",
       "      <td>0.002</td>\n",
       "    </tr>\n",
       "    <tr>\n",
       "      <th>1616658</th>\n",
       "      <td>(., you)</td>\n",
       "      <td>296378</td>\n",
       "      <td>0.002</td>\n",
       "    </tr>\n",
       "    <tr>\n",
       "      <th>139837</th>\n",
       "      <td>(you, 're)</td>\n",
       "      <td>287208</td>\n",
       "      <td>0.002</td>\n",
       "    </tr>\n",
       "    <tr>\n",
       "      <th>1672436</th>\n",
       "      <td>(to, be)</td>\n",
       "      <td>276435</td>\n",
       "      <td>0.002</td>\n",
       "    </tr>\n",
       "    <tr>\n",
       "      <th>4152240</th>\n",
       "      <td>(i, have)</td>\n",
       "      <td>268013</td>\n",
       "      <td>0.002</td>\n",
       "    </tr>\n",
       "  </tbody>\n",
       "</table>\n",
       "</div>"
      ],
      "text/plain": [
       "                Key  Frequency  density\n",
       "4020367      (., i)    1682131    0.013\n",
       "1155582     (i, 'm)     707012    0.005\n",
       "2969194   (do, n't)     606620    0.005\n",
       "1155630    (it, 's)     569021    0.004\n",
       "4713538      (,, i)     524597    0.004\n",
       "3604916    (,, but)     506379    0.004\n",
       "2412152    (,, and)     493802    0.004\n",
       "577180      (., it)     420220    0.003\n",
       "4947609     (i, do)     343684    0.003\n",
       "1059565   (if, you)     315935    0.002\n",
       "1684162    (and, i)     312228    0.002\n",
       "1616658    (., you)     296378    0.002\n",
       "139837   (you, 're)     287208    0.002\n",
       "1672436    (to, be)     276435    0.002\n",
       "4152240   (i, have)     268013    0.002"
      ]
     },
     "execution_count": 49,
     "metadata": {},
     "output_type": "execute_result"
    }
   ],
   "source": [
    "topLev = 15\n",
    "topBigrams = bigramFrame.iloc[0:topLev,:]\n",
    "topBigrams"
   ]
  },
  {
   "cell_type": "markdown",
   "metadata": {},
   "source": [
    "_Table 7: Top $15$ Bigrams in our dataset._\n",
    "\n",
    "We see that there is little interest in the full bigram dataset. This is probably because we included stopwords in this selection for the sake of continuity."
   ]
  },
  {
   "cell_type": "markdown",
   "metadata": {},
   "source": [
    "## Score"
   ]
  },
  {
   "cell_type": "code",
   "execution_count": 50,
   "metadata": {
    "ExecuteTime": {
     "end_time": "2017-10-28T16:06:45.551212Z",
     "start_time": "2017-10-28T12:06:45.171137-04:00"
    },
    "collapsed": false
   },
   "outputs": [
    {
     "data": {
      "text/plain": [
       "count    1.759e+06\n",
       "mean     2.457e+00\n",
       "std      7.449e+00\n",
       "min     -1.280e+02\n",
       "25%      1.000e+00\n",
       "50%      1.000e+00\n",
       "75%      2.000e+00\n",
       "max      2.378e+03\n",
       "Name: score, dtype: float64"
      ]
     },
     "execution_count": 50,
     "metadata": {},
     "output_type": "execute_result"
    }
   ],
   "source": [
    "filteredCommentFrame[\"score\"].describe()"
   ]
  },
  {
   "cell_type": "markdown",
   "metadata": {},
   "source": [
    "_Table 8: Summary Statistics on score._\n",
    "\n",
    "We see we have a large range of values for the score variable in our dataset, but relatively small variance. In particular, the average looks to be close to $2$ to $3,$ With only a standard deviation of around $7$. Let's take a look at the highest scoring and lowest scoring posts."
   ]
  },
  {
   "cell_type": "code",
   "execution_count": 51,
   "metadata": {
    "ExecuteTime": {
     "end_time": "2017-10-28T16:06:45.614134Z",
     "start_time": "2017-10-28T12:06:45.553231-04:00"
    },
    "collapsed": false
   },
   "outputs": [
    {
     "name": "stdout",
     "output_type": "stream",
     "text": [
      "[ \"not at all. I'm mad because I probably won't get into an Ivy League school- seeing girls sell themselves short is just something I hate to see. I vent when I have a shitty day instead of posting a naked body for reaffirmation. Do I feel unintelligent today? Yep. Boyfriend was an asshole today and having a hard time because I got a D in organic chemistry when I'm used to A's, but that doesn't mean I'd take my frustration in my life out on someone else.\"]\n",
      "-128\n"
     ]
    }
   ],
   "source": [
    "#get lowest scoring\n",
    "print(filteredCommentFrame.loc[filteredCommentFrame[\"score\"] ==\n",
    "                         filteredCommentFrame[\"score\"].min(),\"body\"].values)\n",
    "print(filteredCommentFrame[\"score\"].min())"
   ]
  },
  {
   "cell_type": "markdown",
   "metadata": {},
   "source": [
    "It looks like the worst rated text takes on somewhat mysoginistic tones, and looks to present somewhat of a focus on taking frustration out on one's self rather than other individuals. We would likely need to dig up the whole thread to make sense of this comment."
   ]
  },
  {
   "cell_type": "code",
   "execution_count": 52,
   "metadata": {
    "ExecuteTime": {
     "end_time": "2017-10-28T16:06:46.599996Z",
     "start_time": "2017-10-28T12:06:45.616121-04:00"
    },
    "collapsed": false
   },
   "outputs": [
    {
     "name": "stdout",
     "output_type": "stream",
     "text": [
      "[ \"not at all. I'm mad because I probably won't get into an Ivy League school- seeing girls sell themselves short is just something I hate to see. I vent when I have a shitty day instead of posting a naked body for reaffirmation. Do I feel unintelligent today? Yep. Boyfriend was an asshole today and having a hard time because I got a D in organic chemistry when I'm used to A's, but that doesn't mean I'd take my frustration in my life out on someone else.\"]\n",
      "t1_cezpkvj\n"
     ]
    }
   ],
   "source": [
    "givenThread = filteredCommentFrame.loc[filteredCommentFrame[\"score\"] ==\n",
    "                filteredCommentFrame[\"score\"].min(),\"parent_id\"].values[0]\n",
    "givenThreadPosts = filteredCommentFrame[filteredCommentFrame[\"parent_id\"] ==\n",
    "                                        givenThread]\n",
    "givenThreadPosts = givenThreadPosts.sort_values(\"creationDatetime\")\n",
    "print(givenThreadPosts[\"body\"].values)\n",
    "print(givenThread)"
   ]
  },
  {
   "cell_type": "markdown",
   "metadata": {},
   "source": [
    "Upon mining, it looks like the original thread has been [removed from the site](https://www.reddit.com/r/depression/comments/cezpkvj). Thus, it would be difficult to track down the entire thread.\n",
    "\n",
    "Let's check out the highest scoring comment."
   ]
  },
  {
   "cell_type": "code",
   "execution_count": 53,
   "metadata": {
    "ExecuteTime": {
     "end_time": "2017-10-28T16:06:46.663078Z",
     "start_time": "2017-10-28T12:06:46.602145-04:00"
    },
    "collapsed": false
   },
   "outputs": [
    {
     "name": "stdout",
     "output_type": "stream",
     "text": [
      "['Happy Birthday! I hope this is a milestone of your impending greatness.']\n",
      "2378\n"
     ]
    }
   ],
   "source": [
    "print(filteredCommentFrame.loc[filteredCommentFrame[\"score\"] ==\n",
    "                         filteredCommentFrame[\"score\"].max(),\"body\"].values)\n",
    "print(filteredCommentFrame[\"score\"].max())"
   ]
  },
  {
   "cell_type": "markdown",
   "metadata": {},
   "source": [
    "As we can tell, this has an extremely positive tone, supporting the birthday of another individual and implying that this other individual is great. It is interesting that this got so much positive feedback though; This is likely placed on a very popular thread."
   ]
  },
  {
   "cell_type": "markdown",
   "metadata": {},
   "source": [
    "## Controversiality\n",
    "\n",
    "Based on the [current discussions on Reddit](https://www.reddit.com/r/NoStupidQuestions/comments/3xmlh8/what_does_something_being_labeled_controversial/). It looks like the controversiality of a post is dependent upon\n",
    "\n",
    "* How many votes in total occur on the post\n",
    "\n",
    "* How close does this post have to an equal number of ups and downs\n",
    "\n",
    "Let's check out the distribution of this variable."
   ]
  },
  {
   "cell_type": "code",
   "execution_count": 54,
   "metadata": {
    "ExecuteTime": {
     "end_time": "2017-10-28T16:06:47.592145Z",
     "start_time": "2017-10-28T12:06:46.667952-04:00"
    },
    "collapsed": false
   },
   "outputs": [
    {
     "data": {
      "text/html": [
       "<div>\n",
       "<table border=\"1\" class=\"dataframe\">\n",
       "  <thead>\n",
       "    <tr style=\"text-align: right;\">\n",
       "      <th></th>\n",
       "      <th>controversiality</th>\n",
       "      <th>count</th>\n",
       "    </tr>\n",
       "  </thead>\n",
       "  <tbody>\n",
       "    <tr>\n",
       "      <th>0</th>\n",
       "      <td>0</td>\n",
       "      <td>1756101</td>\n",
       "    </tr>\n",
       "    <tr>\n",
       "      <th>1</th>\n",
       "      <td>1</td>\n",
       "      <td>2852</td>\n",
       "    </tr>\n",
       "  </tbody>\n",
       "</table>\n",
       "</div>"
      ],
      "text/plain": [
       "   controversiality    count\n",
       "0                 0  1756101\n",
       "1                 1     2852"
      ]
     },
     "execution_count": 54,
     "metadata": {},
     "output_type": "execute_result"
    }
   ],
   "source": [
    "controversialCountFrame = filteredCommentFrame.groupby(\"controversiality\",\n",
    "                                                as_index = False)[\"id\"].count()\n",
    "controversialCountFrame = controversialCountFrame.rename(\n",
    "                                                columns = {\"id\":\"count\"})\n",
    "#then plot\n",
    "controversialCountFrame"
   ]
  },
  {
   "cell_type": "markdown",
   "metadata": {},
   "source": [
    "_Table 9: Distribution of Controversiality._\n",
    "\n",
    "We see that an extremely limited number of posts have been found to be controversial. This may make it difficult to predict, but it would be interesting to study what language informs the controversiality of a post."
   ]
  },
  {
   "cell_type": "markdown",
   "metadata": {},
   "source": [
    "# Bivariate Relationships\n",
    "\n",
    "Let's start to take a look at the relationships between our variables."
   ]
  },
  {
   "cell_type": "markdown",
   "metadata": {},
   "source": [
    "## Language Over Time\n",
    "\n",
    "Let's see if the distribution of language has changed much over time in an exploratory manner. In this case, we will study the top 15 works over the years."
   ]
  },
  {
   "cell_type": "code",
   "execution_count": null,
   "metadata": {
    "ExecuteTime": {
     "end_time": "2017-10-28T00:58:19.400928Z",
     "start_time": "2017-10-28T00:57:40.852Z"
    },
    "collapsed": true
   },
   "outputs": [],
   "source": [
    "#have some helper functions\n",
    "def getTopWords(givenFrame,topLev,legalWordSet,stopWordSet):\n",
    "    #helper for getting the top topLev words from a givenTextFrame\n",
    "    #first put all the words in a list\n",
    "    rawWordList = []\n",
    "    print(givenFrame.shape[0])\n",
    "    for i in xrange(givenFrame.shape[0]):\n",
    "        if (i % 10000 == 0): print i\n",
    "        tokenizedSentence = nltk.tokenize.word_tokenize(\n",
    "                            givenFrame[\"body\"].iloc[i].decode(\"utf8\"))\n",
    "        rawWordList.extend(tokenizedSentence)\n",
    "    #then do some filtrations\n",
    "    filteredWordList = [word.lower() for word in rawWordList]\n",
    "    filteredWordList = [word for word in filteredWordList \n",
    "                        if word in legalWordSet and word not in stopWordSet]\n",
    "    #place in counter\n",
    "    givenCounter = co.Counter(filteredWordList)\n",
    "    #order in dataframe\n",
    "    orderedWordFrame = pd.DataFrame(givenCounter.most_common(),\n",
    "                                  columns = [\"word\",\"frequency\"])\n",
    "    orderedWordFrame[\"rank\"] = range(orderedWordFrame.shape[0])\n",
    "    topWordFrame = orderedWordFrame.iloc[0:topLev]\n",
    "    return topWordFrame[[\"word\",\"rank\"]]\n",
    "\n",
    "def getTopWordsInYear(givenTextFrame,year,topLev,legalWordSet,stopWordSet):\n",
    "    #helper for getting top words in a given year\n",
    "    givenYearFrame = givenTextFrame[givenTextFrame[\"creationYear\"] == year]\n",
    "    givenYearTopWords = getTopWords(givenYearFrame,topLev,legalWordSet,\n",
    "                                    stopWordSet)\n",
    "    return givenYearTopWords"
   ]
  },
  {
   "cell_type": "code",
   "execution_count": null,
   "metadata": {
    "ExecuteTime": {
     "end_time": "2017-10-28T00:58:19.401381Z",
     "start_time": "2017-10-28T00:57:40.854Z"
    },
    "collapsed": true
   },
   "outputs": [],
   "source": [
    "filteredCommentFrame[\"creationYear\"] = (\n",
    "                                filteredCommentFrame[\"creationDate\"].dt.year)"
   ]
  },
  {
   "cell_type": "code",
   "execution_count": null,
   "metadata": {
    "ExecuteTime": {
     "end_time": "2017-10-28T00:58:19.401917Z",
     "start_time": "2017-10-28T00:57:40.857Z"
    },
    "collapsed": false
   },
   "outputs": [],
   "source": [
    "#get years\n",
    "minYear = filteredCommentFrame[\"creationYear\"].min()\n",
    "maxYear = filteredCommentFrame[\"creationYear\"].max()\n",
    "yearPopularWordFrame = None\n",
    "#then iterate\n",
    "for year in xrange(minYear,maxYear + 1):\n",
    "    topWordFrame = getTopWordsInYear(filteredCommentFrame,year,topLev,\n",
    "                                     legalWordSet,stopWordSet)\n",
    "    topWordFrame = topWordFrame.rename(columns = {\"word\":year})\n",
    "    if (type(yearPopularWordFrame) == type(None)):\n",
    "        yearPopularWordFrame = topWordFrame\n",
    "    else:\n",
    "        yearPopularWordFrame = yearPopularWordFrame.merge(topWordFrame,\n",
    "                                                          on = \"rank\",\n",
    "                                                          how = \"left\")"
   ]
  },
  {
   "cell_type": "code",
   "execution_count": null,
   "metadata": {
    "ExecuteTime": {
     "end_time": "2017-10-28T00:58:19.402496Z",
     "start_time": "2017-10-28T00:57:40.860Z"
    },
    "collapsed": false
   },
   "outputs": [],
   "source": [
    "yearPopularWordFrame"
   ]
  },
  {
   "cell_type": "markdown",
   "metadata": {},
   "source": [
    "_Table 10: The Top 15 most popular words over the years of our dataset._\n",
    "\n",
    "We see that most of the top vocabulary stays pretty similar over the years, although with varying popularity per word. We see that \"people\" and \"feel\" remain popular over the last few years of our dataset, although feel used to not be as popular back in in the earlier days of the subreddit. Interestingly, while Depression looks to increase in usage over time, it seems like the discussion with the word \"depression\" explicitly in it has declined since 2012. The word \"help\" looks to have a similar, if delayed, decline."
   ]
  },
  {
   "cell_type": "code",
   "execution_count": null,
   "metadata": {
    "ExecuteTime": {
     "end_time": "2017-10-28T00:58:19.403083Z",
     "start_time": "2017-10-28T00:57:41.269Z"
    },
    "collapsed": true
   },
   "outputs": [],
   "source": [
    "def getTopWordsInPeriod(givenTextFrame,year,periodName,\n",
    "                        topLev,legalWordSet,stopWordSet):\n",
    "    #helper for getting top words in a given period\n",
    "    givenPeriodFrame = givenTextFrame[givenTextFrame[periodName] == year]\n",
    "    givenPeriodTopWords = getTopWords(givenPeriodFrame,topLev,legalWordSet,\n",
    "                                      stopWordSet)\n",
    "    return givenPeriodTopWords"
   ]
  },
  {
   "cell_type": "code",
   "execution_count": null,
   "metadata": {
    "ExecuteTime": {
     "end_time": "2017-10-28T00:58:19.403661Z",
     "start_time": "2017-10-28T00:57:41.271Z"
    },
    "collapsed": false
   },
   "outputs": [],
   "source": [
    "#get months\n",
    "minMonth = filteredCommentFrame[\"creationMonth\"].min()\n",
    "maxMonth = filteredCommentFrame[\"creationMonth\"].max()\n",
    "monthPopularWordFrame = None\n",
    "#then iterate\n",
    "for month in xrange(minMonth,maxMonth + 1):\n",
    "    topWordFrame = getTopWordsInPeriod(filteredCommentFrame,month,\n",
    "                                       \"creationMonth\",\n",
    "                                       topLev,legalWordSet,stopWordSet)\n",
    "    topWordFrame = topWordFrame.rename(columns = {\"word\":month})\n",
    "    if (type(monthPopularWordFrame) == type(None)):\n",
    "        monthPopularWordFrame = topWordFrame\n",
    "    else:\n",
    "        monthPopularWordFrame = monthPopularWordFrame.merge(topWordFrame,\n",
    "                                                            on = \"rank\",\n",
    "                                                            how = \"left\")"
   ]
  },
  {
   "cell_type": "code",
   "execution_count": null,
   "metadata": {
    "ExecuteTime": {
     "end_time": "2017-10-28T00:58:19.404643Z",
     "start_time": "2017-10-28T00:57:41.276Z"
    },
    "collapsed": false
   },
   "outputs": [],
   "source": [
    "monthPopularWordFrame"
   ]
  },
  {
   "cell_type": "markdown",
   "metadata": {},
   "source": [
    "_Table 11: Top 15 most popular words over the months._\n",
    "\n",
    "We see that the language content does not significantly change over the months present in this dataset. We have more and more evidence that our language does not qualitatively change over time."
   ]
  },
  {
   "cell_type": "code",
   "execution_count": null,
   "metadata": {
    "ExecuteTime": {
     "end_time": "2017-10-28T00:58:19.405904Z",
     "start_time": "2017-10-28T00:57:41.623Z"
    },
    "collapsed": false
   },
   "outputs": [],
   "source": [
    "#get months\n",
    "minHour = filteredCommentFrame[\"creationHour\"].min()\n",
    "maxHour = filteredCommentFrame[\"creationHour\"].max()\n",
    "hourPopularWordFrame = None\n",
    "#then iterate\n",
    "for hour in xrange(minHour,maxHour + 1):\n",
    "    topWordFrame = getTopWordsInPeriod(filteredCommentFrame,hour,\n",
    "                                       \"creationHour\",\n",
    "                                       topLev,legalWordSet,stopWordSet)\n",
    "    topWordFrame = topWordFrame.rename(columns = {\"word\":hour})\n",
    "    if (type(hourPopularWordFrame) == type(None)):\n",
    "        hourPopularWordFrame = topWordFrame\n",
    "    else:\n",
    "        hourPopularWordFrame = hourPopularWordFrame.merge(topWordFrame,\n",
    "                                                            on = \"rank\",\n",
    "                                                            how = \"left\")"
   ]
  },
  {
   "cell_type": "code",
   "execution_count": null,
   "metadata": {
    "ExecuteTime": {
     "end_time": "2017-10-28T00:58:19.406538Z",
     "start_time": "2017-10-28T00:57:41.628Z"
    },
    "collapsed": false
   },
   "outputs": [],
   "source": [
    "numHoursInDay = 24\n",
    "pd.options.display.max_columns = numHoursInDay + 1\n",
    "hourPopularWordFrame"
   ]
  },
  {
   "cell_type": "markdown",
   "metadata": {
    "collapsed": true
   },
   "source": [
    "_Table 12: Top 15 words over hour of the day._\n",
    "\n",
    "We see very little changes to the vocabulary over time when we look at  the hour context."
   ]
  },
  {
   "cell_type": "markdown",
   "metadata": {},
   "source": [
    "## Language as a predictor of score\n",
    "\n",
    "Let's see how our language relates to score. We will predict score using an occurence vector for each document."
   ]
  },
  {
   "cell_type": "code",
   "execution_count": 55,
   "metadata": {
    "ExecuteTime": {
     "end_time": "2017-10-28T16:07:53.668590Z",
     "start_time": "2017-10-28T12:07:53.511584-04:00"
    },
    "collapsed": true
   },
   "outputs": [],
   "source": [
    "#make a vocab dictionary\n",
    "counterList = filteredWordCounter.most_common()\n",
    "vocabDict = {}\n",
    "for i in xrange(len(counterList)):\n",
    "    rankWord = counterList[i][0]\n",
    "    vocabDict[rankWord] = i"
   ]
  },
  {
   "cell_type": "code",
   "execution_count": 56,
   "metadata": {
    "ExecuteTime": {
     "end_time": "2017-10-28T16:09:48.545223Z",
     "start_time": "2017-10-28T12:07:54.373998-04:00"
    },
    "collapsed": false
   },
   "outputs": [],
   "source": [
    "#initialize vectorizer\n",
    "vectorizer = CountVectorizer(min_df=1,stop_words=stopWordSet,\n",
    "                             vocabulary = vocabDict,binary = True)\n",
    "#then fit and transform our comments\n",
    "bagOfOccurenceMatrix = vectorizer.fit_transform(filteredCommentFrame[\"body\"])"
   ]
  },
  {
   "cell_type": "code",
   "execution_count": 57,
   "metadata": {
    "ExecuteTime": {
     "end_time": "2017-10-28T16:10:21.580213Z",
     "start_time": "2017-10-28T12:09:48.564864-04:00"
    },
    "collapsed": false
   },
   "outputs": [],
   "source": [
    "langFrame = pd.DataFrame(bagOfOccurenceMatrix.toarray(),\n",
    "                         columns = vectorizer.get_feature_names())"
   ]
  },
  {
   "cell_type": "code",
   "execution_count": null,
   "metadata": {
    "ExecuteTime": {
     "start_time": "2017-10-28T16:10:50.180Z"
    },
    "collapsed": false
   },
   "outputs": [],
   "source": [
    "#take a sample\n",
    "rows = list(langFrame.index)\n",
    "sampleSize = 100000\n",
    "sampledRows = random.sample(rows,sampleSize)\n",
    "sampledLangFrame = langFrame.loc[sampledRows,:]\n",
    "sampledtarget = filteredCommentFrame[\"score\"].loc[sampledRows]"
   ]
  },
  {
   "cell_type": "code",
   "execution_count": 1,
   "metadata": {
    "ExecuteTime": {
     "end_time": "2017-10-28T01:35:17.713573Z",
     "start_time": "2017-10-27T21:35:17.671317-04:00"
    },
    "collapsed": false
   },
   "outputs": [
    {
     "ename": "NameError",
     "evalue": "name 'lm' is not defined",
     "output_type": "error",
     "traceback": [
      "\u001b[0;31m---------------------------------------------------------------------------\u001b[0m",
      "\u001b[0;31mNameError\u001b[0m                                 Traceback (most recent call last)",
      "\u001b[0;32m<ipython-input-1-13a86c32bbc7>\u001b[0m in \u001b[0;36m<module>\u001b[0;34m()\u001b[0m\n\u001b[1;32m      1\u001b[0m \u001b[0;31m#build model\u001b[0m\u001b[0;34m\u001b[0m\u001b[0;34m\u001b[0m\u001b[0m\n\u001b[0;32m----> 2\u001b[0;31m \u001b[0mscoreMod\u001b[0m \u001b[0;34m=\u001b[0m \u001b[0mlm\u001b[0m\u001b[0;34m.\u001b[0m\u001b[0mSGDRegressor\u001b[0m\u001b[0;34m(\u001b[0m\u001b[0;34m)\u001b[0m \u001b[0;31m#feature reduction\u001b[0m\u001b[0;34m\u001b[0m\u001b[0m\n\u001b[0m\u001b[1;32m      3\u001b[0m \u001b[0mscoreMod\u001b[0m\u001b[0;34m.\u001b[0m\u001b[0mfit\u001b[0m\u001b[0;34m(\u001b[0m\u001b[0mlangFrame\u001b[0m\u001b[0;34m,\u001b[0m\u001b[0mfilteredCommentFrame\u001b[0m\u001b[0;34m[\u001b[0m\u001b[0;34m\"score\"\u001b[0m\u001b[0;34m]\u001b[0m\u001b[0;34m)\u001b[0m\u001b[0;34m\u001b[0m\u001b[0m\n",
      "\u001b[0;31mNameError\u001b[0m: name 'lm' is not defined"
     ]
    }
   ],
   "source": [
    "#build model\n",
    "scoreMod = lm.SGDRegressor() #feature reduction\n",
    "scoreMod.fit(langFrame,filteredCommentFrame[\"score\"])"
   ]
  },
  {
   "cell_type": "markdown",
   "metadata": {
    "collapsed": true
   },
   "source": [
    "FIX:\n",
    "\n",
    "* Fix analysis of main threads to `link_id`; `parent_id` was a different thing."
   ]
  },
  {
   "cell_type": "code",
   "execution_count": null,
   "metadata": {
    "collapsed": true
   },
   "outputs": [],
   "source": []
  }
 ],
 "metadata": {
  "kernelspec": {
   "display_name": "Python 2",
   "language": "python",
   "name": "python2"
  },
  "language_info": {
   "codemirror_mode": {
    "name": "ipython",
    "version": 2
   },
   "file_extension": ".py",
   "mimetype": "text/x-python",
   "name": "python",
   "nbconvert_exporter": "python",
   "pygments_lexer": "ipython2",
   "version": "2.7.10"
  },
  "latex_envs": {
   "bibliofile": "biblio.bib",
   "cite_by": "apalike",
   "current_citInitial": 1,
   "eqLabelWithNumbers": true,
   "eqNumInitial": 0
  },
  "nav_menu": {},
  "toc": {
   "navigate_menu": true,
   "number_sections": false,
   "sideBar": true,
   "threshold": 6,
   "toc_cell": true,
   "toc_section_display": "block",
   "toc_window_display": false
  }
 },
 "nbformat": 4,
 "nbformat_minor": 2
}
