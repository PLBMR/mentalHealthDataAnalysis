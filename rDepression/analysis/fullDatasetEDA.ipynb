{
 "cells": [
  {
   "cell_type": "markdown",
   "metadata": {
    "toc": "true"
   },
   "source": [
    "# Table of Contents\n",
    " <p><div class=\"lev1 toc-item\"><a href=\"#r/depression:-Analysis-of-All-Reddit-Comments\" data-toc-modified-id=\"r/depression:-Analysis-of-All-Reddit-Comments-1\"><span class=\"toc-item-num\">1&nbsp;&nbsp;</span>r/depression: Analysis of All Reddit Comments</a></div><div class=\"lev1 toc-item\"><a href=\"#Dataset-Extraction-Recap\" data-toc-modified-id=\"Dataset-Extraction-Recap-2\"><span class=\"toc-item-num\">2&nbsp;&nbsp;</span>Dataset Extraction Recap</a></div><div class=\"lev1 toc-item\"><a href=\"#Summary-Statistics\" data-toc-modified-id=\"Summary-Statistics-3\"><span class=\"toc-item-num\">3&nbsp;&nbsp;</span>Summary Statistics</a></div><div class=\"lev2 toc-item\"><a href=\"#Investigation-of-data-quality-for-body\" data-toc-modified-id=\"Investigation-of-data-quality-for-body-3.1\"><span class=\"toc-item-num\">3.1&nbsp;&nbsp;</span>Investigation of data quality for <code>body</code></a></div><div class=\"lev2 toc-item\"><a href=\"#Distribution-of-Parent-IDs\" data-toc-modified-id=\"Distribution-of-Parent-IDs-3.2\"><span class=\"toc-item-num\">3.2&nbsp;&nbsp;</span>Distribution of Parent IDs</a></div><div class=\"lev2 toc-item\"><a href=\"#Distribution-of-Authors\" data-toc-modified-id=\"Distribution-of-Authors-3.3\"><span class=\"toc-item-num\">3.3&nbsp;&nbsp;</span>Distribution of Authors</a></div>"
   ]
  },
  {
   "cell_type": "markdown",
   "metadata": {},
   "source": [
    "# r/depression: Analysis of All Reddit Comments\n",
    "\n",
    "_By [Michael Rosenberg](mailto:rosenberg.michael.m@gmail.com)._\n",
    "\n",
    "_**Description**: Contains a short analysis of all reddit comment data that I extracted from [Google BigQuery](https://www.reddit.com/r/bigquery/comments/3cej2b/17_billion_reddit_comments_loaded_on_bigquery/)._\n",
    "\n",
    "_Last Updated: 10/22/2017 5:40 PM EST._"
   ]
  },
  {
   "cell_type": "code",
   "execution_count": 20,
   "metadata": {
    "ExecuteTime": {
     "end_time": "2017-10-22T22:16:18.774581Z",
     "start_time": "2017-10-22T18:16:18.764164-04:00"
    },
    "collapsed": true
   },
   "outputs": [],
   "source": [
    "#imports\n",
    "import pandas as pd\n",
    "import matplotlib.pyplot as plt\n",
    "import seaborn as sns\n",
    "import numpy as np\n",
    "\n",
    "#helpers\n",
    "sigLev = 3\n",
    "%matplotlib inline\n",
    "sns.set_style(\"whitegrid\")\n",
    "pd.options.display.precision = sigLev"
   ]
  },
  {
   "cell_type": "code",
   "execution_count": 2,
   "metadata": {
    "ExecuteTime": {
     "end_time": "2017-10-22T21:41:23.075103Z",
     "start_time": "2017-10-22T17:41:05.792898-04:00"
    },
    "collapsed": true
   },
   "outputs": [],
   "source": [
    "#load in data\n",
    "commentFrame = pd.read_csv(\"../data/raw/allRDepressionData.csv\")"
   ]
  },
  {
   "cell_type": "markdown",
   "metadata": {},
   "source": [
    "# Dataset Extraction Recap\n",
    "\n",
    "We downloaded this dataset on [Google BigQuery](https://www.reddit.com/r/bigquery/comments/3cej2b/17_billion_reddit_comments_loaded_on_bigquery/) using a variant of the command found [here](../code/rDepression_all.sql). This dataset was extracted on 10/22/2017.\n",
    "\n",
    "This is a dataset of comments from the [r/depression](https://www.reddit.com/r/depression/) page. Note that this does not contain submissions, which will be extracted from another dataset later on."
   ]
  },
  {
   "cell_type": "markdown",
   "metadata": {},
   "source": [
    "# Summary Statistics"
   ]
  },
  {
   "cell_type": "code",
   "execution_count": 3,
   "metadata": {
    "ExecuteTime": {
     "end_time": "2017-10-22T21:41:48.620624Z",
     "start_time": "2017-10-22T17:41:48.614703-04:00"
    },
    "collapsed": false
   },
   "outputs": [
    {
     "data": {
      "text/plain": [
       "(2023603, 21)"
      ]
     },
     "execution_count": 3,
     "metadata": {},
     "output_type": "execute_result"
    }
   ],
   "source": [
    "commentFrame.shape"
   ]
  },
  {
   "cell_type": "markdown",
   "metadata": {},
   "source": [
    "We see that this dataset contains $2$ Million Comments. This is a large amount of text to work with, although it isn't currently clear if this is large compared to other available subreddits."
   ]
  },
  {
   "cell_type": "code",
   "execution_count": 4,
   "metadata": {
    "ExecuteTime": {
     "end_time": "2017-10-22T21:42:49.753600Z",
     "start_time": "2017-10-22T17:42:49.747106-04:00"
    },
    "collapsed": false
   },
   "outputs": [
    {
     "data": {
      "text/plain": [
       "Index([u'body', u'score_hidden', u'archived', u'name', u'author',\n",
       "       u'author_flair_text', u'downs', u'created_utc', u'subreddit_id',\n",
       "       u'link_id', u'parent_id', u'score', u'retrieved_on',\n",
       "       u'controversiality', u'gilded', u'id', u'subreddit', u'ups',\n",
       "       u'distinguished', u'author_flair_css_class', u'removal_reason'],\n",
       "      dtype='object')"
      ]
     },
     "execution_count": 4,
     "metadata": {},
     "output_type": "execute_result"
    }
   ],
   "source": [
    "commentFrame.columns"
   ]
  },
  {
   "cell_type": "markdown",
   "metadata": {},
   "source": [
    "We have a few variables that are relevant here:\n",
    "\n",
    "* `body`: The text of the comment.\n",
    "\n",
    "* `score_hidden`: a flag indicating whether the score was hidden. Currently, it is not clear if this option is available for this subreddit.\n",
    "\n",
    "* `archived`: a flag indicating whether the thread was archived.\n",
    "\n",
    "* `name`: not clear what this is yet; Let's do some exploration on this.\n",
    "\n",
    "* `author`: the username of the author who wrote the comment.\n",
    "\n",
    "* `author_flair_text`: the flair text indicated at the bottom of the author. Currently not clear if this is useful text, but we will consider it for now.\n",
    "\n",
    "* `downs`: The number of downs on the score of the comment. It's not clear whether this has been censored or not. We should perhaps check this in our EDA.\n",
    "\n",
    "* `created_utc`: the creation date of the comment in coordinated universal time. We will likely need to translate this into a datetime within Pandas to interpret the timeline of these comments.\n",
    "\n",
    "* `subreddit_id`: the ID of the subreddit the comment was placed on. Again, since all subreddits in this dataset should be `depression`, we should only have one level of `subreddit_id` in this dataset.\n",
    "\n",
    "* `link_id`: Not sure what this is yet. Might need to do some studying.\n",
    "\n",
    "* `parent_id`: the ID of the item these comment is attached to. This indicates the first comment on the particular thread.\n",
    "\n",
    "* `score`: The score of the comment as of 7/30/2017. My best guess is that this is the sum of upvotes and downvotes on a given comment.\n",
    "\n",
    "* `retrieved_on`: not clear if this is when _we_ retrieve the comment or when another group of individuals have retrieved the comment._\n",
    "\n",
    "* `constroversiality`: Some measure of how controversial a comment is. Not clear if these analytics are provided for this thread, but still useful to consider.\n",
    "\n",
    "* `gilded`: Not clear what this is.\n",
    "\n",
    "* `id`: ID of the comment.\n",
    "\n",
    "* `subreddit`: This is the subreddit the comment was placed on. Currently, all subreddits in this dataset should be `depression`.\n",
    "\n",
    "* `ups`: Number of ups on a comment. Not clear if this is provided by this thread or it is censored.\n",
    "\n",
    "* `distinguished`: Not entirely sure what qualifies as a distinguished comment. Again, probably censored.\n",
    "\n",
    "* `author_flair_css_class`: I guess this is the css class associated with the author flair text. Not sure if it's important to consider this when analyzing `author_flair_text`. I doubt it is.\n",
    "\n",
    "* `removal_reason`: the reason for the removal of a particular comment. I am guessing this is a reason code that we will need to perform some lookups for to get the text-based reason for a removal. That being said, we will likely remove these types of comments from our analysis anyway."
   ]
  },
  {
   "cell_type": "code",
   "execution_count": 6,
   "metadata": {
    "ExecuteTime": {
     "end_time": "2017-10-22T21:54:55.798295Z",
     "start_time": "2017-10-22T17:54:51.915513-04:00"
    },
    "collapsed": false
   },
   "outputs": [
    {
     "data": {
      "text/plain": [
       "body                           47\n",
       "score_hidden              1037364\n",
       "archived                  1037364\n",
       "name                      1037364\n",
       "author                          0\n",
       "author_flair_text         2023603\n",
       "downs                     1037364\n",
       "created_utc                     0\n",
       "subreddit_id                    0\n",
       "link_id                         0\n",
       "parent_id                       0\n",
       "score                           0\n",
       "retrieved_on                 2767\n",
       "controversiality                0\n",
       "gilded                          0\n",
       "id                              0\n",
       "subreddit                       0\n",
       "ups                        582300\n",
       "distinguished             2019357\n",
       "author_flair_css_class    2023603\n",
       "removal_reason            2023603\n",
       "dtype: int64"
      ]
     },
     "execution_count": 6,
     "metadata": {},
     "output_type": "execute_result"
    }
   ],
   "source": [
    "#data quality check\n",
    "numNullFrame = commentFrame.apply(lambda x: x[x.isnull()].shape[0],axis = 0)\n",
    "numNullFrame"
   ]
  },
  {
   "cell_type": "markdown",
   "metadata": {},
   "source": [
    "_Table 1: Number of Null observations in our dataset by column._"
   ]
  },
  {
   "cell_type": "markdown",
   "metadata": {},
   "source": [
    "We see we have around $47$ bodies without information whatsoever. We also see sizable amount of nulls in:\n",
    "\n",
    "* `score_hidden`\n",
    "\n",
    "* `archived`\n",
    "\n",
    "* `name`\n",
    "\n",
    "* `author_flair_text`\n",
    "\n",
    "* `downs`\n",
    "\n",
    "* `ups`\n",
    "\n",
    "* `distinguished`\n",
    "\n",
    "* `author_flair_css_class`\n",
    "\n",
    "* `removal_reason`\n",
    "\n",
    "We see almost all observations with null counts for `author_flair_text`, `author_flair_css_class`, and `removal_reason`. For these reasons, we will remove them from the rest of our exploration."
   ]
  },
  {
   "cell_type": "code",
   "execution_count": 7,
   "metadata": {
    "ExecuteTime": {
     "end_time": "2017-10-22T21:58:03.508301Z",
     "start_time": "2017-10-22T17:58:02.891377-04:00"
    },
    "collapsed": true
   },
   "outputs": [],
   "source": [
    "#remove null bodies\n",
    "filteredCommentFrame = commentFrame[commentFrame[\"body\"].notnull()]"
   ]
  },
  {
   "cell_type": "code",
   "execution_count": 8,
   "metadata": {
    "ExecuteTime": {
     "end_time": "2017-10-22T21:58:41.786032Z",
     "start_time": "2017-10-22T17:58:41.228213-04:00"
    },
    "collapsed": true
   },
   "outputs": [],
   "source": [
    "#drop  empty columns\n",
    "droppedColumns = [\"author_flair_text\",\"author_flair_css_class\",\n",
    "                  \"removal_reason\"]\n",
    "filteredCommentFrame = filteredCommentFrame.drop(droppedColumns,axis = 1)"
   ]
  },
  {
   "cell_type": "code",
   "execution_count": 10,
   "metadata": {
    "ExecuteTime": {
     "end_time": "2017-10-22T21:58:58.608166Z",
     "start_time": "2017-10-22T17:58:50.451571-04:00"
    },
    "collapsed": false
   },
   "outputs": [
    {
     "data": {
      "text/plain": [
       "body                1711649\n",
       "score_hidden              1\n",
       "archived                  2\n",
       "name                 985818\n",
       "author               253371\n",
       "downs                     1\n",
       "created_utc         2005312\n",
       "subreddit_id              1\n",
       "link_id              328417\n",
       "parent_id           1160632\n",
       "score                   367\n",
       "retrieved_on        1921960\n",
       "controversiality          2\n",
       "gilded                    4\n",
       "id                  2021454\n",
       "subreddit                 1\n",
       "ups                     334\n",
       "distinguished             1\n",
       "dtype: int64"
      ]
     },
     "execution_count": 10,
     "metadata": {},
     "output_type": "execute_result"
    }
   ],
   "source": [
    "#get number of levels\n",
    "nUniqueFrame = filteredCommentFrame.apply(lambda x: x.nunique(),axis = 0)\n",
    "nUniqueFrame"
   ]
  },
  {
   "cell_type": "markdown",
   "metadata": {},
   "source": [
    "_Table 2: Number of Unique Levels per variable._\n",
    "\n",
    "This provides us with quite a bit of information:\n",
    "\n",
    "* We have many repeated types of comments. Perhaps this is part of the group that are removed from consideration.\n",
    "\n",
    "* We have around 250K authors on this reddit. that's a rate of around $\\frac{2000000}{250000} = \\frac{200}{25} = 8$ comments per author. This suggest some moderate level of interaction on the site, Since I expected there to be more around $[1,2]$ comments per author.\n",
    "\n",
    "* There are a little over $1$ million unique threads. This means there tends to be fewer than $2$ comments per thread, although we will likely see more distributional inequality further in our analysis."
   ]
  },
  {
   "cell_type": "markdown",
   "metadata": {},
   "source": [
    "## Investigation of data quality for `body`"
   ]
  },
  {
   "cell_type": "code",
   "execution_count": 14,
   "metadata": {
    "ExecuteTime": {
     "end_time": "2017-10-22T22:11:11.377864Z",
     "start_time": "2017-10-22T18:11:04.791202-04:00"
    },
    "collapsed": false
   },
   "outputs": [
    {
     "data": {
      "text/html": [
       "<div>\n",
       "<table border=\"1\" class=\"dataframe\">\n",
       "  <thead>\n",
       "    <tr style=\"text-align: right;\">\n",
       "      <th></th>\n",
       "      <th>body</th>\n",
       "      <th>count</th>\n",
       "    </tr>\n",
       "  </thead>\n",
       "  <tbody>\n",
       "    <tr>\n",
       "      <th>1590770</th>\n",
       "      <td>[deleted]</td>\n",
       "      <td>208990</td>\n",
       "    </tr>\n",
       "    <tr>\n",
       "      <th>1591171</th>\n",
       "      <td>[removed]</td>\n",
       "      <td>55613</td>\n",
       "    </tr>\n",
       "    <tr>\n",
       "      <th>1186318</th>\n",
       "      <td>Thank you.</td>\n",
       "      <td>997</td>\n",
       "    </tr>\n",
       "    <tr>\n",
       "      <th>1162179</th>\n",
       "      <td>Thank you</td>\n",
       "      <td>846</td>\n",
       "    </tr>\n",
       "    <tr>\n",
       "      <th>1180368</th>\n",
       "      <td>Thank you!</td>\n",
       "      <td>594</td>\n",
       "    </tr>\n",
       "    <tr>\n",
       "      <th>52559</th>\n",
       "      <td>:)</td>\n",
       "      <td>535</td>\n",
       "    </tr>\n",
       "    <tr>\n",
       "      <th>1193066</th>\n",
       "      <td>Thanks</td>\n",
       "      <td>506</td>\n",
       "    </tr>\n",
       "    <tr>\n",
       "      <th>1162457</th>\n",
       "      <td>Thank you :)</td>\n",
       "      <td>474</td>\n",
       "    </tr>\n",
       "    <tr>\n",
       "      <th>1212052</th>\n",
       "      <td>Thanks!</td>\n",
       "      <td>377</td>\n",
       "    </tr>\n",
       "    <tr>\n",
       "      <th>1088428</th>\n",
       "      <td>Same</td>\n",
       "      <td>359</td>\n",
       "    </tr>\n",
       "    <tr>\n",
       "      <th>1186543</th>\n",
       "      <td>Thank you.</td>\n",
       "      <td>345</td>\n",
       "    </tr>\n",
       "    <tr>\n",
       "      <th>35227</th>\n",
       "      <td>&amp;lt;3</td>\n",
       "      <td>341</td>\n",
       "    </tr>\n",
       "    <tr>\n",
       "      <th>1497024</th>\n",
       "      <td>Yes</td>\n",
       "      <td>340</td>\n",
       "    </tr>\n",
       "    <tr>\n",
       "      <th>1217779</th>\n",
       "      <td>Thanks.</td>\n",
       "      <td>338</td>\n",
       "    </tr>\n",
       "    <tr>\n",
       "      <th>1193297</th>\n",
       "      <td>Thanks :)</td>\n",
       "      <td>327</td>\n",
       "    </tr>\n",
       "    <tr>\n",
       "      <th>51786</th>\n",
       "      <td>:(</td>\n",
       "      <td>299</td>\n",
       "    </tr>\n",
       "    <tr>\n",
       "      <th>1511037</th>\n",
       "      <td>Yes.</td>\n",
       "      <td>292</td>\n",
       "    </tr>\n",
       "    <tr>\n",
       "      <th>1673475</th>\n",
       "      <td>thank you</td>\n",
       "      <td>267</td>\n",
       "    </tr>\n",
       "    <tr>\n",
       "      <th>280889</th>\n",
       "      <td>Happy birthday!</td>\n",
       "      <td>262</td>\n",
       "    </tr>\n",
       "    <tr>\n",
       "      <th>1162213</th>\n",
       "      <td>Thank you</td>\n",
       "      <td>243</td>\n",
       "    </tr>\n",
       "    <tr>\n",
       "      <th>1095755</th>\n",
       "      <td>Same.</td>\n",
       "      <td>189</td>\n",
       "    </tr>\n",
       "    <tr>\n",
       "      <th>950465</th>\n",
       "      <td>Me too</td>\n",
       "      <td>185</td>\n",
       "    </tr>\n",
       "    <tr>\n",
       "      <th>278079</th>\n",
       "      <td>Happy Birthday!</td>\n",
       "      <td>175</td>\n",
       "    </tr>\n",
       "    <tr>\n",
       "      <th>39510</th>\n",
       "      <td>*hugs*</td>\n",
       "      <td>171</td>\n",
       "    </tr>\n",
       "    <tr>\n",
       "      <th>951743</th>\n",
       "      <td>Me too.</td>\n",
       "      <td>171</td>\n",
       "    </tr>\n",
       "    <tr>\n",
       "      <th>1675837</th>\n",
       "      <td>thanks</td>\n",
       "      <td>171</td>\n",
       "    </tr>\n",
       "    <tr>\n",
       "      <th>1666415</th>\n",
       "      <td>same</td>\n",
       "      <td>163</td>\n",
       "    </tr>\n",
       "    <tr>\n",
       "      <th>1436105</th>\n",
       "      <td>Why?</td>\n",
       "      <td>160</td>\n",
       "    </tr>\n",
       "    <tr>\n",
       "      <th>1005289</th>\n",
       "      <td>No.</td>\n",
       "      <td>159</td>\n",
       "    </tr>\n",
       "    <tr>\n",
       "      <th>1703652</th>\n",
       "      <td>yes</td>\n",
       "      <td>159</td>\n",
       "    </tr>\n",
       "  </tbody>\n",
       "</table>\n",
       "</div>"
      ],
      "text/plain": [
       "                    body   count\n",
       "1590770        [deleted]  208990\n",
       "1591171        [removed]   55613\n",
       "1186318       Thank you.     997\n",
       "1162179        Thank you     846\n",
       "1180368       Thank you!     594\n",
       "52559                 :)     535\n",
       "1193066           Thanks     506\n",
       "1162457     Thank you :)     474\n",
       "1212052          Thanks!     377\n",
       "1088428             Same     359\n",
       "1186543      Thank you.      345\n",
       "35227              &lt;3     341\n",
       "1497024              Yes     340\n",
       "1217779          Thanks.     338\n",
       "1193297        Thanks :)     327\n",
       "51786                 :(     299\n",
       "1511037             Yes.     292\n",
       "1673475        thank you     267\n",
       "280889   Happy birthday!     262\n",
       "1162213       Thank you      243\n",
       "1095755            Same.     189\n",
       "950465            Me too     185\n",
       "278079   Happy Birthday!     175\n",
       "39510             *hugs*     171\n",
       "951743           Me too.     171\n",
       "1675837           thanks     171\n",
       "1666415             same     163\n",
       "1436105             Why?     160\n",
       "1005289              No.     159\n",
       "1703652              yes     159"
      ]
     },
     "execution_count": 14,
     "metadata": {},
     "output_type": "execute_result"
    }
   ],
   "source": [
    "bodyFrame = filteredCommentFrame.groupby(\"body\",as_index = False)[\n",
    "                                                                \"score\"].count()\n",
    "bodyFrame = bodyFrame.rename(columns = {\"score\":\"count\"})\n",
    "bodyFrame = bodyFrame.sort_values(\"count\",ascending = False)\n",
    "topLev = 30\n",
    "bodyFrame.iloc[0:topLev]"
   ]
  },
  {
   "cell_type": "markdown",
   "metadata": {},
   "source": [
    "_Table 3: Top Thirty Comments by count._\n",
    "\n",
    "We see that there are a lot of [removed] and [deleted] observations in our dataset. While I don't yet know the difference between these two, they don't really express meaningful language content with the exception of context. Thus, I think I want to remove them from consideration from the dataset."
   ]
  },
  {
   "cell_type": "code",
   "execution_count": 16,
   "metadata": {
    "ExecuteTime": {
     "end_time": "2017-10-22T22:11:29.889262Z",
     "start_time": "2017-10-22T18:11:29.239142-04:00"
    },
    "collapsed": false
   },
   "outputs": [
    {
     "data": {
      "text/plain": [
       "(1758953, 18)"
      ]
     },
     "execution_count": 16,
     "metadata": {},
     "output_type": "execute_result"
    }
   ],
   "source": [
    "filteredCommentFrame = filteredCommentFrame[~(\n",
    "            filteredCommentFrame[\"body\"].isin([\"[removed]\",\"[deleted]\"]))]\n",
    "filteredCommentFrame.shape"
   ]
  },
  {
   "cell_type": "markdown",
   "metadata": {},
   "source": [
    "We are now down to a little under $1.8$ millions comments."
   ]
  },
  {
   "cell_type": "markdown",
   "metadata": {},
   "source": [
    "## Distribution of Parent IDs"
   ]
  },
  {
   "cell_type": "code",
   "execution_count": 21,
   "metadata": {
    "ExecuteTime": {
     "end_time": "2017-10-22T22:16:31.197394Z",
     "start_time": "2017-10-22T18:16:28.159040-04:00"
    },
    "collapsed": false,
    "scrolled": false
   },
   "outputs": [],
   "source": [
    "#get threads by comment count\n",
    "parentFrame = filteredCommentFrame.groupby(\"parent_id\",as_index = False)[\n",
    "                                                            \"score\"].count()\n",
    "parentFrame = parentFrame.rename(columns = {\"score\":\"count\"})\n",
    "parentFrame = parentFrame.sort_values(\"count\",ascending = False)\n",
    "#add rank\n",
    "parentFrame[\"rank\"] = range(parentFrame.shape[0])\n",
    "#add density\n",
    "parentFrame[\"density\"] = parentFrame[\"count\"] / parentFrame[\"count\"].sum()\n",
    "#ad log-rank\n",
    "parentFrame[\"logRank\"] = np.log(parentFrame[\"rank\"] + 1)"
   ]
  },
  {
   "cell_type": "code",
   "execution_count": 24,
   "metadata": {
    "ExecuteTime": {
     "end_time": "2017-10-22T22:17:33.427131Z",
     "start_time": "2017-10-22T18:17:32.848886-04:00"
    },
    "collapsed": false
   },
   "outputs": [
    {
     "data": {
      "text/plain": [
       "<matplotlib.text.Text at 0x112d56550>"
      ]
     },
     "execution_count": 24,
     "metadata": {},
     "output_type": "execute_result"
    },
    {
     "data": {
      "image/png": "[encoded data removed]",
      "text/plain": [
       "<matplotlib.figure.Figure at 0x1100d5c50>"
      ]
     },
     "metadata": {},
     "output_type": "display_data"
    }
   ],
   "source": [
    "#then plot\n",
    "plt.plot(parentFrame[\"logRank\"],parentFrame[\"density\"])\n",
    "plt.xlabel(\"$\\log(rank)$\")\n",
    "plt.ylabel(\"Density\")\n",
    "plt.title(\"Density on $\\log(rank)$ for Thread Comment Count\")"
   ]
  },
  {
   "cell_type": "markdown",
   "metadata": {},
   "source": [
    "_Figure 1: Rank-Density Plot for Thread Comment Count._\n",
    "\n",
    "We see an expected behavior in conversations. Very few threads are incredibly long, and many threads are very short. The density seems to dwindle around $e^{10} \\approx 22000$ top thread counts, Which is still a sizable amount of threads for the distribution."
   ]
  },
  {
   "cell_type": "code",
   "execution_count": 26,
   "metadata": {
    "ExecuteTime": {
     "end_time": "2017-10-22T22:19:58.505553Z",
     "start_time": "2017-10-22T18:19:58.484083-04:00"
    },
    "collapsed": false
   },
   "outputs": [
    {
     "data": {
      "text/html": [
       "<div>\n",
       "<table border=\"1\" class=\"dataframe\">\n",
       "  <thead>\n",
       "    <tr style=\"text-align: right;\">\n",
       "      <th></th>\n",
       "      <th>parent_id</th>\n",
       "      <th>count</th>\n",
       "      <th>rank</th>\n",
       "      <th>density</th>\n",
       "      <th>logRank</th>\n",
       "    </tr>\n",
       "  </thead>\n",
       "  <tbody>\n",
       "    <tr>\n",
       "      <th>961930</th>\n",
       "      <td>t3_5qsba5</td>\n",
       "      <td>1428</td>\n",
       "      <td>0</td>\n",
       "      <td>8.118e-04</td>\n",
       "      <td>0.000</td>\n",
       "    </tr>\n",
       "    <tr>\n",
       "      <th>975288</th>\n",
       "      <td>t3_61w2k1</td>\n",
       "      <td>1027</td>\n",
       "      <td>1</td>\n",
       "      <td>5.839e-04</td>\n",
       "      <td>0.693</td>\n",
       "    </tr>\n",
       "    <tr>\n",
       "      <th>985451</th>\n",
       "      <td>t3_6a7gb9</td>\n",
       "      <td>797</td>\n",
       "      <td>2</td>\n",
       "      <td>4.531e-04</td>\n",
       "      <td>1.099</td>\n",
       "    </tr>\n",
       "    <tr>\n",
       "      <th>1007941</th>\n",
       "      <td>t3_6swsuk</td>\n",
       "      <td>730</td>\n",
       "      <td>3</td>\n",
       "      <td>4.150e-04</td>\n",
       "      <td>1.386</td>\n",
       "    </tr>\n",
       "    <tr>\n",
       "      <th>998550</th>\n",
       "      <td>t3_6lfjbt</td>\n",
       "      <td>603</td>\n",
       "      <td>4</td>\n",
       "      <td>3.428e-04</td>\n",
       "      <td>1.609</td>\n",
       "    </tr>\n",
       "    <tr>\n",
       "      <th>992143</th>\n",
       "      <td>t3_6fx6lt</td>\n",
       "      <td>578</td>\n",
       "      <td>5</td>\n",
       "      <td>3.286e-04</td>\n",
       "      <td>1.792</td>\n",
       "    </tr>\n",
       "    <tr>\n",
       "      <th>755673</th>\n",
       "      <td>t3_1eqtrg</td>\n",
       "      <td>405</td>\n",
       "      <td>6</td>\n",
       "      <td>2.303e-04</td>\n",
       "      <td>1.946</td>\n",
       "    </tr>\n",
       "    <tr>\n",
       "      <th>958600</th>\n",
       "      <td>t3_5o5rhj</td>\n",
       "      <td>346</td>\n",
       "      <td>7</td>\n",
       "      <td>1.967e-04</td>\n",
       "      <td>2.079</td>\n",
       "    </tr>\n",
       "    <tr>\n",
       "      <th>830021</th>\n",
       "      <td>t3_2vv8ll</td>\n",
       "      <td>317</td>\n",
       "      <td>8</td>\n",
       "      <td>1.802e-04</td>\n",
       "      <td>2.197</td>\n",
       "    </tr>\n",
       "    <tr>\n",
       "      <th>935593</th>\n",
       "      <td>t3_56h4vf</td>\n",
       "      <td>288</td>\n",
       "      <td>9</td>\n",
       "      <td>1.637e-04</td>\n",
       "      <td>2.303</td>\n",
       "    </tr>\n",
       "  </tbody>\n",
       "</table>\n",
       "</div>"
      ],
      "text/plain": [
       "         parent_id  count  rank    density  logRank\n",
       "961930   t3_5qsba5   1428     0  8.118e-04    0.000\n",
       "975288   t3_61w2k1   1027     1  5.839e-04    0.693\n",
       "985451   t3_6a7gb9    797     2  4.531e-04    1.099\n",
       "1007941  t3_6swsuk    730     3  4.150e-04    1.386\n",
       "998550   t3_6lfjbt    603     4  3.428e-04    1.609\n",
       "992143   t3_6fx6lt    578     5  3.286e-04    1.792\n",
       "755673   t3_1eqtrg    405     6  2.303e-04    1.946\n",
       "958600   t3_5o5rhj    346     7  1.967e-04    2.079\n",
       "830021   t3_2vv8ll    317     8  1.802e-04    2.197\n",
       "935593   t3_56h4vf    288     9  1.637e-04    2.303"
      ]
     },
     "execution_count": 26,
     "metadata": {},
     "output_type": "execute_result"
    }
   ],
   "source": [
    "#get top thread ids\n",
    "topLev = 10\n",
    "topThreadFrame = parentFrame.iloc[0:topLev]\n",
    "topThreadFrame"
   ]
  },
  {
   "cell_type": "markdown",
   "metadata": {
    "collapsed": true
   },
   "source": [
    "_Table 4: Our top 10 Threads by Count._\n",
    "\n",
    "We see the most popular parent ID is associated with a [large check-in thread](https://www.reddit.com/r/depression/comments/5qsba5). In particular, this is a weekly check-in thread that is \"a place to take a moment and share what is going on and how you are doing.\" It started around $8$ months ago, so it's surprising how robust the comment count is for this particular thread.\n",
    "\n",
    "We see the second most popular thread is also another [weekly check-in thread](https://www.reddit.com/r/depression/comments/61w2k1/rdepression_weekly_check_in/). It is possible that we will find many of these evident in our discourse, and they suggest an environment in which individuals are looking after one another over the internet."
   ]
  },
  {
   "cell_type": "markdown",
   "metadata": {},
   "source": [
    "## Distribution of Authors"
   ]
  },
  {
   "cell_type": "code",
   "execution_count": 28,
   "metadata": {
    "ExecuteTime": {
     "end_time": "2017-10-22T22:31:19.986293Z",
     "start_time": "2017-10-22T18:31:18.740753-04:00"
    },
    "collapsed": false
   },
   "outputs": [],
   "source": [
    "#get threads by comment count\n",
    "authorFrame = filteredCommentFrame.groupby(\"author\",as_index = False)[\n",
    "                                                            \"score\"].count()\n",
    "authorFrame = authorFrame.rename(columns = {\"score\":\"count\"})\n",
    "authorFrame = authorFrame.sort_values(\"count\",ascending = False)\n",
    "#add rank\n",
    "authorFrame[\"rank\"] = range(authorFrame.shape[0])\n",
    "#add density\n",
    "authorFrame[\"density\"] = authorFrame[\"count\"] / authorFrame[\"count\"].sum()\n",
    "#ad log-rank\n",
    "authorFrame[\"logRank\"] = np.log(authorFrame[\"rank\"] + 1)"
   ]
  },
  {
   "cell_type": "code",
   "execution_count": 29,
   "metadata": {
    "ExecuteTime": {
     "end_time": "2017-10-22T22:31:45.233827Z",
     "start_time": "2017-10-22T18:31:44.849542-04:00"
    },
    "collapsed": false
   },
   "outputs": [
    {
     "data": {
      "text/plain": [
       "<matplotlib.text.Text at 0x1134958d0>"
      ]
     },
     "execution_count": 29,
     "metadata": {},
     "output_type": "execute_result"
    },
    {
     "data": {
      "image/png": "[encoded data removed]",
      "text/plain": [
       "<matplotlib.figure.Figure at 0x1133a7890>"
      ]
     },
     "metadata": {},
     "output_type": "display_data"
    }
   ],
   "source": [
    "#then plot\n",
    "plt.plot(authorFrame[\"logRank\"],authorFrame[\"density\"])\n",
    "plt.xlabel(\"$\\log(rank)$\")\n",
    "plt.ylabel(\"Density\")\n",
    "plt.title(\"Density on $\\log(rank)$ for Author Comment Count\")"
   ]
  },
  {
   "cell_type": "markdown",
   "metadata": {},
   "source": [
    "_Figure 2: Authors by comment count._\n",
    "\n",
    "We see one author hogging a huge amount of the distribution. Let's check out what this author is."
   ]
  },
  {
   "cell_type": "code",
   "execution_count": 30,
   "metadata": {
    "ExecuteTime": {
     "end_time": "2017-10-22T22:33:22.610417Z",
     "start_time": "2017-10-22T18:33:22.591512-04:00"
    },
    "collapsed": false
   },
   "outputs": [
    {
     "data": {
      "text/html": [
       "<div>\n",
       "<table border=\"1\" class=\"dataframe\">\n",
       "  <thead>\n",
       "    <tr style=\"text-align: right;\">\n",
       "      <th></th>\n",
       "      <th>author</th>\n",
       "      <th>count</th>\n",
       "      <th>rank</th>\n",
       "      <th>density</th>\n",
       "      <th>logRank</th>\n",
       "    </tr>\n",
       "  </thead>\n",
       "  <tbody>\n",
       "    <tr>\n",
       "      <th>116876</th>\n",
       "      <td>[deleted]</td>\n",
       "      <td>92820</td>\n",
       "      <td>0</td>\n",
       "      <td>5.277e-02</td>\n",
       "      <td>0.000</td>\n",
       "    </tr>\n",
       "    <tr>\n",
       "      <th>87510</th>\n",
       "      <td>SQLwitch</td>\n",
       "      <td>2789</td>\n",
       "      <td>1</td>\n",
       "      <td>1.586e-03</td>\n",
       "      <td>0.693</td>\n",
       "    </tr>\n",
       "    <tr>\n",
       "      <th>193542</th>\n",
       "      <td>mobiuschick</td>\n",
       "      <td>2360</td>\n",
       "      <td>2</td>\n",
       "      <td>1.342e-03</td>\n",
       "      <td>1.099</td>\n",
       "    </tr>\n",
       "    <tr>\n",
       "      <th>222354</th>\n",
       "      <td>skyqween</td>\n",
       "      <td>2203</td>\n",
       "      <td>3</td>\n",
       "      <td>1.252e-03</td>\n",
       "      <td>1.386</td>\n",
       "    </tr>\n",
       "    <tr>\n",
       "      <th>196564</th>\n",
       "      <td>mytwocats11</td>\n",
       "      <td>2177</td>\n",
       "      <td>4</td>\n",
       "      <td>1.238e-03</td>\n",
       "      <td>1.609</td>\n",
       "    </tr>\n",
       "    <tr>\n",
       "      <th>190233</th>\n",
       "      <td>mcfattykins</td>\n",
       "      <td>2006</td>\n",
       "      <td>5</td>\n",
       "      <td>1.140e-03</td>\n",
       "      <td>1.792</td>\n",
       "    </tr>\n",
       "    <tr>\n",
       "      <th>13272</th>\n",
       "      <td>Bhruic</td>\n",
       "      <td>1899</td>\n",
       "      <td>6</td>\n",
       "      <td>1.080e-03</td>\n",
       "      <td>1.946</td>\n",
       "    </tr>\n",
       "    <tr>\n",
       "      <th>207554</th>\n",
       "      <td>poisontongue</td>\n",
       "      <td>1738</td>\n",
       "      <td>7</td>\n",
       "      <td>9.881e-04</td>\n",
       "      <td>2.079</td>\n",
       "    </tr>\n",
       "    <tr>\n",
       "      <th>134322</th>\n",
       "      <td>cacktastic</td>\n",
       "      <td>1637</td>\n",
       "      <td>8</td>\n",
       "      <td>9.307e-04</td>\n",
       "      <td>2.197</td>\n",
       "    </tr>\n",
       "    <tr>\n",
       "      <th>87345</th>\n",
       "      <td>SH2355</td>\n",
       "      <td>1546</td>\n",
       "      <td>9</td>\n",
       "      <td>8.789e-04</td>\n",
       "      <td>2.303</td>\n",
       "    </tr>\n",
       "  </tbody>\n",
       "</table>\n",
       "</div>"
      ],
      "text/plain": [
       "              author  count  rank    density  logRank\n",
       "116876     [deleted]  92820     0  5.277e-02    0.000\n",
       "87510       SQLwitch   2789     1  1.586e-03    0.693\n",
       "193542   mobiuschick   2360     2  1.342e-03    1.099\n",
       "222354      skyqween   2203     3  1.252e-03    1.386\n",
       "196564   mytwocats11   2177     4  1.238e-03    1.609\n",
       "190233   mcfattykins   2006     5  1.140e-03    1.792\n",
       "13272         Bhruic   1899     6  1.080e-03    1.946\n",
       "207554  poisontongue   1738     7  9.881e-04    2.079\n",
       "134322    cacktastic   1637     8  9.307e-04    2.197\n",
       "87345         SH2355   1546     9  8.789e-04    2.303"
      ]
     },
     "execution_count": 30,
     "metadata": {},
     "output_type": "execute_result"
    }
   ],
   "source": [
    "topAuthorFrame = authorFrame.iloc[0:topLev]\n",
    "topAuthorFrame"
   ]
  },
  {
   "cell_type": "markdown",
   "metadata": {},
   "source": [
    "_Table 5: Top 10 Authors by comment count._\n",
    "\n",
    "We see an enormous amount of observations come from deleted accounts. We can think of these as comments that are current unattributed to a particular author. While for most of our analysis, having indicators on the author likely won't matter, it will likely matter quite a bit when we do some forms of conversation modeling on our dataset.\n",
    "\n",
    "Besides this, we see we have some commenters who exist in the $[2000,3000]$ range for number of comments. This is a sizable amount of the distribution, and suggests data sparsity in terms of the commenters that are likely to exist in the dataset."
   ]
  },
  {
   "cell_type": "code",
   "execution_count": null,
   "metadata": {
    "collapsed": true
   },
   "outputs": [],
   "source": []
  }
 ],
 "metadata": {
  "kernelspec": {
   "display_name": "Python 2",
   "language": "python",
   "name": "python2"
  },
  "language_info": {
   "codemirror_mode": {
    "name": "ipython",
    "version": 2
   },
   "file_extension": ".py",
   "mimetype": "text/x-python",
   "name": "python",
   "nbconvert_exporter": "python",
   "pygments_lexer": "ipython2",
   "version": "2.7.10"
  },
  "latex_envs": {
   "bibliofile": "biblio.bib",
   "cite_by": "apalike",
   "current_citInitial": 1,
   "eqLabelWithNumbers": true,
   "eqNumInitial": 0
  },
  "nav_menu": {},
  "toc": {
   "navigate_menu": true,
   "number_sections": false,
   "sideBar": true,
   "threshold": 6,
   "toc_cell": true,
   "toc_section_display": "block",
   "toc_window_display": false
  }
 },
 "nbformat": 4,
 "nbformat_minor": 2
}
