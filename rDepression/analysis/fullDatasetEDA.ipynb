{
 "cells": [
  {
   "cell_type": "markdown",
   "metadata": {
    "toc": "true"
   },
   "source": [
    "# Table of Contents\n",
    " <p><div class=\"lev1 toc-item\"><a href=\"#r/depression:-Analysis-of-All-Reddit-Comments\" data-toc-modified-id=\"r/depression:-Analysis-of-All-Reddit-Comments-1\"><span class=\"toc-item-num\">1&nbsp;&nbsp;</span>r/depression: Analysis of All Reddit Comments</a></div><div class=\"lev1 toc-item\"><a href=\"#Dataset-Extraction-Recap\" data-toc-modified-id=\"Dataset-Extraction-Recap-2\"><span class=\"toc-item-num\">2&nbsp;&nbsp;</span>Dataset Extraction Recap</a></div><div class=\"lev1 toc-item\"><a href=\"#Summary-Statistics\" data-toc-modified-id=\"Summary-Statistics-3\"><span class=\"toc-item-num\">3&nbsp;&nbsp;</span>Summary Statistics</a></div><div class=\"lev2 toc-item\"><a href=\"#Investigation-of-data-quality-for-body\" data-toc-modified-id=\"Investigation-of-data-quality-for-body-3.1\"><span class=\"toc-item-num\">3.1&nbsp;&nbsp;</span>Investigation of data quality for <code>body</code></a></div><div class=\"lev2 toc-item\"><a href=\"#Distribution-of-Parent-IDs\" data-toc-modified-id=\"Distribution-of-Parent-IDs-3.2\"><span class=\"toc-item-num\">3.2&nbsp;&nbsp;</span>Distribution of Parent IDs</a></div><div class=\"lev2 toc-item\"><a href=\"#Distribution-of-Authors\" data-toc-modified-id=\"Distribution-of-Authors-3.3\"><span class=\"toc-item-num\">3.3&nbsp;&nbsp;</span>Distribution of Authors</a></div><div class=\"lev2 toc-item\"><a href=\"#Posting-Over-Time\" data-toc-modified-id=\"Posting-Over-Time-3.4\"><span class=\"toc-item-num\">3.4&nbsp;&nbsp;</span>Posting Over Time</a></div><div class=\"lev2 toc-item\"><a href=\"#Language\" data-toc-modified-id=\"Language-3.5\"><span class=\"toc-item-num\">3.5&nbsp;&nbsp;</span>Language</a></div><div class=\"lev3 toc-item\"><a href=\"#Distribution-of-Words\" data-toc-modified-id=\"Distribution-of-Words-3.5.1\"><span class=\"toc-item-num\">3.5.1&nbsp;&nbsp;</span>Distribution of Words</a></div><div class=\"lev2 toc-item\"><a href=\"#Score\" data-toc-modified-id=\"Score-3.6\"><span class=\"toc-item-num\">3.6&nbsp;&nbsp;</span>Score</a></div><div class=\"lev2 toc-item\"><a href=\"#Controversiality\" data-toc-modified-id=\"Controversiality-3.7\"><span class=\"toc-item-num\">3.7&nbsp;&nbsp;</span>Controversiality</a></div><div class=\"lev1 toc-item\"><a href=\"#Bivariate-Relationships\" data-toc-modified-id=\"Bivariate-Relationships-4\"><span class=\"toc-item-num\">4&nbsp;&nbsp;</span>Bivariate Relationships</a></div><div class=\"lev2 toc-item\"><a href=\"#Language-Over-Time\" data-toc-modified-id=\"Language-Over-Time-4.1\"><span class=\"toc-item-num\">4.1&nbsp;&nbsp;</span>Language Over Time</a></div>"
   ]
  },
  {
   "cell_type": "markdown",
   "metadata": {},
   "source": [
    "# r/depression: Analysis of All Reddit Comments\n",
    "\n",
    "_By [Michael Rosenberg](mailto:rosenberg.michael.m@gmail.com)._\n",
    "\n",
    "_**Description**: Contains a short analysis of all reddit comment data that I extracted from [Google BigQuery](https://www.reddit.com/r/bigquery/comments/3cej2b/17_billion_reddit_comments_loaded_on_bigquery/)._\n",
    "\n",
    "_Last Updated: 10/22/2017 5:40 PM EST._"
   ]
  },
  {
   "cell_type": "code",
   "execution_count": 1,
   "metadata": {
    "ExecuteTime": {
     "end_time": "2017-10-25T01:33:52.718738Z",
     "start_time": "2017-10-24T21:33:49.298784-04:00"
    },
    "collapsed": true
   },
   "outputs": [],
   "source": [
    "#imports\n",
    "import pandas as pd\n",
    "import matplotlib.pyplot as plt\n",
    "import seaborn as sns\n",
    "import numpy as np\n",
    "import nltk #for relevant corpora\n",
    "import collections as co #for ordered dictionary\n",
    "import StringIO #for string manipulation\n",
    "\n",
    "#helpers\n",
    "sigLev = 3\n",
    "%matplotlib inline\n",
    "sns.set_style(\"whitegrid\")\n",
    "pd.options.display.precision = sigLev"
   ]
  },
  {
   "cell_type": "code",
   "execution_count": 2,
   "metadata": {
    "ExecuteTime": {
     "end_time": "2017-10-25T01:34:25.336287Z",
     "start_time": "2017-10-24T21:33:52.729691-04:00"
    },
    "collapsed": true
   },
   "outputs": [],
   "source": [
    "#load in data\n",
    "commentFrame = pd.read_csv(\"../data/raw/allRDepressionData.csv\")"
   ]
  },
  {
   "cell_type": "markdown",
   "metadata": {},
   "source": [
    "# Dataset Extraction Recap\n",
    "\n",
    "We downloaded this dataset on [Google BigQuery](https://www.reddit.com/r/bigquery/comments/3cej2b/17_billion_reddit_comments_loaded_on_bigquery/) using a variant of the command found [here](../code/rDepression_all.sql). This dataset was extracted on 10/22/2017.\n",
    "\n",
    "This is a dataset of comments from the [r/depression](https://www.reddit.com/r/depression/) page. Note that this does not contain submissions, which will be extracted from another dataset later on."
   ]
  },
  {
   "cell_type": "markdown",
   "metadata": {},
   "source": [
    "# Summary Statistics"
   ]
  },
  {
   "cell_type": "code",
   "execution_count": 3,
   "metadata": {
    "ExecuteTime": {
     "end_time": "2017-10-25T01:34:25.424531Z",
     "start_time": "2017-10-24T21:34:25.386207-04:00"
    },
    "collapsed": false
   },
   "outputs": [
    {
     "data": {
      "text/plain": [
       "(2023603, 21)"
      ]
     },
     "execution_count": 3,
     "metadata": {},
     "output_type": "execute_result"
    }
   ],
   "source": [
    "commentFrame.shape"
   ]
  },
  {
   "cell_type": "markdown",
   "metadata": {},
   "source": [
    "We see that this dataset contains $2$ Million Comments. This is a large amount of text to work with, although it isn't currently clear if this is large compared to other available subreddits."
   ]
  },
  {
   "cell_type": "code",
   "execution_count": 4,
   "metadata": {
    "ExecuteTime": {
     "end_time": "2017-10-25T01:34:25.438629Z",
     "start_time": "2017-10-24T21:34:25.430089-04:00"
    },
    "collapsed": false
   },
   "outputs": [
    {
     "data": {
      "text/plain": [
       "Index([u'body', u'score_hidden', u'archived', u'name', u'author',\n",
       "       u'author_flair_text', u'downs', u'created_utc', u'subreddit_id',\n",
       "       u'link_id', u'parent_id', u'score', u'retrieved_on',\n",
       "       u'controversiality', u'gilded', u'id', u'subreddit', u'ups',\n",
       "       u'distinguished', u'author_flair_css_class', u'removal_reason'],\n",
       "      dtype='object')"
      ]
     },
     "execution_count": 4,
     "metadata": {},
     "output_type": "execute_result"
    }
   ],
   "source": [
    "commentFrame.columns"
   ]
  },
  {
   "cell_type": "markdown",
   "metadata": {},
   "source": [
    "We have a few variables that are relevant here:\n",
    "\n",
    "* `body`: The text of the comment.\n",
    "\n",
    "* `score_hidden`: a flag indicating whether the score was hidden. Currently, it is not clear if this option is available for this subreddit.\n",
    "\n",
    "* `archived`: a flag indicating whether the thread was archived.\n",
    "\n",
    "* `name`: not clear what this is yet; Let's do some exploration on this.\n",
    "\n",
    "* `author`: the username of the author who wrote the comment.\n",
    "\n",
    "* `author_flair_text`: the flair text indicated at the bottom of the author. Currently not clear if this is useful text, but we will consider it for now.\n",
    "\n",
    "* `downs`: The number of downs on the score of the comment. It's not clear whether this has been censored or not. We should perhaps check this in our EDA.\n",
    "\n",
    "* `created_utc`: the creation date of the comment in coordinated universal time. We will likely need to translate this into a datetime within Pandas to interpret the timeline of these comments.\n",
    "\n",
    "* `subreddit_id`: the ID of the subreddit the comment was placed on. Again, since all subreddits in this dataset should be `depression`, we should only have one level of `subreddit_id` in this dataset.\n",
    "\n",
    "* `link_id`: Not sure what this is yet. Might need to do some studying.\n",
    "\n",
    "* `parent_id`: the ID of the item these comment is attached to. This indicates the first comment on the particular thread.\n",
    "\n",
    "* `score`: The score of the comment as of 7/30/2017. My best guess is that this is the sum of upvotes and downvotes on a given comment.\n",
    "\n",
    "* `retrieved_on`: not clear if this is when _we_ retrieve the comment or when another group of individuals have retrieved the comment._\n",
    "\n",
    "* `constroversiality`: Some measure of how controversial a comment is. Not clear if these analytics are provided for this thread, but still useful to consider.\n",
    "\n",
    "* `gilded`: Not clear what this is.\n",
    "\n",
    "* `id`: ID of the comment.\n",
    "\n",
    "* `subreddit`: This is the subreddit the comment was placed on. Currently, all subreddits in this dataset should be `depression`.\n",
    "\n",
    "* `ups`: Number of ups on a comment. Not clear if this is provided by this thread or it is censored.\n",
    "\n",
    "* `distinguished`: Not entirely sure what qualifies as a distinguished comment. Again, probably censored.\n",
    "\n",
    "* `author_flair_css_class`: I guess this is the css class associated with the author flair text. Not sure if it's important to consider this when analyzing `author_flair_text`. I doubt it is.\n",
    "\n",
    "* `removal_reason`: the reason for the removal of a particular comment. I am guessing this is a reason code that we will need to perform some lookups for to get the text-based reason for a removal. That being said, we will likely remove these types of comments from our analysis anyway."
   ]
  },
  {
   "cell_type": "code",
   "execution_count": 5,
   "metadata": {
    "ExecuteTime": {
     "end_time": "2017-10-25T01:34:32.887829Z",
     "start_time": "2017-10-24T21:34:25.455214-04:00"
    },
    "collapsed": false
   },
   "outputs": [
    {
     "data": {
      "text/plain": [
       "body                           47\n",
       "score_hidden              1037364\n",
       "archived                  1037364\n",
       "name                      1037364\n",
       "author                          0\n",
       "author_flair_text         2023603\n",
       "downs                     1037364\n",
       "created_utc                     0\n",
       "subreddit_id                    0\n",
       "link_id                         0\n",
       "parent_id                       0\n",
       "score                           0\n",
       "retrieved_on                 2767\n",
       "controversiality                0\n",
       "gilded                          0\n",
       "id                              0\n",
       "subreddit                       0\n",
       "ups                        582300\n",
       "distinguished             2019357\n",
       "author_flair_css_class    2023603\n",
       "removal_reason            2023603\n",
       "dtype: int64"
      ]
     },
     "execution_count": 5,
     "metadata": {},
     "output_type": "execute_result"
    }
   ],
   "source": [
    "#data quality check\n",
    "numNullFrame = commentFrame.apply(lambda x: x[x.isnull()].shape[0],axis = 0)\n",
    "numNullFrame"
   ]
  },
  {
   "cell_type": "markdown",
   "metadata": {},
   "source": [
    "_Table 1: Number of Null observations in our dataset by column._"
   ]
  },
  {
   "cell_type": "markdown",
   "metadata": {},
   "source": [
    "We see we have around $47$ bodies without information whatsoever. We also see sizable amount of nulls in:\n",
    "\n",
    "* `score_hidden`\n",
    "\n",
    "* `archived`\n",
    "\n",
    "* `name`\n",
    "\n",
    "* `author_flair_text`\n",
    "\n",
    "* `downs`\n",
    "\n",
    "* `ups`\n",
    "\n",
    "* `distinguished`\n",
    "\n",
    "* `author_flair_css_class`\n",
    "\n",
    "* `removal_reason`\n",
    "\n",
    "We see almost all observations with null counts for `author_flair_text`, `author_flair_css_class`, and `removal_reason`. For these reasons, we will remove them from the rest of our exploration."
   ]
  },
  {
   "cell_type": "code",
   "execution_count": 6,
   "metadata": {
    "ExecuteTime": {
     "end_time": "2017-10-25T01:34:33.792528Z",
     "start_time": "2017-10-24T21:34:32.893824-04:00"
    },
    "collapsed": true
   },
   "outputs": [],
   "source": [
    "#remove null bodies\n",
    "filteredCommentFrame = commentFrame[commentFrame[\"body\"].notnull()]"
   ]
  },
  {
   "cell_type": "code",
   "execution_count": 7,
   "metadata": {
    "ExecuteTime": {
     "end_time": "2017-10-25T01:34:34.531997Z",
     "start_time": "2017-10-24T21:34:33.795449-04:00"
    },
    "collapsed": true
   },
   "outputs": [],
   "source": [
    "#drop  empty columns\n",
    "droppedColumns = [\"author_flair_text\",\"author_flair_css_class\",\n",
    "                  \"removal_reason\"]\n",
    "filteredCommentFrame = filteredCommentFrame.drop(droppedColumns,axis = 1)"
   ]
  },
  {
   "cell_type": "code",
   "execution_count": 8,
   "metadata": {
    "ExecuteTime": {
     "end_time": "2017-10-25T01:34:47.524848Z",
     "start_time": "2017-10-24T21:34:34.534920-04:00"
    },
    "collapsed": false
   },
   "outputs": [
    {
     "data": {
      "text/plain": [
       "body                1711649\n",
       "score_hidden              1\n",
       "archived                  2\n",
       "name                 985818\n",
       "author               253371\n",
       "downs                     1\n",
       "created_utc         2005312\n",
       "subreddit_id              1\n",
       "link_id              328417\n",
       "parent_id           1160632\n",
       "score                   367\n",
       "retrieved_on        1921960\n",
       "controversiality          2\n",
       "gilded                    4\n",
       "id                  2021454\n",
       "subreddit                 1\n",
       "ups                     334\n",
       "distinguished             1\n",
       "dtype: int64"
      ]
     },
     "execution_count": 8,
     "metadata": {},
     "output_type": "execute_result"
    }
   ],
   "source": [
    "#get number of levels\n",
    "nUniqueFrame = filteredCommentFrame.apply(lambda x: x.nunique(),axis = 0)\n",
    "nUniqueFrame"
   ]
  },
  {
   "cell_type": "markdown",
   "metadata": {},
   "source": [
    "_Table 2: Number of Unique Levels per variable._\n",
    "\n",
    "This provides us with quite a bit of information:\n",
    "\n",
    "* We have many repeated types of comments. Perhaps this is part of the group that are removed from consideration.\n",
    "\n",
    "* We have around 250K authors on this reddit. that's a rate of around $\\frac{2000000}{250000} = \\frac{200}{25} = 8$ comments per author. This suggest some moderate level of interaction on the site, Since I expected there to be more around $[1,2]$ comments per author.\n",
    "\n",
    "* There are a little over $1$ million unique threads. This means there tends to be fewer than $2$ comments per thread, although we will likely see more distributional inequality further in our analysis."
   ]
  },
  {
   "cell_type": "markdown",
   "metadata": {},
   "source": [
    "## Investigation of data quality for `body`"
   ]
  },
  {
   "cell_type": "code",
   "execution_count": 9,
   "metadata": {
    "ExecuteTime": {
     "end_time": "2017-10-25T01:34:56.559420Z",
     "start_time": "2017-10-24T21:34:47.528585-04:00"
    },
    "collapsed": false
   },
   "outputs": [
    {
     "data": {
      "text/html": [
       "<div>\n",
       "<table border=\"1\" class=\"dataframe\">\n",
       "  <thead>\n",
       "    <tr style=\"text-align: right;\">\n",
       "      <th></th>\n",
       "      <th>body</th>\n",
       "      <th>count</th>\n",
       "    </tr>\n",
       "  </thead>\n",
       "  <tbody>\n",
       "    <tr>\n",
       "      <th>1590770</th>\n",
       "      <td>[deleted]</td>\n",
       "      <td>208990</td>\n",
       "    </tr>\n",
       "    <tr>\n",
       "      <th>1591171</th>\n",
       "      <td>[removed]</td>\n",
       "      <td>55613</td>\n",
       "    </tr>\n",
       "    <tr>\n",
       "      <th>1186318</th>\n",
       "      <td>Thank you.</td>\n",
       "      <td>997</td>\n",
       "    </tr>\n",
       "    <tr>\n",
       "      <th>1162179</th>\n",
       "      <td>Thank you</td>\n",
       "      <td>846</td>\n",
       "    </tr>\n",
       "    <tr>\n",
       "      <th>1180368</th>\n",
       "      <td>Thank you!</td>\n",
       "      <td>594</td>\n",
       "    </tr>\n",
       "    <tr>\n",
       "      <th>52559</th>\n",
       "      <td>:)</td>\n",
       "      <td>535</td>\n",
       "    </tr>\n",
       "    <tr>\n",
       "      <th>1193066</th>\n",
       "      <td>Thanks</td>\n",
       "      <td>506</td>\n",
       "    </tr>\n",
       "    <tr>\n",
       "      <th>1162457</th>\n",
       "      <td>Thank you :)</td>\n",
       "      <td>474</td>\n",
       "    </tr>\n",
       "    <tr>\n",
       "      <th>1212052</th>\n",
       "      <td>Thanks!</td>\n",
       "      <td>377</td>\n",
       "    </tr>\n",
       "    <tr>\n",
       "      <th>1088428</th>\n",
       "      <td>Same</td>\n",
       "      <td>359</td>\n",
       "    </tr>\n",
       "    <tr>\n",
       "      <th>1186543</th>\n",
       "      <td>Thank you.</td>\n",
       "      <td>345</td>\n",
       "    </tr>\n",
       "    <tr>\n",
       "      <th>35227</th>\n",
       "      <td>&amp;lt;3</td>\n",
       "      <td>341</td>\n",
       "    </tr>\n",
       "    <tr>\n",
       "      <th>1497024</th>\n",
       "      <td>Yes</td>\n",
       "      <td>340</td>\n",
       "    </tr>\n",
       "    <tr>\n",
       "      <th>1217779</th>\n",
       "      <td>Thanks.</td>\n",
       "      <td>338</td>\n",
       "    </tr>\n",
       "    <tr>\n",
       "      <th>1193297</th>\n",
       "      <td>Thanks :)</td>\n",
       "      <td>327</td>\n",
       "    </tr>\n",
       "    <tr>\n",
       "      <th>51786</th>\n",
       "      <td>:(</td>\n",
       "      <td>299</td>\n",
       "    </tr>\n",
       "    <tr>\n",
       "      <th>1511037</th>\n",
       "      <td>Yes.</td>\n",
       "      <td>292</td>\n",
       "    </tr>\n",
       "    <tr>\n",
       "      <th>1673475</th>\n",
       "      <td>thank you</td>\n",
       "      <td>267</td>\n",
       "    </tr>\n",
       "    <tr>\n",
       "      <th>280889</th>\n",
       "      <td>Happy birthday!</td>\n",
       "      <td>262</td>\n",
       "    </tr>\n",
       "    <tr>\n",
       "      <th>1162213</th>\n",
       "      <td>Thank you</td>\n",
       "      <td>243</td>\n",
       "    </tr>\n",
       "    <tr>\n",
       "      <th>1095755</th>\n",
       "      <td>Same.</td>\n",
       "      <td>189</td>\n",
       "    </tr>\n",
       "    <tr>\n",
       "      <th>950465</th>\n",
       "      <td>Me too</td>\n",
       "      <td>185</td>\n",
       "    </tr>\n",
       "    <tr>\n",
       "      <th>278079</th>\n",
       "      <td>Happy Birthday!</td>\n",
       "      <td>175</td>\n",
       "    </tr>\n",
       "    <tr>\n",
       "      <th>39510</th>\n",
       "      <td>*hugs*</td>\n",
       "      <td>171</td>\n",
       "    </tr>\n",
       "    <tr>\n",
       "      <th>951743</th>\n",
       "      <td>Me too.</td>\n",
       "      <td>171</td>\n",
       "    </tr>\n",
       "    <tr>\n",
       "      <th>1675837</th>\n",
       "      <td>thanks</td>\n",
       "      <td>171</td>\n",
       "    </tr>\n",
       "    <tr>\n",
       "      <th>1666415</th>\n",
       "      <td>same</td>\n",
       "      <td>163</td>\n",
       "    </tr>\n",
       "    <tr>\n",
       "      <th>1436105</th>\n",
       "      <td>Why?</td>\n",
       "      <td>160</td>\n",
       "    </tr>\n",
       "    <tr>\n",
       "      <th>1005289</th>\n",
       "      <td>No.</td>\n",
       "      <td>159</td>\n",
       "    </tr>\n",
       "    <tr>\n",
       "      <th>1703652</th>\n",
       "      <td>yes</td>\n",
       "      <td>159</td>\n",
       "    </tr>\n",
       "  </tbody>\n",
       "</table>\n",
       "</div>"
      ],
      "text/plain": [
       "                    body   count\n",
       "1590770        [deleted]  208990\n",
       "1591171        [removed]   55613\n",
       "1186318       Thank you.     997\n",
       "1162179        Thank you     846\n",
       "1180368       Thank you!     594\n",
       "52559                 :)     535\n",
       "1193066           Thanks     506\n",
       "1162457     Thank you :)     474\n",
       "1212052          Thanks!     377\n",
       "1088428             Same     359\n",
       "1186543      Thank you.      345\n",
       "35227              &lt;3     341\n",
       "1497024              Yes     340\n",
       "1217779          Thanks.     338\n",
       "1193297        Thanks :)     327\n",
       "51786                 :(     299\n",
       "1511037             Yes.     292\n",
       "1673475        thank you     267\n",
       "280889   Happy birthday!     262\n",
       "1162213       Thank you      243\n",
       "1095755            Same.     189\n",
       "950465            Me too     185\n",
       "278079   Happy Birthday!     175\n",
       "39510             *hugs*     171\n",
       "951743           Me too.     171\n",
       "1675837           thanks     171\n",
       "1666415             same     163\n",
       "1436105             Why?     160\n",
       "1005289              No.     159\n",
       "1703652              yes     159"
      ]
     },
     "execution_count": 9,
     "metadata": {},
     "output_type": "execute_result"
    }
   ],
   "source": [
    "bodyFrame = filteredCommentFrame.groupby(\"body\",as_index = False)[\n",
    "                                                                \"score\"].count()\n",
    "bodyFrame = bodyFrame.rename(columns = {\"score\":\"count\"})\n",
    "bodyFrame = bodyFrame.sort_values(\"count\",ascending = False)\n",
    "topLev = 30\n",
    "bodyFrame.iloc[0:topLev]"
   ]
  },
  {
   "cell_type": "markdown",
   "metadata": {},
   "source": [
    "_Table 3: Top Thirty Comments by count._\n",
    "\n",
    "We see that there are a lot of [removed] and [deleted] observations in our dataset. While I don't yet know the difference between these two, they don't really express meaningful language content with the exception of context. Thus, I think I want to remove them from consideration from the dataset."
   ]
  },
  {
   "cell_type": "code",
   "execution_count": 10,
   "metadata": {
    "ExecuteTime": {
     "end_time": "2017-10-25T01:34:57.399013Z",
     "start_time": "2017-10-24T21:34:56.562567-04:00"
    },
    "collapsed": false
   },
   "outputs": [
    {
     "data": {
      "text/plain": [
       "(1758953, 18)"
      ]
     },
     "execution_count": 10,
     "metadata": {},
     "output_type": "execute_result"
    }
   ],
   "source": [
    "filteredCommentFrame = filteredCommentFrame[~(\n",
    "            filteredCommentFrame[\"body\"].isin([\"[removed]\",\"[deleted]\"]))]\n",
    "filteredCommentFrame.shape"
   ]
  },
  {
   "cell_type": "markdown",
   "metadata": {},
   "source": [
    "We are now down to a little under $1.8$ millions comments."
   ]
  },
  {
   "cell_type": "markdown",
   "metadata": {},
   "source": [
    "## Distribution of Parent IDs"
   ]
  },
  {
   "cell_type": "code",
   "execution_count": 11,
   "metadata": {
    "ExecuteTime": {
     "end_time": "2017-10-25T01:35:01.621971Z",
     "start_time": "2017-10-24T21:34:57.403306-04:00"
    },
    "collapsed": false,
    "scrolled": false
   },
   "outputs": [],
   "source": [
    "#get threads by comment count\n",
    "parentFrame = filteredCommentFrame.groupby(\"parent_id\",as_index = False)[\n",
    "                                                            \"score\"].count()\n",
    "parentFrame = parentFrame.rename(columns = {\"score\":\"count\"})\n",
    "parentFrame = parentFrame.sort_values(\"count\",ascending = False)\n",
    "#add rank\n",
    "parentFrame[\"rank\"] = range(parentFrame.shape[0])\n",
    "#add density\n",
    "parentFrame[\"density\"] = parentFrame[\"count\"] / parentFrame[\"count\"].sum()\n",
    "#ad log-rank\n",
    "parentFrame[\"logRank\"] = np.log(parentFrame[\"rank\"] + 1)"
   ]
  },
  {
   "cell_type": "code",
   "execution_count": 12,
   "metadata": {
    "ExecuteTime": {
     "end_time": "2017-10-25T01:35:02.930725Z",
     "start_time": "2017-10-24T21:35:01.624539-04:00"
    },
    "collapsed": false
   },
   "outputs": [
    {
     "data": {
      "text/plain": [
       "<matplotlib.text.Text at 0x10bcec950>"
      ]
     },
     "execution_count": 12,
     "metadata": {},
     "output_type": "execute_result"
    },
    {
     "data": {
      "image/png": "[encoded data removed]",
      "text/plain": [
       "<matplotlib.figure.Figure at 0x151f09790>"
      ]
     },
     "metadata": {},
     "output_type": "display_data"
    }
   ],
   "source": [
    "#then plot\n",
    "plt.plot(parentFrame[\"logRank\"],parentFrame[\"density\"])\n",
    "plt.xlabel(\"$\\log(rank)$\")\n",
    "plt.ylabel(\"Density\")\n",
    "plt.title(\"Density on $\\log(rank)$ for Thread Comment Count\")"
   ]
  },
  {
   "cell_type": "markdown",
   "metadata": {},
   "source": [
    "_Figure 1: Rank-Density Plot for Thread Comment Count._\n",
    "\n",
    "We see an expected behavior in conversations. Very few threads are incredibly long, and many threads are very short. The density seems to dwindle around $e^{10} \\approx 22000$ top thread counts, Which is still a sizable amount of threads for the distribution."
   ]
  },
  {
   "cell_type": "code",
   "execution_count": 13,
   "metadata": {
    "ExecuteTime": {
     "end_time": "2017-10-25T01:35:02.981564Z",
     "start_time": "2017-10-24T21:35:02.938862-04:00"
    },
    "collapsed": false
   },
   "outputs": [
    {
     "data": {
      "text/html": [
       "<div>\n",
       "<table border=\"1\" class=\"dataframe\">\n",
       "  <thead>\n",
       "    <tr style=\"text-align: right;\">\n",
       "      <th></th>\n",
       "      <th>parent_id</th>\n",
       "      <th>count</th>\n",
       "      <th>rank</th>\n",
       "      <th>density</th>\n",
       "      <th>logRank</th>\n",
       "    </tr>\n",
       "  </thead>\n",
       "  <tbody>\n",
       "    <tr>\n",
       "      <th>961930</th>\n",
       "      <td>t3_5qsba5</td>\n",
       "      <td>1428</td>\n",
       "      <td>0</td>\n",
       "      <td>8.118e-04</td>\n",
       "      <td>0.000</td>\n",
       "    </tr>\n",
       "    <tr>\n",
       "      <th>975288</th>\n",
       "      <td>t3_61w2k1</td>\n",
       "      <td>1027</td>\n",
       "      <td>1</td>\n",
       "      <td>5.839e-04</td>\n",
       "      <td>0.693</td>\n",
       "    </tr>\n",
       "    <tr>\n",
       "      <th>985451</th>\n",
       "      <td>t3_6a7gb9</td>\n",
       "      <td>797</td>\n",
       "      <td>2</td>\n",
       "      <td>4.531e-04</td>\n",
       "      <td>1.099</td>\n",
       "    </tr>\n",
       "    <tr>\n",
       "      <th>1007941</th>\n",
       "      <td>t3_6swsuk</td>\n",
       "      <td>730</td>\n",
       "      <td>3</td>\n",
       "      <td>4.150e-04</td>\n",
       "      <td>1.386</td>\n",
       "    </tr>\n",
       "    <tr>\n",
       "      <th>998550</th>\n",
       "      <td>t3_6lfjbt</td>\n",
       "      <td>603</td>\n",
       "      <td>4</td>\n",
       "      <td>3.428e-04</td>\n",
       "      <td>1.609</td>\n",
       "    </tr>\n",
       "    <tr>\n",
       "      <th>992143</th>\n",
       "      <td>t3_6fx6lt</td>\n",
       "      <td>578</td>\n",
       "      <td>5</td>\n",
       "      <td>3.286e-04</td>\n",
       "      <td>1.792</td>\n",
       "    </tr>\n",
       "    <tr>\n",
       "      <th>755673</th>\n",
       "      <td>t3_1eqtrg</td>\n",
       "      <td>405</td>\n",
       "      <td>6</td>\n",
       "      <td>2.303e-04</td>\n",
       "      <td>1.946</td>\n",
       "    </tr>\n",
       "    <tr>\n",
       "      <th>958600</th>\n",
       "      <td>t3_5o5rhj</td>\n",
       "      <td>346</td>\n",
       "      <td>7</td>\n",
       "      <td>1.967e-04</td>\n",
       "      <td>2.079</td>\n",
       "    </tr>\n",
       "    <tr>\n",
       "      <th>830021</th>\n",
       "      <td>t3_2vv8ll</td>\n",
       "      <td>317</td>\n",
       "      <td>8</td>\n",
       "      <td>1.802e-04</td>\n",
       "      <td>2.197</td>\n",
       "    </tr>\n",
       "    <tr>\n",
       "      <th>935593</th>\n",
       "      <td>t3_56h4vf</td>\n",
       "      <td>288</td>\n",
       "      <td>9</td>\n",
       "      <td>1.637e-04</td>\n",
       "      <td>2.303</td>\n",
       "    </tr>\n",
       "  </tbody>\n",
       "</table>\n",
       "</div>"
      ],
      "text/plain": [
       "         parent_id  count  rank    density  logRank\n",
       "961930   t3_5qsba5   1428     0  8.118e-04    0.000\n",
       "975288   t3_61w2k1   1027     1  5.839e-04    0.693\n",
       "985451   t3_6a7gb9    797     2  4.531e-04    1.099\n",
       "1007941  t3_6swsuk    730     3  4.150e-04    1.386\n",
       "998550   t3_6lfjbt    603     4  3.428e-04    1.609\n",
       "992143   t3_6fx6lt    578     5  3.286e-04    1.792\n",
       "755673   t3_1eqtrg    405     6  2.303e-04    1.946\n",
       "958600   t3_5o5rhj    346     7  1.967e-04    2.079\n",
       "830021   t3_2vv8ll    317     8  1.802e-04    2.197\n",
       "935593   t3_56h4vf    288     9  1.637e-04    2.303"
      ]
     },
     "execution_count": 13,
     "metadata": {},
     "output_type": "execute_result"
    }
   ],
   "source": [
    "#get top thread ids\n",
    "topLev = 10\n",
    "topThreadFrame = parentFrame.iloc[0:topLev]\n",
    "topThreadFrame"
   ]
  },
  {
   "cell_type": "markdown",
   "metadata": {
    "collapsed": true
   },
   "source": [
    "_Table 4: Our top 10 Threads by Count._\n",
    "\n",
    "We see the most popular parent ID is associated with a [large check-in thread](https://www.reddit.com/r/depression/comments/5qsba5). In particular, this is a weekly check-in thread that is \"a place to take a moment and share what is going on and how you are doing.\" It started around $8$ months ago, so it's surprising how robust the comment count is for this particular thread.\n",
    "\n",
    "We see the second most popular thread is also another [weekly check-in thread](https://www.reddit.com/r/depression/comments/61w2k1/rdepression_weekly_check_in/). It is possible that we will find many of these evident in our discourse, and they suggest an environment in which individuals are looking after one another over the internet."
   ]
  },
  {
   "cell_type": "markdown",
   "metadata": {},
   "source": [
    "## Distribution of Authors"
   ]
  },
  {
   "cell_type": "code",
   "execution_count": 14,
   "metadata": {
    "ExecuteTime": {
     "end_time": "2017-10-25T01:35:05.110608Z",
     "start_time": "2017-10-24T21:35:02.986657-04:00"
    },
    "collapsed": false
   },
   "outputs": [],
   "source": [
    "#get threads by comment count\n",
    "authorFrame = filteredCommentFrame.groupby(\"author\",as_index = False)[\n",
    "                                                            \"score\"].count()\n",
    "authorFrame = authorFrame.rename(columns = {\"score\":\"count\"})\n",
    "authorFrame = authorFrame.sort_values(\"count\",ascending = False)\n",
    "#add rank\n",
    "authorFrame[\"rank\"] = range(authorFrame.shape[0])\n",
    "#add density\n",
    "authorFrame[\"density\"] = authorFrame[\"count\"] / authorFrame[\"count\"].sum()\n",
    "#ad log-rank\n",
    "authorFrame[\"logRank\"] = np.log(authorFrame[\"rank\"] + 1)"
   ]
  },
  {
   "cell_type": "code",
   "execution_count": 15,
   "metadata": {
    "ExecuteTime": {
     "end_time": "2017-10-25T01:35:06.561004Z",
     "start_time": "2017-10-24T21:35:05.112438-04:00"
    },
    "collapsed": false
   },
   "outputs": [
    {
     "data": {
      "text/plain": [
       "<matplotlib.text.Text at 0x11291c510>"
      ]
     },
     "execution_count": 15,
     "metadata": {},
     "output_type": "execute_result"
    },
    {
     "data": {
      "image/png": "[encoded data removed]",
      "text/plain": [
       "<matplotlib.figure.Figure at 0x1128ebf10>"
      ]
     },
     "metadata": {},
     "output_type": "display_data"
    }
   ],
   "source": [
    "#then plot\n",
    "plt.plot(authorFrame[\"logRank\"],authorFrame[\"density\"])\n",
    "plt.xlabel(\"$\\log(rank)$\")\n",
    "plt.ylabel(\"Density\")\n",
    "plt.title(\"Density on $\\log(rank)$ for Author Comment Count\")"
   ]
  },
  {
   "cell_type": "markdown",
   "metadata": {},
   "source": [
    "_Figure 2: Authors by comment count._\n",
    "\n",
    "We see one author hogging a huge amount of the distribution. Let's check out what this author is."
   ]
  },
  {
   "cell_type": "code",
   "execution_count": 16,
   "metadata": {
    "ExecuteTime": {
     "end_time": "2017-10-25T01:35:06.606575Z",
     "start_time": "2017-10-24T21:35:06.575186-04:00"
    },
    "collapsed": false
   },
   "outputs": [
    {
     "data": {
      "text/html": [
       "<div>\n",
       "<table border=\"1\" class=\"dataframe\">\n",
       "  <thead>\n",
       "    <tr style=\"text-align: right;\">\n",
       "      <th></th>\n",
       "      <th>author</th>\n",
       "      <th>count</th>\n",
       "      <th>rank</th>\n",
       "      <th>density</th>\n",
       "      <th>logRank</th>\n",
       "    </tr>\n",
       "  </thead>\n",
       "  <tbody>\n",
       "    <tr>\n",
       "      <th>116876</th>\n",
       "      <td>[deleted]</td>\n",
       "      <td>92820</td>\n",
       "      <td>0</td>\n",
       "      <td>5.277e-02</td>\n",
       "      <td>0.000</td>\n",
       "    </tr>\n",
       "    <tr>\n",
       "      <th>87510</th>\n",
       "      <td>SQLwitch</td>\n",
       "      <td>2789</td>\n",
       "      <td>1</td>\n",
       "      <td>1.586e-03</td>\n",
       "      <td>0.693</td>\n",
       "    </tr>\n",
       "    <tr>\n",
       "      <th>193542</th>\n",
       "      <td>mobiuschick</td>\n",
       "      <td>2360</td>\n",
       "      <td>2</td>\n",
       "      <td>1.342e-03</td>\n",
       "      <td>1.099</td>\n",
       "    </tr>\n",
       "    <tr>\n",
       "      <th>222354</th>\n",
       "      <td>skyqween</td>\n",
       "      <td>2203</td>\n",
       "      <td>3</td>\n",
       "      <td>1.252e-03</td>\n",
       "      <td>1.386</td>\n",
       "    </tr>\n",
       "    <tr>\n",
       "      <th>196564</th>\n",
       "      <td>mytwocats11</td>\n",
       "      <td>2177</td>\n",
       "      <td>4</td>\n",
       "      <td>1.238e-03</td>\n",
       "      <td>1.609</td>\n",
       "    </tr>\n",
       "    <tr>\n",
       "      <th>190233</th>\n",
       "      <td>mcfattykins</td>\n",
       "      <td>2006</td>\n",
       "      <td>5</td>\n",
       "      <td>1.140e-03</td>\n",
       "      <td>1.792</td>\n",
       "    </tr>\n",
       "    <tr>\n",
       "      <th>13272</th>\n",
       "      <td>Bhruic</td>\n",
       "      <td>1899</td>\n",
       "      <td>6</td>\n",
       "      <td>1.080e-03</td>\n",
       "      <td>1.946</td>\n",
       "    </tr>\n",
       "    <tr>\n",
       "      <th>207554</th>\n",
       "      <td>poisontongue</td>\n",
       "      <td>1738</td>\n",
       "      <td>7</td>\n",
       "      <td>9.881e-04</td>\n",
       "      <td>2.079</td>\n",
       "    </tr>\n",
       "    <tr>\n",
       "      <th>134322</th>\n",
       "      <td>cacktastic</td>\n",
       "      <td>1637</td>\n",
       "      <td>8</td>\n",
       "      <td>9.307e-04</td>\n",
       "      <td>2.197</td>\n",
       "    </tr>\n",
       "    <tr>\n",
       "      <th>87345</th>\n",
       "      <td>SH2355</td>\n",
       "      <td>1546</td>\n",
       "      <td>9</td>\n",
       "      <td>8.789e-04</td>\n",
       "      <td>2.303</td>\n",
       "    </tr>\n",
       "  </tbody>\n",
       "</table>\n",
       "</div>"
      ],
      "text/plain": [
       "              author  count  rank    density  logRank\n",
       "116876     [deleted]  92820     0  5.277e-02    0.000\n",
       "87510       SQLwitch   2789     1  1.586e-03    0.693\n",
       "193542   mobiuschick   2360     2  1.342e-03    1.099\n",
       "222354      skyqween   2203     3  1.252e-03    1.386\n",
       "196564   mytwocats11   2177     4  1.238e-03    1.609\n",
       "190233   mcfattykins   2006     5  1.140e-03    1.792\n",
       "13272         Bhruic   1899     6  1.080e-03    1.946\n",
       "207554  poisontongue   1738     7  9.881e-04    2.079\n",
       "134322    cacktastic   1637     8  9.307e-04    2.197\n",
       "87345         SH2355   1546     9  8.789e-04    2.303"
      ]
     },
     "execution_count": 16,
     "metadata": {},
     "output_type": "execute_result"
    }
   ],
   "source": [
    "topAuthorFrame = authorFrame.iloc[0:topLev]\n",
    "topAuthorFrame"
   ]
  },
  {
   "cell_type": "markdown",
   "metadata": {},
   "source": [
    "_Table 5: Top 10 Authors by comment count._\n",
    "\n",
    "We see an enormous amount of observations come from deleted accounts. We can think of these as comments that are current unattributed to a particular author. While for most of our analysis, having indicators on the author likely won't matter, it will likely matter quite a bit when we do some forms of conversation modeling on our dataset.\n",
    "\n",
    "Besides this, we see we have some commenters who exist in the $[2000,3000]$ range for number of comments. This is a sizable amount of the distribution, and suggests data sparsity in terms of the commenters that are likely to exist in the dataset."
   ]
  },
  {
   "cell_type": "markdown",
   "metadata": {},
   "source": [
    "## Posting Over Time"
   ]
  },
  {
   "cell_type": "code",
   "execution_count": 17,
   "metadata": {
    "ExecuteTime": {
     "end_time": "2017-10-25T01:35:06.875461Z",
     "start_time": "2017-10-24T21:35:06.614658-04:00"
    },
    "collapsed": false
   },
   "outputs": [],
   "source": [
    "#convert from utc\n",
    "filteredCommentFrame[\"creationDatetime\"] = pd.to_datetime(\n",
    "                            filteredCommentFrame[\"created_utc\"],unit = 's')"
   ]
  },
  {
   "cell_type": "code",
   "execution_count": 18,
   "metadata": {
    "ExecuteTime": {
     "end_time": "2017-10-25T01:35:06.932914Z",
     "start_time": "2017-10-24T21:35:06.886198-04:00"
    },
    "collapsed": false
   },
   "outputs": [
    {
     "data": {
      "text/plain": [
       "Timestamp('2009-01-01 02:14:06')"
      ]
     },
     "execution_count": 18,
     "metadata": {},
     "output_type": "execute_result"
    }
   ],
   "source": [
    "filteredCommentFrame[\"creationDatetime\"].min()"
   ]
  },
  {
   "cell_type": "markdown",
   "metadata": {},
   "source": [
    "We see our earliest post in this group of comments is from $2009$. This follows with the claim on the front page of the subreddit that [it has been a community for $8$ years](https://www.reddit.com/r/depression/)."
   ]
  },
  {
   "cell_type": "code",
   "execution_count": 19,
   "metadata": {
    "ExecuteTime": {
     "end_time": "2017-10-25T01:35:11.725486Z",
     "start_time": "2017-10-24T21:35:06.948721-04:00"
    },
    "collapsed": false
   },
   "outputs": [],
   "source": [
    "#just get dates\n",
    "filteredCommentFrame[\"creationDate\"] = pd.to_datetime(\n",
    "                        filteredCommentFrame[\"creationDatetime\"].dt.date)"
   ]
  },
  {
   "cell_type": "code",
   "execution_count": 20,
   "metadata": {
    "ExecuteTime": {
     "end_time": "2017-10-25T01:35:12.175399Z",
     "start_time": "2017-10-24T21:35:11.728056-04:00"
    },
    "collapsed": false
   },
   "outputs": [
    {
     "data": {
      "text/plain": [
       "<matplotlib.text.Text at 0x112185f90>"
      ]
     },
     "execution_count": 20,
     "metadata": {},
     "output_type": "execute_result"
    },
    {
     "data": {
      "image/png": "[encoded data removed]",
      "text/plain": [
       "<matplotlib.figure.Figure at 0x11288bcd0>"
      ]
     },
     "metadata": {},
     "output_type": "display_data"
    }
   ],
   "source": [
    "#then get count over time\n",
    "creationDateCountSeries = filteredCommentFrame.groupby(\"creationDate\")[\n",
    "                                                                \"id\"].count()\n",
    "creationDateCountSeries.plot()\n",
    "plt.xlabel(\"Creation Date\")\n",
    "plt.ylabel(\"Count\")\n",
    "plt.title(\"Creation of Comments over Time\")"
   ]
  },
  {
   "cell_type": "markdown",
   "metadata": {},
   "source": [
    "_Figure 3: Creation of Comments Over time._\n",
    "\n",
    "We see a gradual increase in popularity over time in the subreddit, although we see a flattening of users (and some points a decline) between $2013$ and $2015$. We should start to ask why there is a sudden uptick in the usage of the subreddit after $2015$.\n",
    "\n",
    "It would be interesting to study if there is a seasonality uptick at particular points in the year. It is possible that seasonal affective disorder may have a relationship with thread usage."
   ]
  },
  {
   "cell_type": "code",
   "execution_count": 22,
   "metadata": {
    "ExecuteTime": {
     "end_time": "2017-10-25T01:35:23.518118Z",
     "start_time": "2017-10-24T21:35:23.070136-04:00"
    },
    "collapsed": false
   },
   "outputs": [
    {
     "data": {
      "text/plain": [
       "<matplotlib.text.Text at 0x1156903d0>"
      ]
     },
     "execution_count": 22,
     "metadata": {},
     "output_type": "execute_result"
    },
    {
     "data": {
      "image/png": "[encoded data removed]",
      "text/plain": [
       "<matplotlib.figure.Figure at 0x1121aacd0>"
      ]
     },
     "metadata": {},
     "output_type": "display_data"
    }
   ],
   "source": [
    "#get month\n",
    "filteredCommentFrame[\"creationMonth\"] = filteredCommentFrame[\n",
    "                                                        \"creationDate\"].dt.month\n",
    "#then plot\n",
    "creationMonthCountSeries = filteredCommentFrame.groupby(\"creationMonth\")[\n",
    "                                                                \"id\"].count()\n",
    "creationMonthCountSeries.plot()\n",
    "plt.xlabel(\"Creation Month\")\n",
    "plt.ylabel(\"Comment Count\")\n",
    "plt.title(\"Comment Count Over Month\")"
   ]
  },
  {
   "cell_type": "markdown",
   "metadata": {},
   "source": [
    "_Figure 4: Comment Count Over Month._\n",
    "\n",
    "We see a very interesting phenomena occuring. In particular, we see a drop in users over the winter months and a surge in users over the summer months. This may be an indication of two phenomena:\n",
    "\n",
    "* The school season may dictate the usage of the site. In particular, at times where the school season is just starting, usage of the site tends to drop. Given the typical age of a Reddit user, I wouldn't be surprised if this effect is occuring. That being said, much of my assumptions about the age of Reddit users is informed by observation rather than by demographics.\n",
    "\n",
    "* It is possible that we see a dip in the winter months due to seasonal affective disorder (SAD). While we would expect users with SAD to perhaps look for help during this time, it is possible that people affected by SAD are driven away from their typical behaviors during this particular timeframe.\n",
    "\n",
    "What would be useful is to compare this seasonality to the entirety of reddit in order to validate potential effects that we see. We should also note that what I have suggested is purely conjecture as of this time; we have not performed any causal analysis to prove the above effects."
   ]
  },
  {
   "cell_type": "code",
   "execution_count": 23,
   "metadata": {
    "ExecuteTime": {
     "end_time": "2017-10-25T01:35:24.832922Z",
     "start_time": "2017-10-24T21:35:24.691381-04:00"
    },
    "collapsed": true
   },
   "outputs": [],
   "source": [
    "#check day of the week effects\n",
    "filteredCommentFrame[\"creationDOW\"] = filteredCommentFrame[\n",
    "                                                    \"creationDate\"].dt.dayofweek"
   ]
  },
  {
   "cell_type": "code",
   "execution_count": 24,
   "metadata": {
    "ExecuteTime": {
     "end_time": "2017-10-25T01:35:26.137112Z",
     "start_time": "2017-10-24T21:35:25.683349-04:00"
    },
    "collapsed": false
   },
   "outputs": [
    {
     "data": {
      "text/plain": [
       "<matplotlib.text.Text at 0x11590ef10>"
      ]
     },
     "execution_count": 24,
     "metadata": {},
     "output_type": "execute_result"
    },
    {
     "data": {
      "image/png": "[encoded data removed]",
      "text/plain": [
       "<matplotlib.figure.Figure at 0x1157a82d0>"
      ]
     },
     "metadata": {},
     "output_type": "display_data"
    }
   ],
   "source": [
    "#then plot\n",
    "creationDOWCountSeries = filteredCommentFrame.groupby(\"creationDOW\")[\n",
    "                                                                \"id\"].count()\n",
    "creationDOWCountSeries.plot()\n",
    "plt.xlabel(\"Creation Day of Week (Monday = 0)\")\n",
    "plt.ylabel(\"Comment Count\")\n",
    "plt.title(\"Comment Count Over Day of Week\")"
   ]
  },
  {
   "cell_type": "markdown",
   "metadata": {},
   "source": [
    "_Figure 5: Comment Count over Day of Week._\n",
    "\n",
    "We see a pretty typical effect here for posting day of week. the weekdays seem to be peak times of posting, with a steady decline heading into Friday and Saturday. This is likely because people have plans over the weekend that keep them away from their computer. The population who use this subreddit don't seem to stray from typical forum norms despite my original thought that this population would be more irregular than that."
   ]
  },
  {
   "cell_type": "code",
   "execution_count": 25,
   "metadata": {
    "ExecuteTime": {
     "end_time": "2017-10-25T01:35:27.140028Z",
     "start_time": "2017-10-24T21:35:27.009943-04:00"
    },
    "collapsed": true
   },
   "outputs": [],
   "source": [
    "filteredCommentFrame[\"creationHour\"] = filteredCommentFrame[\n",
    "                                    \"creationDatetime\"].dt.hour"
   ]
  },
  {
   "cell_type": "code",
   "execution_count": 26,
   "metadata": {
    "ExecuteTime": {
     "end_time": "2017-10-25T01:35:27.952056Z",
     "start_time": "2017-10-24T21:35:27.446081-04:00"
    },
    "collapsed": false
   },
   "outputs": [
    {
     "data": {
      "text/plain": [
       "<matplotlib.text.Text at 0x1159c76d0>"
      ]
     },
     "execution_count": 26,
     "metadata": {},
     "output_type": "execute_result"
    },
    {
     "data": {
      "image/png": "[encoded data removed]",
      "text/plain": [
       "<matplotlib.figure.Figure at 0x11291f310>"
      ]
     },
     "metadata": {},
     "output_type": "display_data"
    }
   ],
   "source": [
    "#then plot\n",
    "creationHourCountSeries = filteredCommentFrame.groupby(\"creationHour\")[\n",
    "                                                                \"id\"].count()\n",
    "creationHourCountSeries.plot()\n",
    "plt.xlabel(\"Creation Hour\") \n",
    "plt.ylabel(\"Comment Count\")\n",
    "plt.title(\"Comment Count Over Hour\")"
   ]
  },
  {
   "cell_type": "markdown",
   "metadata": {},
   "source": [
    "_Figure 6: Comment Count over Hour._\n",
    "\n",
    "What becomes an issue for interpreting this plot is that it is in UTC rather than our typical EST and PST (because USA). We will note that UTC is 4 hours ahead of EST when interpreting this plot.\n",
    "\n",
    "As expected. the very early morning hours ($6$ AM EST in particular) seem to be a low point in usage for the site, while the size looks to peak in usage from between $4$ PM and $12$ AM EST. This is expected, since the workday likely keeps individuals away from the subreddit, and then the subreddit goes back to relatively high usage when the workday is over."
   ]
  },
  {
   "cell_type": "markdown",
   "metadata": {},
   "source": [
    "## Language\n",
    "\n",
    "Let's begin to study some of the language present in this dataset. Let's study the word distribution present in the dataset.\n",
    "\n",
    "### Distribution of Words"
   ]
  },
  {
   "cell_type": "code",
   "execution_count": 27,
   "metadata": {
    "ExecuteTime": {
     "end_time": "2017-10-25T01:58:06.059358Z",
     "start_time": "2017-10-24T21:35:34.184983-04:00"
    },
    "collapsed": false,
    "run_control": {
     "marked": false
    }
   },
   "outputs": [
    {
     "name": "stdout",
     "output_type": "stream",
     "text": [
      "1758953\n",
      "0\n",
      "10000\n",
      "20000\n",
      "30000\n",
      "40000\n",
      "50000\n",
      "60000\n",
      "70000\n",
      "80000\n",
      "90000\n",
      "100000\n",
      "110000\n",
      "120000\n",
      "130000\n",
      "140000\n",
      "150000\n",
      "160000\n",
      "170000\n",
      "180000\n",
      "190000\n",
      "200000\n",
      "210000\n",
      "220000\n",
      "230000\n",
      "240000\n",
      "250000\n",
      "260000\n",
      "270000\n",
      "280000\n",
      "290000\n",
      "300000\n",
      "310000\n",
      "320000\n",
      "330000\n",
      "340000\n",
      "350000\n",
      "360000\n",
      "370000\n",
      "380000\n",
      "390000\n",
      "400000\n",
      "410000\n",
      "420000\n",
      "430000\n",
      "440000\n",
      "450000\n",
      "460000\n",
      "470000\n",
      "480000\n",
      "490000\n",
      "500000\n",
      "510000\n",
      "520000\n",
      "530000\n",
      "540000\n",
      "550000\n",
      "560000\n",
      "570000\n",
      "580000\n",
      "590000\n",
      "600000\n",
      "610000\n",
      "620000\n",
      "630000\n",
      "640000\n",
      "650000\n",
      "660000\n",
      "670000\n",
      "680000\n",
      "690000\n",
      "700000\n",
      "710000\n",
      "720000\n",
      "730000\n",
      "740000\n",
      "750000\n",
      "760000\n",
      "770000\n",
      "780000\n",
      "790000\n",
      "800000\n",
      "810000\n",
      "820000\n",
      "830000\n",
      "840000\n",
      "850000\n",
      "860000\n",
      "870000\n",
      "880000\n",
      "890000\n",
      "900000\n",
      "910000\n",
      "920000\n",
      "930000\n",
      "940000\n",
      "950000\n",
      "960000\n",
      "970000\n",
      "980000\n",
      "990000\n",
      "1000000\n",
      "1010000\n",
      "1020000\n",
      "1030000\n",
      "1040000\n",
      "1050000\n",
      "1060000\n",
      "1070000\n",
      "1080000\n",
      "1090000\n",
      "1100000\n",
      "1110000\n",
      "1120000\n",
      "1130000\n",
      "1140000\n",
      "1150000\n",
      "1160000\n",
      "1170000\n",
      "1180000\n",
      "1190000\n",
      "1200000\n",
      "1210000\n",
      "1220000\n",
      "1230000\n",
      "1240000\n",
      "1250000\n",
      "1260000\n",
      "1270000\n",
      "1280000\n",
      "1290000\n",
      "1300000\n",
      "1310000\n",
      "1320000\n",
      "1330000\n",
      "1340000\n",
      "1350000\n",
      "1360000\n",
      "1370000\n",
      "1380000\n",
      "1390000\n",
      "1400000\n",
      "1410000\n",
      "1420000\n",
      "1430000\n",
      "1440000\n",
      "1450000\n",
      "1460000\n",
      "1470000\n",
      "1480000\n",
      "1490000\n",
      "1500000\n",
      "1510000\n",
      "1520000\n",
      "1530000\n",
      "1540000\n",
      "1550000\n",
      "1560000\n",
      "1570000\n",
      "1580000\n",
      "1590000\n",
      "1600000\n",
      "1610000\n",
      "1620000\n",
      "1630000\n",
      "1640000\n",
      "1650000\n",
      "1660000\n",
      "1670000\n",
      "1680000\n",
      "1690000\n",
      "1700000\n",
      "1710000\n",
      "1720000\n",
      "1730000\n",
      "1740000\n",
      "1750000\n"
     ]
    }
   ],
   "source": [
    "#get all words into one long list\n",
    "rawWordList = []\n",
    "print(filteredCommentFrame.shape[0])\n",
    "for i in xrange(filteredCommentFrame.shape[0]):\n",
    "    if (i % 10000 == 0): print(i)\n",
    "    tokenizedSentence = nltk.tokenize.word_tokenize(\n",
    "                            filteredCommentFrame[\"body\"].iloc[i].decode(\"utf8\"))\n",
    "    rawWordList.extend(tokenizedSentence)"
   ]
  },
  {
   "cell_type": "code",
   "execution_count": 33,
   "metadata": {
    "ExecuteTime": {
     "end_time": "2017-10-25T02:10:40.211862Z",
     "start_time": "2017-10-24T22:10:04.142269-04:00"
    },
    "collapsed": false
   },
   "outputs": [],
   "source": [
    "filteredWordList = [word.lower() for word in rawWordList] #lowercase everything"
   ]
  },
  {
   "cell_type": "code",
   "execution_count": 34,
   "metadata": {
    "ExecuteTime": {
     "end_time": "2017-10-25T02:11:49.266179Z",
     "start_time": "2017-10-24T22:11:02.583421-04:00"
    },
    "collapsed": true
   },
   "outputs": [],
   "source": [
    "#get legal words and get stop words\n",
    "legalWordSet = set(nltk.corpus.words.words())\n",
    "stopWordSet = set(nltk.corpus.stopwords.words())\n",
    "#then make our filtration\n",
    "filteredWordList = [word for word in filteredWordList\n",
    "                           if word in legalWordSet and\n",
    "                              word not in stopWordSet]"
   ]
  },
  {
   "cell_type": "code",
   "execution_count": 35,
   "metadata": {
    "ExecuteTime": {
     "end_time": "2017-10-25T02:12:41.117998Z",
     "start_time": "2017-10-24T22:12:21.059455-04:00"
    },
    "collapsed": false
   },
   "outputs": [],
   "source": [
    "#create a counter\n",
    "filteredWordCounter = co.Counter(filteredWordList)"
   ]
  },
  {
   "cell_type": "code",
   "execution_count": 37,
   "metadata": {
    "ExecuteTime": {
     "end_time": "2017-10-25T02:13:41.412341Z",
     "start_time": "2017-10-24T22:13:41.403304-04:00"
    },
    "collapsed": true
   },
   "outputs": [],
   "source": [
    "numWords = sum(filteredWordCounter.values())\n",
    "numTokens = len(filteredWordCounter.keys())"
   ]
  },
  {
   "cell_type": "code",
   "execution_count": 38,
   "metadata": {
    "ExecuteTime": {
     "end_time": "2017-10-25T02:13:41.812359Z",
     "start_time": "2017-10-24T22:13:41.801309-04:00"
    },
    "collapsed": false
   },
   "outputs": [
    {
     "name": "stdout",
     "output_type": "stream",
     "text": [
      "41464906\n",
      "35291\n"
     ]
    }
   ],
   "source": [
    "print(numWords)\n",
    "print(numTokens)"
   ]
  },
  {
   "cell_type": "markdown",
   "metadata": {},
   "source": [
    "After all of our filtration to non-stop words and elgal words, we have an extremely small vocabulary. In particular, we have $42$M tokens in our sentences, but only $35$K words. Let's see what the rank distribution looks like."
   ]
  },
  {
   "cell_type": "code",
   "execution_count": 39,
   "metadata": {
    "ExecuteTime": {
     "end_time": "2017-10-25T02:18:29.660347Z",
     "start_time": "2017-10-24T22:18:09.979660-04:00"
    },
    "collapsed": true
   },
   "outputs": [],
   "source": [
    "wordFrequencyFrame = pd.DataFrame(filteredWordCounter.most_common(),\n",
    "                                  columns = [\"Word\",\"Frequency\"])"
   ]
  },
  {
   "cell_type": "code",
   "execution_count": 40,
   "metadata": {
    "ExecuteTime": {
     "end_time": "2017-10-25T02:18:32.270650Z",
     "start_time": "2017-10-24T22:18:32.225765-04:00"
    },
    "collapsed": true
   },
   "outputs": [],
   "source": [
    "wordFrequencyFrame[\"Density\"] = (wordFrequencyFrame[\"Frequency\"] /\n",
    "                                    sum(wordFrequencyFrame[\"Frequency\"]))"
   ]
  },
  {
   "cell_type": "code",
   "execution_count": 41,
   "metadata": {
    "ExecuteTime": {
     "end_time": "2017-10-25T02:18:52.643316Z",
     "start_time": "2017-10-24T22:18:52.180675-04:00"
    },
    "collapsed": false
   },
   "outputs": [
    {
     "data": {
      "text/plain": [
       "<matplotlib.text.Text at 0x3bdc15f10>"
      ]
     },
     "execution_count": 41,
     "metadata": {},
     "output_type": "execute_result"
    },
    {
     "data": {
      "image/png": "[encoded data removed]",
      "text/plain": [
       "<matplotlib.figure.Figure at 0x1158f7290>"
      ]
     },
     "metadata": {},
     "output_type": "display_data"
    }
   ],
   "source": [
    "#then plot rank-density plot\n",
    "#for the sake of easier visuals, we will log the rank\n",
    "desiredLineWidth = 3\n",
    "plt.plot(np.log(wordFrequencyFrame.index+1),wordFrequencyFrame[\"Density\"],\n",
    "         lw = desiredLineWidth)\n",
    "plt.xlabel(\"Log-Rank\")\n",
    "plt.ylabel(\"Density\")\n",
    "plt.title(\"Log(Rank)-Density Plot\\nFor Words in our Corpus\")"
   ]
  },
  {
   "cell_type": "markdown",
   "metadata": {},
   "source": [
    "_Figure 7: $\\log(Rank)$-Density plot for our corpus._\n",
    "\n",
    "As expected, we see an extremely sparse distribution. Only the top $e^6 \\approx 404$ most frequent words take up the majority of the distribution. This is very typical of language, so I'm not surprised to see this result."
   ]
  },
  {
   "cell_type": "code",
   "execution_count": 42,
   "metadata": {
    "ExecuteTime": {
     "end_time": "2017-10-25T02:21:23.781761Z",
     "start_time": "2017-10-24T22:21:23.754360-04:00"
    },
    "collapsed": false
   },
   "outputs": [
    {
     "data": {
      "text/html": [
       "<div>\n",
       "<table border=\"1\" class=\"dataframe\">\n",
       "  <thead>\n",
       "    <tr style=\"text-align: right;\">\n",
       "      <th></th>\n",
       "      <th>Word</th>\n",
       "      <th>Frequency</th>\n",
       "      <th>Density</th>\n",
       "    </tr>\n",
       "  </thead>\n",
       "  <tbody>\n",
       "    <tr>\n",
       "      <th>0</th>\n",
       "      <td>like</td>\n",
       "      <td>688936</td>\n",
       "      <td>0.017</td>\n",
       "    </tr>\n",
       "    <tr>\n",
       "      <th>1</th>\n",
       "      <td>feel</td>\n",
       "      <td>521535</td>\n",
       "      <td>0.013</td>\n",
       "    </tr>\n",
       "    <tr>\n",
       "      <th>2</th>\n",
       "      <td>people</td>\n",
       "      <td>517888</td>\n",
       "      <td>0.012</td>\n",
       "    </tr>\n",
       "    <tr>\n",
       "      <th>3</th>\n",
       "      <td>get</td>\n",
       "      <td>479925</td>\n",
       "      <td>0.012</td>\n",
       "    </tr>\n",
       "    <tr>\n",
       "      <th>4</th>\n",
       "      <td>know</td>\n",
       "      <td>470995</td>\n",
       "      <td>0.011</td>\n",
       "    </tr>\n",
       "    <tr>\n",
       "      <th>5</th>\n",
       "      <td>really</td>\n",
       "      <td>381104</td>\n",
       "      <td>0.009</td>\n",
       "    </tr>\n",
       "    <tr>\n",
       "      <th>6</th>\n",
       "      <td>think</td>\n",
       "      <td>361188</td>\n",
       "      <td>0.009</td>\n",
       "    </tr>\n",
       "    <tr>\n",
       "      <th>7</th>\n",
       "      <td>life</td>\n",
       "      <td>355951</td>\n",
       "      <td>0.009</td>\n",
       "    </tr>\n",
       "    <tr>\n",
       "      <th>8</th>\n",
       "      <td>time</td>\n",
       "      <td>349284</td>\n",
       "      <td>0.008</td>\n",
       "    </tr>\n",
       "    <tr>\n",
       "      <th>9</th>\n",
       "      <td>would</td>\n",
       "      <td>336561</td>\n",
       "      <td>0.008</td>\n",
       "    </tr>\n",
       "    <tr>\n",
       "      <th>10</th>\n",
       "      <td>one</td>\n",
       "      <td>325131</td>\n",
       "      <td>0.008</td>\n",
       "    </tr>\n",
       "    <tr>\n",
       "      <th>11</th>\n",
       "      <td>depression</td>\n",
       "      <td>306116</td>\n",
       "      <td>0.007</td>\n",
       "    </tr>\n",
       "    <tr>\n",
       "      <th>12</th>\n",
       "      <td>help</td>\n",
       "      <td>294694</td>\n",
       "      <td>0.007</td>\n",
       "    </tr>\n",
       "    <tr>\n",
       "      <th>13</th>\n",
       "      <td>good</td>\n",
       "      <td>293950</td>\n",
       "      <td>0.007</td>\n",
       "    </tr>\n",
       "    <tr>\n",
       "      <th>14</th>\n",
       "      <td>even</td>\n",
       "      <td>286051</td>\n",
       "      <td>0.007</td>\n",
       "    </tr>\n",
       "  </tbody>\n",
       "</table>\n",
       "</div>"
      ],
      "text/plain": [
       "          Word  Frequency  Density\n",
       "0         like     688936    0.017\n",
       "1         feel     521535    0.013\n",
       "2       people     517888    0.012\n",
       "3          get     479925    0.012\n",
       "4         know     470995    0.011\n",
       "5       really     381104    0.009\n",
       "6        think     361188    0.009\n",
       "7         life     355951    0.009\n",
       "8         time     349284    0.008\n",
       "9        would     336561    0.008\n",
       "10         one     325131    0.008\n",
       "11  depression     306116    0.007\n",
       "12        help     294694    0.007\n",
       "13        good     293950    0.007\n",
       "14        even     286051    0.007"
      ]
     },
     "execution_count": 42,
     "metadata": {},
     "output_type": "execute_result"
    }
   ],
   "source": [
    "topLev = 15\n",
    "topFreqFrame = wordFrequencyFrame.iloc[0:topLev,:]\n",
    "topFreqFrame"
   ]
  },
  {
   "cell_type": "markdown",
   "metadata": {},
   "source": [
    "_Table 6: Top $15$ most frequent words in our corpus._\n",
    "\n",
    "We see some expected words show up in the top 15, such as \"depression\" and \"help\" . However, there seems to be a focus on feelings, with words like \"feel\", \"people\", and \"think\" showing up as relatively common words. This suggests feelings and discussion of thoughts and feelings are important in the discussion on this subreddit."
   ]
  },
  {
   "cell_type": "code",
   "execution_count": 43,
   "metadata": {
    "ExecuteTime": {
     "end_time": "2017-10-25T22:49:27.079408Z",
     "start_time": "2017-10-25T18:48:34.459004-04:00"
    },
    "collapsed": true
   },
   "outputs": [],
   "source": [
    "#check top bigrams\n",
    "#first, lowercase all of our raw words\n",
    "rawWordList = [word.lower() for word in rawWordList]"
   ]
  },
  {
   "cell_type": "code",
   "execution_count": 44,
   "metadata": {
    "ExecuteTime": {
     "end_time": "2017-10-25T22:52:27.816298Z",
     "start_time": "2017-10-25T18:49:30.312753-04:00"
    },
    "collapsed": true
   },
   "outputs": [],
   "source": [
    "bigrams = nltk.bigrams(rawWordList)\n",
    "bigramFDist = nltk.FreqDist(bigrams)"
   ]
  },
  {
   "cell_type": "code",
   "execution_count": 47,
   "metadata": {
    "ExecuteTime": {
     "end_time": "2017-10-25T22:55:08.345692Z",
     "start_time": "2017-10-25T18:53:48.858845-04:00"
    },
    "collapsed": true
   },
   "outputs": [],
   "source": [
    "bigramFrame = pd.DataFrame(list(bigramFDist.items()),\n",
    "                           columns = [\"Key\",\"Frequency\"])"
   ]
  },
  {
   "cell_type": "code",
   "execution_count": 49,
   "metadata": {
    "ExecuteTime": {
     "end_time": "2017-10-25T22:55:46.912713Z",
     "start_time": "2017-10-25T18:55:46.805879-04:00"
    },
    "collapsed": false
   },
   "outputs": [],
   "source": [
    "bigramFrame[\"density\"] = (bigramFrame[\"Frequency\"] \n",
    "                          / bigramFrame[\"Frequency\"].sum())"
   ]
  },
  {
   "cell_type": "code",
   "execution_count": 50,
   "metadata": {
    "ExecuteTime": {
     "end_time": "2017-10-25T22:56:02.699995Z",
     "start_time": "2017-10-25T18:56:01.268043-04:00"
    },
    "collapsed": true
   },
   "outputs": [],
   "source": [
    "bigramFrame = bigramFrame.sort_values(\"density\",ascending = False)"
   ]
  },
  {
   "cell_type": "code",
   "execution_count": 53,
   "metadata": {
    "ExecuteTime": {
     "end_time": "2017-10-25T22:56:52.610534Z",
     "start_time": "2017-10-25T18:56:52.589691-04:00"
    },
    "collapsed": false
   },
   "outputs": [
    {
     "data": {
      "text/html": [
       "<div>\n",
       "<table border=\"1\" class=\"dataframe\">\n",
       "  <thead>\n",
       "    <tr style=\"text-align: right;\">\n",
       "      <th></th>\n",
       "      <th>Key</th>\n",
       "      <th>Frequency</th>\n",
       "      <th>density</th>\n",
       "    </tr>\n",
       "  </thead>\n",
       "  <tbody>\n",
       "    <tr>\n",
       "      <th>4020367</th>\n",
       "      <td>(., i)</td>\n",
       "      <td>1682131</td>\n",
       "      <td>0.013</td>\n",
       "    </tr>\n",
       "    <tr>\n",
       "      <th>1155582</th>\n",
       "      <td>(i, 'm)</td>\n",
       "      <td>707012</td>\n",
       "      <td>0.005</td>\n",
       "    </tr>\n",
       "    <tr>\n",
       "      <th>2969194</th>\n",
       "      <td>(do, n't)</td>\n",
       "      <td>606620</td>\n",
       "      <td>0.005</td>\n",
       "    </tr>\n",
       "    <tr>\n",
       "      <th>1155630</th>\n",
       "      <td>(it, 's)</td>\n",
       "      <td>569021</td>\n",
       "      <td>0.004</td>\n",
       "    </tr>\n",
       "    <tr>\n",
       "      <th>4713538</th>\n",
       "      <td>(,, i)</td>\n",
       "      <td>524597</td>\n",
       "      <td>0.004</td>\n",
       "    </tr>\n",
       "    <tr>\n",
       "      <th>3604916</th>\n",
       "      <td>(,, but)</td>\n",
       "      <td>506379</td>\n",
       "      <td>0.004</td>\n",
       "    </tr>\n",
       "    <tr>\n",
       "      <th>2412152</th>\n",
       "      <td>(,, and)</td>\n",
       "      <td>493802</td>\n",
       "      <td>0.004</td>\n",
       "    </tr>\n",
       "    <tr>\n",
       "      <th>577180</th>\n",
       "      <td>(., it)</td>\n",
       "      <td>420220</td>\n",
       "      <td>0.003</td>\n",
       "    </tr>\n",
       "    <tr>\n",
       "      <th>4947609</th>\n",
       "      <td>(i, do)</td>\n",
       "      <td>343684</td>\n",
       "      <td>0.003</td>\n",
       "    </tr>\n",
       "    <tr>\n",
       "      <th>1059565</th>\n",
       "      <td>(if, you)</td>\n",
       "      <td>315935</td>\n",
       "      <td>0.002</td>\n",
       "    </tr>\n",
       "    <tr>\n",
       "      <th>1684162</th>\n",
       "      <td>(and, i)</td>\n",
       "      <td>312228</td>\n",
       "      <td>0.002</td>\n",
       "    </tr>\n",
       "    <tr>\n",
       "      <th>1616658</th>\n",
       "      <td>(., you)</td>\n",
       "      <td>296378</td>\n",
       "      <td>0.002</td>\n",
       "    </tr>\n",
       "    <tr>\n",
       "      <th>139837</th>\n",
       "      <td>(you, 're)</td>\n",
       "      <td>287208</td>\n",
       "      <td>0.002</td>\n",
       "    </tr>\n",
       "    <tr>\n",
       "      <th>1672436</th>\n",
       "      <td>(to, be)</td>\n",
       "      <td>276435</td>\n",
       "      <td>0.002</td>\n",
       "    </tr>\n",
       "    <tr>\n",
       "      <th>4152240</th>\n",
       "      <td>(i, have)</td>\n",
       "      <td>268013</td>\n",
       "      <td>0.002</td>\n",
       "    </tr>\n",
       "  </tbody>\n",
       "</table>\n",
       "</div>"
      ],
      "text/plain": [
       "                Key  Frequency  density\n",
       "4020367      (., i)    1682131    0.013\n",
       "1155582     (i, 'm)     707012    0.005\n",
       "2969194   (do, n't)     606620    0.005\n",
       "1155630    (it, 's)     569021    0.004\n",
       "4713538      (,, i)     524597    0.004\n",
       "3604916    (,, but)     506379    0.004\n",
       "2412152    (,, and)     493802    0.004\n",
       "577180      (., it)     420220    0.003\n",
       "4947609     (i, do)     343684    0.003\n",
       "1059565   (if, you)     315935    0.002\n",
       "1684162    (and, i)     312228    0.002\n",
       "1616658    (., you)     296378    0.002\n",
       "139837   (you, 're)     287208    0.002\n",
       "1672436    (to, be)     276435    0.002\n",
       "4152240   (i, have)     268013    0.002"
      ]
     },
     "execution_count": 53,
     "metadata": {},
     "output_type": "execute_result"
    }
   ],
   "source": [
    "topLev = 15\n",
    "topBigrams = bigramFrame.iloc[0:topLev,:]\n",
    "topBigrams"
   ]
  },
  {
   "cell_type": "markdown",
   "metadata": {},
   "source": [
    "_Table 7: Top $15$ Bigrams in our dataset._\n",
    "\n",
    "We see that there is little interest in the full bigram dataset. This is probably because we included stopwords in this selection for the sake of continuity."
   ]
  },
  {
   "cell_type": "markdown",
   "metadata": {},
   "source": [
    "## Score"
   ]
  },
  {
   "cell_type": "code",
   "execution_count": 56,
   "metadata": {
    "ExecuteTime": {
     "end_time": "2017-10-25T23:04:49.638238Z",
     "start_time": "2017-10-25T19:04:49.431376-04:00"
    },
    "collapsed": false
   },
   "outputs": [
    {
     "data": {
      "text/plain": [
       "count    1.759e+06\n",
       "mean     2.457e+00\n",
       "std      7.449e+00\n",
       "min     -1.280e+02\n",
       "25%      1.000e+00\n",
       "50%      1.000e+00\n",
       "75%      2.000e+00\n",
       "max      2.378e+03\n",
       "Name: score, dtype: float64"
      ]
     },
     "execution_count": 56,
     "metadata": {},
     "output_type": "execute_result"
    }
   ],
   "source": [
    "filteredCommentFrame[\"score\"].describe()"
   ]
  },
  {
   "cell_type": "markdown",
   "metadata": {},
   "source": [
    "_Table 8: Summary Statistics on score._\n",
    "\n",
    "We see we have a large range of values for the score variable in our dataset, but relatively small variance. In particular, the average looks to be close to $2$ to $3,$ With only a standard deviation of around $7$. Let's take a look at the highest scoring and lowest scoring posts."
   ]
  },
  {
   "cell_type": "code",
   "execution_count": 61,
   "metadata": {
    "ExecuteTime": {
     "end_time": "2017-10-26T02:07:57.302784Z",
     "start_time": "2017-10-25T22:07:57.263470-04:00"
    },
    "collapsed": false
   },
   "outputs": [
    {
     "name": "stdout",
     "output_type": "stream",
     "text": [
      "[ \"not at all. I'm mad because I probably won't get into an Ivy League school- seeing girls sell themselves short is just something I hate to see. I vent when I have a shitty day instead of posting a naked body for reaffirmation. Do I feel unintelligent today? Yep. Boyfriend was an asshole today and having a hard time because I got a D in organic chemistry when I'm used to A's, but that doesn't mean I'd take my frustration in my life out on someone else.\"]\n",
      "-128\n"
     ]
    }
   ],
   "source": [
    "#get lowest scoring\n",
    "print(filteredCommentFrame.loc[filteredCommentFrame[\"score\"] ==\n",
    "                         filteredCommentFrame[\"score\"].min(),\"body\"].values)\n",
    "print(filteredCommentFrame[\"score\"].min())"
   ]
  },
  {
   "cell_type": "markdown",
   "metadata": {},
   "source": [
    "It looks like the worst rated text takes on somewhat mysoginistic tones, and looks to present somewhat of a focus on taking frustration out on one's self rather than other individuals. We would likely need to dig up the whole thread to make sense of this comment."
   ]
  },
  {
   "cell_type": "code",
   "execution_count": 70,
   "metadata": {
    "ExecuteTime": {
     "end_time": "2017-10-26T02:15:17.245324Z",
     "start_time": "2017-10-25T22:15:17.021081-04:00"
    },
    "collapsed": false
   },
   "outputs": [
    {
     "name": "stdout",
     "output_type": "stream",
     "text": [
      "[ \"not at all. I'm mad because I probably won't get into an Ivy League school- seeing girls sell themselves short is just something I hate to see. I vent when I have a shitty day instead of posting a naked body for reaffirmation. Do I feel unintelligent today? Yep. Boyfriend was an asshole today and having a hard time because I got a D in organic chemistry when I'm used to A's, but that doesn't mean I'd take my frustration in my life out on someone else.\"]\n",
      "t1_cezpkvj\n"
     ]
    }
   ],
   "source": [
    "givenThread = filteredCommentFrame.loc[filteredCommentFrame[\"score\"] ==\n",
    "                filteredCommentFrame[\"score\"].min(),\"parent_id\"].values[0]\n",
    "givenThreadPosts = filteredCommentFrame[filteredCommentFrame[\"parent_id\"] ==\n",
    "                                        givenThread]\n",
    "givenThreadPosts = givenThreadPosts.sort_values(\"creationDatetime\")\n",
    "print(givenThreadPosts[\"body\"].values)\n",
    "print(givenThread)"
   ]
  },
  {
   "cell_type": "markdown",
   "metadata": {},
   "source": [
    "Upon mining, it looks like the original thread has been [removed from the site](https://www.reddit.com/r/depression/comments/cezpkvj). Thus, it would be difficult to track down the entire thread.\n",
    "\n",
    "Let's check out the highest scoring comment."
   ]
  },
  {
   "cell_type": "code",
   "execution_count": 69,
   "metadata": {
    "ExecuteTime": {
     "end_time": "2017-10-26T02:14:08.039712Z",
     "start_time": "2017-10-25T22:14:07.998654-04:00"
    },
    "collapsed": false
   },
   "outputs": [
    {
     "name": "stdout",
     "output_type": "stream",
     "text": [
      "['Happy Birthday! I hope this is a milestone of your impending greatness.']\n",
      "2378\n"
     ]
    }
   ],
   "source": [
    "print(filteredCommentFrame.loc[filteredCommentFrame[\"score\"] ==\n",
    "                         filteredCommentFrame[\"score\"].max(),\"body\"].values)\n",
    "print(filteredCommentFrame[\"score\"].max())"
   ]
  },
  {
   "cell_type": "markdown",
   "metadata": {},
   "source": [
    "As we can tell, this has an extremely positive tone, supporting the birthday of another individual and implying that this other individual is great. It is interesting that this got so much positive feedback though; This is likely placed on a very popular thread."
   ]
  },
  {
   "cell_type": "markdown",
   "metadata": {},
   "source": [
    "## Controversiality\n",
    "\n",
    "Based on the [current discussions on Reddit](https://www.reddit.com/r/NoStupidQuestions/comments/3xmlh8/what_does_something_being_labeled_controversial/). It looks like the controversiality of a post is dependent upon\n",
    "\n",
    "* How many votes in total occur on the post\n",
    "\n",
    "* How close does this post have to an equal number of ups and downs\n",
    "\n",
    "Let's check out the distribution of this variable."
   ]
  },
  {
   "cell_type": "code",
   "execution_count": 72,
   "metadata": {
    "ExecuteTime": {
     "end_time": "2017-10-26T02:22:01.935558Z",
     "start_time": "2017-10-25T22:22:01.713972-04:00"
    },
    "collapsed": false
   },
   "outputs": [
    {
     "data": {
      "text/html": [
       "<div>\n",
       "<table border=\"1\" class=\"dataframe\">\n",
       "  <thead>\n",
       "    <tr style=\"text-align: right;\">\n",
       "      <th></th>\n",
       "      <th>controversiality</th>\n",
       "      <th>count</th>\n",
       "    </tr>\n",
       "  </thead>\n",
       "  <tbody>\n",
       "    <tr>\n",
       "      <th>0</th>\n",
       "      <td>0</td>\n",
       "      <td>1756101</td>\n",
       "    </tr>\n",
       "    <tr>\n",
       "      <th>1</th>\n",
       "      <td>1</td>\n",
       "      <td>2852</td>\n",
       "    </tr>\n",
       "  </tbody>\n",
       "</table>\n",
       "</div>"
      ],
      "text/plain": [
       "   controversiality    count\n",
       "0                 0  1756101\n",
       "1                 1     2852"
      ]
     },
     "execution_count": 72,
     "metadata": {},
     "output_type": "execute_result"
    }
   ],
   "source": [
    "controversialCountFrame = filteredCommentFrame.groupby(\"controversiality\",\n",
    "                                                as_index = False)[\"id\"].count()\n",
    "controversialCountFrame = controversialCountFrame.rename(\n",
    "                                                columns = {\"id\":\"count\"})\n",
    "#then plot\n",
    "controversialCountFrame"
   ]
  },
  {
   "cell_type": "markdown",
   "metadata": {},
   "source": [
    "_Table 9: Distribution of Controversiality._\n",
    "\n",
    "We see that an extremely limited number of posts have been found to be controversial. This may make it difficult to predict, but it would be interesting to study what language informs the controversiality of a post."
   ]
  },
  {
   "cell_type": "markdown",
   "metadata": {},
   "source": [
    "# Bivariate Relationships\n",
    "\n",
    "Let's start to take a look at the relationships between our variables."
   ]
  },
  {
   "cell_type": "markdown",
   "metadata": {},
   "source": [
    "## Language Over Time\n",
    "\n",
    "Let's see if the distribution of language has changed much over time in an exploratory manner. In this case, we will study the top 15 works over the years."
   ]
  },
  {
   "cell_type": "code",
   "execution_count": 95,
   "metadata": {
    "ExecuteTime": {
     "end_time": "2017-10-26T02:46:33.310903Z",
     "start_time": "2017-10-25T22:46:33.284482-04:00"
    },
    "collapsed": true
   },
   "outputs": [],
   "source": [
    "#have some helper functions\n",
    "def getTopWords(givenFrame,topLev,legalWordSet,stopWordSet):\n",
    "    #helper for getting the top topLev words from a givenTextFrame\n",
    "    #first put all the words in a list\n",
    "    rawWordList = []\n",
    "    print(givenFrame.shape[0])\n",
    "    for i in xrange(givenFrame.shape[0]):\n",
    "        if (i % 10000 == 0): print i\n",
    "        tokenizedSentence = nltk.tokenize.word_tokenize(\n",
    "                            givenFrame[\"body\"].iloc[i].decode(\"utf8\"))\n",
    "        rawWordList.extend(tokenizedSentence)\n",
    "    #then do some filtrations\n",
    "    filteredWordList = [word.lower() for word in rawWordList]\n",
    "    filteredWordList = [word for word in filteredWordList \n",
    "                        if word in legalWordSet and word not in stopWordSet]\n",
    "    #place in counter\n",
    "    givenCounter = co.Counter(filteredWordList)\n",
    "    #order in dataframe\n",
    "    orderedWordFrame = pd.DataFrame(givenCounter.most_common(),\n",
    "                                  columns = [\"word\",\"frequency\"])\n",
    "    orderedWordFrame[\"rank\"] = range(orderedWordFrame.shape[0])\n",
    "    topWordFrame = orderedWordFrame.iloc[0:topLev]\n",
    "    return topWordFrame[[\"word\",\"rank\"]]\n",
    "\n",
    "def getTopWordsInYear(givenTextFrame,year,topLev,legalWordSet,stopWordSet):\n",
    "    #helper for getting top words in a given year\n",
    "    givenYearFrame = givenTextFrame[givenTextFrame[\"creationYear\"] == year]\n",
    "    givenYearTopWords = getTopWords(givenYearFrame,topLev,legalWordSet,\n",
    "                                    stopWordSet)\n",
    "    return givenYearTopWords"
   ]
  },
  {
   "cell_type": "code",
   "execution_count": 96,
   "metadata": {
    "ExecuteTime": {
     "end_time": "2017-10-26T02:46:35.031880Z",
     "start_time": "2017-10-25T22:46:34.893503-04:00"
    },
    "collapsed": true
   },
   "outputs": [],
   "source": [
    "filteredCommentFrame[\"creationYear\"] = (\n",
    "                                filteredCommentFrame[\"creationDate\"].dt.year)"
   ]
  },
  {
   "cell_type": "code",
   "execution_count": 97,
   "metadata": {
    "ExecuteTime": {
     "end_time": "2017-10-26T03:24:30.044818Z",
     "start_time": "2017-10-25T22:46:36.363435-04:00"
    },
    "collapsed": false
   },
   "outputs": [
    {
     "name": "stdout",
     "output_type": "stream",
     "text": [
      "1440\n",
      "0\n",
      "14507\n",
      "0\n",
      "10000\n",
      "45313\n",
      "0\n",
      "10000\n",
      "20000\n",
      "30000\n",
      "40000\n",
      "150307\n",
      "0\n",
      "10000\n",
      "20000\n",
      "30000\n",
      "40000\n",
      "50000\n",
      "60000\n",
      "70000\n",
      "80000\n",
      "90000\n",
      "100000\n",
      "110000\n",
      "120000\n",
      "130000\n",
      "140000\n",
      "150000\n",
      "206541\n",
      "0\n",
      "10000\n",
      "20000\n",
      "30000\n",
      "40000\n",
      "50000\n",
      "60000\n",
      "70000\n",
      "80000\n",
      "90000\n",
      "100000\n",
      "110000\n",
      "120000\n",
      "130000\n",
      "140000\n",
      "150000\n",
      "160000\n",
      "170000\n",
      "180000\n",
      "190000\n",
      "200000\n",
      "231790\n",
      "0\n",
      "10000\n",
      "20000\n",
      "30000\n",
      "40000\n",
      "50000\n",
      "60000\n",
      "70000\n",
      "80000\n",
      "90000\n",
      "100000\n",
      "110000\n",
      "120000\n",
      "130000\n",
      "140000\n",
      "150000\n",
      "160000\n",
      "170000\n",
      "180000\n",
      "190000\n",
      "200000\n",
      "210000\n",
      "220000\n",
      "230000\n",
      "312042\n",
      "0\n",
      "10000\n",
      "20000\n",
      "30000\n",
      "40000\n",
      "50000\n",
      "60000\n",
      "70000\n",
      "80000\n",
      "90000\n",
      "100000\n",
      "110000\n",
      "120000\n",
      "130000\n",
      "140000\n",
      "150000\n",
      "160000\n",
      "170000\n",
      "180000\n",
      "190000\n",
      "200000\n",
      "210000\n",
      "220000\n",
      "230000\n",
      "240000\n",
      "250000\n",
      "260000\n",
      "270000\n",
      "280000\n",
      "290000\n",
      "300000\n",
      "310000\n",
      "407436\n",
      "0\n",
      "10000\n",
      "20000\n",
      "30000\n",
      "40000\n",
      "50000\n",
      "60000\n",
      "70000\n",
      "80000\n",
      "90000\n",
      "100000\n",
      "110000\n",
      "120000\n",
      "130000\n",
      "140000\n",
      "150000\n",
      "160000\n",
      "170000\n",
      "180000\n",
      "190000\n",
      "200000\n",
      "210000\n",
      "220000\n",
      "230000\n",
      "240000\n",
      "250000\n",
      "260000\n",
      "270000\n",
      "280000\n",
      "290000\n",
      "300000\n",
      "310000\n",
      "320000\n",
      "330000\n",
      "340000\n",
      "350000\n",
      "360000\n",
      "370000\n",
      "380000\n",
      "390000\n",
      "400000\n",
      "389577\n",
      "0\n",
      "10000\n",
      "20000\n",
      "30000\n",
      "40000\n",
      "50000\n",
      "60000\n",
      "70000\n",
      "80000\n",
      "90000\n",
      "100000\n",
      "110000\n",
      "120000\n",
      "130000\n",
      "140000\n",
      "150000\n",
      "160000\n",
      "170000\n",
      "180000\n",
      "190000\n",
      "200000\n",
      "210000\n",
      "220000\n",
      "230000\n",
      "240000\n",
      "250000\n",
      "260000\n",
      "270000\n",
      "280000\n",
      "290000\n",
      "300000\n",
      "310000\n",
      "320000\n",
      "330000\n",
      "340000\n",
      "350000\n",
      "360000\n",
      "370000\n",
      "380000\n"
     ]
    }
   ],
   "source": [
    "#get years\n",
    "minYear = filteredCommentFrame[\"creationYear\"].min()\n",
    "maxYear = filteredCommentFrame[\"creationYear\"].max()\n",
    "yearPopularWordFrame = None\n",
    "#then iterate\n",
    "for year in xrange(minYear,maxYear + 1):\n",
    "    topWordFrame = getTopWordsInYear(filteredCommentFrame,year,topLev,\n",
    "                                     legalWordSet,stopWordSet)\n",
    "    topWordFrame = topWordFrame.rename(columns = {\"word\":year})\n",
    "    if (type(yearPopularWordFrame) == type(None)):\n",
    "        yearPopularWordFrame = topWordFrame\n",
    "    else:\n",
    "        yearPopularWordFrame = yearPopularWordFrame.merge(topWordFrame,\n",
    "                                                          on = \"rank\",\n",
    "                                                          how = \"left\")"
   ]
  },
  {
   "cell_type": "code",
   "execution_count": 98,
   "metadata": {
    "ExecuteTime": {
     "end_time": "2017-10-26T03:24:43.747089Z",
     "start_time": "2017-10-25T23:24:43.317445-04:00"
    },
    "collapsed": false
   },
   "outputs": [
    {
     "data": {
      "text/html": [
       "<div>\n",
       "<table border=\"1\" class=\"dataframe\">\n",
       "  <thead>\n",
       "    <tr style=\"text-align: right;\">\n",
       "      <th></th>\n",
       "      <th>2009</th>\n",
       "      <th>rank</th>\n",
       "      <th>2010</th>\n",
       "      <th>2011</th>\n",
       "      <th>2012</th>\n",
       "      <th>2013</th>\n",
       "      <th>2014</th>\n",
       "      <th>2015</th>\n",
       "      <th>2016</th>\n",
       "      <th>2017</th>\n",
       "    </tr>\n",
       "  </thead>\n",
       "  <tbody>\n",
       "    <tr>\n",
       "      <th>0</th>\n",
       "      <td>like</td>\n",
       "      <td>0</td>\n",
       "      <td>like</td>\n",
       "      <td>like</td>\n",
       "      <td>like</td>\n",
       "      <td>like</td>\n",
       "      <td>like</td>\n",
       "      <td>like</td>\n",
       "      <td>like</td>\n",
       "      <td>like</td>\n",
       "    </tr>\n",
       "    <tr>\n",
       "      <th>1</th>\n",
       "      <td>get</td>\n",
       "      <td>1</td>\n",
       "      <td>get</td>\n",
       "      <td>get</td>\n",
       "      <td>people</td>\n",
       "      <td>feel</td>\n",
       "      <td>feel</td>\n",
       "      <td>feel</td>\n",
       "      <td>feel</td>\n",
       "      <td>people</td>\n",
       "    </tr>\n",
       "    <tr>\n",
       "      <th>2</th>\n",
       "      <td>people</td>\n",
       "      <td>2</td>\n",
       "      <td>people</td>\n",
       "      <td>people</td>\n",
       "      <td>feel</td>\n",
       "      <td>people</td>\n",
       "      <td>know</td>\n",
       "      <td>people</td>\n",
       "      <td>people</td>\n",
       "      <td>feel</td>\n",
       "    </tr>\n",
       "    <tr>\n",
       "      <th>3</th>\n",
       "      <td>know</td>\n",
       "      <td>3</td>\n",
       "      <td>know</td>\n",
       "      <td>feel</td>\n",
       "      <td>get</td>\n",
       "      <td>get</td>\n",
       "      <td>people</td>\n",
       "      <td>know</td>\n",
       "      <td>get</td>\n",
       "      <td>get</td>\n",
       "    </tr>\n",
       "    <tr>\n",
       "      <th>4</th>\n",
       "      <td>think</td>\n",
       "      <td>4</td>\n",
       "      <td>feel</td>\n",
       "      <td>know</td>\n",
       "      <td>know</td>\n",
       "      <td>know</td>\n",
       "      <td>get</td>\n",
       "      <td>get</td>\n",
       "      <td>know</td>\n",
       "      <td>know</td>\n",
       "    </tr>\n",
       "    <tr>\n",
       "      <th>5</th>\n",
       "      <td>feel</td>\n",
       "      <td>5</td>\n",
       "      <td>time</td>\n",
       "      <td>think</td>\n",
       "      <td>really</td>\n",
       "      <td>really</td>\n",
       "      <td>really</td>\n",
       "      <td>really</td>\n",
       "      <td>really</td>\n",
       "      <td>life</td>\n",
       "    </tr>\n",
       "    <tr>\n",
       "      <th>6</th>\n",
       "      <td>really</td>\n",
       "      <td>6</td>\n",
       "      <td>think</td>\n",
       "      <td>really</td>\n",
       "      <td>think</td>\n",
       "      <td>think</td>\n",
       "      <td>think</td>\n",
       "      <td>think</td>\n",
       "      <td>life</td>\n",
       "      <td>really</td>\n",
       "    </tr>\n",
       "    <tr>\n",
       "      <th>7</th>\n",
       "      <td>would</td>\n",
       "      <td>7</td>\n",
       "      <td>really</td>\n",
       "      <td>time</td>\n",
       "      <td>would</td>\n",
       "      <td>time</td>\n",
       "      <td>time</td>\n",
       "      <td>time</td>\n",
       "      <td>think</td>\n",
       "      <td>think</td>\n",
       "    </tr>\n",
       "    <tr>\n",
       "      <th>8</th>\n",
       "      <td>time</td>\n",
       "      <td>8</td>\n",
       "      <td>one</td>\n",
       "      <td>life</td>\n",
       "      <td>life</td>\n",
       "      <td>would</td>\n",
       "      <td>life</td>\n",
       "      <td>life</td>\n",
       "      <td>time</td>\n",
       "      <td>time</td>\n",
       "    </tr>\n",
       "    <tr>\n",
       "      <th>9</th>\n",
       "      <td>one</td>\n",
       "      <td>9</td>\n",
       "      <td>good</td>\n",
       "      <td>would</td>\n",
       "      <td>depression</td>\n",
       "      <td>life</td>\n",
       "      <td>would</td>\n",
       "      <td>would</td>\n",
       "      <td>would</td>\n",
       "      <td>would</td>\n",
       "    </tr>\n",
       "    <tr>\n",
       "      <th>10</th>\n",
       "      <td>life</td>\n",
       "      <td>10</td>\n",
       "      <td>life</td>\n",
       "      <td>one</td>\n",
       "      <td>one</td>\n",
       "      <td>help</td>\n",
       "      <td>one</td>\n",
       "      <td>one</td>\n",
       "      <td>one</td>\n",
       "      <td>one</td>\n",
       "    </tr>\n",
       "    <tr>\n",
       "      <th>11</th>\n",
       "      <td>help</td>\n",
       "      <td>11</td>\n",
       "      <td>help</td>\n",
       "      <td>depression</td>\n",
       "      <td>time</td>\n",
       "      <td>depression</td>\n",
       "      <td>depression</td>\n",
       "      <td>depression</td>\n",
       "      <td>even</td>\n",
       "      <td>even</td>\n",
       "    </tr>\n",
       "    <tr>\n",
       "      <th>12</th>\n",
       "      <td>even</td>\n",
       "      <td>12</td>\n",
       "      <td>would</td>\n",
       "      <td>help</td>\n",
       "      <td>help</td>\n",
       "      <td>one</td>\n",
       "      <td>help</td>\n",
       "      <td>good</td>\n",
       "      <td>depression</td>\n",
       "      <td>good</td>\n",
       "    </tr>\n",
       "    <tr>\n",
       "      <th>13</th>\n",
       "      <td>good</td>\n",
       "      <td>13</td>\n",
       "      <td>depression</td>\n",
       "      <td>good</td>\n",
       "      <td>good</td>\n",
       "      <td>good</td>\n",
       "      <td>good</td>\n",
       "      <td>help</td>\n",
       "      <td>good</td>\n",
       "      <td>depression</td>\n",
       "    </tr>\n",
       "    <tr>\n",
       "      <th>14</th>\n",
       "      <td>go</td>\n",
       "      <td>14</td>\n",
       "      <td>go</td>\n",
       "      <td>something</td>\n",
       "      <td>something</td>\n",
       "      <td>even</td>\n",
       "      <td>even</td>\n",
       "      <td>even</td>\n",
       "      <td>help</td>\n",
       "      <td>help</td>\n",
       "    </tr>\n",
       "  </tbody>\n",
       "</table>\n",
       "</div>"
      ],
      "text/plain": [
       "      2009  rank        2010        2011        2012        2013        2014  \\\n",
       "0     like     0        like        like        like        like        like   \n",
       "1      get     1         get         get      people        feel        feel   \n",
       "2   people     2      people      people        feel      people        know   \n",
       "3     know     3        know        feel         get         get      people   \n",
       "4    think     4        feel        know        know        know         get   \n",
       "5     feel     5        time       think      really      really      really   \n",
       "6   really     6       think      really       think       think       think   \n",
       "7    would     7      really        time       would        time        time   \n",
       "8     time     8         one        life        life       would        life   \n",
       "9      one     9        good       would  depression        life       would   \n",
       "10    life    10        life         one         one        help         one   \n",
       "11    help    11        help  depression        time  depression  depression   \n",
       "12    even    12       would        help        help         one        help   \n",
       "13    good    13  depression        good        good        good        good   \n",
       "14      go    14          go   something   something        even        even   \n",
       "\n",
       "          2015        2016        2017  \n",
       "0         like        like        like  \n",
       "1         feel        feel      people  \n",
       "2       people      people        feel  \n",
       "3         know         get         get  \n",
       "4          get        know        know  \n",
       "5       really      really        life  \n",
       "6        think        life      really  \n",
       "7         time       think       think  \n",
       "8         life        time        time  \n",
       "9        would       would       would  \n",
       "10         one         one         one  \n",
       "11  depression        even        even  \n",
       "12        good  depression        good  \n",
       "13        help        good  depression  \n",
       "14        even        help        help  "
      ]
     },
     "execution_count": 98,
     "metadata": {},
     "output_type": "execute_result"
    }
   ],
   "source": [
    "yearPopularWordFrame"
   ]
  },
  {
   "cell_type": "markdown",
   "metadata": {},
   "source": [
    "_Table 10: The Top 15 most popular words over the years of our dataset._\n",
    "\n",
    "We see that most of the top vocabulary stays pretty similar over the years, although with varying popularity per word. We see that \"people\" and \"feel\" remain popular over the last few years of our dataset, although feel used to not be as popular back in in the earlier days of the subreddit.\n"
   ]
  }
 ],
 "metadata": {
  "kernelspec": {
   "display_name": "Python 2",
   "language": "python",
   "name": "python2"
  },
  "language_info": {
   "codemirror_mode": {
    "name": "ipython",
    "version": 2
   },
   "file_extension": ".py",
   "mimetype": "text/x-python",
   "name": "python",
   "nbconvert_exporter": "python",
   "pygments_lexer": "ipython2",
   "version": "2.7.10"
  },
  "latex_envs": {
   "bibliofile": "biblio.bib",
   "cite_by": "apalike",
   "current_citInitial": 1,
   "eqLabelWithNumbers": true,
   "eqNumInitial": 0
  },
  "nav_menu": {},
  "toc": {
   "navigate_menu": true,
   "number_sections": false,
   "sideBar": true,
   "threshold": 6,
   "toc_cell": true,
   "toc_section_display": "block",
   "toc_window_display": false
  }
 },
 "nbformat": 4,
 "nbformat_minor": 2
}
